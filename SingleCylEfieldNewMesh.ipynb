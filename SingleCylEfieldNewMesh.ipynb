{
 "cells": [
  {
   "cell_type": "code",
   "execution_count": 9,
   "metadata": {
    "collapsed": true
   },
   "outputs": [],
   "source": [
    "# %matplotlib notebook\n",
    "%matplotlib inline\n",
    "from dolfin import *\n",
    "from mshr import *\n",
    "import numpy as np\n",
    "import matplotlib.pyplot as plt\n",
    "from scipy.special import kn\n",
    "import matplotlib.tri as tri\n",
    "import logging\n",
    "logging.getLogger(\"FFC\").setLevel(logging.WARNING)\n",
    "dolfin.parameters.reorder_dofs_serial = False"
   ]
  },
  {
   "cell_type": "code",
   "execution_count": 10,
   "metadata": {
    "collapsed": true
   },
   "outputs": [],
   "source": [
    "def mesh2triang(mesh):\n",
    "    xy = mesh.coordinates()\n",
    "    return tri.Triangulation(xy[:, 0], xy[:, 1], mesh.cells())\n",
    "\n",
    "def mplot_cellfunction(cellfn):\n",
    "    C = cellfn.array()\n",
    "    tri = mesh2triang(cellfn.mesh())\n",
    "    return plt.tripcolor(tri, facecolors=C)\n",
    "\n",
    "def mplot_function(f):\n",
    "    mesh = f.function_space().mesh()\n",
    "    if (mesh.geometry().dim() != 2):\n",
    "        raise AttributeError('Mesh must be 2D')\n",
    "    # DG0 cellwise function\n",
    "    if f.vector().size() == mesh.num_cells():\n",
    "        C = f.vector().array()\n",
    "        return plt.tripcolor(mesh2triang(mesh), C)\n",
    "    # Scalar function, interpolated to vertices\n",
    "    elif f.value_rank() == 0:\n",
    "        C = f.compute_vertex_values(mesh)\n",
    "        return plt.tripcolor(mesh2triang(mesh), C, shading='gouraud')\n",
    "    # Vector function, interpolated to vertices\n",
    "    elif f.value_rank() == 1:\n",
    "        w0 = f.compute_vertex_values(mesh)\n",
    "        if (len(w0) != 2*mesh.num_vertices()):\n",
    "            raise AttributeError('Vector field must be 2D')\n",
    "        X = mesh.coordinates()[:, 0]\n",
    "        Y = mesh.coordinates()[:, 1]\n",
    "        U = w0[:mesh.num_vertices()]\n",
    "        V = w0[mesh.num_vertices():]\n",
    "        return plt.quiver(X,Y,U,V)\n",
    "\n",
    "# Plot a generic dolfin object (if supported)\n",
    "def plot(obj):\n",
    "    plt.gca().set_aspect('equal')\n",
    "    if isinstance(obj, Function):\n",
    "        return mplot_function(obj)\n",
    "    elif isinstance(obj, CellFunctionSizet):\n",
    "        return mplot_cellfunction(obj)\n",
    "    elif isinstance(obj, CellFunctionDouble):\n",
    "        return mplot_cellfunction(obj)\n",
    "    elif isinstance(obj, CellFunctionInt):\n",
    "        return mplot_cellfunction(obj)\n",
    "    elif isinstance(obj, Mesh):\n",
    "        if (obj.geometry().dim() != 2):\n",
    "            raise AttributeError('Mesh must be 2D')\n",
    "        return plt.triplot(mesh2triang(obj), color='#808080')\n",
    "\n",
    "    raise AttributeError('Failed to plot %s'%type(obj))\n",
    "# end of commands for plotting"
   ]
  },
  {
   "cell_type": "code",
   "execution_count": 11,
   "metadata": {
    "collapsed": true
   },
   "outputs": [],
   "source": [
    "d = 1\n",
    "thetaS = 0.2\n",
    "#THIS SECTION IS FOR MAKING THE MESH\n",
    "\n",
    "radiusOut = 10\n",
    "radiusIn = 1\n",
    "\n",
    "Out = Circle(Point(0,0),radiusOut)\n",
    "In = Circle(Point(0,0),radiusIn)\n",
    "\n",
    "dom = Out - In\n",
    "\n",
    "mesh = generate_mesh(dom, 150)\n",
    "\n",
    "mesh = refine(mesh)"
   ]
  },
  {
   "cell_type": "code",
   "execution_count": 12,
   "metadata": {
    "collapsed": true
   },
   "outputs": [],
   "source": [
    "#THIS SECTION IS FOR MARKING BOUNDARIES OF THE MESH\n",
    "class outer_boundary(SubDomain):\n",
    "\tdef inside(self, x, on_boundary):\n",
    "\t\ttol = 1E-1\n",
    "\t\tr = sqrt(x[0]*x[0] + x[1]*x[1])\n",
    "\t\treturn on_boundary and abs(r - radiusOut) < tol\n",
    "\n",
    "class inner_boundary(SubDomain):\n",
    "\tdef inside(self, x, on_boundary):\n",
    "\t\ttol = 1E-1\n",
    "\t\tr = sqrt(x[0]*x[0] + x[1]*x[1])\n",
    "\t\treturn on_boundary and abs(r - radiusIn) < tol\n",
    "\n",
    "outerradius = outer_boundary()\n",
    "innerradius = inner_boundary()\n",
    "\n",
    "boundaries = FacetFunction(\"size_t\", mesh)\n",
    "\n",
    "boundaries.set_all(0)\n",
    "innerradius.mark(boundaries,1)\n",
    "outerradius.mark(boundaries,2)"
   ]
  },
  {
   "cell_type": "code",
   "execution_count": 13,
   "metadata": {
    "collapsed": true
   },
   "outputs": [],
   "source": [
    "#This section defines the finite element basis functions\n",
    "V = FunctionSpace(mesh,'Lagrange',1)\n",
    "nx = TrialFunction(V)\n",
    "ny = TrialFunction(V)\n",
    "v1 = TestFunction(V)\n",
    "v2 = TestFunction(V)"
   ]
  },
  {
   "cell_type": "code",
   "execution_count": 14,
   "metadata": {
    "collapsed": true
   },
   "outputs": [],
   "source": [
    "#This section defines the boundary conditions\n",
    "gx = Expression('-x[1]*sin(thetaS)/sqrt(x[0]*x[0] + x[1]*x[1])',thetaS = thetaS) \n",
    "gy = Expression('x[0]*sin(thetaS)/sqrt(x[0]*x[0] + x[1]*x[1])',thetaS = thetaS)\n",
    "\n",
    "#For nx\n",
    "bcs1 = [DirichletBC(V, 0, boundaries, 2), DirichletBC(V, gx, boundaries, 1)]\n",
    "#for ny\n",
    "bcs2 = [DirichletBC(V, 0, boundaries, 2), DirichletBC(V, gy, boundaries, 1)]"
   ]
  },
  {
   "cell_type": "code",
   "execution_count": 15,
   "metadata": {
    "collapsed": true
   },
   "outputs": [],
   "source": [
    "E_array,d_array = [],[]"
   ]
  },
  {
   "cell_type": "code",
   "execution_count": 16,
   "metadata": {
    "collapsed": false
   },
   "outputs": [
    {
     "ename": "RuntimeError",
     "evalue": "\n\n*** -------------------------------------------------------------------------\n*** DOLFIN encountered an error. If you are not able to resolve this issue\n*** using the information listed below, you can ask for help at\n***\n***     fenics@fenicsproject.org\n***\n*** Remember to include the error message listed below and, if possible,\n*** include a *minimal* running example to reproduce the error.\n***\n*** -------------------------------------------------------------------------\n*** Error:   Unable to define linear variational problem a(u, v) == L(v) for all v.\n*** Reason:  Expecting the left-hand side to be a bilinear form (not rank 1).\n*** Where:   This error was encountered inside LinearVariationalProblem.cpp.\n*** Process: 0\n*** \n*** DOLFIN version: 1.6.0\n*** Git changeset:  unknown\n*** -------------------------------------------------------------------------\n",
     "output_type": "error",
     "traceback": [
      "\u001b[1;31m---------------------------------------------------------------------------\u001b[0m",
      "\u001b[1;31mRuntimeError\u001b[0m                              Traceback (most recent call last)",
      "\u001b[1;32m<ipython-input-16-0ed3e6f1ec9c>\u001b[0m in \u001b[0;36m<module>\u001b[1;34m()\u001b[0m\n\u001b[0;32m     10\u001b[0m     \u001b[0mnx\u001b[0m \u001b[1;33m=\u001b[0m \u001b[0mFunction\u001b[0m\u001b[1;33m(\u001b[0m\u001b[0mV\u001b[0m\u001b[1;33m)\u001b[0m\u001b[1;33m\u001b[0m\u001b[0m\n\u001b[0;32m     11\u001b[0m     \u001b[0mny\u001b[0m \u001b[1;33m=\u001b[0m \u001b[0mFunction\u001b[0m\u001b[1;33m(\u001b[0m\u001b[0mV\u001b[0m\u001b[1;33m)\u001b[0m\u001b[1;33m\u001b[0m\u001b[0m\n\u001b[1;32m---> 12\u001b[1;33m     \u001b[0msolve\u001b[0m\u001b[1;33m(\u001b[0m\u001b[0ma1\u001b[0m \u001b[1;33m==\u001b[0m \u001b[0mL1\u001b[0m\u001b[1;33m,\u001b[0m \u001b[0mnx\u001b[0m\u001b[1;33m,\u001b[0m \u001b[0mbcs1\u001b[0m\u001b[1;33m)\u001b[0m\u001b[1;33m\u001b[0m\u001b[0m\n\u001b[0m\u001b[0;32m     13\u001b[0m     \u001b[0msolve\u001b[0m\u001b[1;33m(\u001b[0m\u001b[0ma2\u001b[0m \u001b[1;33m==\u001b[0m \u001b[0mL2\u001b[0m\u001b[1;33m,\u001b[0m \u001b[0mny\u001b[0m\u001b[1;33m,\u001b[0m \u001b[0mbcs2\u001b[0m\u001b[1;33m)\u001b[0m\u001b[1;33m\u001b[0m\u001b[0m\n\u001b[0;32m     14\u001b[0m \u001b[1;33m\u001b[0m\u001b[0m\n",
      "\u001b[1;32m/usr/lib/python2.7/dist-packages/dolfin/fem/solving.pyc\u001b[0m in \u001b[0;36msolve\u001b[1;34m(*args, **kwargs)\u001b[0m\n\u001b[0;32m    295\u001b[0m     \u001b[1;31m# Call variational problem solver if we get an equation (but not a tolerance)\u001b[0m\u001b[1;33m\u001b[0m\u001b[1;33m\u001b[0m\u001b[0m\n\u001b[0;32m    296\u001b[0m     \u001b[1;32melif\u001b[0m \u001b[0misinstance\u001b[0m\u001b[1;33m(\u001b[0m\u001b[0margs\u001b[0m\u001b[1;33m[\u001b[0m\u001b[1;36m0\u001b[0m\u001b[1;33m]\u001b[0m\u001b[1;33m,\u001b[0m \u001b[0mufl\u001b[0m\u001b[1;33m.\u001b[0m\u001b[0mclasses\u001b[0m\u001b[1;33m.\u001b[0m\u001b[0mEquation\u001b[0m\u001b[1;33m)\u001b[0m\u001b[1;33m:\u001b[0m\u001b[1;33m\u001b[0m\u001b[0m\n\u001b[1;32m--> 297\u001b[1;33m         \u001b[0m_solve_varproblem\u001b[0m\u001b[1;33m(\u001b[0m\u001b[1;33m*\u001b[0m\u001b[0margs\u001b[0m\u001b[1;33m,\u001b[0m \u001b[1;33m**\u001b[0m\u001b[0mkwargs\u001b[0m\u001b[1;33m)\u001b[0m\u001b[1;33m\u001b[0m\u001b[0m\n\u001b[0m\u001b[0;32m    298\u001b[0m \u001b[1;33m\u001b[0m\u001b[0m\n\u001b[0;32m    299\u001b[0m     \u001b[1;31m# Default case, just call the wrapped C++ solve function\u001b[0m\u001b[1;33m\u001b[0m\u001b[1;33m\u001b[0m\u001b[0m\n",
      "\u001b[1;32m/usr/lib/python2.7/dist-packages/dolfin/fem/solving.pyc\u001b[0m in \u001b[0;36m_solve_varproblem\u001b[1;34m(*args, **kwargs)\u001b[0m\n\u001b[0;32m    319\u001b[0m         \u001b[1;31m# Create problem\u001b[0m\u001b[1;33m\u001b[0m\u001b[1;33m\u001b[0m\u001b[0m\n\u001b[0;32m    320\u001b[0m         problem = LinearVariationalProblem(eq.lhs, eq.rhs, u, bcs,\n\u001b[1;32m--> 321\u001b[1;33m                     form_compiler_parameters=form_compiler_parameters)\n\u001b[0m\u001b[0;32m    322\u001b[0m \u001b[1;33m\u001b[0m\u001b[0m\n\u001b[0;32m    323\u001b[0m         \u001b[1;31m# Create solver and call solve\u001b[0m\u001b[1;33m\u001b[0m\u001b[1;33m\u001b[0m\u001b[0m\n",
      "\u001b[1;32m/usr/lib/python2.7/dist-packages/dolfin/fem/solving.pyc\u001b[0m in \u001b[0;36m__init__\u001b[1;34m(self, a, L, u, bcs, form_compiler_parameters)\u001b[0m\n\u001b[0;32m     80\u001b[0m \u001b[1;33m\u001b[0m\u001b[0m\n\u001b[0;32m     81\u001b[0m         \u001b[1;31m# Initialize C++ base class\u001b[0m\u001b[1;33m\u001b[0m\u001b[1;33m\u001b[0m\u001b[0m\n\u001b[1;32m---> 82\u001b[1;33m         \u001b[0mcpp\u001b[0m\u001b[1;33m.\u001b[0m\u001b[0mLinearVariationalProblem\u001b[0m\u001b[1;33m.\u001b[0m\u001b[0m__init__\u001b[0m\u001b[1;33m(\u001b[0m\u001b[0mself\u001b[0m\u001b[1;33m,\u001b[0m \u001b[0ma\u001b[0m\u001b[1;33m,\u001b[0m \u001b[0mL\u001b[0m\u001b[1;33m,\u001b[0m \u001b[0mu\u001b[0m\u001b[1;33m,\u001b[0m \u001b[0mbcs\u001b[0m\u001b[1;33m)\u001b[0m\u001b[1;33m\u001b[0m\u001b[0m\n\u001b[0m\u001b[0;32m     83\u001b[0m \u001b[1;33m\u001b[0m\u001b[0m\n\u001b[0;32m     84\u001b[0m \u001b[1;32mclass\u001b[0m \u001b[0mLocalSolver\u001b[0m\u001b[1;33m(\u001b[0m\u001b[0mcpp\u001b[0m\u001b[1;33m.\u001b[0m\u001b[0mLocalSolver\u001b[0m\u001b[1;33m)\u001b[0m\u001b[1;33m:\u001b[0m\u001b[1;33m\u001b[0m\u001b[0m\n",
      "\u001b[1;32m/usr/lib/python2.7/dist-packages/dolfin/cpp/fem.pyc\u001b[0m in \u001b[0;36m__init__\u001b[1;34m(self, a, L, u, bcs)\u001b[0m\n\u001b[0;32m   2410\u001b[0m \u001b[1;33m\u001b[0m\u001b[0m\n\u001b[0;32m   2411\u001b[0m         \"\"\"\n\u001b[1;32m-> 2412\u001b[1;33m         \u001b[0m_fem\u001b[0m\u001b[1;33m.\u001b[0m\u001b[0mLinearVariationalProblem_swiginit\u001b[0m\u001b[1;33m(\u001b[0m\u001b[0mself\u001b[0m\u001b[1;33m,\u001b[0m\u001b[0m_fem\u001b[0m\u001b[1;33m.\u001b[0m\u001b[0mnew_LinearVariationalProblem\u001b[0m\u001b[1;33m(\u001b[0m\u001b[0ma\u001b[0m\u001b[1;33m,\u001b[0m \u001b[0mL\u001b[0m\u001b[1;33m,\u001b[0m \u001b[0mu\u001b[0m\u001b[1;33m,\u001b[0m \u001b[0mbcs\u001b[0m\u001b[1;33m)\u001b[0m\u001b[1;33m)\u001b[0m\u001b[1;33m\u001b[0m\u001b[0m\n\u001b[0m\u001b[0;32m   2413\u001b[0m \u001b[1;33m\u001b[0m\u001b[0m\n\u001b[0;32m   2414\u001b[0m     \u001b[1;32mdef\u001b[0m \u001b[0mbilinear_form\u001b[0m\u001b[1;33m(\u001b[0m\u001b[0mself\u001b[0m\u001b[1;33m)\u001b[0m\u001b[1;33m:\u001b[0m\u001b[1;33m\u001b[0m\u001b[0m\n",
      "\u001b[1;31mRuntimeError\u001b[0m: \n\n*** -------------------------------------------------------------------------\n*** DOLFIN encountered an error. If you are not able to resolve this issue\n*** using the information listed below, you can ask for help at\n***\n***     fenics@fenicsproject.org\n***\n*** Remember to include the error message listed below and, if possible,\n*** include a *minimal* running example to reproduce the error.\n***\n*** -------------------------------------------------------------------------\n*** Error:   Unable to define linear variational problem a(u, v) == L(v) for all v.\n*** Reason:  Expecting the left-hand side to be a bilinear form (not rank 1).\n*** Where:   This error was encountered inside LinearVariationalProblem.cpp.\n*** Process: 0\n*** \n*** DOLFIN version: 1.6.0\n*** Git changeset:  unknown\n*** -------------------------------------------------------------------------\n"
     ]
    }
   ],
   "source": [
    "#This block solves the problem\n",
    "for i in range(7):\n",
    "    f = Constant(0.0)\n",
    "    g = Constant(d**-2)\n",
    "\n",
    "    a1 = (inner(nabla_grad(nx), nabla_grad(v1)) + g*(inner(nx,v1)))*dx\n",
    "    a2 = (inner(nabla_grad(ny), nabla_grad(v2)) + g*(inner(ny,v2)))*dx\n",
    "    L1 = f*v1*dx\n",
    "    L2 = f*v2*dx\n",
    "    nx = Function(V)\n",
    "    ny = Function(V)\n",
    "    solve(a1 == L1, nx, bcs1)\n",
    "    solve(a2 == L2, ny, bcs2)\n",
    "\n",
    "    V_d = VectorFunctionSpace(mesh,'Lagrange',1)\n",
    "    w1 = TrialFunction(V_d)\n",
    "    w2 = TrialFunction(V_d)\n",
    "    q1 = TestFunction(V_d)\n",
    "    q2 = TestFunction(V_d)\n",
    "\n",
    "    a3 = inner(w1,q1)*dx\n",
    "    a4 = inner(w2,q2)*dx\n",
    "    L3 = inner(grad(nx),q1)*dx\n",
    "    L4 = inner(grad(ny),q2)*dx\n",
    "    grad_nx = Function(V_d)\n",
    "    grad_ny = Function(V_d)\n",
    "    solve(a3 == L3, grad_nx)\n",
    "    solve(a4 == L4, grad_ny)\n",
    "\n",
    "    dxnx, dynx = grad_nx.split(deepcopy=True)\n",
    "    dxny, dyny = grad_ny.split(deepcopy=True)\n",
    "\n",
    "    cell_markers = CellFunction(\"uint\", mesh)\n",
    "    dx1 = Measure(\"dx\", domain=mesh, subdomain_data=cell_markers)\n",
    "\n",
    "    splay = pow(dxnx+dyny,2)\n",
    "    twist = pow(dxny-dynx,2)\n",
    "    field = g*(pow(nx,2) + pow(ny,2))/2\n",
    "\n",
    "    f1 = splay + twist + field\n",
    "\n",
    "    F1 = project(f1,V)\n",
    "\n",
    "    Esplay = assemble(splay*dx1)\n",
    "    Etwist = assemble(twist*dx1)\n",
    "    Efield = assemble(field*dx1)\n",
    "\n",
    "    Etot = Esplay + Etwist + Efield\n",
    "    \n",
    "    E_array.append(Etot)\n",
    "    d_array.append(d)\n",
    "    d += 1"
   ]
  },
  {
   "cell_type": "code",
   "execution_count": 25,
   "metadata": {
    "collapsed": false
   },
   "outputs": [
    {
     "name": "stderr",
     "output_type": "stream",
     "text": [
      "INFO:UFL:Adjusting missing element domain to <Domain built from <triangle cell in 2D> with label dolfin_mesh_with_id_205>.\n",
      "INFO:UFL:Adjusting missing element domain to <Domain built from <triangle cell in 2D> with label dolfin_mesh_with_id_205>.\n"
     ]
    }
   ],
   "source": [
    "splay = pow(dxnx+dyny,2)\n",
    "twist = pow(dxny-dynx,2)\n",
    "field = g*(pow(nx,2) + pow(ny,2))/2\n",
    "\n",
    "f1 = splay + twist + field\n",
    "\n",
    "F1 = project(f1,V)\n",
    "\n",
    "Esplay = assemble(splay*dx1)\n",
    "Etwist = assemble(twist*dx1)\n",
    "Efield = assemble(field*dx1)\n",
    "\n",
    "Etot = Esplay + Etwist + Efield"
   ]
  },
  {
   "cell_type": "code",
   "execution_count": 26,
   "metadata": {
    "collapsed": false
   },
   "outputs": [
    {
     "name": "stdout",
     "output_type": "stream",
     "text": [
      "Splay Energy 0.000051\n",
      "Twist Energy 0.062838\n",
      "E-field Energy 0.054958\n",
      "Total Energy 0.117847\n"
     ]
    }
   ],
   "source": [
    "print('Splay Energy %f' % Esplay)\n",
    "print('Twist Energy %f' % Etwist)\n",
    "print('E-field Energy %f' % Efield)\n",
    "print('Total Energy %f' % Etot)"
   ]
  },
  {
   "cell_type": "code",
   "execution_count": 27,
   "metadata": {
    "collapsed": false
   },
   "outputs": [
    {
     "data": {
      "image/png": "[encoded data removed]",
      "text/plain": [
       "<matplotlib.figure.Figure at 0x7f1d407cb250>"
      ]
     },
     "metadata": {},
     "output_type": "display_data"
    }
   ],
   "source": [
    "plt.figure(figsize=(10,10))\n",
    "plot(F1)\n",
    "plt.colorbar(shrink=0.8);"
   ]
  },
  {
   "cell_type": "code",
   "execution_count": null,
   "metadata": {
    "collapsed": true
   },
   "outputs": [],
   "source": [
    "plt.figure(figsize=(11,8))\n",
    "plt.plot()"
   ]
  }
 ],
 "metadata": {
  "kernelspec": {
   "display_name": "Python 2",
   "language": "python",
   "name": "python2"
  },
  "language_info": {
   "codemirror_mode": {
    "name": "ipython",
    "version": 2
   },
   "file_extension": ".py",
   "mimetype": "text/x-python",
   "name": "python",
   "nbconvert_exporter": "python",
   "pygments_lexer": "ipython2",
   "version": "2.7.6"
  }
 },
 "nbformat": 4,
 "nbformat_minor": 0
}
