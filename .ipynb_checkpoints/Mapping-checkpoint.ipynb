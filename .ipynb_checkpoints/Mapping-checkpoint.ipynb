{
 "cells": [
  {
   "cell_type": "markdown",
   "metadata": {},
   "source": [
    "#Work on getting $E$ vs $\\theta$ plot parameters w/ 3 extrema"
   ]
  },
  {
   "cell_type": "code",
   "execution_count": 4,
   "metadata": {
    "collapsed": false
   },
   "outputs": [],
   "source": [
    "%matplotlib inline\n",
    "from sympy import *\n",
    "import matplotlib.pyplot as plt\n",
    "import numpy as np\n",
    "init_printing(use_unicode=True)"
   ]
  },
  {
   "cell_type": "code",
   "execution_count": 5,
   "metadata": {
    "collapsed": false
   },
   "outputs": [],
   "source": [
    "r, u, v, c, r_c, u_c, v_c, E, p, r_p, u_p, v_p, e, a, b, q, b_0, b_1, b_2, b_3, q_0, q_1, q_2, q_3, q_4, q_5, beta, rho, epsilon, delta, d, K_3, Omega, Lambda, lamda, C, mu, Gamma, tau, nu, xi, P_x, eta, varep, gamma, P_0, theta_0, z, a_0, alpha_0, alpha, T_p, T_c, T = symbols('r u v c r_c u_c v_c E p r_p u_p v_p e a b q b_0 b_1 b_2 b_3 q_0 q_1 q_2 q_3 q_4 q_5 beta rho epsilon delta d K_3 Omega Lambda lamda C mu Gamma tau nu xi_2 P_x eta varepsilon gamma P_0 theta_0 z a_0 alpha_0 alpha T_p T_c T')"
   ]
  },
  {
   "cell_type": "code",
   "execution_count": 6,
   "metadata": {
    "collapsed": false
   },
   "outputs": [],
   "source": [
    "eptil, atil, btil, ctil, Ctil, gtil, thetatil, Ptil, gprm, thetaprm, Pprm, Tprm, chiprm = symbols('epsilontilde atilde btilde ctilde Ctilde gtilde_{0} thetatilde_{0} Ptilde_{0} gprm thetaprm Pprm Tprm chiprm')"
   ]
  },
  {
   "cell_type": "markdown",
   "metadata": {},
   "source": [
    "#Generalized Landau Model of Ferroelectric Liquid Crystals"
   ]
  },
  {
   "cell_type": "code",
   "execution_count": 12,
   "metadata": {
    "collapsed": true
   },
   "outputs": [],
   "source": [
    "def g1(a,b,q,xi,P_x,varep,eta,C,Omega):\n",
    "    return (a*xi**2)/2+(b*xi**4)/4+(q*xi**6)/6+P_x**2/(2*varep)+(eta*P_x**4)/4+C*P_x*xi-(Omega*(P_x*xi)**2)/2"
   ]
  },
  {
   "cell_type": "code",
   "execution_count": 13,
   "metadata": {
    "collapsed": false
   },
   "outputs": [
    {
     "data": {
      "image/png": "[encoded data removed]",
      "text/latex": [
       "$$C P_{x} \\xi_{2} - \\frac{\\Omega P_{x}^{2}}{2} \\xi_{2}^{2} + \\frac{P_{x}^{4} \\eta}{4} + \\frac{P_{x}^{2}}{2 \\varepsilon} + \\frac{a \\xi_{2}^{2}}{2} + \\frac{b \\xi_{2}^{4}}{4} + \\frac{q \\xi_{2}^{6}}{6}$$"
      ],
      "text/plain": [
       "              2   2     4           2            2       4       6\n",
       "          Ω⋅Pₓ ⋅ξ₂    Pₓ ⋅η       Pₓ         a⋅ξ₂    b⋅ξ₂    q⋅ξ₂ \n",
       "C⋅Pₓ⋅ξ₂ - ───────── + ───── + ──────────── + ───── + ───── + ─────\n",
       "              2         4     2⋅varepsilon     2       4       6  "
      ]
     },
     "execution_count": 13,
     "metadata": {},
     "output_type": "execute_result"
    }
   ],
   "source": [
    "g1(a,b,q,xi,P_x,varep,eta,C,Omega)"
   ]
  },
  {
   "cell_type": "code",
   "execution_count": 14,
   "metadata": {
    "collapsed": true
   },
   "outputs": [],
   "source": [
    "g = (a*xi**2)/2+(b*xi**4)/4+(q*xi**6)/6+P_x**2/(2*epsilon)+(eta*P_x**4)/4+C*P_x*xi-(Omega*(P_x*xi)**2)/2"
   ]
  },
  {
   "cell_type": "code",
   "execution_count": 15,
   "metadata": {
    "collapsed": false
   },
   "outputs": [
    {
     "data": {
      "image/png": "[encoded data removed]",
      "text/latex": [
       "$$C P_{x} \\xi_{2} - \\frac{\\Omega P_{x}^{2}}{2} \\xi_{2}^{2} + \\frac{P_{x}^{4} \\eta}{4} + \\frac{P_{x}^{2}}{2 \\epsilon} + \\frac{a \\xi_{2}^{2}}{2} + \\frac{b \\xi_{2}^{4}}{4} + \\frac{q \\xi_{2}^{6}}{6}$$"
      ],
      "text/plain": [
       "              2   2     4       2       2       4       6\n",
       "          Ω⋅Pₓ ⋅ξ₂    Pₓ ⋅η   Pₓ    a⋅ξ₂    b⋅ξ₂    q⋅ξ₂ \n",
       "C⋅Pₓ⋅ξ₂ - ───────── + ───── + ─── + ───── + ───── + ─────\n",
       "              2         4     2⋅ε     2       4       6  "
      ]
     },
     "execution_count": 15,
     "metadata": {},
     "output_type": "execute_result"
    }
   ],
   "source": [
    "g"
   ]
  },
  {
   "cell_type": "markdown",
   "metadata": {},
   "source": [
    "####$f(c,p) = \\dfrac{1}{2}r_{c}c^{2}+\\dfrac{1}{4}u_{c}c^{4}+\\dfrac{1}{6}v_{c}c^{6}+\\dfrac{1}{2}r_{p}p^{2}+\\dfrac{1}{4}u_{p}p^{4}+\\dfrac{1}{6}v_{p}p^{6}-\\gamma cp-ec^{2}p^{2}-Ep$\n",
    "\n",
    "###'Our' version of the equation\n",
    "\n",
    "$P_x \\neq 0 = p$\n",
    "\n",
    "$P_y = 0$\n",
    "\n",
    "$\\xi_1 = 0$\n",
    "\n",
    "$\\xi_2 \\neq 0 = c$\n",
    "\n",
    "$r_p = \\dfrac{1}{\\epsilon}$\n",
    "\n",
    "$u_p = \\eta$\n",
    "\n",
    "$\\gamma = -C$\n",
    "\n",
    "$e = \\dfrac{1}{2}\\Omega$\n",
    "\n",
    "###Missing: $p^6$ and $E$ terms"
   ]
  },
  {
   "cell_type": "code",
   "execution_count": 16,
   "metadata": {
    "collapsed": false
   },
   "outputs": [
    {
     "data": {
      "image/png": "[encoded data removed]",
      "text/latex": [
       "$$\\frac{a c^{2}}{2} + \\frac{b c^{4}}{4} + \\frac{c^{6} q}{6} - c^{2} e p^{2} - c \\gamma p + \\frac{p^{4} u_{p}}{4} + \\frac{p^{2} r_{p}}{2}$$"
      ],
      "text/plain": [
       "   2      4    6                        4        2    \n",
       "a⋅c    b⋅c    c ⋅q    2    2           p ⋅u_p   p ⋅r_p\n",
       "──── + ──── + ──── - c ⋅e⋅p  - c⋅γ⋅p + ────── + ──────\n",
       " 2      4      6                         4        2   "
      ]
     },
     "execution_count": 16,
     "metadata": {},
     "output_type": "execute_result"
    }
   ],
   "source": [
    "g.subs([(epsilon,1/r_p),(eta,u_p),(C,-gamma),(Omega,2*e),(xi,c),(P_x,p)])"
   ]
  },
  {
   "cell_type": "markdown",
   "metadata": {
    "collapsed": true
   },
   "source": [
    "#Electrically Induced Tilt in Achiral Bent-Core Liquid Crystals"
   ]
  },
  {
   "cell_type": "code",
   "execution_count": 4,
   "metadata": {
    "collapsed": false
   },
   "outputs": [],
   "source": [
    "fc = a*c**2+b*c**4+q*c**6\n",
    "fp = alpha*p**2+beta*p**4+gamma*p**6-E*p\n",
    "fcp = -Omega*(p*c)**2"
   ]
  },
  {
   "cell_type": "code",
   "execution_count": 5,
   "metadata": {
    "collapsed": false
   },
   "outputs": [
    {
     "data": {
      "image/png": "[encoded data removed]",
      "text/latex": [
       "$$a c^{2} + b c^{4} + c^{6} q$$"
      ],
      "text/plain": [
       "   2      4    6  \n",
       "a⋅c  + b⋅c  + c ⋅q"
      ]
     },
     "execution_count": 5,
     "metadata": {},
     "output_type": "execute_result"
    }
   ],
   "source": [
    "fc"
   ]
  },
  {
   "cell_type": "code",
   "execution_count": 6,
   "metadata": {
    "collapsed": false
   },
   "outputs": [
    {
     "data": {
      "image/png": "[encoded data removed]",
      "text/latex": [
       "$$- E p + \\alpha p^{2} + \\beta p^{4} + \\gamma p^{6}$$"
      ],
      "text/plain": [
       "          2      4      6\n",
       "-E⋅p + α⋅p  + β⋅p  + γ⋅p "
      ]
     },
     "execution_count": 6,
     "metadata": {},
     "output_type": "execute_result"
    }
   ],
   "source": [
    "fp"
   ]
  },
  {
   "cell_type": "code",
   "execution_count": 7,
   "metadata": {
    "collapsed": false
   },
   "outputs": [
    {
     "data": {
      "image/png": "[encoded data removed]",
      "text/latex": [
       "$$- \\Omega c^{2} p^{2}$$"
      ],
      "text/plain": [
       "    2  2\n",
       "-Ω⋅c ⋅p "
      ]
     },
     "execution_count": 7,
     "metadata": {},
     "output_type": "execute_result"
    }
   ],
   "source": [
    "fcp"
   ]
  },
  {
   "cell_type": "markdown",
   "metadata": {},
   "source": [
    "###Mapping:\n",
    "\n",
    "$\\dfrac{1}{2}r_c = a = a_{0}(T-T_c) = 6\\times10^4$ $\\text{ N/K m}^2$\n",
    "\n",
    "$\\dfrac{1}{4}u_c = b = 10^4 \\text{ N/m}^2$\n",
    "\n",
    "$\\dfrac{1}{6}v_c = q = 9\\times10^7 \\text{ N/m}^2$\n",
    "\n",
    "$\\dfrac{1}{2}r_p = \\alpha = \\alpha_{0}(T-T_p) = 0.6\\times10^9 \\text{ J m/C}^2$\n",
    "\n",
    "$\\dfrac{1}{4}u_p = \\beta \\approx 10^4 \\dfrac{ J m^5}{C^4}$\n",
    "\n",
    "$\\dfrac{1}{6}v_p = \\gamma = 0$\n",
    "\n",
    "$e = \\Omega$"
   ]
  },
  {
   "cell_type": "code",
   "execution_count": 8,
   "metadata": {
    "collapsed": false
   },
   "outputs": [],
   "source": [
    "# fc = fc.subs([(a_0*(T-T_c),a)])#,6e4),(b,10**4),(q,9e7)])\n",
    "# fc"
   ]
  },
  {
   "cell_type": "code",
   "execution_count": 9,
   "metadata": {
    "collapsed": false
   },
   "outputs": [
    {
     "data": {
      "image/png": "[encoded data removed]",
      "text/latex": [
       "$$- E p + \\alpha p^{2} + \\beta p^{4}$$"
      ],
      "text/plain": [
       "          2      4\n",
       "-E⋅p + α⋅p  + β⋅p "
      ]
     },
     "execution_count": 9,
     "metadata": {},
     "output_type": "execute_result"
    }
   ],
   "source": [
    "fp = fp.subs([(gamma,0)])#,(alpha_0*(T-T_p),alpha),(beta,10**4)])\n",
    "fp"
   ]
  },
  {
   "cell_type": "markdown",
   "metadata": {},
   "source": [
    "###$\\dfrac{\\partial f}{\\partial c} = 0$"
   ]
  },
  {
   "cell_type": "code",
   "execution_count": 10,
   "metadata": {
    "collapsed": false
   },
   "outputs": [
    {
     "data": {
      "image/png": "[encoded data removed]",
      "text/latex": [
       "$$4 b c^{3} + 6 c^{5} q + c \\left(- 2 \\Omega p^{2} + 2 a\\right)$$"
      ],
      "text/plain": [
       "     3      5       ⎛       2      ⎞\n",
       "4⋅b⋅c  + 6⋅c ⋅q + c⋅⎝- 2⋅Ω⋅p  + 2⋅a⎠"
      ]
     },
     "execution_count": 10,
     "metadata": {},
     "output_type": "execute_result"
    }
   ],
   "source": [
    "collect((fc+fp+fcp).diff(c),c)"
   ]
  },
  {
   "cell_type": "markdown",
   "metadata": {},
   "source": [
    "###Solve for $p$"
   ]
  },
  {
   "cell_type": "code",
   "execution_count": 11,
   "metadata": {
    "collapsed": false,
    "scrolled": true
   },
   "outputs": [
    {
     "data": {
      "image/png": "[encoded data removed]",
      "text/latex": [
       "$$\\sqrt{\\frac{1}{\\Omega} \\left(a + 2 b c^{2} + 3 c^{4} q\\right)}$$"
      ],
      "text/plain": [
       "     _____________________\n",
       "    ╱          2      4   \n",
       "   ╱  a + 2⋅b⋅c  + 3⋅c ⋅q \n",
       "  ╱   ─────────────────── \n",
       "╲╱             Ω          "
      ]
     },
     "execution_count": 11,
     "metadata": {},
     "output_type": "execute_result"
    }
   ],
   "source": [
    "pc = solve((fc+fp+fcp).diff(c),p)[1]\n",
    "pc"
   ]
  },
  {
   "cell_type": "markdown",
   "metadata": {},
   "source": [
    "###Solve $\\dfrac{\\partial f}{\\partial p} = 0$ for $E$"
   ]
  },
  {
   "cell_type": "code",
   "execution_count": 12,
   "metadata": {
    "collapsed": false
   },
   "outputs": [
    {
     "data": {
      "image/png": "[encoded data removed]",
      "text/latex": [
       "$$2 p \\left(- \\Omega c^{2} + \\alpha + 2 \\beta p^{2}\\right)$$"
      ],
      "text/plain": [
       "    ⎛     2            2⎞\n",
       "2⋅p⋅⎝- Ω⋅c  + α + 2⋅β⋅p ⎠"
      ]
     },
     "execution_count": 12,
     "metadata": {},
     "output_type": "execute_result"
    }
   ],
   "source": [
    "solve((fc+fp+fcp).diff(p),E)[0]"
   ]
  },
  {
   "cell_type": "markdown",
   "metadata": {},
   "source": [
    "###Sub $p(c)$ into $E(c,p)$"
   ]
  },
  {
   "cell_type": "code",
   "execution_count": 13,
   "metadata": {
    "collapsed": false
   },
   "outputs": [
    {
     "data": {
      "image/png": "[encoded data removed]",
      "text/latex": [
       "$$2 \\sqrt{\\frac{1}{\\Omega} \\left(a + 2 b c^{2} + 3 c^{4} q\\right)} \\left(- \\Omega c^{2} + \\alpha + \\frac{2 \\beta}{\\Omega} \\left(a + 2 b c^{2} + 3 c^{4} q\\right)\\right)$$"
      ],
      "text/plain": [
       "       _____________________                                         \n",
       "      ╱          2      4    ⎛                 ⎛         2      4  ⎞⎞\n",
       "     ╱  a + 2⋅b⋅c  + 3⋅c ⋅q  ⎜     2       2⋅β⋅⎝a + 2⋅b⋅c  + 3⋅c ⋅q⎠⎟\n",
       "2⋅  ╱   ─────────────────── ⋅⎜- Ω⋅c  + α + ─────────────────────────⎟\n",
       "  ╲╱             Ω           ⎝                         Ω            ⎠"
      ]
     },
     "execution_count": 13,
     "metadata": {},
     "output_type": "execute_result"
    }
   ],
   "source": [
    "(solve((fc+fp+fcp).diff(p),E)[0]).subs(p,pc)"
   ]
  },
  {
   "cell_type": "code",
   "execution_count": 14,
   "metadata": {
    "collapsed": false,
    "scrolled": false
   },
   "outputs": [
    {
     "data": {
      "image/png": "[encoded data removed]",
      "text/latex": [
       "$$\\frac{1}{\\Omega a^{3}} \\left(\\Omega a^{3} \\left(4 \\beta \\left(\\frac{a}{\\Omega}\\right)^{\\frac{3}{2}} + 2 \\alpha \\sqrt{\\frac{a}{\\Omega}} + \\mathcal{O}\\left(c^{7}\\right)\\right) + 2 a^{2} c^{2} \\sqrt{\\frac{a}{\\Omega}} \\left(- \\Omega^{2} a + \\Omega \\alpha b + 6 a b \\beta\\right) + a c^{4} \\sqrt{\\frac{a}{\\Omega}} \\left(\\Omega a \\left(- 2 \\Omega b + 3 \\alpha q\\right) - \\Omega \\alpha b^{2} + 18 a^{2} \\beta q + 6 a b^{2} \\beta\\right) + c^{6} \\sqrt{\\frac{a}{\\Omega}} \\left(- 3 \\Omega^{2} a^{2} q + \\Omega a b \\left(\\Omega b - 3 \\alpha q\\right) + \\Omega \\alpha b^{3} + 18 a^{2} b \\beta q - 2 a b^{3} \\beta\\right)\\right)$$"
      ],
      "text/plain": [
       "     ⎛       3/2           ___        ⎞               ___                     \n",
       "   3 ⎜    ⎛a⎞             ╱ a     ⎛ 7⎞⎟      2  2    ╱ a  ⎛   2               \n",
       "Ω⋅a ⋅⎜4⋅β⋅⎜─⎟    + 2⋅α⋅  ╱  ─  + O⎝c ⎠⎟ + 2⋅a ⋅c ⋅  ╱  ─ ⋅⎝- Ω ⋅a + Ω⋅α⋅b + 6⋅\n",
       "     ⎝    ⎝Ω⎠          ╲╱   Ω         ⎠           ╲╱   Ω                      \n",
       "──────────────────────────────────────────────────────────────────────────────\n",
       "                                                                              \n",
       "                                                                              \n",
       "\n",
       "                  ___                                                         \n",
       "     ⎞      4    ╱ a  ⎛                            2       2            2  ⎞  \n",
       "a⋅b⋅β⎠ + a⋅c ⋅  ╱  ─ ⋅⎝Ω⋅a⋅(-2⋅Ω⋅b + 3⋅α⋅q) - Ω⋅α⋅b  + 18⋅a ⋅β⋅q + 6⋅a⋅b ⋅β⎠ +\n",
       "              ╲╱   Ω                                                          \n",
       "──────────────────────────────────────────────────────────────────────────────\n",
       "                                          3                                   \n",
       "                                       Ω⋅a                                    \n",
       "\n",
       "        ___                                                                   \n",
       "  6    ╱ a  ⎛     2  2                                3       2              3\n",
       " c ⋅  ╱  ─ ⋅⎝- 3⋅Ω ⋅a ⋅q + Ω⋅a⋅b⋅(Ω⋅b - 3⋅α⋅q) + Ω⋅α⋅b  + 18⋅a ⋅b⋅β⋅q - 2⋅a⋅b \n",
       "    ╲╱   Ω                                                                    \n",
       "──────────────────────────────────────────────────────────────────────────────\n",
       "                                                                              \n",
       "                                                                              \n",
       "\n",
       "   \n",
       "  ⎞\n",
       "⋅β⎠\n",
       "   \n",
       "───\n",
       "   \n",
       "   "
      ]
     },
     "execution_count": 14,
     "metadata": {},
     "output_type": "execute_result"
    }
   ],
   "source": [
    "simplify(series((solve((fc+fp+fcp).diff(p),E)[0]).subs(p,pc),c,n=7))"
   ]
  },
  {
   "cell_type": "markdown",
   "metadata": {},
   "source": [
    "###Define above equation for plotting"
   ]
  },
  {
   "cell_type": "code",
   "execution_count": 16,
   "metadata": {
    "collapsed": false
   },
   "outputs": [],
   "source": [
    "def Ecc(a,b,q,c,Omega,alpha,beta):\n",
    "    return [2*np.sqrt((a+2*b*c**2+3*q*c**4)/Omega)*(alpha-Omega*c**2+(2*beta/Omega)*(a+2*b*c**2+3*q*c**4)),\n",
    "            (Omega*a**3*(4*beta*(a/Omega)**(3/2)+2*alpha*np.sqrt(a/Omega))\n",
    "            +2*(a*c)**2*np.sqrt(a/Omega)*(-Omega**2*a+Omega*alpha*b+6*a*b*beta)\n",
    "            +a*c**4*np.sqrt(a/Omega)*(Omega*a*(-2*Omega*b+3*alpha*q)-Omega*alpha*b**2+18*a**2*beta*q+6*a*b**2*beta)\n",
    "            +c**60*np.sqrt(a/Omega)*(-3*q*(Omega*a)**2+Omega*a*b*(Omega*b-3*alpha*q)+Omega*alpha*b**3+18*a**2*b*beta*q-2*a*b**3*beta))/(Omega*a**3)]"
   ]
  },
  {
   "cell_type": "code",
   "execution_count": 10,
   "metadata": {
    "collapsed": true
   },
   "outputs": [],
   "source": [
    "def coeff2(a,Omega,alpha,b,beta):\n",
    "    return 2*a**2*np.sqrt(a/Omega)*(-Omega**2*a+Omega*alpha*b+6*a*b*beta)/(Omega*a**3)\n",
    "\n",
    "def coeff4(a, Omega, b, alpha, q, beta):\n",
    "    return a*np.sqrt(a/Omega)*(Omega*a*(-2*Omega*b+3*alpha*q)-Omega*alpha*b**2+18*a**2*beta*q+6*a*b**2*beta)/(Omega*a**3)\n",
    "\n",
    "def coeff6(a, Omega, b, alpha, q, beta):\n",
    "    return np.sqrt(a/Omega)*(-3*q*(Omega*a)**2+Omega*a*b*(Omega*b-3*alpha*q)+Omega*alpha*b**3+18*a**2*b*beta*q-2*a*b**3*beta)/(Omega*a**3)"
   ]
  },
  {
   "cell_type": "code",
   "execution_count": 8,
   "metadata": {
    "collapsed": false
   },
   "outputs": [
    {
     "data": {
      "image/png": "[encoded data removed]",
      "text/latex": [
       "$$-67172362.737476$$"
      ],
      "text/plain": [
       "-67172362.7374760"
      ]
     },
     "execution_count": 8,
     "metadata": {},
     "output_type": "execute_result"
    }
   ],
   "source": [
    "simplify(coeff2(6e4*(116-114.1),10**10,0.6e9,10**4,10**4))"
   ]
  },
  {
   "cell_type": "code",
   "execution_count": 9,
   "metadata": {
    "collapsed": false
   },
   "outputs": [
    {
     "data": {
      "image/png": "[encoded data removed]",
      "text/latex": [
       "$$4792086838.41$$"
      ],
      "text/plain": [
       "4792086838.41"
      ]
     },
     "execution_count": 9,
     "metadata": {},
     "output_type": "execute_result"
    }
   ],
   "source": [
    "coeff4(6e4*(116-114.1),10**10,10**4,0.6e9,9e7,10**4)"
   ]
  },
  {
   "cell_type": "code",
   "execution_count": 12,
   "metadata": {
    "collapsed": false
   },
   "outputs": [
    {
     "data": {
      "image/png": "[encoded data removed]",
      "text/latex": [
       "$$-80387716793.3$$"
      ],
      "text/plain": [
       "-80387716793.3"
      ]
     },
     "execution_count": 12,
     "metadata": {},
     "output_type": "execute_result"
    }
   ],
   "source": [
    "coeff6(6e4*(116-114.1),10**10,10**4,0.6e9,9e7,10**4)"
   ]
  },
  {
   "cell_type": "code",
   "execution_count": 44,
   "metadata": {
    "collapsed": false
   },
   "outputs": [
    {
     "data": {
      "image/png": "[encoded data removed]",
      "text/plain": [
       "<matplotlib.figure.Figure at 0x7f224fc716a0>"
      ]
     },
     "metadata": {},
     "output_type": "display_data"
    }
   ],
   "source": [
    "plt.figure(figsize=(11,8))\n",
    "plt.scatter(np.linspace(-17.5,17.5,201),Ecc(6e4*(116-114.1),10**4,9e7,np.linspace(-17.5,17.5,201),10**10,0.6e9,10**4)[1],color='r',label='expand')\n",
    "plt.ylim(-0.5e14,0.25e14),plt.xlim(-5,5)\n",
    "plt.xlabel('c',fontsize=18)\n",
    "plt.ylabel('E',rotation='horizontal',labelpad=25,fontsize=18);"
   ]
  },
  {
   "cell_type": "code",
   "execution_count": 34,
   "metadata": {
    "collapsed": true
   },
   "outputs": [],
   "source": [
    "def quadterm(alpha,Omega,Eth,E,a):\n",
    "    return [np.sqrt((Eth-E)/np.sqrt(4*Omega*a)),-np.sqrt((Eth-E)/np.sqrt(4*Omega*a))]"
   ]
  },
  {
   "cell_type": "code",
   "execution_count": 32,
   "metadata": {
    "collapsed": true
   },
   "outputs": [
    {
     "data": {
      "text/plain": [
       "array([        0.        ,     60060.06006006,    120120.12012012,\n",
       "          180180.18018018,    240240.24024024,    300300.3003003 ,\n",
       "          360360.36036036,    420420.42042042,    480480.48048048,\n",
       "          540540.54054054,    600600.6006006 ,    660660.66066066,\n",
       "          720720.72072072,    780780.78078078,    840840.84084084,\n",
       "          900900.9009009 ,    960960.96096096,   1021021.02102102,\n",
       "         1081081.08108108,   1141141.14114114,   1201201.2012012 ,\n",
       "         1261261.26126126,   1321321.32132132,   1381381.38138138,\n",
       "         1441441.44144144,   1501501.5015015 ,   1561561.56156156,\n",
       "         1621621.62162162,   1681681.68168168,   1741741.74174174,\n",
       "         1801801.8018018 ,   1861861.86186186,   1921921.92192192,\n",
       "         1981981.98198198,   2042042.04204204,   2102102.1021021 ,\n",
       "         2162162.16216216,   2222222.22222222,   2282282.28228228,\n",
       "         2342342.34234234,   2402402.4024024 ,   2462462.46246246,\n",
       "         2522522.52252252,   2582582.58258258,   2642642.64264264,\n",
       "         2702702.7027027 ,   2762762.76276276,   2822822.82282282,\n",
       "         2882882.88288288,   2942942.94294294,   3003003.003003  ,\n",
       "         3063063.06306306,   3123123.12312312,   3183183.18318318,\n",
       "         3243243.24324324,   3303303.3033033 ,   3363363.36336336,\n",
       "         3423423.42342342,   3483483.48348348,   3543543.54354354,\n",
       "         3603603.6036036 ,   3663663.66366366,   3723723.72372372,\n",
       "         3783783.78378378,   3843843.84384384,   3903903.9039039 ,\n",
       "         3963963.96396396,   4024024.02402402,   4084084.08408408,\n",
       "         4144144.14414414,   4204204.2042042 ,   4264264.26426426,\n",
       "         4324324.32432432,   4384384.38438438,   4444444.44444444,\n",
       "         4504504.5045045 ,   4564564.56456456,   4624624.62462462,\n",
       "         4684684.68468468,   4744744.74474475,   4804804.8048048 ,\n",
       "         4864864.86486486,   4924924.92492492,   4984984.98498498,\n",
       "         5045045.04504505,   5105105.1051051 ,   5165165.16516517,\n",
       "         5225225.22522523,   5285285.28528528,   5345345.34534535,\n",
       "         5405405.4054054 ,   5465465.46546547,   5525525.52552553,\n",
       "         5585585.58558559,   5645645.64564565,   5705705.70570571,\n",
       "         5765765.76576577,   5825825.82582583,   5885885.88588589,\n",
       "         5945945.94594595,   6006006.00600601,   6066066.06606607,\n",
       "         6126126.12612613,   6186186.18618619,   6246246.24624625,\n",
       "         6306306.30630631,   6366366.36636637,   6426426.42642643,\n",
       "         6486486.48648649,   6546546.54654655,   6606606.60660661,\n",
       "         6666666.66666667,   6726726.72672673,   6786786.78678679,\n",
       "         6846846.84684685,   6906906.90690691,   6966966.96696697,\n",
       "         7027027.02702703,   7087087.08708709,   7147147.14714715,\n",
       "         7207207.20720721,   7267267.26726727,   7327327.32732733,\n",
       "         7387387.38738739,   7447447.44744745,   7507507.50750751,\n",
       "         7567567.56756757,   7627627.62762763,   7687687.68768769,\n",
       "         7747747.74774775,   7807807.80780781,   7867867.86786787,\n",
       "         7927927.92792793,   7987987.98798799,   8048048.04804805,\n",
       "         8108108.10810811,   8168168.16816817,   8228228.22822823,\n",
       "         8288288.28828829,   8348348.34834835,   8408408.40840841,\n",
       "         8468468.46846847,   8528528.52852853,   8588588.58858859,\n",
       "         8648648.64864865,   8708708.70870871,   8768768.76876877,\n",
       "         8828828.82882883,   8888888.88888889,   8948948.94894895,\n",
       "         9009009.00900901,   9069069.06906907,   9129129.12912913,\n",
       "         9189189.18918919,   9249249.24924925,   9309309.30930931,\n",
       "         9369369.36936937,   9429429.42942943,   9489489.48948949,\n",
       "         9549549.54954955,   9609609.60960961,   9669669.66966967,\n",
       "         9729729.72972973,   9789789.78978979,   9849849.84984985,\n",
       "         9909909.90990991,   9969969.96996997,  10030030.03003003,\n",
       "        10090090.09009009,  10150150.15015015,  10210210.21021021,\n",
       "        10270270.27027027,  10330330.33033033,  10390390.39039039,\n",
       "        10450450.45045045,  10510510.51051051,  10570570.57057057,\n",
       "        10630630.63063063,  10690690.69069069,  10750750.75075075,\n",
       "        10810810.81081081,  10870870.87087087,  10930930.93093093,\n",
       "        10990990.99099099,  11051051.05105105,  11111111.11111111,\n",
       "        11171171.17117117,  11231231.23123123,  11291291.29129129,\n",
       "        11351351.35135135,  11411411.41141141,  11471471.47147147,\n",
       "        11531531.53153153,  11591591.59159159,  11651651.65165165,\n",
       "        11711711.71171171,  11771771.77177177,  11831831.83183183,\n",
       "        11891891.89189189,  11951951.95195195,  12012012.01201201,\n",
       "        12072072.07207207,  12132132.13213213,  12192192.19219219,\n",
       "        12252252.25225225,  12312312.31231231,  12372372.37237237,\n",
       "        12432432.43243243,  12492492.49249249,  12552552.55255255,\n",
       "        12612612.61261261,  12672672.67267267,  12732732.73273273,\n",
       "        12792792.79279279,  12852852.85285285,  12912912.91291291,\n",
       "        12972972.97297297,  13033033.03303303,  13093093.09309309,\n",
       "        13153153.15315315,  13213213.21321321,  13273273.27327327,\n",
       "        13333333.33333333,  13393393.39339339,  13453453.45345345,\n",
       "        13513513.51351351,  13573573.57357357,  13633633.63363363,\n",
       "        13693693.69369369,  13753753.75375375,  13813813.81381381,\n",
       "        13873873.87387387,  13933933.93393393,  13993993.99399399,\n",
       "        14054054.05405405,  14114114.11411411,  14174174.17417417,\n",
       "        14234234.23423423,  14294294.29429429,  14354354.35435435,\n",
       "        14414414.41441441,  14474474.47447447,  14534534.53453453,\n",
       "        14594594.59459459,  14654654.65465465,  14714714.71471472,\n",
       "        14774774.77477477,  14834834.83483483,  14894894.89489489,\n",
       "        14954954.95495495,  15015015.01501502,  15075075.07507508,\n",
       "        15135135.13513513,  15195195.19519519,  15255255.25525526,\n",
       "        15315315.31531532,  15375375.37537538,  15435435.43543543,\n",
       "        15495495.49549549,  15555555.55555556,  15615615.61561562,\n",
       "        15675675.67567568,  15735735.73573573,  15795795.7957958 ,\n",
       "        15855855.85585586,  15915915.91591592,  15975975.97597598,\n",
       "        16036036.03603604,  16096096.0960961 ,  16156156.15615616,\n",
       "        16216216.21621622,  16276276.27627628,  16336336.33633634,\n",
       "        16396396.3963964 ,  16456456.45645646,  16516516.51651652,\n",
       "        16576576.57657658,  16636636.63663664,  16696696.6966967 ,\n",
       "        16756756.75675676,  16816816.81681682,  16876876.87687688,\n",
       "        16936936.93693694,  16996996.996997  ,  17057057.05705706,\n",
       "        17117117.11711712,  17177177.17717718,  17237237.23723724,\n",
       "        17297297.2972973 ,  17357357.35735736,  17417417.41741742,\n",
       "        17477477.47747748,  17537537.53753754,  17597597.5975976 ,\n",
       "        17657657.65765766,  17717717.71771772,  17777777.77777778,\n",
       "        17837837.83783784,  17897897.8978979 ,  17957957.95795796,\n",
       "        18018018.01801802,  18078078.07807808,  18138138.13813814,\n",
       "        18198198.1981982 ,  18258258.25825826,  18318318.31831832,\n",
       "        18378378.37837838,  18438438.43843844,  18498498.4984985 ,\n",
       "        18558558.55855856,  18618618.61861862,  18678678.67867868,\n",
       "        18738738.73873874,  18798798.7987988 ,  18858858.85885886,\n",
       "        18918918.91891892,  18978978.97897898,  19039039.03903904,\n",
       "        19099099.0990991 ,  19159159.15915916,  19219219.21921922,\n",
       "        19279279.27927928,  19339339.33933934,  19399399.3993994 ,\n",
       "        19459459.45945946,  19519519.51951952,  19579579.57957958,\n",
       "        19639639.63963964,  19699699.6996997 ,  19759759.75975976,\n",
       "        19819819.81981982,  19879879.87987988,  19939939.93993994,\n",
       "        20000000.        ,  20060060.06006006,  20120120.12012012,\n",
       "        20180180.18018018,  20240240.24024024,  20300300.3003003 ,\n",
       "        20360360.36036036,  20420420.42042042,  20480480.48048048,\n",
       "        20540540.54054054,  20600600.6006006 ,  20660660.66066066,\n",
       "        20720720.72072072,  20780780.78078078,  20840840.84084084,\n",
       "        20900900.9009009 ,  20960960.96096096,  21021021.02102102,\n",
       "        21081081.08108108,  21141141.14114114,  21201201.2012012 ,\n",
       "        21261261.26126126,  21321321.32132132,  21381381.38138138,\n",
       "        21441441.44144144,  21501501.5015015 ,  21561561.56156156,\n",
       "        21621621.62162162,  21681681.68168168,  21741741.74174174,\n",
       "        21801801.8018018 ,  21861861.86186186,  21921921.92192192,\n",
       "        21981981.98198198,  22042042.04204204,  22102102.1021021 ,\n",
       "        22162162.16216216,  22222222.22222222,  22282282.28228228,\n",
       "        22342342.34234234,  22402402.4024024 ,  22462462.46246246,\n",
       "        22522522.52252252,  22582582.58258258,  22642642.64264264,\n",
       "        22702702.7027027 ,  22762762.76276276,  22822822.82282282,\n",
       "        22882882.88288288,  22942942.94294294,  23003003.003003  ,\n",
       "        23063063.06306306,  23123123.12312312,  23183183.18318318,\n",
       "        23243243.24324324,  23303303.3033033 ,  23363363.36336336,\n",
       "        23423423.42342342,  23483483.48348348,  23543543.54354354,\n",
       "        23603603.6036036 ,  23663663.66366366,  23723723.72372372,\n",
       "        23783783.78378378,  23843843.84384384,  23903903.90390391,\n",
       "        23963963.96396396,  24024024.02402402,  24084084.08408408,\n",
       "        24144144.14414414,  24204204.20420421,  24264264.26426426,\n",
       "        24324324.32432432,  24384384.38438438,  24444444.44444444,\n",
       "        24504504.50450451,  24564564.56456456,  24624624.62462462,\n",
       "        24684684.68468468,  24744744.74474474,  24804804.80480481,\n",
       "        24864864.86486486,  24924924.92492492,  24984984.98498499,\n",
       "        25045045.04504504,  25105105.10510511,  25165165.16516516,\n",
       "        25225225.22522523,  25285285.28528529,  25345345.34534534,\n",
       "        25405405.40540541,  25465465.46546546,  25525525.52552553,\n",
       "        25585585.58558559,  25645645.64564564,  25705705.70570571,\n",
       "        25765765.76576576,  25825825.82582583,  25885885.88588589,\n",
       "        25945945.94594594,  26006006.00600601,  26066066.06606606,\n",
       "        26126126.12612613,  26186186.18618619,  26246246.24624624,\n",
       "        26306306.30630631,  26366366.36636637,  26426426.42642643,\n",
       "        26486486.48648649,  26546546.54654654,  26606606.60660661,\n",
       "        26666666.66666667,  26726726.72672673,  26786786.78678679,\n",
       "        26846846.84684685,  26906906.90690691,  26966966.96696697,\n",
       "        27027027.02702703,  27087087.08708709,  27147147.14714715,\n",
       "        27207207.20720721,  27267267.26726727,  27327327.32732733,\n",
       "        27387387.38738739,  27447447.44744745,  27507507.50750751,\n",
       "        27567567.56756757,  27627627.62762763,  27687687.68768769,\n",
       "        27747747.74774775,  27807807.80780781,  27867867.86786787,\n",
       "        27927927.92792793,  27987987.98798799,  28048048.04804805,\n",
       "        28108108.10810811,  28168168.16816817,  28228228.22822823,\n",
       "        28288288.28828829,  28348348.34834835,  28408408.40840841,\n",
       "        28468468.46846847,  28528528.52852853,  28588588.58858859,\n",
       "        28648648.64864865,  28708708.70870871,  28768768.76876877,\n",
       "        28828828.82882883,  28888888.88888889,  28948948.94894895,\n",
       "        29009009.00900901,  29069069.06906907,  29129129.12912913,\n",
       "        29189189.18918919,  29249249.24924925,  29309309.30930931,\n",
       "        29369369.36936937,  29429429.42942943,  29489489.48948949,\n",
       "        29549549.54954955,  29609609.60960961,  29669669.66966967,\n",
       "        29729729.72972973,  29789789.78978979,  29849849.84984985,\n",
       "        29909909.90990991,  29969969.96996997,  30030030.03003003,\n",
       "        30090090.09009009,  30150150.15015015,  30210210.21021021,\n",
       "        30270270.27027027,  30330330.33033033,  30390390.39039039,\n",
       "        30450450.45045045,  30510510.51051051,  30570570.57057057,\n",
       "        30630630.63063063,  30690690.69069069,  30750750.75075075,\n",
       "        30810810.81081081,  30870870.87087087,  30930930.93093093,\n",
       "        30990990.99099099,  31051051.05105105,  31111111.11111111,\n",
       "        31171171.17117117,  31231231.23123123,  31291291.29129129,\n",
       "        31351351.35135135,  31411411.41141141,  31471471.47147147,\n",
       "        31531531.53153153,  31591591.59159159,  31651651.65165165,\n",
       "        31711711.71171171,  31771771.77177177,  31831831.83183183,\n",
       "        31891891.89189189,  31951951.95195195,  32012012.01201201,\n",
       "        32072072.07207207,  32132132.13213213,  32192192.19219219,\n",
       "        32252252.25225225,  32312312.31231231,  32372372.37237237,\n",
       "        32432432.43243243,  32492492.49249249,  32552552.55255255,\n",
       "        32612612.61261261,  32672672.67267267,  32732732.73273273,\n",
       "        32792792.79279279,  32852852.85285285,  32912912.91291291,\n",
       "        32972972.97297297,  33033033.03303303,  33093093.09309309,\n",
       "        33153153.15315315,  33213213.21321321,  33273273.27327327,\n",
       "        33333333.33333333,  33393393.39339339,  33453453.45345345,\n",
       "        33513513.51351351,  33573573.57357357,  33633633.63363364,\n",
       "        33693693.69369369,  33753753.75375375,  33813813.81381381,\n",
       "        33873873.87387387,  33933933.93393394,  33993993.99399399,\n",
       "        34054054.05405405,  34114114.11411411,  34174174.17417417,\n",
       "        34234234.23423424,  34294294.29429429,  34354354.35435435,\n",
       "        34414414.41441441,  34474474.47447447,  34534534.53453454,\n",
       "        34594594.5945946 ,  34654654.65465465,  34714714.71471471,\n",
       "        34774774.77477477,  34834834.83483484,  34894894.8948949 ,\n",
       "        34954954.95495495,  35015015.01501501,  35075075.07507508,\n",
       "        35135135.13513514,  35195195.1951952 ,  35255255.25525525,\n",
       "        35315315.31531531,  35375375.37537538,  35435435.43543544,\n",
       "        35495495.4954955 ,  35555555.55555555,  35615615.61561561,\n",
       "        35675675.67567568,  35735735.73573574,  35795795.7957958 ,\n",
       "        35855855.85585585,  35915915.91591591,  35975975.97597598,\n",
       "        36036036.03603604,  36096096.0960961 ,  36156156.15615615,\n",
       "        36216216.21621621,  36276276.27627628,  36336336.33633634,\n",
       "        36396396.3963964 ,  36456456.45645645,  36516516.51651651,\n",
       "        36576576.57657658,  36636636.63663664,  36696696.6966967 ,\n",
       "        36756756.75675675,  36816816.81681681,  36876876.87687688,\n",
       "        36936936.93693694,  36996996.996997  ,  37057057.05705705,\n",
       "        37117117.11711711,  37177177.17717718,  37237237.23723724,\n",
       "        37297297.2972973 ,  37357357.35735736,  37417417.41741741,\n",
       "        37477477.47747748,  37537537.53753754,  37597597.5975976 ,\n",
       "        37657657.65765766,  37717717.71771771,  37777777.77777778,\n",
       "        37837837.83783784,  37897897.8978979 ,  37957957.95795796,\n",
       "        38018018.01801801,  38078078.07807808,  38138138.13813814,\n",
       "        38198198.1981982 ,  38258258.25825826,  38318318.31831831,\n",
       "        38378378.37837838,  38438438.43843844,  38498498.4984985 ,\n",
       "        38558558.55855856,  38618618.61861861,  38678678.67867868,\n",
       "        38738738.73873874,  38798798.7987988 ,  38858858.85885886,\n",
       "        38918918.91891892,  38978978.97897898,  39039039.03903904,\n",
       "        39099099.0990991 ,  39159159.15915916,  39219219.21921922,\n",
       "        39279279.27927928,  39339339.33933934,  39399399.3993994 ,\n",
       "        39459459.45945946,  39519519.51951952,  39579579.57957958,\n",
       "        39639639.63963964,  39699699.6996997 ,  39759759.75975976,\n",
       "        39819819.81981982,  39879879.87987988,  39939939.93993994,\n",
       "        40000000.        ,  40060060.06006006,  40120120.12012012,\n",
       "        40180180.18018018,  40240240.24024024,  40300300.3003003 ,\n",
       "        40360360.36036036,  40420420.42042042,  40480480.48048048,\n",
       "        40540540.54054054,  40600600.6006006 ,  40660660.66066066,\n",
       "        40720720.72072072,  40780780.78078078,  40840840.84084084,\n",
       "        40900900.9009009 ,  40960960.96096096,  41021021.02102102,\n",
       "        41081081.08108108,  41141141.14114114,  41201201.2012012 ,\n",
       "        41261261.26126126,  41321321.32132132,  41381381.38138138,\n",
       "        41441441.44144144,  41501501.5015015 ,  41561561.56156156,\n",
       "        41621621.62162162,  41681681.68168168,  41741741.74174174,\n",
       "        41801801.8018018 ,  41861861.86186186,  41921921.92192192,\n",
       "        41981981.98198198,  42042042.04204204,  42102102.1021021 ,\n",
       "        42162162.16216216,  42222222.22222222,  42282282.28228228,\n",
       "        42342342.34234234,  42402402.4024024 ,  42462462.46246246,\n",
       "        42522522.52252252,  42582582.58258259,  42642642.64264264,\n",
       "        42702702.7027027 ,  42762762.76276276,  42822822.82282282,\n",
       "        42882882.88288289,  42942942.94294294,  43003003.003003  ,\n",
       "        43063063.06306306,  43123123.12312312,  43183183.18318319,\n",
       "        43243243.24324324,  43303303.3033033 ,  43363363.36336336,\n",
       "        43423423.42342342,  43483483.48348349,  43543543.54354354,\n",
       "        43603603.6036036 ,  43663663.66366366,  43723723.72372372,\n",
       "        43783783.78378379,  43843843.84384384,  43903903.9039039 ,\n",
       "        43963963.96396396,  44024024.02402402,  44084084.08408409,\n",
       "        44144144.14414414,  44204204.2042042 ,  44264264.26426426,\n",
       "        44324324.32432432,  44384384.38438439,  44444444.44444444,\n",
       "        44504504.5045045 ,  44564564.56456456,  44624624.62462462,\n",
       "        44684684.68468469,  44744744.74474474,  44804804.8048048 ,\n",
       "        44864864.86486486,  44924924.92492492,  44984984.98498499,\n",
       "        45045045.04504505,  45105105.1051051 ,  45165165.16516516,\n",
       "        45225225.22522523,  45285285.28528529,  45345345.34534535,\n",
       "        45405405.4054054 ,  45465465.46546546,  45525525.52552553,\n",
       "        45585585.58558559,  45645645.64564565,  45705705.7057057 ,\n",
       "        45765765.76576576,  45825825.82582583,  45885885.88588589,\n",
       "        45945945.94594595,  46006006.006006  ,  46066066.06606606,\n",
       "        46126126.12612613,  46186186.18618619,  46246246.24624625,\n",
       "        46306306.3063063 ,  46366366.36636636,  46426426.42642643,\n",
       "        46486486.48648649,  46546546.54654655,  46606606.6066066 ,\n",
       "        46666666.66666666,  46726726.72672673,  46786786.78678679,\n",
       "        46846846.84684685,  46906906.9069069 ,  46966966.96696696,\n",
       "        47027027.02702703,  47087087.08708709,  47147147.14714715,\n",
       "        47207207.2072072 ,  47267267.26726726,  47327327.32732733,\n",
       "        47387387.38738739,  47447447.44744745,  47507507.50750751,\n",
       "        47567567.56756756,  47627627.62762763,  47687687.68768769,\n",
       "        47747747.74774775,  47807807.80780781,  47867867.86786786,\n",
       "        47927927.92792793,  47987987.98798799,  48048048.04804805,\n",
       "        48108108.10810811,  48168168.16816816,  48228228.22822823,\n",
       "        48288288.28828829,  48348348.34834835,  48408408.40840841,\n",
       "        48468468.46846846,  48528528.52852853,  48588588.58858859,\n",
       "        48648648.64864865,  48708708.70870871,  48768768.76876877,\n",
       "        48828828.82882883,  48888888.88888889,  48948948.94894895,\n",
       "        49009009.00900901,  49069069.06906907,  49129129.12912913,\n",
       "        49189189.18918919,  49249249.24924925,  49309309.30930931,\n",
       "        49369369.36936937,  49429429.42942943,  49489489.48948949,\n",
       "        49549549.54954955,  49609609.60960961,  49669669.66966967,\n",
       "        49729729.72972973,  49789789.78978979,  49849849.84984985,\n",
       "        49909909.90990991,  49969969.96996997,  50030030.03003003,\n",
       "        50090090.09009009,  50150150.15015015,  50210210.21021021,\n",
       "        50270270.27027027,  50330330.33033033,  50390390.39039039,\n",
       "        50450450.45045045,  50510510.51051051,  50570570.57057057,\n",
       "        50630630.63063063,  50690690.69069069,  50750750.75075075,\n",
       "        50810810.81081081,  50870870.87087087,  50930930.93093093,\n",
       "        50990990.99099099,  51051051.05105105,  51111111.11111111,\n",
       "        51171171.17117117,  51231231.23123123,  51291291.29129129,\n",
       "        51351351.35135135,  51411411.41141141,  51471471.47147147,\n",
       "        51531531.53153153,  51591591.59159159,  51651651.65165165,\n",
       "        51711711.71171171,  51771771.77177177,  51831831.83183183,\n",
       "        51891891.89189189,  51951951.95195195,  52012012.01201201,\n",
       "        52072072.07207207,  52132132.13213213,  52192192.19219219,\n",
       "        52252252.25225225,  52312312.31231231,  52372372.37237237,\n",
       "        52432432.43243243,  52492492.49249249,  52552552.55255255,\n",
       "        52612612.61261261,  52672672.67267267,  52732732.73273274,\n",
       "        52792792.79279279,  52852852.85285285,  52912912.91291291,\n",
       "        52972972.97297297,  53033033.03303304,  53093093.09309309,\n",
       "        53153153.15315315,  53213213.21321321,  53273273.27327327,\n",
       "        53333333.33333334,  53393393.39339339,  53453453.45345345,\n",
       "        53513513.51351351,  53573573.57357357,  53633633.63363364,\n",
       "        53693693.69369369,  53753753.75375375,  53813813.81381381,\n",
       "        53873873.87387387,  53933933.93393394,  53993993.99399399,\n",
       "        54054054.05405405,  54114114.11411411,  54174174.17417417,\n",
       "        54234234.23423424,  54294294.29429429,  54354354.35435435,\n",
       "        54414414.41441441,  54474474.47447447,  54534534.53453454,\n",
       "        54594594.59459459,  54654654.65465465,  54714714.71471471,\n",
       "        54774774.77477477,  54834834.83483484,  54894894.89489489,\n",
       "        54954954.95495495,  55015015.01501501,  55075075.07507508,\n",
       "        55135135.13513514,  55195195.1951952 ,  55255255.25525525,\n",
       "        55315315.31531531,  55375375.37537538,  55435435.43543544,\n",
       "        55495495.4954955 ,  55555555.55555555,  55615615.61561561,\n",
       "        55675675.67567568,  55735735.73573574,  55795795.7957958 ,\n",
       "        55855855.85585585,  55915915.91591591,  55975975.97597598,\n",
       "        56036036.03603604,  56096096.0960961 ,  56156156.15615615,\n",
       "        56216216.21621621,  56276276.27627628,  56336336.33633634,\n",
       "        56396396.3963964 ,  56456456.45645645,  56516516.51651651,\n",
       "        56576576.57657658,  56636636.63663664,  56696696.6966967 ,\n",
       "        56756756.75675675,  56816816.81681681,  56876876.87687688,\n",
       "        56936936.93693694,  56996996.996997  ,  57057057.05705705,\n",
       "        57117117.11711711,  57177177.17717718,  57237237.23723724,\n",
       "        57297297.2972973 ,  57357357.35735735,  57417417.41741741,\n",
       "        57477477.47747748,  57537537.53753754,  57597597.5975976 ,\n",
       "        57657657.65765765,  57717717.71771771,  57777777.77777778,\n",
       "        57837837.83783784,  57897897.8978979 ,  57957957.95795796,\n",
       "        58018018.01801801,  58078078.07807808,  58138138.13813814,\n",
       "        58198198.1981982 ,  58258258.25825826,  58318318.31831831,\n",
       "        58378378.37837838,  58438438.43843844,  58498498.4984985 ,\n",
       "        58558558.55855856,  58618618.61861861,  58678678.67867868,\n",
       "        58738738.73873874,  58798798.7987988 ,  58858858.85885886,\n",
       "        58918918.91891892,  58978978.97897898,  59039039.03903904,\n",
       "        59099099.0990991 ,  59159159.15915916,  59219219.21921922,\n",
       "        59279279.27927928,  59339339.33933934,  59399399.3993994 ,\n",
       "        59459459.45945946,  59519519.51951952,  59579579.57957958,\n",
       "        59639639.63963964,  59699699.6996997 ,  59759759.75975976,\n",
       "        59819819.81981982,  59879879.87987988,  59939939.93993994,\n",
       "        60000000.        ])"
      ]
     },
     "execution_count": 32,
     "metadata": {},
     "output_type": "execute_result"
    }
   ],
   "source": [
    "np.linspace(0,60e6,1000)"
   ]
  },
  {
   "cell_type": "code",
   "execution_count": 35,
   "metadata": {
    "collapsed": false
   },
   "outputs": [
    {
     "name": "stderr",
     "output_type": "stream",
     "text": [
      "/usr/local/lib/python3.4/dist-packages/IPython/kernel/__main__.py:2: RuntimeWarning: invalid value encountered in sqrt\n",
      "  from IPython.kernel.zmq import kernelapp as app\n"
     ]
    },
    {
     "data": {
      "image/png": "[encoded data removed]",
      "text/plain": [
       "<matplotlib.figure.Figure at 0x7fb9e98f9b00>"
      ]
     },
     "metadata": {},
     "output_type": "display_data"
    }
   ],
   "source": [
    "plt.plot(np.linspace(0,60e6,1000),quadterm(0.6e9,10**10,23663663.66366366,np.linspace(0,60e6,1000),6e4*(116-114.1))[0],'b')\n",
    "plt.plot(np.linspace(0,60e6,1000),quadterm(0.6e9,10**10,23663663.66366366,np.linspace(0,60e6,1000),6e4*(116-114.1))[1],'r');"
   ]
  },
  {
   "cell_type": "code",
   "execution_count": 50,
   "metadata": {
    "collapsed": false
   },
   "outputs": [
    {
     "data": {
      "image/png": "[encoded data removed]",
      "text/plain": [
       "<matplotlib.figure.Figure at 0x7fcc68f33ac8>"
      ]
     },
     "metadata": {},
     "output_type": "display_data"
    }
   ],
   "source": [
    "plt.figure(figsize=(11,8))\n",
    "plt.scatter(Ecc(6e4*(116-114.1),10**4,9e7,np.linspace(7.5,17.5),10**10,0.6e9,10**4)[0],np.linspace(7.5,17.5),color='r',label='no expand')\n",
    "plt.ylim(0,35)\n",
    "plt.xlabel('E',fontsize=18)\n",
    "plt.ylabel('c',rotation='horizontal',labelpad=25,fontsize=18);"
   ]
  },
  {
   "cell_type": "markdown",
   "metadata": {},
   "source": [
    "###$\\dfrac{\\partial f}{\\partial p} = 0$"
   ]
  },
  {
   "cell_type": "code",
   "execution_count": 17,
   "metadata": {
    "collapsed": false
   },
   "outputs": [
    {
     "data": {
      "image/png": "[encoded data removed]",
      "text/latex": [
       "$$- E - 2 \\Omega c^{2} p + 2 \\alpha p + 4 \\beta p^{3}$$"
      ],
      "text/plain": [
       "          2                  3\n",
       "-E - 2⋅Ω⋅c ⋅p + 2⋅α⋅p + 4⋅β⋅p "
      ]
     },
     "execution_count": 17,
     "metadata": {},
     "output_type": "execute_result"
    }
   ],
   "source": [
    "(fc+fp+fcp).diff(p)"
   ]
  },
  {
   "cell_type": "markdown",
   "metadata": {},
   "source": [
    "###Solve for $c$"
   ]
  },
  {
   "cell_type": "code",
   "execution_count": 40,
   "metadata": {
    "collapsed": false
   },
   "outputs": [
    {
     "data": {
      "image/png": "[encoded data removed]",
      "text/latex": [
       "$$\\frac{\\sqrt{2}}{2} \\sqrt{\\frac{1}{\\Omega p} \\left(- E + 2 \\alpha p + 4 \\beta p^{3}\\right)}$$"
      ],
      "text/plain": [
       "           _____________________\n",
       "          ╱                   3 \n",
       "  ___    ╱  -E + 2⋅α⋅p + 4⋅β⋅p  \n",
       "╲╱ 2 ⋅  ╱   ─────────────────── \n",
       "      ╲╱            Ω⋅p         \n",
       "────────────────────────────────\n",
       "               2                "
      ]
     },
     "execution_count": 40,
     "metadata": {},
     "output_type": "execute_result"
    }
   ],
   "source": [
    "solve((fc+fp+fcp).diff(p),c)[1]"
   ]
  },
  {
   "cell_type": "markdown",
   "metadata": {},
   "source": [
    "###Sub $c(p)$ into $p(c)$"
   ]
  },
  {
   "cell_type": "code",
   "execution_count": 50,
   "metadata": {
    "collapsed": false
   },
   "outputs": [
    {
     "data": {
      "image/png": "[encoded data removed]",
      "text/latex": [
       "$$\\frac{1}{2} \\sqrt{\\frac{3 E^{2} q}{\\Omega^{3} p^{2}} - \\frac{4 E b}{\\Omega^{2} p} - \\frac{12 E \\alpha q}{\\Omega^{3} p} - \\frac{24 E}{\\Omega^{3}} \\beta p q + \\frac{4 a}{\\Omega} + \\frac{8 \\alpha}{\\Omega^{2}} b + \\frac{16 b}{\\Omega^{2}} \\beta p^{2} + \\frac{12 q}{\\Omega^{3}} \\alpha^{2} + \\frac{48 \\alpha}{\\Omega^{3}} \\beta p^{2} q + \\frac{48 q}{\\Omega^{3}} \\beta^{2} p^{4}}$$"
      ],
      "text/plain": [
       "      ________________________________________________________________________\n",
       "     ╱    2                                                           2       \n",
       "    ╱  3⋅E ⋅q   4⋅E⋅b   12⋅E⋅α⋅q   24⋅E⋅β⋅p⋅q   4⋅a   8⋅α⋅b   16⋅b⋅β⋅p    12⋅α\n",
       "   ╱   ────── - ───── - ──────── - ────────── + ─── + ───── + ───────── + ────\n",
       "  ╱     3  2      2        3            3        Ω       2         2          \n",
       "╲╱     Ω ⋅p      Ω ⋅p     Ω ⋅p         Ω                Ω         Ω          Ω\n",
       "──────────────────────────────────────────────────────────────────────────────\n",
       "                                                      2                       \n",
       "\n",
       "_______________________________\n",
       "2             2         2  4   \n",
       " ⋅q   48⋅α⋅β⋅p ⋅q   48⋅β ⋅p ⋅q \n",
       "─── + ─────────── + ────────── \n",
       "3           3            3     \n",
       "           Ω            Ω      \n",
       "───────────────────────────────\n",
       "                               "
      ]
     },
     "execution_count": 50,
     "metadata": {},
     "output_type": "execute_result"
    }
   ],
   "source": [
    "expand(simplify(pc.subs(c,solve((fc+fp+fcp).diff(p),c)[1])),p)"
   ]
  },
  {
   "cell_type": "markdown",
   "metadata": {},
   "source": [
    "###Solve for $E(p)$"
   ]
  },
  {
   "cell_type": "code",
   "execution_count": 52,
   "metadata": {
    "collapsed": false
   },
   "outputs": [
    {
     "data": {
      "image/png": "[encoded data removed]",
      "text/latex": [
       "$$\\frac{1}{3 q} \\left(2 p \\left(\\Omega b + 3 \\alpha q + 6 \\beta p^{2} q\\right) + 2 \\sqrt{\\Omega^{2} p^{2} \\left(3 \\Omega p^{2} q - 3 a q + b^{2}\\right)}\\right)$$"
      ],
      "text/plain": [
       "  ⎛                                _______________________________⎞\n",
       "  ⎜  ⎛                   2  ⎞     ╱  2  2 ⎛     2              2⎞ ⎟\n",
       "2⋅⎝p⋅⎝Ω⋅b + 3⋅α⋅q + 6⋅β⋅p ⋅q⎠ + ╲╱  Ω ⋅p ⋅⎝3⋅Ω⋅p ⋅q - 3⋅a⋅q + b ⎠ ⎠\n",
       "───────────────────────────────────────────────────────────────────\n",
       "                                3⋅q                                "
      ]
     },
     "execution_count": 52,
     "metadata": {},
     "output_type": "execute_result"
    }
   ],
   "source": [
    "simplify(solve(expand(simplify(pc.subs(c,solve((fc+fp+fcp).diff(p),c)[1])),p)-p,E)[1])"
   ]
  },
  {
   "cell_type": "markdown",
   "metadata": {},
   "source": [
    "###Define above equation for plotting"
   ]
  },
  {
   "cell_type": "code",
   "execution_count": 46,
   "metadata": {
    "collapsed": true
   },
   "outputs": [],
   "source": [
    "def Epp(a,b,q,alpha,beta,Omega,p):\n",
    "    return (2*p*(Omega*b+3*alpha*q+6*beta*q*p**2)+2*Omega*p*np.sqrt(3*Omega*q*p**2-3*a*q+b**2))/(3*q)"
   ]
  },
  {
   "cell_type": "code",
   "execution_count": 55,
   "metadata": {
    "collapsed": false
   },
   "outputs": [
    {
     "name": "stderr",
     "output_type": "stream",
     "text": [
      "/usr/local/lib/python3.4/dist-packages/IPython/kernel/__main__.py:2: RuntimeWarning: invalid value encountered in sqrt\n",
      "  from IPython.kernel.zmq import kernelapp as app\n"
     ]
    },
    {
     "data": {
      "image/png": "[encoded data removed]",
      "text/plain": [
       "<matplotlib.figure.Figure at 0x7f224fb174e0>"
      ]
     },
     "metadata": {},
     "output_type": "display_data"
    }
   ],
   "source": [
    "plt.figure(figsize=(11,8))\n",
    "plt.scatter(Epp(6e4*(116-114.1),10**4,9e7,0.6e9,10**4,10**11,np.linspace(0,0.005))/10**7,np.linspace(0,0.005),color='r',label='T = 116')\n",
    "plt.scatter(Epp(6e4*(110-114.1),10**4,9e7,0.6e9,10**4,10**11,np.linspace(0,0.005))/10**7,np.linspace(0,0.005),color='g',label='T = 110')\n",
    "plt.scatter(Epp(6e4*(105-114.1),10**4,9e7,0.6e9,10**4,10**11,np.linspace(0,0.005))/10**7,np.linspace(0,0.005),color='b',label='T = 105')\n",
    "plt.ylim(0,0.006),plt.xlim(0,20)\n",
    "plt.xlabel('E',fontsize=18)\n",
    "plt.ylabel('p',rotation='horizontal',labelpad=25,fontsize=18)\n",
    "plt.legend(loc='upper right',fontsize=16);"
   ]
  },
  {
   "cell_type": "code",
   "execution_count": 19,
   "metadata": {
    "collapsed": true
   },
   "outputs": [],
   "source": [
    "def ppp(a,b,q,Omega,c):\n",
    "    return np.sqrt((a+2*b*c**2+3*q*c**4)/Omega)"
   ]
  },
  {
   "cell_type": "code",
   "execution_count": 20,
   "metadata": {
    "collapsed": false
   },
   "outputs": [
    {
     "data": {
      "image/png": "[encoded data removed]",
      "text/plain": [
       "<matplotlib.figure.Figure at 0x7fcc6954a4a8>"
      ]
     },
     "metadata": {},
     "output_type": "display_data"
    }
   ],
   "source": [
    "plt.figure(figsize=(11,8))\n",
    "plt.scatter(np.linspace(0,35),ppp(6e4*(116-114.1),10**4,9e7,10**10,np.linspace(0,35)))\n",
    "plt.ylim(-2,220),plt.xlim(-1,36)\n",
    "plt.xlabel('c',fontsize=18)\n",
    "plt.ylabel('p',rotation='horizontal',labelpad=25,fontsize=18);"
   ]
  },
  {
   "cell_type": "code",
   "execution_count": 9,
   "metadata": {
    "collapsed": false
   },
   "outputs": [
    {
     "data": {
      "image/png": "[encoded data removed]",
      "text/latex": [
       "$$\\frac{2}{\\Omega} \\sqrt{\\frac{1}{\\Omega} \\left(a + 2 b c^{2} + 3 c^{4} q\\right)} \\left(\\Omega \\left(- \\Omega c^{2} + \\alpha\\right) + 2 \\beta \\left(a + 2 b c^{2} + 3 c^{4} q\\right)\\right)$$"
      ],
      "text/plain": [
       "       _____________________                                             \n",
       "      ╱          2      4                                                \n",
       "     ╱  a + 2⋅b⋅c  + 3⋅c ⋅q  ⎛  ⎛     2    ⎞       ⎛         2      4  ⎞⎞\n",
       "2⋅  ╱   ─────────────────── ⋅⎝Ω⋅⎝- Ω⋅c  + α⎠ + 2⋅β⋅⎝a + 2⋅b⋅c  + 3⋅c ⋅q⎠⎠\n",
       "  ╲╱             Ω                                                       \n",
       "─────────────────────────────────────────────────────────────────────────\n",
       "                                    Ω                                    "
      ]
     },
     "execution_count": 9,
     "metadata": {},
     "output_type": "execute_result"
    }
   ],
   "source": [
    "simplify((solve((fp+fcp).diff(p),E)[0]).subs(p,solve((fc+fp+fcp).diff(c),p)[1]))"
   ]
  },
  {
   "cell_type": "code",
   "execution_count": 64,
   "metadata": {
    "collapsed": true
   },
   "outputs": [],
   "source": [
    "def Ec(om, a, b, c, q, alp, beta):\n",
    "    return (2/om)*np.sqrt((a+2*b*c**2+3*q*c**4)/om)*(alp*om-(c*om)**2+2*beta*a+4*b*beta*c**2+6*beta*q*c**4)"
   ]
  },
  {
   "cell_type": "code",
   "execution_count": 86,
   "metadata": {
    "collapsed": false
   },
   "outputs": [
    {
     "data": {
      "image/png": "[encoded data removed]",
      "text/latex": [
       "$$\\frac{E^{2}}{4 p^{2}} - \\frac{E \\alpha}{p} - 2 E \\beta p + \\alpha^{2} + 4 \\alpha \\beta p^{2} + 4 \\beta^{2} p^{4}$$"
      ],
      "text/plain": [
       "  2                                           \n",
       " E     E⋅α              2          2      2  4\n",
       "──── - ─── - 2⋅E⋅β⋅p + α  + 4⋅α⋅β⋅p  + 4⋅β ⋅p \n",
       "   2    p                                     \n",
       "4⋅p                                           "
      ]
     },
     "execution_count": 86,
     "metadata": {},
     "output_type": "execute_result"
    }
   ],
   "source": [
    "expand((alpha-E/(2*p)+2*beta*p**2)**2)"
   ]
  },
  {
   "cell_type": "code",
   "execution_count": 65,
   "metadata": {
    "collapsed": false
   },
   "outputs": [
    {
     "data": {
      "image/png": "[encoded data removed]",
      "text/plain": [
       "<matplotlib.figure.Figure at 0x7f837cc16320>"
      ]
     },
     "metadata": {},
     "output_type": "display_data"
    }
   ],
   "source": [
    "plt.scatter(Ec(10**11,6e4,10**4,np.linspace(0,15,200),9e7,0.6e9,10**4),np.linspace(0,15,200),marker='s');"
   ]
  },
  {
   "cell_type": "code",
   "execution_count": 48,
   "metadata": {
    "collapsed": false
   },
   "outputs": [],
   "source": [
    "def Eth(T):\n",
    "    E = []\n",
    "    for i in T:\n",
    "        if i > 114.1:\n",
    "            E.append(0.64e6*(i-100)*np.sqrt(i-114.1))\n",
    "        else:\n",
    "            E.append(0)\n",
    "    return E"
   ]
  },
  {
   "cell_type": "code",
   "execution_count": 58,
   "metadata": {
    "collapsed": false
   },
   "outputs": [
    {
     "data": {
      "image/png": "[encoded data removed]",
      "text/plain": [
       "<matplotlib.figure.Figure at 0x7f837cd08a58>"
      ]
     },
     "metadata": {},
     "output_type": "display_data"
    }
   ],
   "source": [
    "plt.plot(np.linspace(113,119,10),Eth(np.linspace(113,119,10)))\n",
    "plt.xlim(113,122),plt.ylim(0,3e7);"
   ]
  },
  {
   "cell_type": "code",
   "execution_count": null,
   "metadata": {
    "collapsed": true
   },
   "outputs": [],
   "source": []
  }
 ],
 "metadata": {
  "kernelspec": {
   "display_name": "Python 3",
   "language": "python",
   "name": "python3"
  },
  "language_info": {
   "codemirror_mode": {
    "name": "ipython",
    "version": 3
   },
   "file_extension": ".py",
   "mimetype": "text/x-python",
   "name": "python",
   "nbconvert_exporter": "python",
   "pygments_lexer": "ipython3",
   "version": "3.4.0"
  }
 },
 "nbformat": 4,
 "nbformat_minor": 0
}
