{
 "cells": [
  {
   "cell_type": "code",
   "execution_count": 1,
   "metadata": {
    "collapsed": false
   },
   "outputs": [
    {
     "name": "stderr",
     "output_type": "stream",
     "text": [
      ":0: FutureWarning: IPython widgets are experimental and may change in the future.\n"
     ]
    }
   ],
   "source": [
    "%matplotlib inline\n",
    "import numpy as np\n",
    "import matplotlib.pyplot as plt\n",
    "import seaborn as sns\n",
    "from IPython.html.widgets import interact, fixed\n",
    "from scipy.integrate import odeint, quad"
   ]
  },
  {
   "cell_type": "code",
   "execution_count": 2,
   "metadata": {
    "collapsed": false
   },
   "outputs": [],
   "source": [
    "theta_s=np.linspace(0,np.pi/2,10)\n",
    "r=np.linspace(1,10,1000)\n",
    "epsilon=[-1,0,1,2]"
   ]
  },
  {
   "cell_type": "code",
   "execution_count": 3,
   "metadata": {
    "collapsed": false
   },
   "outputs": [],
   "source": [
    "theta=[]\n",
    "def theta_r(r,theta_s):\n",
    "    for i in theta_s:\n",
    "        theta.append(2*np.arctan((1/r)*np.tan(i/2)))\n",
    "    return theta"
   ]
  },
  {
   "cell_type": "code",
   "execution_count": 4,
   "metadata": {
    "collapsed": false
   },
   "outputs": [],
   "source": [
    "sol=theta_r(r,theta_s)"
   ]
  },
  {
   "cell_type": "code",
   "execution_count": 5,
   "metadata": {
    "collapsed": true
   },
   "outputs": [],
   "source": [
    "def plot_theta(r,sol,i=0):\n",
    "    plt.figure(figsize=(10,6))\n",
    "    plt.xlim(0,11),plt.ylim(-0.5,2)\n",
    "    plt.xlabel(\"$r$\", fontsize=17), plt.ylabel(\"$\\\\theta(r)$ (radians)\", fontsize=17)\n",
    "    plt.plot(r,sol[i])\n",
    "    plt.title(\"$\\\\theta(r)$ vs. $r$\", fontsize=18)\n",
    "    plt.tick_params(axis='x', labelsize='large')\n",
    "    plt.tick_params(axis='y', labelsize='large')\n",
    "    \n",
    "    plt.show()"
   ]
  },
  {
   "cell_type": "markdown",
   "metadata": {},
   "source": [
    "$\\theta(r) \\: vs. \\: r$ with no elastic constants and $\\theta_s$ going from $0$ to $\\frac{\\pi}{2}$"
   ]
  },
  {
   "cell_type": "code",
   "execution_count": 6,
   "metadata": {
    "collapsed": false
   },
   "outputs": [
    {
     "data": {
      "image/png": "[encoded data removed]",
      "text/plain": [
       "<matplotlib.figure.Figure at 0x7f738c357400>"
      ]
     },
     "metadata": {},
     "output_type": "display_data"
    }
   ],
   "source": [
    "interact(plot_theta, r=fixed(r), sol=fixed(sol), i=(0,len(sol)-1));"
   ]
  },
  {
   "cell_type": "code",
   "execution_count": 7,
   "metadata": {
    "collapsed": true
   },
   "outputs": [],
   "source": [
    "def rad_to_deg_conv(sol):\n",
    "    return [sol[i]*(180/np.pi) for i in range(10)]"
   ]
  },
  {
   "cell_type": "code",
   "execution_count": 8,
   "metadata": {
    "collapsed": false,
    "scrolled": false
   },
   "outputs": [],
   "source": [
    "theta_s1=rad_to_deg_conv(sol)[0]\n",
    "theta_s2=rad_to_deg_conv(sol)[1]\n",
    "theta_s3=rad_to_deg_conv(sol)[2]\n",
    "theta_s4=rad_to_deg_conv(sol)[3]\n",
    "theta_s5=rad_to_deg_conv(sol)[4]\n",
    "theta_s6=rad_to_deg_conv(sol)[5]\n",
    "theta_s7=rad_to_deg_conv(sol)[6]\n",
    "theta_s8=rad_to_deg_conv(sol)[7]\n",
    "theta_s9=rad_to_deg_conv(sol)[8]\n",
    "theta_s10=rad_to_deg_conv(sol)[9]"
   ]
  },
  {
   "cell_type": "code",
   "execution_count": 9,
   "metadata": {
    "collapsed": true
   },
   "outputs": [],
   "source": [
    "def derivs(theta, r, epsilon):\n",
    "    dtheta = -(1/r)*np.sqrt((np.sin(theta))**2 + epsilon*(np.sin(theta))**4)\n",
    "    return dtheta"
   ]
  },
  {
   "cell_type": "code",
   "execution_count": 10,
   "metadata": {
    "collapsed": true
   },
   "outputs": [],
   "source": [
    "def solve_derivs(theta_s, r, epsilon):\n",
    "    soln=[odeint(derivs, i, r, args=(epsilon,), atol=1e-11, rtol=1e-10) for i in theta_s]\n",
    "    return soln"
   ]
  },
  {
   "cell_type": "code",
   "execution_count": 11,
   "metadata": {
    "collapsed": false
   },
   "outputs": [],
   "source": [
    "soln1 = solve_derivs(theta_s, r, epsilon[0])\n",
    "soln2 = solve_derivs(theta_s, r, epsilon[1])\n",
    "soln3 = solve_derivs(theta_s, r, epsilon[2])\n",
    "soln4 = solve_derivs(theta_s, r, epsilon[3])"
   ]
  },
  {
   "cell_type": "code",
   "execution_count": 12,
   "metadata": {
    "collapsed": false,
    "scrolled": false
   },
   "outputs": [],
   "source": [
    "def plot_ode(r, soln1, soln2, soln3, soln4, j=0):\n",
    "    plt.figure(figsize=(14,7))\n",
    "    plt.plot(r,soln1[j],label='epsilon = -1')\n",
    "    plt.plot(r,soln2[j],label='epsilon = 0')\n",
    "    plt.plot(r,soln3[j],label='epsilon = 1')\n",
    "    plt.plot(r,soln4[j],label='epsilon = 2')\n",
    "    plt.xlim(0,11),plt.ylim(-0.1,1.7)\n",
    "    plt.xlabel(\"$r$\", fontsize=18), plt.ylabel(\"$\\\\theta(r) (radians)$\", fontsize=18)\n",
    "    plt.title(\"$\\\\theta(r)$ vs. $r$\", fontsize=18)\n",
    "    plt.tick_params(axis='x', labelsize='large')\n",
    "    plt.tick_params(axis='y', labelsize='large')\n",
    "    plt.legend(loc='best',fontsize='large')\n",
    "    \n",
    "    plt.show()"
   ]
  },
  {
   "cell_type": "code",
   "execution_count": 13,
   "metadata": {
    "collapsed": false
   },
   "outputs": [
    {
     "data": {
      "image/png": "[encoded data removed]",
      "text/plain": [
       "<matplotlib.figure.Figure at 0x7f738c0ffda0>"
      ]
     },
     "metadata": {},
     "output_type": "display_data"
    }
   ],
   "source": [
    "interact(plot_ode, r=fixed(r), soln1=fixed(soln1), soln2=fixed(soln2), soln3=fixed(soln3), soln4=fixed(soln4), j=(0,9));"
   ]
  },
  {
   "cell_type": "code",
   "execution_count": 14,
   "metadata": {
    "collapsed": false
   },
   "outputs": [],
   "source": [
    "theta_m=np.linspace(0,np.pi/2,50)"
   ]
  },
  {
   "cell_type": "code",
   "execution_count": 15,
   "metadata": {
    "collapsed": true
   },
   "outputs": [],
   "source": [
    "def integrand(theta, x):\n",
    "    return -(np.sin(2*theta) + np.sqrt((np.sin(theta))**2 + x*(np.sin(theta))**4))"
   ]
  },
  {
   "cell_type": "code",
   "execution_count": 16,
   "metadata": {
    "collapsed": true
   },
   "outputs": [],
   "source": [
    "def integrand2(theta):\n",
    "    return np.pi*(2*np.sin(theta) - np.sin(2*theta))"
   ]
  },
  {
   "cell_type": "code",
   "execution_count": 17,
   "metadata": {
    "collapsed": true
   },
   "outputs": [],
   "source": [
    "def integrand3(x, theta):\n",
    "    return np.pi*(16*x*(np.tan(theta/2))**4)/((np.tan(theta/2))**2 + x**2)**3"
   ]
  },
  {
   "cell_type": "code",
   "execution_count": 18,
   "metadata": {
    "collapsed": true
   },
   "outputs": [],
   "source": [
    "def F(f,x):\n",
    "    I, e = quad(integrand, f, 0, args=(x,))\n",
    "    return I"
   ]
  },
  {
   "cell_type": "code",
   "execution_count": 19,
   "metadata": {
    "collapsed": true
   },
   "outputs": [],
   "source": [
    "def F2(f):\n",
    "    I, e = quad(integrand2, 0, f)\n",
    "    return I"
   ]
  },
  {
   "cell_type": "code",
   "execution_count": 20,
   "metadata": {
    "collapsed": true
   },
   "outputs": [],
   "source": [
    "def F3(f,theta):\n",
    "    I, e = quad(integrand3, f, 100, args=(theta,))\n",
    "    return I"
   ]
  },
  {
   "cell_type": "code",
   "execution_count": 21,
   "metadata": {
    "collapsed": false
   },
   "outputs": [
    {
     "data": {
      "text/plain": [
       "(0.0008555523841196819, 0.0012482845558749883, 0.6853824955961105)"
      ]
     },
     "execution_count": 21,
     "metadata": {},
     "output_type": "execute_result"
    }
   ],
   "source": [
    "th = .2\n",
    "F3(1.1, th), F3(1, th), (F3(1, th)/F3(1.1, th))**-1"
   ]
  },
  {
   "cell_type": "code",
   "execution_count": 22,
   "metadata": {
    "collapsed": true
   },
   "outputs": [],
   "source": [
    "bleh = []\n",
    "for i in theta_m:\n",
    "    bleh.append(F2(i))"
   ]
  },
  {
   "cell_type": "code",
   "execution_count": 23,
   "metadata": {
    "collapsed": false
   },
   "outputs": [
    {
     "data": {
      "text/plain": [
       "0.05940292515731582"
      ]
     },
     "execution_count": 23,
     "metadata": {},
     "output_type": "execute_result"
    }
   ],
   "source": [
    "F(0.2,0)"
   ]
  },
  {
   "cell_type": "code",
   "execution_count": 24,
   "metadata": {
    "collapsed": true
   },
   "outputs": [],
   "source": [
    "p=0\n",
    "l=[]\n",
    "while p < 50:\n",
    "    for i in range(len(epsilon)):\n",
    "        l.append(F(theta_m[p],epsilon[i]))\n",
    "    p+=1"
   ]
  },
  {
   "cell_type": "code",
   "execution_count": 25,
   "metadata": {
    "collapsed": false
   },
   "outputs": [
    {
     "data": {
      "image/png": "[encoded data removed]",
      "text/plain": [
       "<matplotlib.figure.Figure at 0x7f738bd1ce48>"
      ]
     },
     "metadata": {},
     "output_type": "display_data"
    }
   ],
   "source": [
    "plt.figure(figsize=(13,6))\n",
    "#plt.plot(theta_m,l[0::4],label='epsilon = -1')\n",
    "plt.plot(theta_m,l[1::4],label='epsilon = 0')\n",
    "#plt.plot(theta_m,l[2::4],label='epsilon = 1')\n",
    "p#lt.plot(theta_m,l[3::4],label='epsilon = 2')\n",
    "plt.xlabel('$\\\\theta_s$', fontsize=17)\n",
    "plt.ylabel('$F(\\\\theta_s$) (energy)', fontsize=17)\n",
    "plt.title('$F(\\\\theta_s)$ vs. $\\\\theta_s$', fontsize=18)\n",
    "plt.tick_params(axis='x', labelsize='large')\n",
    "plt.tick_params(axis='y', labelsize='large')\n",
    "plt.xlim(0,0.25)\n",
    "plt.ylim(0,0.1)\n",
    "plt.legend(loc='best', fontsize='large');"
   ]
  },
  {
   "cell_type": "code",
   "execution_count": 26,
   "metadata": {
    "collapsed": false
   },
   "outputs": [],
   "source": [
    "def F_exact1(theta):\n",
    "    return np.pi*((3/2) + (1/2)*np.cos(2*theta) - 2*np.cos(theta))\n",
    "def F_exact2(theta):\n",
    "    return np.pi*(theta**4)/4"
   ]
  },
  {
   "cell_type": "code",
   "execution_count": 27,
   "metadata": {
    "collapsed": true
   },
   "outputs": [],
   "source": [
    "def theta_r(theta, x):\n",
    "    return (2*(theta/(2*x)))/(1+(theta/(2*x**2)))"
   ]
  },
  {
   "cell_type": "code",
   "execution_count": 28,
   "metadata": {
    "collapsed": false
   },
   "outputs": [
    {
     "data": {
      "text/plain": [
       "array([ 0.        ,  0.08540325,  0.11414178,  0.12879233,  0.13770363,\n",
       "        0.14370238,  0.14801798,  0.15127245,  0.15381466,  0.15585555])"
      ]
     },
     "execution_count": 28,
     "metadata": {},
     "output_type": "execute_result"
    }
   ],
   "source": [
    "theta_r(theta_s, np.linspace(1,10,10))"
   ]
  }
 ],
 "metadata": {
  "kernelspec": {
   "display_name": "Python 3",
   "language": "python",
   "name": "python3"
  },
  "language_info": {
   "codemirror_mode": {
    "name": "ipython",
    "version": 3
   },
   "file_extension": ".py",
   "mimetype": "text/x-python",
   "name": "python",
   "nbconvert_exporter": "python",
   "pygments_lexer": "ipython3",
   "version": "3.4.0"
  }
 },
 "nbformat": 4,
 "nbformat_minor": 0
}
