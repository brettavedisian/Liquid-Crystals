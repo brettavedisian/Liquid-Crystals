{
 "cells": [
  {
   "cell_type": "code",
   "execution_count": 1,
   "metadata": {
    "collapsed": false
   },
   "outputs": [],
   "source": [
    "%matplotlib notebook\n",
    "from sympy import *\n",
    "from sympy import besselk, besselj\n",
    "from sympy.utilities.lambdify import lambdify\n",
    "from sympy.utilities.autowrap import ufuncify\n",
    "from sympy.utilities.lambdify import implemented_function\n",
    "from sympy.physics.hydrogen import R_nl\n",
    "import numpy as np\n",
    "from scipy.special import kn, jv, kv, iv, yv\n",
    "from scipy.integrate import quad\n",
    "import matplotlib.pyplot as plt\n",
    "from scipy import misc\n",
    "init_printing(use_unicode=True)"
   ]
  },
  {
   "cell_type": "code",
   "execution_count": 2,
   "metadata": {
    "collapsed": false
   },
   "outputs": [],
   "source": [
    "x, y, r, R, E, K, phi, theta_s, a, R_L, R_R, d, p, v = symbols('x y r R E K phi theta_s a R_L R_R d p v')"
   ]
  },
  {
   "cell_type": "markdown",
   "metadata": {},
   "source": [
    "##Single Cylinder"
   ]
  },
  {
   "cell_type": "code",
   "execution_count": 4,
   "metadata": {
    "collapsed": true
   },
   "outputs": [],
   "source": [
    "def Nx(x,y,theta_s):\n",
    "    return -2*y*tan(theta_s/2)/(x**2 + y**2 + tan(theta_s/2)**2)\n",
    "\n",
    "def Ny(x,y,theta_s):\n",
    "    return 2*x*tan(theta_s/2)/(x**2 + y**2 + tan(theta_s/2)**2)"
   ]
  },
  {
   "cell_type": "code",
   "execution_count": 5,
   "metadata": {
    "collapsed": false
   },
   "outputs": [
    {
     "data": {
      "image/png": "[encoded data removed]",
      "text/latex": [
       "$$- \\frac{2 y \\tan{\\left (\\frac{\\theta_{s}}{2} \\right )}}{x^{2} + y^{2} + \\tan^{2}{\\left (\\frac{\\theta_{s}}{2} \\right )}}$$"
      ],
      "text/plain": [
       "           ⎛θ_s⎞   \n",
       "   -2⋅y⋅tan⎜───⎟   \n",
       "           ⎝ 2 ⎠   \n",
       "───────────────────\n",
       " 2    2      2⎛θ_s⎞\n",
       "x  + y  + tan ⎜───⎟\n",
       "              ⎝ 2 ⎠"
      ]
     },
     "execution_count": 5,
     "metadata": {},
     "output_type": "execute_result"
    }
   ],
   "source": [
    "Nx(x,y,theta_s)"
   ]
  },
  {
   "cell_type": "code",
   "execution_count": 6,
   "metadata": {
    "collapsed": false
   },
   "outputs": [
    {
     "data": {
      "image/png": "[encoded data removed]",
      "text/latex": [
       "$$\\frac{2 x \\tan{\\left (\\frac{\\theta_{s}}{2} \\right )}}{x^{2} + y^{2} + \\tan^{2}{\\left (\\frac{\\theta_{s}}{2} \\right )}}$$"
      ],
      "text/plain": [
       "           ⎛θ_s⎞   \n",
       "    2⋅x⋅tan⎜───⎟   \n",
       "           ⎝ 2 ⎠   \n",
       "───────────────────\n",
       " 2    2      2⎛θ_s⎞\n",
       "x  + y  + tan ⎜───⎟\n",
       "              ⎝ 2 ⎠"
      ]
     },
     "execution_count": 6,
     "metadata": {},
     "output_type": "execute_result"
    }
   ],
   "source": [
    "Ny(x,y,theta_s)"
   ]
  },
  {
   "cell_type": "code",
   "execution_count": 7,
   "metadata": {
    "collapsed": true
   },
   "outputs": [],
   "source": [
    "DXNX = Nx(x,y,theta_s).diff(x)\n",
    "DYNX = Nx(x,y,theta_s).diff(y)\n",
    "DXNY = Ny(x,y,theta_s).diff(x)\n",
    "DYNY = Ny(x,y,theta_s).diff(y)"
   ]
  },
  {
   "cell_type": "code",
   "execution_count": 8,
   "metadata": {
    "collapsed": false
   },
   "outputs": [
    {
     "data": {
      "image/png": "[encoded data removed]",
      "text/latex": [
       "$$\\frac{4 x y \\tan{\\left (\\frac{\\theta_{s}}{2} \\right )}}{\\left(x^{2} + y^{2} + \\tan^{2}{\\left (\\frac{\\theta_{s}}{2} \\right )}\\right)^{2}}$$"
      ],
      "text/plain": [
       "             ⎛θ_s⎞    \n",
       "    4⋅x⋅y⋅tan⎜───⎟    \n",
       "             ⎝ 2 ⎠    \n",
       "──────────────────────\n",
       "                     2\n",
       "⎛ 2    2      2⎛θ_s⎞⎞ \n",
       "⎜x  + y  + tan ⎜───⎟⎟ \n",
       "⎝              ⎝ 2 ⎠⎠ "
      ]
     },
     "execution_count": 8,
     "metadata": {},
     "output_type": "execute_result"
    }
   ],
   "source": [
    "DXNX"
   ]
  },
  {
   "cell_type": "code",
   "execution_count": 9,
   "metadata": {
    "collapsed": false
   },
   "outputs": [
    {
     "data": {
      "image/png": "[encoded data removed]",
      "text/latex": [
       "$$\\frac{4 y^{2} \\tan{\\left (\\frac{\\theta_{s}}{2} \\right )}}{\\left(x^{2} + y^{2} + \\tan^{2}{\\left (\\frac{\\theta_{s}}{2} \\right )}\\right)^{2}} - \\frac{2 \\tan{\\left (\\frac{\\theta_{s}}{2} \\right )}}{x^{2} + y^{2} + \\tan^{2}{\\left (\\frac{\\theta_{s}}{2} \\right )}}$$"
      ],
      "text/plain": [
       "       2    ⎛θ_s⎞                  ⎛θ_s⎞    \n",
       "    4⋅y ⋅tan⎜───⎟             2⋅tan⎜───⎟    \n",
       "            ⎝ 2 ⎠                  ⎝ 2 ⎠    \n",
       "────────────────────── - ───────────────────\n",
       "                     2    2    2      2⎛θ_s⎞\n",
       "⎛ 2    2      2⎛θ_s⎞⎞    x  + y  + tan ⎜───⎟\n",
       "⎜x  + y  + tan ⎜───⎟⎟                  ⎝ 2 ⎠\n",
       "⎝              ⎝ 2 ⎠⎠                       "
      ]
     },
     "execution_count": 9,
     "metadata": {},
     "output_type": "execute_result"
    }
   ],
   "source": [
    "DYNX"
   ]
  },
  {
   "cell_type": "code",
   "execution_count": 10,
   "metadata": {
    "collapsed": false
   },
   "outputs": [
    {
     "data": {
      "image/png": "[encoded data removed]",
      "text/latex": [
       "$$- \\frac{4 x^{2} \\tan{\\left (\\frac{\\theta_{s}}{2} \\right )}}{\\left(x^{2} + y^{2} + \\tan^{2}{\\left (\\frac{\\theta_{s}}{2} \\right )}\\right)^{2}} + \\frac{2 \\tan{\\left (\\frac{\\theta_{s}}{2} \\right )}}{x^{2} + y^{2} + \\tan^{2}{\\left (\\frac{\\theta_{s}}{2} \\right )}}$$"
      ],
      "text/plain": [
       "         2    ⎛θ_s⎞                  ⎛θ_s⎞    \n",
       "      4⋅x ⋅tan⎜───⎟             2⋅tan⎜───⎟    \n",
       "              ⎝ 2 ⎠                  ⎝ 2 ⎠    \n",
       "- ────────────────────── + ───────────────────\n",
       "                       2    2    2      2⎛θ_s⎞\n",
       "  ⎛ 2    2      2⎛θ_s⎞⎞    x  + y  + tan ⎜───⎟\n",
       "  ⎜x  + y  + tan ⎜───⎟⎟                  ⎝ 2 ⎠\n",
       "  ⎝              ⎝ 2 ⎠⎠                       "
      ]
     },
     "execution_count": 10,
     "metadata": {},
     "output_type": "execute_result"
    }
   ],
   "source": [
    "DXNY"
   ]
  },
  {
   "cell_type": "code",
   "execution_count": 11,
   "metadata": {
    "collapsed": false
   },
   "outputs": [
    {
     "data": {
      "image/png": "[encoded data removed]",
      "text/latex": [
       "$$- \\frac{4 x y \\tan{\\left (\\frac{\\theta_{s}}{2} \\right )}}{\\left(x^{2} + y^{2} + \\tan^{2}{\\left (\\frac{\\theta_{s}}{2} \\right )}\\right)^{2}}$$"
      ],
      "text/plain": [
       "             ⎛θ_s⎞    \n",
       "   -4⋅x⋅y⋅tan⎜───⎟    \n",
       "             ⎝ 2 ⎠    \n",
       "──────────────────────\n",
       "                     2\n",
       "⎛ 2    2      2⎛θ_s⎞⎞ \n",
       "⎜x  + y  + tan ⎜───⎟⎟ \n",
       "⎝              ⎝ 2 ⎠⎠ "
      ]
     },
     "execution_count": 11,
     "metadata": {},
     "output_type": "execute_result"
    }
   ],
   "source": [
    "DYNY"
   ]
  },
  {
   "cell_type": "code",
   "execution_count": 12,
   "metadata": {
    "collapsed": true
   },
   "outputs": [],
   "source": [
    "def single_f(x, y, theta_s, dxnx, dynx, dxny, dyny):\n",
    "    return (dxnx**2 + dynx**2 + dxny**2 + dyny**2 + 2*dxnx*dyny - 2*dxny*dynx)/2"
   ]
  },
  {
   "cell_type": "code",
   "execution_count": 13,
   "metadata": {
    "collapsed": false
   },
   "outputs": [
    {
     "data": {
      "image/png": "[encoded data removed]",
      "text/latex": [
       "$$\\frac{8 \\tan^{6}{\\left (\\frac{\\theta_{s}}{2} \\right )}}{\\left(x^{2} + y^{2} + \\tan^{2}{\\left (\\frac{\\theta_{s}}{2} \\right )}\\right)^{4}}$$"
      ],
      "text/plain": [
       "          6⎛θ_s⎞      \n",
       "     8⋅tan ⎜───⎟      \n",
       "           ⎝ 2 ⎠      \n",
       "──────────────────────\n",
       "                     4\n",
       "⎛ 2    2      2⎛θ_s⎞⎞ \n",
       "⎜x  + y  + tan ⎜───⎟⎟ \n",
       "⎝              ⎝ 2 ⎠⎠ "
      ]
     },
     "execution_count": 13,
     "metadata": {},
     "output_type": "execute_result"
    }
   ],
   "source": [
    "simplify(single_f(x, y, theta_s, DXNX, DYNX, DXNY, DYNY))"
   ]
  },
  {
   "cell_type": "markdown",
   "metadata": {},
   "source": [
    "##Single Cylinder E-Field"
   ]
  },
  {
   "cell_type": "code",
   "execution_count": 3,
   "metadata": {
    "collapsed": false
   },
   "outputs": [],
   "source": [
    "def nx(r, phi, theta_s, R, d):\n",
    "    return (-theta_s*sin(phi)*besselk(1, r/d)/besselk(1, R/d))\n",
    "\n",
    "def nx_cart(r, x, y, theta_s, R, d):\n",
    "    return (-theta_s*y*besselk(1, r/d))/(r*besselk(1, R/d))\n",
    "\n",
    "def ny(r, phi, theta_s, R, d):\n",
    "    return (theta_s*cos(phi)*besselk(1, r/d)/besselk(1, R/d))\n",
    "\n",
    "def ny_cart(r, x, y, theta_s, R, d):\n",
    "    return (theta_s*x*besselk(1, r/d))/(r*besselk(1, R/d))"
   ]
  },
  {
   "cell_type": "code",
   "execution_count": 15,
   "metadata": {
    "collapsed": false
   },
   "outputs": [
    {
     "data": {
      "image/png": "[encoded data removed]",
      "text/latex": [
       "$$- \\frac{\\theta_{s} K_{1}\\left(\\frac{r}{d}\\right)}{K_{1}\\left(\\frac{R}{d}\\right)} \\sin{\\left (\\phi \\right )}$$"
      ],
      "text/plain": [
       "                   ⎛   r⎞ \n",
       "-θ_s⋅sin(φ)⋅besselk⎜1, ─⎟ \n",
       "                   ⎝   d⎠ \n",
       "──────────────────────────\n",
       "             ⎛   R⎞       \n",
       "      besselk⎜1, ─⎟       \n",
       "             ⎝   d⎠       "
      ]
     },
     "execution_count": 15,
     "metadata": {},
     "output_type": "execute_result"
    }
   ],
   "source": [
    "nx(r, phi, theta_s, R, d)"
   ]
  },
  {
   "cell_type": "code",
   "execution_count": 16,
   "metadata": {
    "collapsed": false
   },
   "outputs": [
    {
     "data": {
      "image/png": "[encoded data removed]",
      "text/latex": [
       "$$\\frac{\\theta_{s} K_{1}\\left(\\frac{r}{d}\\right)}{K_{1}\\left(\\frac{R}{d}\\right)} \\cos{\\left (\\phi \\right )}$$"
      ],
      "text/plain": [
       "                  ⎛   r⎞\n",
       "θ_s⋅cos(φ)⋅besselk⎜1, ─⎟\n",
       "                  ⎝   d⎠\n",
       "────────────────────────\n",
       "            ⎛   R⎞      \n",
       "     besselk⎜1, ─⎟      \n",
       "            ⎝   d⎠      "
      ]
     },
     "execution_count": 16,
     "metadata": {},
     "output_type": "execute_result"
    }
   ],
   "source": [
    "ny(r, phi, theta_s, R, d)"
   ]
  },
  {
   "cell_type": "code",
   "execution_count": 17,
   "metadata": {
    "collapsed": false
   },
   "outputs": [],
   "source": [
    "dxnx = cos(phi)*nx(r, phi, theta_s, R, d).diff(r) - (sin(phi)*nx(r, phi, theta_s, R, d).diff(phi))/r\n",
    "dynx = sin(phi)*nx(r, phi, theta_s, R, d).diff(r) + (cos(phi)*nx(r, phi, theta_s, R, d).diff(phi))/r\n",
    "dxny = cos(phi)*ny(r, phi, theta_s, R, d).diff(r) - (sin(phi)*ny(r, phi, theta_s, R, d).diff(phi))/r\n",
    "dyny = sin(phi)*ny(r, phi, theta_s, R, d).diff(r) + (cos(phi)*ny(r, phi, theta_s, R, d).diff(phi))/r"
   ]
  },
  {
   "cell_type": "code",
   "execution_count": 18,
   "metadata": {
    "collapsed": false
   },
   "outputs": [],
   "source": [
    "#dxnx"
   ]
  },
  {
   "cell_type": "code",
   "execution_count": 19,
   "metadata": {
    "collapsed": false
   },
   "outputs": [
    {
     "data": {
      "image/png": "[encoded data removed]",
      "text/latex": [
       "$$\\frac{\\theta_{s} \\sin{\\left (2 \\phi \\right )}}{2 d r K_{1}\\left(\\frac{R}{d}\\right)} \\left(2 d K_{1}\\left(\\frac{r}{d}\\right) + r K_{0}\\left(\\frac{r}{d}\\right)\\right)$$"
      ],
      "text/plain": [
       "    ⎛           ⎛   r⎞            ⎛   r⎞⎞         \n",
       "θ_s⋅⎜2⋅d⋅besselk⎜1, ─⎟ + r⋅besselk⎜0, ─⎟⎟⋅sin(2⋅φ)\n",
       "    ⎝           ⎝   d⎠            ⎝   d⎠⎠         \n",
       "──────────────────────────────────────────────────\n",
       "                            ⎛   R⎞                \n",
       "               2⋅d⋅r⋅besselk⎜1, ─⎟                \n",
       "                            ⎝   d⎠                "
      ]
     },
     "execution_count": 19,
     "metadata": {},
     "output_type": "execute_result"
    }
   ],
   "source": [
    "simplify(dxnx)"
   ]
  },
  {
   "cell_type": "code",
   "execution_count": 20,
   "metadata": {
    "collapsed": false
   },
   "outputs": [],
   "source": [
    "#dynx"
   ]
  },
  {
   "cell_type": "code",
   "execution_count": 21,
   "metadata": {
    "collapsed": false
   },
   "outputs": [
    {
     "data": {
      "image/png": "[encoded data removed]",
      "text/latex": [
       "$$\\frac{\\theta_{s}}{d r K_{1}\\left(\\frac{R}{d}\\right)} \\left(2 d \\sin^{2}{\\left (\\phi \\right )} K_{1}\\left(\\frac{r}{d}\\right) - d K_{1}\\left(\\frac{r}{d}\\right) + r \\sin^{2}{\\left (\\phi \\right )} K_{0}\\left(\\frac{r}{d}\\right)\\right)$$"
      ],
      "text/plain": [
       "    ⎛       2           ⎛   r⎞            ⎛   r⎞        2           ⎛   r⎞⎞\n",
       "θ_s⋅⎜2⋅d⋅sin (φ)⋅besselk⎜1, ─⎟ - d⋅besselk⎜1, ─⎟ + r⋅sin (φ)⋅besselk⎜0, ─⎟⎟\n",
       "    ⎝                   ⎝   d⎠            ⎝   d⎠                    ⎝   d⎠⎠\n",
       "───────────────────────────────────────────────────────────────────────────\n",
       "                                        ⎛   R⎞                             \n",
       "                             d⋅r⋅besselk⎜1, ─⎟                             \n",
       "                                        ⎝   d⎠                             "
      ]
     },
     "execution_count": 21,
     "metadata": {},
     "output_type": "execute_result"
    }
   ],
   "source": [
    "simplify(dynx)"
   ]
  },
  {
   "cell_type": "code",
   "execution_count": 22,
   "metadata": {
    "collapsed": false
   },
   "outputs": [],
   "source": [
    "#dxny"
   ]
  },
  {
   "cell_type": "code",
   "execution_count": 23,
   "metadata": {
    "collapsed": false
   },
   "outputs": [
    {
     "data": {
      "image/png": "[encoded data removed]",
      "text/latex": [
       "$$- \\frac{\\theta_{s}}{d r K_{1}\\left(\\frac{R}{d}\\right)} \\left(2 d \\cos^{2}{\\left (\\phi \\right )} K_{1}\\left(\\frac{r}{d}\\right) - d K_{1}\\left(\\frac{r}{d}\\right) + r \\cos^{2}{\\left (\\phi \\right )} K_{0}\\left(\\frac{r}{d}\\right)\\right)$$"
      ],
      "text/plain": [
       "     ⎛       2           ⎛   r⎞            ⎛   r⎞        2           ⎛   r⎞⎞ \n",
       "-θ_s⋅⎜2⋅d⋅cos (φ)⋅besselk⎜1, ─⎟ - d⋅besselk⎜1, ─⎟ + r⋅cos (φ)⋅besselk⎜0, ─⎟⎟ \n",
       "     ⎝                   ⎝   d⎠            ⎝   d⎠                    ⎝   d⎠⎠ \n",
       "─────────────────────────────────────────────────────────────────────────────\n",
       "                                         ⎛   R⎞                              \n",
       "                              d⋅r⋅besselk⎜1, ─⎟                              \n",
       "                                         ⎝   d⎠                              "
      ]
     },
     "execution_count": 23,
     "metadata": {},
     "output_type": "execute_result"
    }
   ],
   "source": [
    "simplify(dxny)"
   ]
  },
  {
   "cell_type": "code",
   "execution_count": 24,
   "metadata": {
    "collapsed": false
   },
   "outputs": [],
   "source": [
    "#dyny"
   ]
  },
  {
   "cell_type": "code",
   "execution_count": 25,
   "metadata": {
    "collapsed": false
   },
   "outputs": [
    {
     "data": {
      "image/png": "[encoded data removed]",
      "text/latex": [
       "$$- \\frac{\\theta_{s} \\sin{\\left (2 \\phi \\right )}}{2 d r K_{1}\\left(\\frac{R}{d}\\right)} \\left(2 d K_{1}\\left(\\frac{r}{d}\\right) + r K_{0}\\left(\\frac{r}{d}\\right)\\right)$$"
      ],
      "text/plain": [
       "     ⎛           ⎛   r⎞            ⎛   r⎞⎞          \n",
       "-θ_s⋅⎜2⋅d⋅besselk⎜1, ─⎟ + r⋅besselk⎜0, ─⎟⎟⋅sin(2⋅φ) \n",
       "     ⎝           ⎝   d⎠            ⎝   d⎠⎠          \n",
       "────────────────────────────────────────────────────\n",
       "                             ⎛   R⎞                 \n",
       "                2⋅d⋅r⋅besselk⎜1, ─⎟                 \n",
       "                             ⎝   d⎠                 "
      ]
     },
     "execution_count": 25,
     "metadata": {},
     "output_type": "execute_result"
    }
   ],
   "source": [
    "simplify(dyny)"
   ]
  },
  {
   "cell_type": "code",
   "execution_count": 26,
   "metadata": {
    "collapsed": false
   },
   "outputs": [],
   "source": [
    "def f(r, phi, theta_s, R, d, dxnx, dynx, dxny, dyny):\n",
    "    return (d**2/2)*(dxnx**2 + dynx**2 + dxny**2 + dyny**2 + 2*dxnx*dyny - 2*dxny*dynx) + (nx(r, phi, theta_s, R, d)**2 + ny(r, phi, theta_s, R, d)**2)/2"
   ]
  },
  {
   "cell_type": "code",
   "execution_count": 27,
   "metadata": {
    "collapsed": false
   },
   "outputs": [
    {
     "data": {
      "image/png": "[encoded data removed]",
      "text/latex": [
       "$$\\frac{\\theta_{s}^{2} \\left(K^{2}_{0}\\left(\\frac{r}{d}\\right) + K^{2}_{1}\\left(\\frac{r}{d}\\right)\\right)}{2 K^{2}_{1}\\left(\\frac{R}{d}\\right)}$$"
      ],
      "text/plain": [
       "   2 ⎛       2⎛   r⎞          2⎛   r⎞⎞\n",
       "θ_s ⋅⎜besselk ⎜0, ─⎟ + besselk ⎜1, ─⎟⎟\n",
       "     ⎝        ⎝   d⎠           ⎝   d⎠⎠\n",
       "──────────────────────────────────────\n",
       "                    2⎛   R⎞           \n",
       "           2⋅besselk ⎜1, ─⎟           \n",
       "                     ⎝   d⎠           "
      ]
     },
     "execution_count": 27,
     "metadata": {},
     "output_type": "execute_result"
    }
   ],
   "source": [
    "simplify(f(r, phi, theta_s, R, d, dxnx, dynx, dxny, dyny))"
   ]
  },
  {
   "cell_type": "code",
   "execution_count": 28,
   "metadata": {
    "collapsed": true
   },
   "outputs": [],
   "source": [
    "def simple_f(r, theta_s, d, R):\n",
    "    return (theta_s**2*(k0(r/d)**2 + k1(r/d)**2))/(2*k1(R/d)**2)"
   ]
  },
  {
   "cell_type": "markdown",
   "metadata": {},
   "source": [
    "##Two Cylinders E-Field"
   ]
  },
  {
   "cell_type": "code",
   "execution_count": 4,
   "metadata": {
    "collapsed": true
   },
   "outputs": [],
   "source": [
    "a = 2.1*0.1\n",
    "d = 1\n",
    "R_L = 0.1\n",
    "R_R = 0.1\n",
    "theta_s = 0.2"
   ]
  },
  {
   "cell_type": "code",
   "execution_count": 5,
   "metadata": {
    "collapsed": false
   },
   "outputs": [],
   "source": [
    "nx_L = nx_cart(sqrt((x+a)**2 + y**2), x, y, theta_s, R_L, d)\n",
    "ny_L = ny_cart(sqrt((x+a)**2 + y**2), x+a, y, theta_s, R_L, d)\n",
    "nx_R = nx_cart(sqrt((x-a)**2 + y**2), x, y, theta_s, R_R, d)\n",
    "ny_R = ny_cart(sqrt((x-a)**2 + y**2), x-a, y, theta_s, R_R, d)"
   ]
  },
  {
   "cell_type": "code",
   "execution_count": 6,
   "metadata": {
    "collapsed": false
   },
   "outputs": [],
   "source": [
    "#nx_L, nx_R"
   ]
  },
  {
   "cell_type": "code",
   "execution_count": 7,
   "metadata": {
    "collapsed": false
   },
   "outputs": [],
   "source": [
    "#ny_L, ny_R"
   ]
  },
  {
   "cell_type": "code",
   "execution_count": 8,
   "metadata": {
    "collapsed": true
   },
   "outputs": [],
   "source": [
    "nx_tot = nx_L + nx_R\n",
    "ny_tot = ny_L + ny_R"
   ]
  },
  {
   "cell_type": "code",
   "execution_count": 26,
   "metadata": {
    "collapsed": true
   },
   "outputs": [
    {
     "data": {
      "application/javascript": [
       "/* Put everything inside the global mpl namespace */\n",
       "window.mpl = {};\n",
       "\n",
       "mpl.get_websocket_type = function() {\n",
       "    if (typeof(WebSocket) !== 'undefined') {\n",
       "        return WebSocket;\n",
       "    } else if (typeof(MozWebSocket) !== 'undefined') {\n",
       "        return MozWebSocket;\n",
       "    } else {\n",
       "        alert('Your browser does not have WebSocket support.' +\n",
       "              'Please try Chrome, Safari or Firefox ≥ 6. ' +\n",
       "              'Firefox 4 and 5 are also supported but you ' +\n",
       "              'have to enable WebSockets in about:config.');\n",
       "    };\n",
       "}\n",
       "\n",
       "mpl.figure = function(figure_id, websocket, ondownload, parent_element) {\n",
       "    this.id = figure_id;\n",
       "\n",
       "    this.ws = websocket;\n",
       "\n",
       "    this.supports_binary = (this.ws.binaryType != undefined);\n",
       "\n",
       "    if (!this.supports_binary) {\n",
       "        var warnings = document.getElementById(\"mpl-warnings\");\n",
       "        if (warnings) {\n",
       "            warnings.style.display = 'block';\n",
       "            warnings.textContent = (\n",
       "                \"This browser does not support binary websocket messages. \" +\n",
       "                    \"Performance may be slow.\");\n",
       "        }\n",
       "    }\n",
       "\n",
       "    this.imageObj = new Image();\n",
       "\n",
       "    this.context = undefined;\n",
       "    this.message = undefined;\n",
       "    this.canvas = undefined;\n",
       "    this.rubberband_canvas = undefined;\n",
       "    this.rubberband_context = undefined;\n",
       "    this.format_dropdown = undefined;\n",
       "\n",
       "    this.image_mode = 'full';\n",
       "\n",
       "    this.root = $('<div/>');\n",
       "    this._root_extra_style(this.root)\n",
       "    this.root.attr('style', 'display: inline-block');\n",
       "\n",
       "    $(parent_element).append(this.root);\n",
       "\n",
       "    this._init_header(this);\n",
       "    this._init_canvas(this);\n",
       "    this._init_toolbar(this);\n",
       "\n",
       "    var fig = this;\n",
       "\n",
       "    this.waiting = false;\n",
       "\n",
       "    this.ws.onopen =  function () {\n",
       "            fig.send_message(\"supports_binary\", {value: fig.supports_binary});\n",
       "            fig.send_message(\"send_image_mode\", {});\n",
       "            fig.send_message(\"refresh\", {});\n",
       "        }\n",
       "\n",
       "    this.imageObj.onload = function() {\n",
       "            if (fig.image_mode == 'full') {\n",
       "                // Full images could contain transparency (where diff images\n",
       "                // almost always do), so we need to clear the canvas so that\n",
       "                // there is no ghosting.\n",
       "                fig.context.clearRect(0, 0, fig.canvas.width, fig.canvas.height);\n",
       "            }\n",
       "            fig.context.drawImage(fig.imageObj, 0, 0);\n",
       "            fig.waiting = false;\n",
       "        };\n",
       "\n",
       "    this.imageObj.onunload = function() {\n",
       "        this.ws.close();\n",
       "    }\n",
       "\n",
       "    this.ws.onmessage = this._make_on_message_function(this);\n",
       "\n",
       "    this.ondownload = ondownload;\n",
       "}\n",
       "\n",
       "mpl.figure.prototype._init_header = function() {\n",
       "    var titlebar = $(\n",
       "        '<div class=\"ui-dialog-titlebar ui-widget-header ui-corner-all ' +\n",
       "        'ui-helper-clearfix\"/>');\n",
       "    var titletext = $(\n",
       "        '<div class=\"ui-dialog-title\" style=\"width: 100%; ' +\n",
       "        'text-align: center; padding: 3px;\"/>');\n",
       "    titlebar.append(titletext)\n",
       "    this.root.append(titlebar);\n",
       "    this.header = titletext[0];\n",
       "}\n",
       "\n",
       "\n",
       "\n",
       "mpl.figure.prototype._canvas_extra_style = function(canvas_div) {\n",
       "\n",
       "}\n",
       "\n",
       "\n",
       "mpl.figure.prototype._root_extra_style = function(canvas_div) {\n",
       "\n",
       "}\n",
       "\n",
       "mpl.figure.prototype._init_canvas = function() {\n",
       "    var fig = this;\n",
       "\n",
       "    var canvas_div = $('<div/>');\n",
       "\n",
       "    canvas_div.attr('style', 'position: relative; clear: both; outline: 0');\n",
       "\n",
       "    function canvas_keyboard_event(event) {\n",
       "        return fig.key_event(event, event['data']);\n",
       "    }\n",
       "\n",
       "    canvas_div.keydown('key_press', canvas_keyboard_event);\n",
       "    canvas_div.keyup('key_release', canvas_keyboard_event);\n",
       "    this.canvas_div = canvas_div\n",
       "    this._canvas_extra_style(canvas_div)\n",
       "    this.root.append(canvas_div);\n",
       "\n",
       "    var canvas = $('<canvas/>');\n",
       "    canvas.addClass('mpl-canvas');\n",
       "    canvas.attr('style', \"left: 0; top: 0; z-index: 0; outline: 0\")\n",
       "\n",
       "    this.canvas = canvas[0];\n",
       "    this.context = canvas[0].getContext(\"2d\");\n",
       "\n",
       "    var rubberband = $('<canvas/>');\n",
       "    rubberband.attr('style', \"position: absolute; left: 0; top: 0; z-index: 1;\")\n",
       "\n",
       "    var pass_mouse_events = true;\n",
       "\n",
       "    canvas_div.resizable({\n",
       "        start: function(event, ui) {\n",
       "            pass_mouse_events = false;\n",
       "        },\n",
       "        resize: function(event, ui) {\n",
       "            fig.request_resize(ui.size.width, ui.size.height);\n",
       "        },\n",
       "        stop: function(event, ui) {\n",
       "            pass_mouse_events = true;\n",
       "            fig.request_resize(ui.size.width, ui.size.height);\n",
       "        },\n",
       "    });\n",
       "\n",
       "    function mouse_event_fn(event) {\n",
       "        if (pass_mouse_events)\n",
       "            return fig.mouse_event(event, event['data']);\n",
       "    }\n",
       "\n",
       "    rubberband.mousedown('button_press', mouse_event_fn);\n",
       "    rubberband.mouseup('button_release', mouse_event_fn);\n",
       "    // Throttle sequential mouse events to 1 every 20ms.\n",
       "    rubberband.mousemove('motion_notify', mouse_event_fn);\n",
       "\n",
       "    rubberband.mouseenter('figure_enter', mouse_event_fn);\n",
       "    rubberband.mouseleave('figure_leave', mouse_event_fn);\n",
       "\n",
       "    canvas_div.on(\"wheel\", function (event) {\n",
       "        event = event.originalEvent;\n",
       "        event['data'] = 'scroll'\n",
       "        if (event.deltaY < 0) {\n",
       "            event.step = 1;\n",
       "        } else {\n",
       "            event.step = -1;\n",
       "        }\n",
       "        mouse_event_fn(event);\n",
       "    });\n",
       "\n",
       "    canvas_div.append(canvas);\n",
       "    canvas_div.append(rubberband);\n",
       "\n",
       "    this.rubberband = rubberband;\n",
       "    this.rubberband_canvas = rubberband[0];\n",
       "    this.rubberband_context = rubberband[0].getContext(\"2d\");\n",
       "    this.rubberband_context.strokeStyle = \"#000000\";\n",
       "\n",
       "    this._resize_canvas = function(width, height) {\n",
       "        // Keep the size of the canvas, canvas container, and rubber band\n",
       "        // canvas in synch.\n",
       "        canvas_div.css('width', width)\n",
       "        canvas_div.css('height', height)\n",
       "\n",
       "        canvas.attr('width', width);\n",
       "        canvas.attr('height', height);\n",
       "\n",
       "        rubberband.attr('width', width);\n",
       "        rubberband.attr('height', height);\n",
       "    }\n",
       "\n",
       "    // Set the figure to an initial 600x600px, this will subsequently be updated\n",
       "    // upon first draw.\n",
       "    this._resize_canvas(600, 600);\n",
       "\n",
       "    // Disable right mouse context menu.\n",
       "    $(this.rubberband_canvas).bind(\"contextmenu\",function(e){\n",
       "        return false;\n",
       "    });\n",
       "\n",
       "    function set_focus () {\n",
       "        canvas.focus();\n",
       "        canvas_div.focus();\n",
       "    }\n",
       "\n",
       "    window.setTimeout(set_focus, 100);\n",
       "}\n",
       "\n",
       "mpl.figure.prototype._init_toolbar = function() {\n",
       "    var fig = this;\n",
       "\n",
       "    var nav_element = $('<div/>')\n",
       "    nav_element.attr('style', 'width: 100%');\n",
       "    this.root.append(nav_element);\n",
       "\n",
       "    // Define a callback function for later on.\n",
       "    function toolbar_event(event) {\n",
       "        return fig.toolbar_button_onclick(event['data']);\n",
       "    }\n",
       "    function toolbar_mouse_event(event) {\n",
       "        return fig.toolbar_button_onmouseover(event['data']);\n",
       "    }\n",
       "\n",
       "    for(var toolbar_ind in mpl.toolbar_items) {\n",
       "        var name = mpl.toolbar_items[toolbar_ind][0];\n",
       "        var tooltip = mpl.toolbar_items[toolbar_ind][1];\n",
       "        var image = mpl.toolbar_items[toolbar_ind][2];\n",
       "        var method_name = mpl.toolbar_items[toolbar_ind][3];\n",
       "\n",
       "        if (!name) {\n",
       "            // put a spacer in here.\n",
       "            continue;\n",
       "        }\n",
       "        var button = $('<button/>');\n",
       "        button.addClass('ui-button ui-widget ui-state-default ui-corner-all ' +\n",
       "                        'ui-button-icon-only');\n",
       "        button.attr('role', 'button');\n",
       "        button.attr('aria-disabled', 'false');\n",
       "        button.click(method_name, toolbar_event);\n",
       "        button.mouseover(tooltip, toolbar_mouse_event);\n",
       "\n",
       "        var icon_img = $('<span/>');\n",
       "        icon_img.addClass('ui-button-icon-primary ui-icon');\n",
       "        icon_img.addClass(image);\n",
       "        icon_img.addClass('ui-corner-all');\n",
       "\n",
       "        var tooltip_span = $('<span/>');\n",
       "        tooltip_span.addClass('ui-button-text');\n",
       "        tooltip_span.html(tooltip);\n",
       "\n",
       "        button.append(icon_img);\n",
       "        button.append(tooltip_span);\n",
       "\n",
       "        nav_element.append(button);\n",
       "    }\n",
       "\n",
       "    var fmt_picker_span = $('<span/>');\n",
       "\n",
       "    var fmt_picker = $('<select/>');\n",
       "    fmt_picker.addClass('mpl-toolbar-option ui-widget ui-widget-content');\n",
       "    fmt_picker_span.append(fmt_picker);\n",
       "    nav_element.append(fmt_picker_span);\n",
       "    this.format_dropdown = fmt_picker[0];\n",
       "\n",
       "    for (var ind in mpl.extensions) {\n",
       "        var fmt = mpl.extensions[ind];\n",
       "        var option = $(\n",
       "            '<option/>', {selected: fmt === mpl.default_extension}).html(fmt);\n",
       "        fmt_picker.append(option)\n",
       "    }\n",
       "\n",
       "    // Add hover states to the ui-buttons\n",
       "    $( \".ui-button\" ).hover(\n",
       "        function() { $(this).addClass(\"ui-state-hover\");},\n",
       "        function() { $(this).removeClass(\"ui-state-hover\");}\n",
       "    );\n",
       "\n",
       "    var status_bar = $('<span class=\"mpl-message\"/>');\n",
       "    nav_element.append(status_bar);\n",
       "    this.message = status_bar[0];\n",
       "}\n",
       "\n",
       "mpl.figure.prototype.request_resize = function(x_pixels, y_pixels) {\n",
       "    // Request matplotlib to resize the figure. Matplotlib will then trigger a resize in the client,\n",
       "    // which will in turn request a refresh of the image.\n",
       "    this.send_message('resize', {'width': x_pixels, 'height': y_pixels});\n",
       "}\n",
       "\n",
       "mpl.figure.prototype.send_message = function(type, properties) {\n",
       "    properties['type'] = type;\n",
       "    properties['figure_id'] = this.id;\n",
       "    this.ws.send(JSON.stringify(properties));\n",
       "}\n",
       "\n",
       "mpl.figure.prototype.send_draw_message = function() {\n",
       "    if (!this.waiting) {\n",
       "        this.waiting = true;\n",
       "        this.ws.send(JSON.stringify({type: \"draw\", figure_id: this.id}));\n",
       "    }\n",
       "}\n",
       "\n",
       "\n",
       "mpl.figure.prototype.handle_save = function(fig, msg) {\n",
       "    var format_dropdown = fig.format_dropdown;\n",
       "    var format = format_dropdown.options[format_dropdown.selectedIndex].value;\n",
       "    fig.ondownload(fig, format);\n",
       "}\n",
       "\n",
       "\n",
       "mpl.figure.prototype.handle_resize = function(fig, msg) {\n",
       "    var size = msg['size'];\n",
       "    if (size[0] != fig.canvas.width || size[1] != fig.canvas.height) {\n",
       "        fig._resize_canvas(size[0], size[1]);\n",
       "        fig.send_message(\"refresh\", {});\n",
       "    };\n",
       "}\n",
       "\n",
       "mpl.figure.prototype.handle_rubberband = function(fig, msg) {\n",
       "    var x0 = msg['x0'];\n",
       "    var y0 = fig.canvas.height - msg['y0'];\n",
       "    var x1 = msg['x1'];\n",
       "    var y1 = fig.canvas.height - msg['y1'];\n",
       "    x0 = Math.floor(x0) + 0.5;\n",
       "    y0 = Math.floor(y0) + 0.5;\n",
       "    x1 = Math.floor(x1) + 0.5;\n",
       "    y1 = Math.floor(y1) + 0.5;\n",
       "    var min_x = Math.min(x0, x1);\n",
       "    var min_y = Math.min(y0, y1);\n",
       "    var width = Math.abs(x1 - x0);\n",
       "    var height = Math.abs(y1 - y0);\n",
       "\n",
       "    fig.rubberband_context.clearRect(\n",
       "        0, 0, fig.canvas.width, fig.canvas.height);\n",
       "\n",
       "    fig.rubberband_context.strokeRect(min_x, min_y, width, height);\n",
       "}\n",
       "\n",
       "mpl.figure.prototype.handle_figure_label = function(fig, msg) {\n",
       "    // Updates the figure title.\n",
       "    fig.header.textContent = msg['label'];\n",
       "}\n",
       "\n",
       "mpl.figure.prototype.handle_cursor = function(fig, msg) {\n",
       "    var cursor = msg['cursor'];\n",
       "    switch(cursor)\n",
       "    {\n",
       "    case 0:\n",
       "        cursor = 'pointer';\n",
       "        break;\n",
       "    case 1:\n",
       "        cursor = 'default';\n",
       "        break;\n",
       "    case 2:\n",
       "        cursor = 'crosshair';\n",
       "        break;\n",
       "    case 3:\n",
       "        cursor = 'move';\n",
       "        break;\n",
       "    }\n",
       "    fig.rubberband_canvas.style.cursor = cursor;\n",
       "}\n",
       "\n",
       "mpl.figure.prototype.handle_message = function(fig, msg) {\n",
       "    fig.message.textContent = msg['message'];\n",
       "}\n",
       "\n",
       "mpl.figure.prototype.handle_draw = function(fig, msg) {\n",
       "    // Request the server to send over a new figure.\n",
       "    fig.send_draw_message();\n",
       "}\n",
       "\n",
       "mpl.figure.prototype.handle_image_mode = function(fig, msg) {\n",
       "    fig.image_mode = msg['mode'];\n",
       "}\n",
       "\n",
       "mpl.figure.prototype.updated_canvas_event = function() {\n",
       "    // Called whenever the canvas gets updated.\n",
       "    this.send_message(\"ack\", {});\n",
       "}\n",
       "\n",
       "// A function to construct a web socket function for onmessage handling.\n",
       "// Called in the figure constructor.\n",
       "mpl.figure.prototype._make_on_message_function = function(fig) {\n",
       "    return function socket_on_message(evt) {\n",
       "        if (evt.data instanceof Blob) {\n",
       "            /* FIXME: We get \"Resource interpreted as Image but\n",
       "             * transferred with MIME type text/plain:\" errors on\n",
       "             * Chrome.  But how to set the MIME type?  It doesn't seem\n",
       "             * to be part of the websocket stream */\n",
       "            evt.data.type = \"image/png\";\n",
       "\n",
       "            /* Free the memory for the previous frames */\n",
       "            if (fig.imageObj.src) {\n",
       "                (window.URL || window.webkitURL).revokeObjectURL(\n",
       "                    fig.imageObj.src);\n",
       "            }\n",
       "\n",
       "            fig.imageObj.src = (window.URL || window.webkitURL).createObjectURL(\n",
       "                evt.data);\n",
       "            fig.updated_canvas_event();\n",
       "            return;\n",
       "        }\n",
       "        else if (typeof evt.data === 'string' && evt.data.slice(0, 21) == \"data:image/png;base64\") {\n",
       "            fig.imageObj.src = evt.data;\n",
       "            fig.updated_canvas_event();\n",
       "            return;\n",
       "        }\n",
       "\n",
       "        var msg = JSON.parse(evt.data);\n",
       "        var msg_type = msg['type'];\n",
       "\n",
       "        // Call the  \"handle_{type}\" callback, which takes\n",
       "        // the figure and JSON message as its only arguments.\n",
       "        try {\n",
       "            var callback = fig[\"handle_\" + msg_type];\n",
       "        } catch (e) {\n",
       "            console.log(\"No handler for the '\" + msg_type + \"' message type: \", msg);\n",
       "            return;\n",
       "        }\n",
       "\n",
       "        if (callback) {\n",
       "            try {\n",
       "                // console.log(\"Handling '\" + msg_type + \"' message: \", msg);\n",
       "                callback(fig, msg);\n",
       "            } catch (e) {\n",
       "                console.log(\"Exception inside the 'handler_\" + msg_type + \"' callback:\", e, e.stack, msg);\n",
       "            }\n",
       "        }\n",
       "    };\n",
       "}\n",
       "\n",
       "// from http://stackoverflow.com/questions/1114465/getting-mouse-location-in-canvas\n",
       "mpl.findpos = function(e) {\n",
       "    //this section is from http://www.quirksmode.org/js/events_properties.html\n",
       "    var targ;\n",
       "    if (!e)\n",
       "        e = window.event;\n",
       "    if (e.target)\n",
       "        targ = e.target;\n",
       "    else if (e.srcElement)\n",
       "        targ = e.srcElement;\n",
       "    if (targ.nodeType == 3) // defeat Safari bug\n",
       "        targ = targ.parentNode;\n",
       "\n",
       "    // jQuery normalizes the pageX and pageY\n",
       "    // pageX,Y are the mouse positions relative to the document\n",
       "    // offset() returns the position of the element relative to the document\n",
       "    var x = e.pageX - $(targ).offset().left;\n",
       "    var y = e.pageY - $(targ).offset().top;\n",
       "\n",
       "    return {\"x\": x, \"y\": y};\n",
       "};\n",
       "\n",
       "mpl.figure.prototype.mouse_event = function(event, name) {\n",
       "    var canvas_pos = mpl.findpos(event)\n",
       "\n",
       "    if (name === 'button_press')\n",
       "    {\n",
       "        this.canvas.focus();\n",
       "        this.canvas_div.focus();\n",
       "    }\n",
       "\n",
       "    var x = canvas_pos.x;\n",
       "    var y = canvas_pos.y;\n",
       "\n",
       "    this.send_message(name, {x: x, y: y, button: event.button,\n",
       "                             step: event.step});\n",
       "\n",
       "    /* This prevents the web browser from automatically changing to\n",
       "     * the text insertion cursor when the button is pressed.  We want\n",
       "     * to control all of the cursor setting manually through the\n",
       "     * 'cursor' event from matplotlib */\n",
       "    event.preventDefault();\n",
       "    return false;\n",
       "}\n",
       "\n",
       "mpl.figure.prototype._key_event_extra = function(event, name) {\n",
       "    // Handle any extra behaviour associated with a key event\n",
       "}\n",
       "\n",
       "mpl.figure.prototype.key_event = function(event, name) {\n",
       "\n",
       "    // Prevent repeat events\n",
       "    if (name == 'key_press')\n",
       "    {\n",
       "        if (event.which === this._key)\n",
       "            return;\n",
       "        else\n",
       "            this._key = event.which;\n",
       "    }\n",
       "    if (name == 'key_release')\n",
       "        this._key = null;\n",
       "\n",
       "    var value = '';\n",
       "    if (event.ctrlKey && event.which != 17)\n",
       "        value += \"ctrl+\";\n",
       "    if (event.altKey && event.which != 18)\n",
       "        value += \"alt+\";\n",
       "    if (event.shiftKey && event.which != 16)\n",
       "        value += \"shift+\";\n",
       "\n",
       "    value += 'k';\n",
       "    value += event.which.toString();\n",
       "\n",
       "    this._key_event_extra(event, name);\n",
       "\n",
       "    this.send_message(name, {key: value});\n",
       "    return false;\n",
       "}\n",
       "\n",
       "mpl.figure.prototype.toolbar_button_onclick = function(name) {\n",
       "    if (name == 'download') {\n",
       "        this.handle_save(this, null);\n",
       "    } else {\n",
       "        this.send_message(\"toolbar_button\", {name: name});\n",
       "    }\n",
       "};\n",
       "\n",
       "mpl.figure.prototype.toolbar_button_onmouseover = function(tooltip) {\n",
       "    this.message.textContent = tooltip;\n",
       "};\n",
       "mpl.toolbar_items = [[\"Home\", \"Reset original view\", \"fa fa-home icon-home\", \"home\"], [\"Back\", \"Back to  previous view\", \"fa fa-arrow-left icon-arrow-left\", \"back\"], [\"Forward\", \"Forward to next view\", \"fa fa-arrow-right icon-arrow-right\", \"forward\"], [\"\", \"\", \"\", \"\"], [\"Pan\", \"Pan axes with left mouse, zoom with right\", \"fa fa-arrows icon-move\", \"pan\"], [\"Zoom\", \"Zoom to rectangle\", \"fa fa-square-o icon-check-empty\", \"zoom\"], [\"\", \"\", \"\", \"\"], [\"Download\", \"Download plot\", \"fa fa-floppy-o icon-save\", \"download\"]];\n",
       "\n",
       "mpl.extensions = [\"eps\", \"jpeg\", \"pdf\", \"png\", \"ps\", \"raw\", \"svg\", \"tif\"];\n",
       "\n",
       "mpl.default_extension = \"png\";var comm_websocket_adapter = function(comm) {\n",
       "    // Create a \"websocket\"-like object which calls the given IPython comm\n",
       "    // object with the appropriate methods. Currently this is a non binary\n",
       "    // socket, so there is still some room for performance tuning.\n",
       "    var ws = {};\n",
       "\n",
       "    ws.close = function() {\n",
       "        comm.close()\n",
       "    };\n",
       "    ws.send = function(m) {\n",
       "        //console.log('sending', m);\n",
       "        comm.send(m);\n",
       "    };\n",
       "    // Register the callback with on_msg.\n",
       "    comm.on_msg(function(msg) {\n",
       "        //console.log('receiving', msg['content']['data'], msg);\n",
       "        // Pass the mpl event to the overriden (by mpl) onmessage function.\n",
       "        ws.onmessage(msg['content']['data'])\n",
       "    });\n",
       "    return ws;\n",
       "}\n",
       "\n",
       "mpl.mpl_figure_comm = function(comm, msg) {\n",
       "    // This is the function which gets called when the mpl process\n",
       "    // starts-up an IPython Comm through the \"matplotlib\" channel.\n",
       "\n",
       "    var id = msg.content.data.id;\n",
       "    // Get hold of the div created by the display call when the Comm\n",
       "    // socket was opened in Python.\n",
       "    var element = $(\"#\" + id);\n",
       "    var ws_proxy = comm_websocket_adapter(comm)\n",
       "\n",
       "    function ondownload(figure, format) {\n",
       "        window.open(figure.imageObj.src);\n",
       "    }\n",
       "\n",
       "    var fig = new mpl.figure(id, ws_proxy,\n",
       "                           ondownload,\n",
       "                           element.get(0));\n",
       "\n",
       "    // Call onopen now - mpl needs it, as it is assuming we've passed it a real\n",
       "    // web socket which is closed, not our websocket->open comm proxy.\n",
       "    ws_proxy.onopen();\n",
       "\n",
       "    fig.parent_element = element.get(0);\n",
       "    fig.cell_info = mpl.find_output_cell(\"<div id='\" + id + \"'></div>\");\n",
       "    if (!fig.cell_info) {\n",
       "        console.error(\"Failed to find cell for figure\", id, fig);\n",
       "        return;\n",
       "    }\n",
       "\n",
       "    var output_index = fig.cell_info[2]\n",
       "    var cell = fig.cell_info[0];\n",
       "\n",
       "};\n",
       "\n",
       "mpl.figure.prototype.handle_close = function(fig, msg) {\n",
       "    // Update the output cell to use the data from the current canvas.\n",
       "    fig.push_to_output();\n",
       "    var dataURL = fig.canvas.toDataURL();\n",
       "    // Re-enable the keyboard manager in IPython - without this line, in FF,\n",
       "    // the notebook keyboard shortcuts fail.\n",
       "    IPython.keyboard_manager.enable()\n",
       "    $(fig.parent_element).html('<img src=\"' + dataURL + '\">');\n",
       "    fig.send_message('closing', {});\n",
       "    fig.ws.close()\n",
       "}\n",
       "\n",
       "mpl.figure.prototype.push_to_output = function(remove_interactive) {\n",
       "    // Turn the data on the canvas into data in the output cell.\n",
       "    var dataURL = this.canvas.toDataURL();\n",
       "    this.cell_info[1]['text/html'] = '<img src=\"' + dataURL + '\">';\n",
       "}\n",
       "\n",
       "mpl.figure.prototype.updated_canvas_event = function() {\n",
       "    // Tell IPython that the notebook contents must change.\n",
       "    IPython.notebook.set_dirty(true);\n",
       "    this.send_message(\"ack\", {});\n",
       "    var fig = this;\n",
       "    // Wait a second, then push the new image to the DOM so\n",
       "    // that it is saved nicely (might be nice to debounce this).\n",
       "    setTimeout(function () { fig.push_to_output() }, 1000);\n",
       "}\n",
       "\n",
       "mpl.figure.prototype._init_toolbar = function() {\n",
       "    var fig = this;\n",
       "\n",
       "    var nav_element = $('<div/>')\n",
       "    nav_element.attr('style', 'width: 100%');\n",
       "    this.root.append(nav_element);\n",
       "\n",
       "    // Define a callback function for later on.\n",
       "    function toolbar_event(event) {\n",
       "        return fig.toolbar_button_onclick(event['data']);\n",
       "    }\n",
       "    function toolbar_mouse_event(event) {\n",
       "        return fig.toolbar_button_onmouseover(event['data']);\n",
       "    }\n",
       "\n",
       "    for(var toolbar_ind in mpl.toolbar_items){\n",
       "        var name = mpl.toolbar_items[toolbar_ind][0];\n",
       "        var tooltip = mpl.toolbar_items[toolbar_ind][1];\n",
       "        var image = mpl.toolbar_items[toolbar_ind][2];\n",
       "        var method_name = mpl.toolbar_items[toolbar_ind][3];\n",
       "\n",
       "        if (!name) { continue; };\n",
       "\n",
       "        var button = $('<button class=\"btn btn-default\" href=\"#\" title=\"' + name + '\"><i class=\"fa ' + image + ' fa-lg\"></i></button>');\n",
       "        button.click(method_name, toolbar_event);\n",
       "        button.mouseover(tooltip, toolbar_mouse_event);\n",
       "        nav_element.append(button);\n",
       "    }\n",
       "\n",
       "    // Add the status bar.\n",
       "    var status_bar = $('<span class=\"mpl-message\" style=\"text-align:right; float: right;\"/>');\n",
       "    nav_element.append(status_bar);\n",
       "    this.message = status_bar[0];\n",
       "\n",
       "    // Add the close button to the window.\n",
       "    var buttongrp = $('<div class=\"btn-group inline pull-right\"></div>');\n",
       "    var button = $('<button class=\"btn btn-mini btn-danger\" href=\"#\" title=\"Close figure\"><i class=\"fa fa-times icon-remove icon-large\"></i></button>');\n",
       "    button.click(function (evt) { fig.handle_close(fig, {}); } );\n",
       "    button.mouseover('Close figure', toolbar_mouse_event);\n",
       "    buttongrp.append(button);\n",
       "    var titlebar = this.root.find($('.ui-dialog-titlebar'));\n",
       "    titlebar.prepend(buttongrp);\n",
       "}\n",
       "\n",
       "\n",
       "mpl.figure.prototype._canvas_extra_style = function(el){\n",
       "    // this is important to make the div 'focusable\n",
       "    el.attr('tabindex', 0)\n",
       "    // reach out to IPython and tell the keyboard manager to turn it's self\n",
       "    // off when our div gets focus\n",
       "\n",
       "    // location in version 3\n",
       "    if (IPython.notebook.keyboard_manager) {\n",
       "        IPython.notebook.keyboard_manager.register_events(el);\n",
       "    }\n",
       "    else {\n",
       "        // location in version 2\n",
       "        IPython.keyboard_manager.register_events(el);\n",
       "    }\n",
       "\n",
       "}\n",
       "\n",
       "mpl.figure.prototype._key_event_extra = function(event, name) {\n",
       "    var manager = IPython.notebook.keyboard_manager;\n",
       "    if (!manager)\n",
       "        manager = IPython.keyboard_manager;\n",
       "\n",
       "    // Check for shift+enter\n",
       "    if (event.shiftKey && event.which == 13) {\n",
       "        this.canvas_div.blur();\n",
       "        event.shiftKey = false;\n",
       "        // Send a \"J\" for go to next cell\n",
       "        event.which = 74;\n",
       "        event.keyCode = 74;\n",
       "        manager.command_mode();\n",
       "        manager.handle_keydown(event);\n",
       "    }\n",
       "}\n",
       "\n",
       "mpl.figure.prototype.handle_save = function(fig, msg) {\n",
       "    fig.ondownload(fig, null);\n",
       "}\n",
       "\n",
       "\n",
       "mpl.find_output_cell = function(html_output) {\n",
       "    // Return the cell and output element which can be found *uniquely* in the notebook.\n",
       "    // Note - this is a bit hacky, but it is done because the \"notebook_saving.Notebook\"\n",
       "    // IPython event is triggered only after the cells have been serialised, which for\n",
       "    // our purposes (turning an active figure into a static one), is too late.\n",
       "    var cells = IPython.notebook.get_cells();\n",
       "    var ncells = cells.length;\n",
       "    for (var i=0; i<ncells; i++) {\n",
       "        var cell = cells[i];\n",
       "        if (cell.cell_type === 'code'){\n",
       "            for (var j=0; j<cell.output_area.outputs.length; j++) {\n",
       "                var data = cell.output_area.outputs[j];\n",
       "                if (data.data) {\n",
       "                    // IPython >= 3 moved mimebundle to data attribute of output\n",
       "                    data = data.data;\n",
       "                }\n",
       "                if (data['text/html'] == html_output) {\n",
       "                    return [cell, data, j];\n",
       "                }\n",
       "            }\n",
       "        }\n",
       "    }\n",
       "}\n",
       "\n",
       "// Register the function which deals with the matplotlib target/channel.\n",
       "// The kernel may be null if the page has been refreshed.\n",
       "if (IPython.notebook.kernel != null) {\n",
       "    IPython.notebook.kernel.comm_manager.register_target('matplotlib', mpl.mpl_figure_comm);\n",
       "}\n"
      ],
      "text/plain": [
       "<IPython.core.display.Javascript object>"
      ]
     },
     "metadata": {},
     "output_type": "display_data"
    },
    {
     "data": {
      "text/html": [
       "<img src=\"data:image/png;base64,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\">"
      ],
      "text/plain": [
       "<IPython.core.display.HTML object>"
      ]
     },
     "metadata": {},
     "output_type": "display_data"
    }
   ],
   "source": [
    "plotting.plot3d(((ny_tot)),(x,-5,5),(y,-5,5));"
   ]
  },
  {
   "cell_type": "code",
   "execution_count": 29,
   "metadata": {
    "collapsed": false
   },
   "outputs": [],
   "source": [
    "#simplify(nx_tot), simplify(ny_tot)"
   ]
  },
  {
   "cell_type": "code",
   "execution_count": 9,
   "metadata": {
    "collapsed": true
   },
   "outputs": [],
   "source": [
    "dxnx_2cyl = nx_tot.diff(x)\n",
    "dynx_2cyl = nx_tot.diff(y)\n",
    "dxny_2cyl = ny_tot.diff(x)\n",
    "dyny_2cyl = ny_tot.diff(y)"
   ]
  },
  {
   "cell_type": "code",
   "execution_count": 10,
   "metadata": {
    "collapsed": false
   },
   "outputs": [
    {
     "data": {
      "image/png": "[encoded data removed]",
      "text/latex": [
       "$$0$$"
      ],
      "text/plain": [
       "0"
      ]
     },
     "execution_count": 10,
     "metadata": {},
     "output_type": "execute_result"
    }
   ],
   "source": [
    "simplify((dxnx_2cyl + dyny_2cyl)**2)"
   ]
  },
  {
   "cell_type": "code",
   "execution_count": 11,
   "metadata": {
    "collapsed": true
   },
   "outputs": [
    {
     "data": {
      "image/png": "[encoded data removed]",
      "text/latex": [
       "$$\\frac{1}{2} \\left(\\frac{0.2 y^{2}}{\\left(y^{2} + \\left(x + 0.21\\right)^{2}\\right) K_{1}\\left(0.1\\right)} \\left(\\frac{1}{2} K_{0}\\left(\\sqrt{y^{2} + \\left(x + 0.21\\right)^{2}}\\right) + \\frac{1}{2} K_{2}\\left(\\sqrt{y^{2} + \\left(x + 0.21\\right)^{2}}\\right)\\right) + \\frac{0.2 y^{2} K_{1}\\left(\\sqrt{y^{2} + \\left(x + 0.21\\right)^{2}}\\right)}{\\left(y^{2} + \\left(x + 0.21\\right)^{2}\\right)^{\\frac{3}{2}} K_{1}\\left(0.1\\right)} + \\frac{0.2 y^{2}}{\\left(y^{2} + \\left(x - 0.21\\right)^{2}\\right) K_{1}\\left(0.1\\right)} \\left(\\frac{1}{2} K_{0}\\left(\\sqrt{y^{2} + \\left(x - 0.21\\right)^{2}}\\right) + \\frac{1}{2} K_{2}\\left(\\sqrt{y^{2} + \\left(x - 0.21\\right)^{2}}\\right)\\right) + \\frac{0.2 y^{2} K_{1}\\left(\\sqrt{y^{2} + \\left(x - 0.21\\right)^{2}}\\right)}{\\left(y^{2} + \\left(x - 0.21\\right)^{2}\\right)^{\\frac{3}{2}} K_{1}\\left(0.1\\right)} + \\frac{1}{\\left(y^{2} + \\left(x - 0.21\\right)^{2}\\right) K_{1}\\left(0.1\\right)} \\left(0.2 x - 0.042\\right) \\left(x - 0.21\\right) \\left(\\frac{1}{2} K_{0}\\left(\\sqrt{y^{2} + \\left(x - 0.21\\right)^{2}}\\right) + \\frac{1}{2} K_{2}\\left(\\sqrt{y^{2} + \\left(x - 0.21\\right)^{2}}\\right)\\right) + \\frac{\\left(0.2 x - 0.042\\right) \\left(x - 0.21\\right) K_{1}\\left(\\sqrt{y^{2} + \\left(x - 0.21\\right)^{2}}\\right)}{\\left(y^{2} + \\left(x - 0.21\\right)^{2}\\right)^{\\frac{3}{2}} K_{1}\\left(0.1\\right)} + \\frac{1}{\\left(y^{2} + \\left(x + 0.21\\right)^{2}\\right) K_{1}\\left(0.1\\right)} \\left(0.2 x + 0.042\\right) \\left(x + 0.21\\right) \\left(\\frac{1}{2} K_{0}\\left(\\sqrt{y^{2} + \\left(x + 0.21\\right)^{2}}\\right) + \\frac{1}{2} K_{2}\\left(\\sqrt{y^{2} + \\left(x + 0.21\\right)^{2}}\\right)\\right) + \\frac{\\left(0.2 x + 0.042\\right) \\left(x + 0.21\\right) K_{1}\\left(\\sqrt{y^{2} + \\left(x + 0.21\\right)^{2}}\\right)}{\\left(y^{2} + \\left(x + 0.21\\right)^{2}\\right)^{\\frac{3}{2}} K_{1}\\left(0.1\\right)} - \\frac{0.4 K_{1}\\left(\\sqrt{y^{2} + \\left(x + 0.21\\right)^{2}}\\right)}{\\sqrt{y^{2} + \\left(x + 0.21\\right)^{2}} K_{1}\\left(0.1\\right)} - \\frac{0.4 K_{1}\\left(\\sqrt{y^{2} + \\left(x - 0.21\\right)^{2}}\\right)}{\\sqrt{y^{2} + \\left(x - 0.21\\right)^{2}} K_{1}\\left(0.1\\right)}\\right)^{2}$$"
      ],
      "text/plain": [
       "                                                                              \n",
       "⎛       ⎛       ⎛      __________________⎞          ⎛      __________________⎞\n",
       "⎜       ⎜       ⎜     ╱  2             2 ⎟          ⎜     ╱  2             2 ⎟\n",
       "⎜     2 ⎜besselk⎝0, ╲╱  y  + (x + 0.21)  ⎠   besselk⎝2, ╲╱  y  + (x + 0.21)  ⎠\n",
       "⎜0.2⋅y ⋅⎜───────────────────────────────── + ─────────────────────────────────\n",
       "⎜       ⎝                2                                   2                \n",
       "⎜─────────────────────────────────────────────────────────────────────────────\n",
       "⎜                      ⎛ 2             2⎞                                     \n",
       "⎜                      ⎝y  + (x + 0.21) ⎠⋅besselk(1, 0.1)                     \n",
       "⎝                                                                             \n",
       "──────────────────────────────────────────────────────────────────────────────\n",
       "                                                                              \n",
       "\n",
       "                                                                              \n",
       "⎞                                                     ⎛       ⎛      _________\n",
       "⎟                                                     ⎜       ⎜     ╱  2      \n",
       "⎟                 ⎛      __________________⎞        2 ⎜besselk⎝0, ╲╱  y  + (x \n",
       "⎟        2        ⎜     ╱  2             2 ⎟   0.2⋅y ⋅⎜───────────────────────\n",
       "⎠   0.2⋅y ⋅besselk⎝1, ╲╱  y  + (x + 0.21)  ⎠          ⎝                2      \n",
       "─ + ──────────────────────────────────────── + ───────────────────────────────\n",
       "                       3/2                                           ⎛ 2      \n",
       "     ⎛ 2             2⎞                                              ⎝y  + (x \n",
       "     ⎝y  + (x + 0.21) ⎠   ⋅besselk(1, 0.1)                                    \n",
       "──────────────────────────────────────────────────────────────────────────────\n",
       "                                                                              \n",
       "\n",
       "                                                                              \n",
       "_________⎞          ⎛      __________________⎞⎞                               \n",
       "       2 ⎟          ⎜     ╱  2             2 ⎟⎟                               \n",
       "- 0.21)  ⎠   besselk⎝2, ╲╱  y  + (x - 0.21)  ⎠⎟                 ⎛      _______\n",
       "────────── + ─────────────────────────────────⎟        2        ⎜     ╱  2    \n",
       "                             2                ⎠   0.2⋅y ⋅besselk⎝1, ╲╱  y  + (\n",
       "─────────────────────────────────────────────── + ────────────────────────────\n",
       "       2⎞                                                            3/2      \n",
       "- 0.21) ⎠⋅besselk(1, 0.1)                          ⎛ 2             2⎞         \n",
       "                                                   ⎝y  + (x - 0.21) ⎠   ⋅besse\n",
       "──────────────────────────────────────────────────────────────────────────────\n",
       "                                                                              \n",
       "\n",
       "                                                                              \n",
       "                                          ⎛       ⎛      __________________⎞  \n",
       "                                          ⎜       ⎜     ╱  2             2 ⎟  \n",
       "___________⎞                              ⎜besselk⎝0, ╲╱  y  + (x - 0.21)  ⎠  \n",
       "         2 ⎟   (0.2⋅x - 0.042)⋅(x - 0.21)⋅⎜───────────────────────────────── +\n",
       "x - 0.21)  ⎠                              ⎝                2                  \n",
       "──────────── + ───────────────────────────────────────────────────────────────\n",
       "                                               ⎛ 2             2⎞             \n",
       "                                               ⎝y  + (x - 0.21) ⎠⋅besselk(1, 0\n",
       "lk(1, 0.1)                                                                    \n",
       "──────────────────────────────────────────────────────────────────────────────\n",
       "                                                                              \n",
       "\n",
       "                                                                              \n",
       "        ⎛      __________________⎞⎞                                           \n",
       "        ⎜     ╱  2             2 ⎟⎟                                           \n",
       " besselk⎝2, ╲╱  y  + (x - 0.21)  ⎠⎟                                     ⎛     \n",
       " ─────────────────────────────────⎟                                     ⎜     \n",
       "                 2                ⎠   (0.2⋅x - 0.042)⋅(x - 0.21)⋅besselk⎝1, ╲╱\n",
       "─────────────────────────────────── + ────────────────────────────────────────\n",
       "                                                                   3/2        \n",
       ".1)                                              ⎛ 2             2⎞           \n",
       "                                                 ⎝y  + (x - 0.21) ⎠   ⋅besselk\n",
       "──────────────────────────────────────────────────────────────────────────────\n",
       "                   2                                                          \n",
       "\n",
       "                                                                              \n",
       "                                                  ⎛       ⎛      _____________\n",
       "                                                  ⎜       ⎜     ╱  2          \n",
       " __________________⎞                              ⎜besselk⎝0, ╲╱  y  + (x + 0.\n",
       "╱  2             2 ⎟   (0.2⋅x + 0.042)⋅(x + 0.21)⋅⎜───────────────────────────\n",
       "  y  + (x - 0.21)  ⎠                              ⎝                2          \n",
       "──────────────────── + ───────────────────────────────────────────────────────\n",
       "                                                       ⎛ 2             2⎞     \n",
       "                                                       ⎝y  + (x + 0.21) ⎠⋅bess\n",
       "(1, 0.1)                                                                      \n",
       "──────────────────────────────────────────────────────────────────────────────\n",
       "                                                                              \n",
       "\n",
       "                                                                              \n",
       "_____⎞          ⎛      __________________⎞⎞                                   \n",
       "   2 ⎟          ⎜     ╱  2             2 ⎟⎟                                   \n",
       "21)  ⎠   besselk⎝2, ╲╱  y  + (x + 0.21)  ⎠⎟                                   \n",
       "────── + ─────────────────────────────────⎟                                   \n",
       "                         2                ⎠   (0.2⋅x + 0.042)⋅(x + 0.21)⋅besse\n",
       "─────────────────────────────────────────── + ────────────────────────────────\n",
       "                                                                           3/2\n",
       "elk(1, 0.1)                                              ⎛ 2             2⎞   \n",
       "                                                         ⎝y  + (x + 0.21) ⎠   \n",
       "──────────────────────────────────────────────────────────────────────────────\n",
       "                                                                              \n",
       "\n",
       "                                                                              \n",
       "                                                                              \n",
       "                                                                              \n",
       "  ⎛      __________________⎞                 ⎛      __________________⎞       \n",
       "  ⎜     ╱  2             2 ⎟                 ⎜     ╱  2             2 ⎟       \n",
       "lk⎝1, ╲╱  y  + (x + 0.21)  ⎠   - -0.4⋅besselk⎝1, ╲╱  y  + (x + 0.21)  ⎠    - -\n",
       "──────────────────────────── - ───────────────────────────────────────── - ───\n",
       "                                    __________________                        \n",
       "                                   ╱  2             2                         \n",
       "⋅besselk(1, 0.1)                 ╲╱  y  + (x + 0.21)  ⋅besselk(1, 0.1)       ╲\n",
       "──────────────────────────────────────────────────────────────────────────────\n",
       "                                                                              \n",
       "\n",
       "                                       2\n",
       "                                      ⎞ \n",
       "                                      ⎟ \n",
       "           ⎛      __________________⎞ ⎟ \n",
       "           ⎜     ╱  2             2 ⎟ ⎟ \n",
       "0.4⋅besselk⎝1, ╲╱  y  + (x - 0.21)  ⎠ ⎟ \n",
       "──────────────────────────────────────⎟ \n",
       "  __________________                  ⎟ \n",
       " ╱  2             2                   ⎟ \n",
       "╱  y  + (x - 0.21)  ⋅besselk(1, 0.1)  ⎠ \n",
       "────────────────────────────────────────\n",
       "                                        "
      ]
     },
     "execution_count": 11,
     "metadata": {},
     "output_type": "execute_result"
    }
   ],
   "source": [
    "simplify(((dxny_2cyl - dynx_2cyl)**2)/2)"
   ]
  },
  {
   "cell_type": "code",
   "execution_count": 12,
   "metadata": {
    "collapsed": false
   },
   "outputs": [
    {
     "data": {
      "image/png": "[encoded data removed]",
      "text/latex": [
       "$$\\frac{1}{2 \\left(y^{2} + \\left(x - 0.21\\right)^{2}\\right) \\left(y^{2} + \\left(x + 0.21\\right)^{2}\\right) K^{2}_{1}\\left(0.1\\right)} \\left(0.04 y^{2} \\left(\\sqrt{y^{2} + \\left(x - 0.21\\right)^{2}} K_{1}\\left(\\sqrt{y^{2} + \\left(x + 0.21\\right)^{2}}\\right) + \\sqrt{y^{2} + \\left(x + 0.21\\right)^{2}} K_{1}\\left(\\sqrt{y^{2} + \\left(x - 0.21\\right)^{2}}\\right)\\right)^{2} + \\left(\\left(0.2 x - 0.042\\right) \\sqrt{y^{2} + \\left(x + 0.21\\right)^{2}} K_{1}\\left(\\sqrt{y^{2} + \\left(x - 0.21\\right)^{2}}\\right) + \\left(0.2 x + 0.042\\right) \\sqrt{y^{2} + \\left(x - 0.21\\right)^{2}} K_{1}\\left(\\sqrt{y^{2} + \\left(x + 0.21\\right)^{2}}\\right)\\right)^{2}\\right)$$"
      ],
      "text/plain": [
       "                                                                              \n",
       "        ⎛   __________________        ⎛      __________________⎞      ________\n",
       "      2 ⎜  ╱  2             2         ⎜     ╱  2             2 ⎟     ╱  2     \n",
       "0.04⋅y ⋅⎝╲╱  y  + (x - 0.21)  ⋅besselk⎝1, ╲╱  y  + (x + 0.21)  ⎠ + ╲╱  y  + (x\n",
       "──────────────────────────────────────────────────────────────────────────────\n",
       "                                                                              \n",
       "                                                                              \n",
       "\n",
       "                                             2                                \n",
       "__________        ⎛      __________________⎞⎞    ⎛                   _________\n",
       "        2         ⎜     ╱  2             2 ⎟⎟    ⎜                  ╱  2      \n",
       " + 0.21)  ⋅besselk⎝1, ╲╱  y  + (x - 0.21)  ⎠⎠  + ⎝(0.2⋅x - 0.042)⋅╲╱  y  + (x \n",
       "──────────────────────────────────────────────────────────────────────────────\n",
       "                                  ⎛ 2             2⎞ ⎛ 2             2⎞       \n",
       "                                2⋅⎝y  + (x - 0.21) ⎠⋅⎝y  + (x + 0.21) ⎠⋅bessel\n",
       "\n",
       "                                                                              \n",
       "_________        ⎛      __________________⎞                      _____________\n",
       "       2         ⎜     ╱  2             2 ⎟                     ╱  2          \n",
       "+ 0.21)  ⋅besselk⎝1, ╲╱  y  + (x - 0.21)  ⎠ + (0.2⋅x + 0.042)⋅╲╱  y  + (x - 0.\n",
       "──────────────────────────────────────────────────────────────────────────────\n",
       " 2                                                                            \n",
       "k (1, 0.1)                                                                    \n",
       "\n",
       "                                        2\n",
       "_____        ⎛      __________________⎞⎞ \n",
       "   2         ⎜     ╱  2             2 ⎟⎟ \n",
       "21)  ⋅besselk⎝1, ╲╱  y  + (x + 0.21)  ⎠⎠ \n",
       "─────────────────────────────────────────\n",
       "                                         \n",
       "                                         "
      ]
     },
     "execution_count": 12,
     "metadata": {},
     "output_type": "execute_result"
    }
   ],
   "source": [
    "simplify((nx_tot**2 + ny_tot**2)/2)"
   ]
  },
  {
   "cell_type": "code",
   "execution_count": null,
   "metadata": {
    "collapsed": false
   },
   "outputs": [],
   "source": [
    "ef"
   ]
  },
  {
   "cell_type": "code",
   "execution_count": 44,
   "metadata": {
    "collapsed": false
   },
   "outputs": [],
   "source": [
    "def f_2(n1, n2, theta_s, a, R_L, R_R, d, dxnx, dynx, dxny, dyny):\n",
    "    return (d**2/2)*(dxnx**2 + dynx**2 + dxny**2 + dyny**2 + 2*dxnx*dyny - 2*dxny*dynx) + (1/2)*(n1**2 + n2**2) - (1/2)"
   ]
  },
  {
   "cell_type": "code",
   "execution_count": 45,
   "metadata": {
    "collapsed": false
   },
   "outputs": [],
   "source": [
    "f_2cyl = f_2(nx_tot, ny_tot, theta_s, a, R_L, R_R, d, dxnx_2cyl, dynx_2cyl, dxny_2cyl, dyny_2cyl)"
   ]
  },
  {
   "cell_type": "code",
   "execution_count": null,
   "metadata": {
    "collapsed": false
   },
   "outputs": [],
   "source": [
    "plotting.plot3d((ef), (x,-5,5), (y,-5,5));"
   ]
  },
  {
   "cell_type": "code",
   "execution_count": 19,
   "metadata": {
    "collapsed": false
   },
   "outputs": [
    {
     "data": {
      "application/javascript": [
       "/* Put everything inside the global mpl namespace */\n",
       "window.mpl = {};\n",
       "\n",
       "mpl.get_websocket_type = function() {\n",
       "    if (typeof(WebSocket) !== 'undefined') {\n",
       "        return WebSocket;\n",
       "    } else if (typeof(MozWebSocket) !== 'undefined') {\n",
       "        return MozWebSocket;\n",
       "    } else {\n",
       "        alert('Your browser does not have WebSocket support.' +\n",
       "              'Please try Chrome, Safari or Firefox ≥ 6. ' +\n",
       "              'Firefox 4 and 5 are also supported but you ' +\n",
       "              'have to enable WebSockets in about:config.');\n",
       "    };\n",
       "}\n",
       "\n",
       "mpl.figure = function(figure_id, websocket, ondownload, parent_element) {\n",
       "    this.id = figure_id;\n",
       "\n",
       "    this.ws = websocket;\n",
       "\n",
       "    this.supports_binary = (this.ws.binaryType != undefined);\n",
       "\n",
       "    if (!this.supports_binary) {\n",
       "        var warnings = document.getElementById(\"mpl-warnings\");\n",
       "        if (warnings) {\n",
       "            warnings.style.display = 'block';\n",
       "            warnings.textContent = (\n",
       "                \"This browser does not support binary websocket messages. \" +\n",
       "                    \"Performance may be slow.\");\n",
       "        }\n",
       "    }\n",
       "\n",
       "    this.imageObj = new Image();\n",
       "\n",
       "    this.context = undefined;\n",
       "    this.message = undefined;\n",
       "    this.canvas = undefined;\n",
       "    this.rubberband_canvas = undefined;\n",
       "    this.rubberband_context = undefined;\n",
       "    this.format_dropdown = undefined;\n",
       "\n",
       "    this.image_mode = 'full';\n",
       "\n",
       "    this.root = $('<div/>');\n",
       "    this._root_extra_style(this.root)\n",
       "    this.root.attr('style', 'display: inline-block');\n",
       "\n",
       "    $(parent_element).append(this.root);\n",
       "\n",
       "    this._init_header(this);\n",
       "    this._init_canvas(this);\n",
       "    this._init_toolbar(this);\n",
       "\n",
       "    var fig = this;\n",
       "\n",
       "    this.waiting = false;\n",
       "\n",
       "    this.ws.onopen =  function () {\n",
       "            fig.send_message(\"supports_binary\", {value: fig.supports_binary});\n",
       "            fig.send_message(\"send_image_mode\", {});\n",
       "            fig.send_message(\"refresh\", {});\n",
       "        }\n",
       "\n",
       "    this.imageObj.onload = function() {\n",
       "            if (fig.image_mode == 'full') {\n",
       "                // Full images could contain transparency (where diff images\n",
       "                // almost always do), so we need to clear the canvas so that\n",
       "                // there is no ghosting.\n",
       "                fig.context.clearRect(0, 0, fig.canvas.width, fig.canvas.height);\n",
       "            }\n",
       "            fig.context.drawImage(fig.imageObj, 0, 0);\n",
       "            fig.waiting = false;\n",
       "        };\n",
       "\n",
       "    this.imageObj.onunload = function() {\n",
       "        this.ws.close();\n",
       "    }\n",
       "\n",
       "    this.ws.onmessage = this._make_on_message_function(this);\n",
       "\n",
       "    this.ondownload = ondownload;\n",
       "}\n",
       "\n",
       "mpl.figure.prototype._init_header = function() {\n",
       "    var titlebar = $(\n",
       "        '<div class=\"ui-dialog-titlebar ui-widget-header ui-corner-all ' +\n",
       "        'ui-helper-clearfix\"/>');\n",
       "    var titletext = $(\n",
       "        '<div class=\"ui-dialog-title\" style=\"width: 100%; ' +\n",
       "        'text-align: center; padding: 3px;\"/>');\n",
       "    titlebar.append(titletext)\n",
       "    this.root.append(titlebar);\n",
       "    this.header = titletext[0];\n",
       "}\n",
       "\n",
       "\n",
       "\n",
       "mpl.figure.prototype._canvas_extra_style = function(canvas_div) {\n",
       "\n",
       "}\n",
       "\n",
       "\n",
       "mpl.figure.prototype._root_extra_style = function(canvas_div) {\n",
       "\n",
       "}\n",
       "\n",
       "mpl.figure.prototype._init_canvas = function() {\n",
       "    var fig = this;\n",
       "\n",
       "    var canvas_div = $('<div/>');\n",
       "\n",
       "    canvas_div.attr('style', 'position: relative; clear: both; outline: 0');\n",
       "\n",
       "    function canvas_keyboard_event(event) {\n",
       "        return fig.key_event(event, event['data']);\n",
       "    }\n",
       "\n",
       "    canvas_div.keydown('key_press', canvas_keyboard_event);\n",
       "    canvas_div.keyup('key_release', canvas_keyboard_event);\n",
       "    this.canvas_div = canvas_div\n",
       "    this._canvas_extra_style(canvas_div)\n",
       "    this.root.append(canvas_div);\n",
       "\n",
       "    var canvas = $('<canvas/>');\n",
       "    canvas.addClass('mpl-canvas');\n",
       "    canvas.attr('style', \"left: 0; top: 0; z-index: 0; outline: 0\")\n",
       "\n",
       "    this.canvas = canvas[0];\n",
       "    this.context = canvas[0].getContext(\"2d\");\n",
       "\n",
       "    var rubberband = $('<canvas/>');\n",
       "    rubberband.attr('style', \"position: absolute; left: 0; top: 0; z-index: 1;\")\n",
       "\n",
       "    var pass_mouse_events = true;\n",
       "\n",
       "    canvas_div.resizable({\n",
       "        start: function(event, ui) {\n",
       "            pass_mouse_events = false;\n",
       "        },\n",
       "        resize: function(event, ui) {\n",
       "            fig.request_resize(ui.size.width, ui.size.height);\n",
       "        },\n",
       "        stop: function(event, ui) {\n",
       "            pass_mouse_events = true;\n",
       "            fig.request_resize(ui.size.width, ui.size.height);\n",
       "        },\n",
       "    });\n",
       "\n",
       "    function mouse_event_fn(event) {\n",
       "        if (pass_mouse_events)\n",
       "            return fig.mouse_event(event, event['data']);\n",
       "    }\n",
       "\n",
       "    rubberband.mousedown('button_press', mouse_event_fn);\n",
       "    rubberband.mouseup('button_release', mouse_event_fn);\n",
       "    // Throttle sequential mouse events to 1 every 20ms.\n",
       "    rubberband.mousemove('motion_notify', mouse_event_fn);\n",
       "\n",
       "    rubberband.mouseenter('figure_enter', mouse_event_fn);\n",
       "    rubberband.mouseleave('figure_leave', mouse_event_fn);\n",
       "\n",
       "    canvas_div.on(\"wheel\", function (event) {\n",
       "        event = event.originalEvent;\n",
       "        event['data'] = 'scroll'\n",
       "        if (event.deltaY < 0) {\n",
       "            event.step = 1;\n",
       "        } else {\n",
       "            event.step = -1;\n",
       "        }\n",
       "        mouse_event_fn(event);\n",
       "    });\n",
       "\n",
       "    canvas_div.append(canvas);\n",
       "    canvas_div.append(rubberband);\n",
       "\n",
       "    this.rubberband = rubberband;\n",
       "    this.rubberband_canvas = rubberband[0];\n",
       "    this.rubberband_context = rubberband[0].getContext(\"2d\");\n",
       "    this.rubberband_context.strokeStyle = \"#000000\";\n",
       "\n",
       "    this._resize_canvas = function(width, height) {\n",
       "        // Keep the size of the canvas, canvas container, and rubber band\n",
       "        // canvas in synch.\n",
       "        canvas_div.css('width', width)\n",
       "        canvas_div.css('height', height)\n",
       "\n",
       "        canvas.attr('width', width);\n",
       "        canvas.attr('height', height);\n",
       "\n",
       "        rubberband.attr('width', width);\n",
       "        rubberband.attr('height', height);\n",
       "    }\n",
       "\n",
       "    // Set the figure to an initial 600x600px, this will subsequently be updated\n",
       "    // upon first draw.\n",
       "    this._resize_canvas(600, 600);\n",
       "\n",
       "    // Disable right mouse context menu.\n",
       "    $(this.rubberband_canvas).bind(\"contextmenu\",function(e){\n",
       "        return false;\n",
       "    });\n",
       "\n",
       "    function set_focus () {\n",
       "        canvas.focus();\n",
       "        canvas_div.focus();\n",
       "    }\n",
       "\n",
       "    window.setTimeout(set_focus, 100);\n",
       "}\n",
       "\n",
       "mpl.figure.prototype._init_toolbar = function() {\n",
       "    var fig = this;\n",
       "\n",
       "    var nav_element = $('<div/>')\n",
       "    nav_element.attr('style', 'width: 100%');\n",
       "    this.root.append(nav_element);\n",
       "\n",
       "    // Define a callback function for later on.\n",
       "    function toolbar_event(event) {\n",
       "        return fig.toolbar_button_onclick(event['data']);\n",
       "    }\n",
       "    function toolbar_mouse_event(event) {\n",
       "        return fig.toolbar_button_onmouseover(event['data']);\n",
       "    }\n",
       "\n",
       "    for(var toolbar_ind in mpl.toolbar_items) {\n",
       "        var name = mpl.toolbar_items[toolbar_ind][0];\n",
       "        var tooltip = mpl.toolbar_items[toolbar_ind][1];\n",
       "        var image = mpl.toolbar_items[toolbar_ind][2];\n",
       "        var method_name = mpl.toolbar_items[toolbar_ind][3];\n",
       "\n",
       "        if (!name) {\n",
       "            // put a spacer in here.\n",
       "            continue;\n",
       "        }\n",
       "        var button = $('<button/>');\n",
       "        button.addClass('ui-button ui-widget ui-state-default ui-corner-all ' +\n",
       "                        'ui-button-icon-only');\n",
       "        button.attr('role', 'button');\n",
       "        button.attr('aria-disabled', 'false');\n",
       "        button.click(method_name, toolbar_event);\n",
       "        button.mouseover(tooltip, toolbar_mouse_event);\n",
       "\n",
       "        var icon_img = $('<span/>');\n",
       "        icon_img.addClass('ui-button-icon-primary ui-icon');\n",
       "        icon_img.addClass(image);\n",
       "        icon_img.addClass('ui-corner-all');\n",
       "\n",
       "        var tooltip_span = $('<span/>');\n",
       "        tooltip_span.addClass('ui-button-text');\n",
       "        tooltip_span.html(tooltip);\n",
       "\n",
       "        button.append(icon_img);\n",
       "        button.append(tooltip_span);\n",
       "\n",
       "        nav_element.append(button);\n",
       "    }\n",
       "\n",
       "    var fmt_picker_span = $('<span/>');\n",
       "\n",
       "    var fmt_picker = $('<select/>');\n",
       "    fmt_picker.addClass('mpl-toolbar-option ui-widget ui-widget-content');\n",
       "    fmt_picker_span.append(fmt_picker);\n",
       "    nav_element.append(fmt_picker_span);\n",
       "    this.format_dropdown = fmt_picker[0];\n",
       "\n",
       "    for (var ind in mpl.extensions) {\n",
       "        var fmt = mpl.extensions[ind];\n",
       "        var option = $(\n",
       "            '<option/>', {selected: fmt === mpl.default_extension}).html(fmt);\n",
       "        fmt_picker.append(option)\n",
       "    }\n",
       "\n",
       "    // Add hover states to the ui-buttons\n",
       "    $( \".ui-button\" ).hover(\n",
       "        function() { $(this).addClass(\"ui-state-hover\");},\n",
       "        function() { $(this).removeClass(\"ui-state-hover\");}\n",
       "    );\n",
       "\n",
       "    var status_bar = $('<span class=\"mpl-message\"/>');\n",
       "    nav_element.append(status_bar);\n",
       "    this.message = status_bar[0];\n",
       "}\n",
       "\n",
       "mpl.figure.prototype.request_resize = function(x_pixels, y_pixels) {\n",
       "    // Request matplotlib to resize the figure. Matplotlib will then trigger a resize in the client,\n",
       "    // which will in turn request a refresh of the image.\n",
       "    this.send_message('resize', {'width': x_pixels, 'height': y_pixels});\n",
       "}\n",
       "\n",
       "mpl.figure.prototype.send_message = function(type, properties) {\n",
       "    properties['type'] = type;\n",
       "    properties['figure_id'] = this.id;\n",
       "    this.ws.send(JSON.stringify(properties));\n",
       "}\n",
       "\n",
       "mpl.figure.prototype.send_draw_message = function() {\n",
       "    if (!this.waiting) {\n",
       "        this.waiting = true;\n",
       "        this.ws.send(JSON.stringify({type: \"draw\", figure_id: this.id}));\n",
       "    }\n",
       "}\n",
       "\n",
       "\n",
       "mpl.figure.prototype.handle_save = function(fig, msg) {\n",
       "    var format_dropdown = fig.format_dropdown;\n",
       "    var format = format_dropdown.options[format_dropdown.selectedIndex].value;\n",
       "    fig.ondownload(fig, format);\n",
       "}\n",
       "\n",
       "\n",
       "mpl.figure.prototype.handle_resize = function(fig, msg) {\n",
       "    var size = msg['size'];\n",
       "    if (size[0] != fig.canvas.width || size[1] != fig.canvas.height) {\n",
       "        fig._resize_canvas(size[0], size[1]);\n",
       "        fig.send_message(\"refresh\", {});\n",
       "    };\n",
       "}\n",
       "\n",
       "mpl.figure.prototype.handle_rubberband = function(fig, msg) {\n",
       "    var x0 = msg['x0'];\n",
       "    var y0 = fig.canvas.height - msg['y0'];\n",
       "    var x1 = msg['x1'];\n",
       "    var y1 = fig.canvas.height - msg['y1'];\n",
       "    x0 = Math.floor(x0) + 0.5;\n",
       "    y0 = Math.floor(y0) + 0.5;\n",
       "    x1 = Math.floor(x1) + 0.5;\n",
       "    y1 = Math.floor(y1) + 0.5;\n",
       "    var min_x = Math.min(x0, x1);\n",
       "    var min_y = Math.min(y0, y1);\n",
       "    var width = Math.abs(x1 - x0);\n",
       "    var height = Math.abs(y1 - y0);\n",
       "\n",
       "    fig.rubberband_context.clearRect(\n",
       "        0, 0, fig.canvas.width, fig.canvas.height);\n",
       "\n",
       "    fig.rubberband_context.strokeRect(min_x, min_y, width, height);\n",
       "}\n",
       "\n",
       "mpl.figure.prototype.handle_figure_label = function(fig, msg) {\n",
       "    // Updates the figure title.\n",
       "    fig.header.textContent = msg['label'];\n",
       "}\n",
       "\n",
       "mpl.figure.prototype.handle_cursor = function(fig, msg) {\n",
       "    var cursor = msg['cursor'];\n",
       "    switch(cursor)\n",
       "    {\n",
       "    case 0:\n",
       "        cursor = 'pointer';\n",
       "        break;\n",
       "    case 1:\n",
       "        cursor = 'default';\n",
       "        break;\n",
       "    case 2:\n",
       "        cursor = 'crosshair';\n",
       "        break;\n",
       "    case 3:\n",
       "        cursor = 'move';\n",
       "        break;\n",
       "    }\n",
       "    fig.rubberband_canvas.style.cursor = cursor;\n",
       "}\n",
       "\n",
       "mpl.figure.prototype.handle_message = function(fig, msg) {\n",
       "    fig.message.textContent = msg['message'];\n",
       "}\n",
       "\n",
       "mpl.figure.prototype.handle_draw = function(fig, msg) {\n",
       "    // Request the server to send over a new figure.\n",
       "    fig.send_draw_message();\n",
       "}\n",
       "\n",
       "mpl.figure.prototype.handle_image_mode = function(fig, msg) {\n",
       "    fig.image_mode = msg['mode'];\n",
       "}\n",
       "\n",
       "mpl.figure.prototype.updated_canvas_event = function() {\n",
       "    // Called whenever the canvas gets updated.\n",
       "    this.send_message(\"ack\", {});\n",
       "}\n",
       "\n",
       "// A function to construct a web socket function for onmessage handling.\n",
       "// Called in the figure constructor.\n",
       "mpl.figure.prototype._make_on_message_function = function(fig) {\n",
       "    return function socket_on_message(evt) {\n",
       "        if (evt.data instanceof Blob) {\n",
       "            /* FIXME: We get \"Resource interpreted as Image but\n",
       "             * transferred with MIME type text/plain:\" errors on\n",
       "             * Chrome.  But how to set the MIME type?  It doesn't seem\n",
       "             * to be part of the websocket stream */\n",
       "            evt.data.type = \"image/png\";\n",
       "\n",
       "            /* Free the memory for the previous frames */\n",
       "            if (fig.imageObj.src) {\n",
       "                (window.URL || window.webkitURL).revokeObjectURL(\n",
       "                    fig.imageObj.src);\n",
       "            }\n",
       "\n",
       "            fig.imageObj.src = (window.URL || window.webkitURL).createObjectURL(\n",
       "                evt.data);\n",
       "            fig.updated_canvas_event();\n",
       "            return;\n",
       "        }\n",
       "        else if (typeof evt.data === 'string' && evt.data.slice(0, 21) == \"data:image/png;base64\") {\n",
       "            fig.imageObj.src = evt.data;\n",
       "            fig.updated_canvas_event();\n",
       "            return;\n",
       "        }\n",
       "\n",
       "        var msg = JSON.parse(evt.data);\n",
       "        var msg_type = msg['type'];\n",
       "\n",
       "        // Call the  \"handle_{type}\" callback, which takes\n",
       "        // the figure and JSON message as its only arguments.\n",
       "        try {\n",
       "            var callback = fig[\"handle_\" + msg_type];\n",
       "        } catch (e) {\n",
       "            console.log(\"No handler for the '\" + msg_type + \"' message type: \", msg);\n",
       "            return;\n",
       "        }\n",
       "\n",
       "        if (callback) {\n",
       "            try {\n",
       "                // console.log(\"Handling '\" + msg_type + \"' message: \", msg);\n",
       "                callback(fig, msg);\n",
       "            } catch (e) {\n",
       "                console.log(\"Exception inside the 'handler_\" + msg_type + \"' callback:\", e, e.stack, msg);\n",
       "            }\n",
       "        }\n",
       "    };\n",
       "}\n",
       "\n",
       "// from http://stackoverflow.com/questions/1114465/getting-mouse-location-in-canvas\n",
       "mpl.findpos = function(e) {\n",
       "    //this section is from http://www.quirksmode.org/js/events_properties.html\n",
       "    var targ;\n",
       "    if (!e)\n",
       "        e = window.event;\n",
       "    if (e.target)\n",
       "        targ = e.target;\n",
       "    else if (e.srcElement)\n",
       "        targ = e.srcElement;\n",
       "    if (targ.nodeType == 3) // defeat Safari bug\n",
       "        targ = targ.parentNode;\n",
       "\n",
       "    // jQuery normalizes the pageX and pageY\n",
       "    // pageX,Y are the mouse positions relative to the document\n",
       "    // offset() returns the position of the element relative to the document\n",
       "    var x = e.pageX - $(targ).offset().left;\n",
       "    var y = e.pageY - $(targ).offset().top;\n",
       "\n",
       "    return {\"x\": x, \"y\": y};\n",
       "};\n",
       "\n",
       "mpl.figure.prototype.mouse_event = function(event, name) {\n",
       "    var canvas_pos = mpl.findpos(event)\n",
       "\n",
       "    if (name === 'button_press')\n",
       "    {\n",
       "        this.canvas.focus();\n",
       "        this.canvas_div.focus();\n",
       "    }\n",
       "\n",
       "    var x = canvas_pos.x;\n",
       "    var y = canvas_pos.y;\n",
       "\n",
       "    this.send_message(name, {x: x, y: y, button: event.button,\n",
       "                             step: event.step});\n",
       "\n",
       "    /* This prevents the web browser from automatically changing to\n",
       "     * the text insertion cursor when the button is pressed.  We want\n",
       "     * to control all of the cursor setting manually through the\n",
       "     * 'cursor' event from matplotlib */\n",
       "    event.preventDefault();\n",
       "    return false;\n",
       "}\n",
       "\n",
       "mpl.figure.prototype._key_event_extra = function(event, name) {\n",
       "    // Handle any extra behaviour associated with a key event\n",
       "}\n",
       "\n",
       "mpl.figure.prototype.key_event = function(event, name) {\n",
       "\n",
       "    // Prevent repeat events\n",
       "    if (name == 'key_press')\n",
       "    {\n",
       "        if (event.which === this._key)\n",
       "            return;\n",
       "        else\n",
       "            this._key = event.which;\n",
       "    }\n",
       "    if (name == 'key_release')\n",
       "        this._key = null;\n",
       "\n",
       "    var value = '';\n",
       "    if (event.ctrlKey && event.which != 17)\n",
       "        value += \"ctrl+\";\n",
       "    if (event.altKey && event.which != 18)\n",
       "        value += \"alt+\";\n",
       "    if (event.shiftKey && event.which != 16)\n",
       "        value += \"shift+\";\n",
       "\n",
       "    value += 'k';\n",
       "    value += event.which.toString();\n",
       "\n",
       "    this._key_event_extra(event, name);\n",
       "\n",
       "    this.send_message(name, {key: value});\n",
       "    return false;\n",
       "}\n",
       "\n",
       "mpl.figure.prototype.toolbar_button_onclick = function(name) {\n",
       "    if (name == 'download') {\n",
       "        this.handle_save(this, null);\n",
       "    } else {\n",
       "        this.send_message(\"toolbar_button\", {name: name});\n",
       "    }\n",
       "};\n",
       "\n",
       "mpl.figure.prototype.toolbar_button_onmouseover = function(tooltip) {\n",
       "    this.message.textContent = tooltip;\n",
       "};\n",
       "mpl.toolbar_items = [[\"Home\", \"Reset original view\", \"fa fa-home icon-home\", \"home\"], [\"Back\", \"Back to  previous view\", \"fa fa-arrow-left icon-arrow-left\", \"back\"], [\"Forward\", \"Forward to next view\", \"fa fa-arrow-right icon-arrow-right\", \"forward\"], [\"\", \"\", \"\", \"\"], [\"Pan\", \"Pan axes with left mouse, zoom with right\", \"fa fa-arrows icon-move\", \"pan\"], [\"Zoom\", \"Zoom to rectangle\", \"fa fa-square-o icon-check-empty\", \"zoom\"], [\"\", \"\", \"\", \"\"], [\"Download\", \"Download plot\", \"fa fa-floppy-o icon-save\", \"download\"]];\n",
       "\n",
       "mpl.extensions = [\"eps\", \"jpeg\", \"pdf\", \"png\", \"ps\", \"raw\", \"svg\", \"tif\"];\n",
       "\n",
       "mpl.default_extension = \"png\";var comm_websocket_adapter = function(comm) {\n",
       "    // Create a \"websocket\"-like object which calls the given IPython comm\n",
       "    // object with the appropriate methods. Currently this is a non binary\n",
       "    // socket, so there is still some room for performance tuning.\n",
       "    var ws = {};\n",
       "\n",
       "    ws.close = function() {\n",
       "        comm.close()\n",
       "    };\n",
       "    ws.send = function(m) {\n",
       "        //console.log('sending', m);\n",
       "        comm.send(m);\n",
       "    };\n",
       "    // Register the callback with on_msg.\n",
       "    comm.on_msg(function(msg) {\n",
       "        //console.log('receiving', msg['content']['data'], msg);\n",
       "        // Pass the mpl event to the overriden (by mpl) onmessage function.\n",
       "        ws.onmessage(msg['content']['data'])\n",
       "    });\n",
       "    return ws;\n",
       "}\n",
       "\n",
       "mpl.mpl_figure_comm = function(comm, msg) {\n",
       "    // This is the function which gets called when the mpl process\n",
       "    // starts-up an IPython Comm through the \"matplotlib\" channel.\n",
       "\n",
       "    var id = msg.content.data.id;\n",
       "    // Get hold of the div created by the display call when the Comm\n",
       "    // socket was opened in Python.\n",
       "    var element = $(\"#\" + id);\n",
       "    var ws_proxy = comm_websocket_adapter(comm)\n",
       "\n",
       "    function ondownload(figure, format) {\n",
       "        window.open(figure.imageObj.src);\n",
       "    }\n",
       "\n",
       "    var fig = new mpl.figure(id, ws_proxy,\n",
       "                           ondownload,\n",
       "                           element.get(0));\n",
       "\n",
       "    // Call onopen now - mpl needs it, as it is assuming we've passed it a real\n",
       "    // web socket which is closed, not our websocket->open comm proxy.\n",
       "    ws_proxy.onopen();\n",
       "\n",
       "    fig.parent_element = element.get(0);\n",
       "    fig.cell_info = mpl.find_output_cell(\"<div id='\" + id + \"'></div>\");\n",
       "    if (!fig.cell_info) {\n",
       "        console.error(\"Failed to find cell for figure\", id, fig);\n",
       "        return;\n",
       "    }\n",
       "\n",
       "    var output_index = fig.cell_info[2]\n",
       "    var cell = fig.cell_info[0];\n",
       "\n",
       "};\n",
       "\n",
       "mpl.figure.prototype.handle_close = function(fig, msg) {\n",
       "    // Update the output cell to use the data from the current canvas.\n",
       "    fig.push_to_output();\n",
       "    var dataURL = fig.canvas.toDataURL();\n",
       "    // Re-enable the keyboard manager in IPython - without this line, in FF,\n",
       "    // the notebook keyboard shortcuts fail.\n",
       "    IPython.keyboard_manager.enable()\n",
       "    $(fig.parent_element).html('<img src=\"' + dataURL + '\">');\n",
       "    fig.send_message('closing', {});\n",
       "    fig.ws.close()\n",
       "}\n",
       "\n",
       "mpl.figure.prototype.push_to_output = function(remove_interactive) {\n",
       "    // Turn the data on the canvas into data in the output cell.\n",
       "    var dataURL = this.canvas.toDataURL();\n",
       "    this.cell_info[1]['text/html'] = '<img src=\"' + dataURL + '\">';\n",
       "}\n",
       "\n",
       "mpl.figure.prototype.updated_canvas_event = function() {\n",
       "    // Tell IPython that the notebook contents must change.\n",
       "    IPython.notebook.set_dirty(true);\n",
       "    this.send_message(\"ack\", {});\n",
       "    var fig = this;\n",
       "    // Wait a second, then push the new image to the DOM so\n",
       "    // that it is saved nicely (might be nice to debounce this).\n",
       "    setTimeout(function () { fig.push_to_output() }, 1000);\n",
       "}\n",
       "\n",
       "mpl.figure.prototype._init_toolbar = function() {\n",
       "    var fig = this;\n",
       "\n",
       "    var nav_element = $('<div/>')\n",
       "    nav_element.attr('style', 'width: 100%');\n",
       "    this.root.append(nav_element);\n",
       "\n",
       "    // Define a callback function for later on.\n",
       "    function toolbar_event(event) {\n",
       "        return fig.toolbar_button_onclick(event['data']);\n",
       "    }\n",
       "    function toolbar_mouse_event(event) {\n",
       "        return fig.toolbar_button_onmouseover(event['data']);\n",
       "    }\n",
       "\n",
       "    for(var toolbar_ind in mpl.toolbar_items){\n",
       "        var name = mpl.toolbar_items[toolbar_ind][0];\n",
       "        var tooltip = mpl.toolbar_items[toolbar_ind][1];\n",
       "        var image = mpl.toolbar_items[toolbar_ind][2];\n",
       "        var method_name = mpl.toolbar_items[toolbar_ind][3];\n",
       "\n",
       "        if (!name) { continue; };\n",
       "\n",
       "        var button = $('<button class=\"btn btn-default\" href=\"#\" title=\"' + name + '\"><i class=\"fa ' + image + ' fa-lg\"></i></button>');\n",
       "        button.click(method_name, toolbar_event);\n",
       "        button.mouseover(tooltip, toolbar_mouse_event);\n",
       "        nav_element.append(button);\n",
       "    }\n",
       "\n",
       "    // Add the status bar.\n",
       "    var status_bar = $('<span class=\"mpl-message\" style=\"text-align:right; float: right;\"/>');\n",
       "    nav_element.append(status_bar);\n",
       "    this.message = status_bar[0];\n",
       "\n",
       "    // Add the close button to the window.\n",
       "    var buttongrp = $('<div class=\"btn-group inline pull-right\"></div>');\n",
       "    var button = $('<button class=\"btn btn-mini btn-danger\" href=\"#\" title=\"Close figure\"><i class=\"fa fa-times icon-remove icon-large\"></i></button>');\n",
       "    button.click(function (evt) { fig.handle_close(fig, {}); } );\n",
       "    button.mouseover('Close figure', toolbar_mouse_event);\n",
       "    buttongrp.append(button);\n",
       "    var titlebar = this.root.find($('.ui-dialog-titlebar'));\n",
       "    titlebar.prepend(buttongrp);\n",
       "}\n",
       "\n",
       "\n",
       "mpl.figure.prototype._canvas_extra_style = function(el){\n",
       "    // this is important to make the div 'focusable\n",
       "    el.attr('tabindex', 0)\n",
       "    // reach out to IPython and tell the keyboard manager to turn it's self\n",
       "    // off when our div gets focus\n",
       "\n",
       "    // location in version 3\n",
       "    if (IPython.notebook.keyboard_manager) {\n",
       "        IPython.notebook.keyboard_manager.register_events(el);\n",
       "    }\n",
       "    else {\n",
       "        // location in version 2\n",
       "        IPython.keyboard_manager.register_events(el);\n",
       "    }\n",
       "\n",
       "}\n",
       "\n",
       "mpl.figure.prototype._key_event_extra = function(event, name) {\n",
       "    var manager = IPython.notebook.keyboard_manager;\n",
       "    if (!manager)\n",
       "        manager = IPython.keyboard_manager;\n",
       "\n",
       "    // Check for shift+enter\n",
       "    if (event.shiftKey && event.which == 13) {\n",
       "        this.canvas_div.blur();\n",
       "        event.shiftKey = false;\n",
       "        // Send a \"J\" for go to next cell\n",
       "        event.which = 74;\n",
       "        event.keyCode = 74;\n",
       "        manager.command_mode();\n",
       "        manager.handle_keydown(event);\n",
       "    }\n",
       "}\n",
       "\n",
       "mpl.figure.prototype.handle_save = function(fig, msg) {\n",
       "    fig.ondownload(fig, null);\n",
       "}\n",
       "\n",
       "\n",
       "mpl.find_output_cell = function(html_output) {\n",
       "    // Return the cell and output element which can be found *uniquely* in the notebook.\n",
       "    // Note - this is a bit hacky, but it is done because the \"notebook_saving.Notebook\"\n",
       "    // IPython event is triggered only after the cells have been serialised, which for\n",
       "    // our purposes (turning an active figure into a static one), is too late.\n",
       "    var cells = IPython.notebook.get_cells();\n",
       "    var ncells = cells.length;\n",
       "    for (var i=0; i<ncells; i++) {\n",
       "        var cell = cells[i];\n",
       "        if (cell.cell_type === 'code'){\n",
       "            for (var j=0; j<cell.output_area.outputs.length; j++) {\n",
       "                var data = cell.output_area.outputs[j];\n",
       "                if (data.data) {\n",
       "                    // IPython >= 3 moved mimebundle to data attribute of output\n",
       "                    data = data.data;\n",
       "                }\n",
       "                if (data['text/html'] == html_output) {\n",
       "                    return [cell, data, j];\n",
       "                }\n",
       "            }\n",
       "        }\n",
       "    }\n",
       "}\n",
       "\n",
       "// Register the function which deals with the matplotlib target/channel.\n",
       "// The kernel may be null if the page has been refreshed.\n",
       "if (IPython.notebook.kernel != null) {\n",
       "    IPython.notebook.kernel.comm_manager.register_target('matplotlib', mpl.mpl_figure_comm);\n",
       "}\n"
      ],
      "text/plain": [
       "<IPython.core.display.Javascript object>"
      ]
     },
     "metadata": {},
     "output_type": "display_data"
    },
    {
     "data": {
      "text/html": [
       "<img src=\"data:image/png;base64,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\">"
      ],
      "text/plain": [
       "<IPython.core.display.HTML object>"
      ]
     },
     "metadata": {},
     "output_type": "display_data"
    }
   ],
   "source": [
    "plotting.plot3d((ef), (x,0,0), (y,-5,5));"
   ]
  },
  {
   "cell_type": "code",
   "execution_count": 39,
   "metadata": {
    "collapsed": true
   },
   "outputs": [],
   "source": [
    "xTEST = np.linspace(1,30,200)\n",
    "yTEST = np.linspace(1,30,200)\n",
    "xZEROS = np.zeros(200)\n",
    "yZEROS = np.zeros(200)"
   ]
  },
  {
   "cell_type": "code",
   "execution_count": 40,
   "metadata": {
    "collapsed": false
   },
   "outputs": [],
   "source": [
    "#if __name__ == '__main__':\n",
    "\n",
    "#    sym2sci = {'besselj':jv,'besselk':kv,'besseli':iv,'bessely':yv}\n",
    "\n",
    "#    y = besselj(v+1,x)/x+x*besselk(v,x)-x**2*bessely(2,x)\n",
    "#    yx = diff(y,x)\n",
    "#    f = lambdify((v,x),yx,sym2sci)\n",
    "#    xn = np.linspace(0.01,5,100)\n",
    "\n",
    "#    plt.plot(xn,f(1,xn),lw=2)\n",
    "\n",
    "#    plt.show()"
   ]
  },
  {
   "cell_type": "code",
   "execution_count": 47,
   "metadata": {
    "collapsed": false
   },
   "outputs": [],
   "source": [
    "if __name__ == '__main__':\n",
    "\n",
    "    sy2sc = {'besselj':jv,'besselk':kv,'besseli':iv,'bessely':yv}\n",
    "    \n",
    "    NX_L = -theta_s*y*besselk(1,sqrt((x+a)**2 + y**2)/d)/(sqrt((x+a)**2 + y**2)*besselk(1,R_L/d))\n",
    "    NX_R = -theta_s*y*besselk(1,sqrt((x-a)**2 + y**2)/d)/(sqrt((x-a)**2 + y**2)*besselk(1,R_R/d))\n",
    "    NX = NX_L + NX_R\n",
    "    \n",
    "    NY_L = theta_s*(x+a)*besselk(1,sqrt((x+a)**2 + y**2)/d)/(sqrt((x+a)**2 + y**2)*besselk(1,R_L/d))\n",
    "    NY_R = theta_s*(x-a)*besselk(1,sqrt((x-a)**2 + y**2)/d)/(sqrt((x-a)**2 + y**2)*besselk(1,R_R/d))\n",
    "    NY = NY_L + NY_R\n",
    "    \n",
    "    DXNX = NX.diff(x)\n",
    "    DYNX = NX.diff(y)\n",
    "    DXNY = NY.diff(x)\n",
    "    DYNY = NY.diff(y)\n",
    "    \n",
    "    FFF = (d**2/2)*(DXNX**2 + DYNX**2 + DXNY**2 + DYNY**2 + 2*DXNX*DYNY - 2*DXNY*DYNX) + (1/2)*(NX**2 + NY**2)\n",
    "    #fff = lambdify((d,a,R_L,R_R,x,y), FFF, sy2sc)"
   ]
  },
  {
   "cell_type": "code",
   "execution_count": 51,
   "metadata": {
    "collapsed": false
   },
   "outputs": [
    {
     "ename": "TypeError",
     "evalue": "'Add' object is not callable",
     "output_type": "error",
     "traceback": [
      "\u001b[1;31m---------------------------------------------------------------------------\u001b[0m",
      "\u001b[1;31mTypeError\u001b[0m                                 Traceback (most recent call last)",
      "\u001b[1;32m<ipython-input-51-395c8df6ac35>\u001b[0m in \u001b[0;36m<module>\u001b[1;34m()\u001b[0m\n\u001b[1;32m----> 1\u001b[1;33m \u001b[0mlambdify\u001b[0m\u001b[1;33m(\u001b[0m\u001b[1;33m(\u001b[0m\u001b[0ma\u001b[0m\u001b[1;33m,\u001b[0m \u001b[0mR_L\u001b[0m\u001b[1;33m,\u001b[0m \u001b[0mR_R\u001b[0m\u001b[1;33m,\u001b[0m \u001b[0md\u001b[0m\u001b[1;33m,\u001b[0m \u001b[0mtheta_s\u001b[0m\u001b[1;33m,\u001b[0m \u001b[0mx\u001b[0m\u001b[1;33m,\u001b[0m \u001b[0my\u001b[0m\u001b[1;33m)\u001b[0m\u001b[1;33m,\u001b[0m \u001b[0mNX\u001b[0m\u001b[1;33m(\u001b[0m\u001b[0ma\u001b[0m\u001b[1;33m,\u001b[0m \u001b[0mR_L\u001b[0m\u001b[1;33m,\u001b[0m \u001b[0mR_R\u001b[0m\u001b[1;33m,\u001b[0m \u001b[0md\u001b[0m\u001b[1;33m,\u001b[0m \u001b[0mtheta_s\u001b[0m\u001b[1;33m,\u001b[0m \u001b[0mx\u001b[0m\u001b[1;33m,\u001b[0m \u001b[0my\u001b[0m\u001b[1;33m)\u001b[0m\u001b[1;33m,\u001b[0m \u001b[0msy2sc\u001b[0m\u001b[1;33m)\u001b[0m\u001b[1;33m\u001b[0m\u001b[0m\n\u001b[0m",
      "\u001b[1;31mTypeError\u001b[0m: 'Add' object is not callable"
     ]
    }
   ],
   "source": [
    "lambdify((a, R_L, R_R, d, theta_s, x, y), NX(a, R_L, R_R, d, theta_s, x, y), sy2sc)"
   ]
  },
  {
   "cell_type": "code",
   "execution_count": 43,
   "metadata": {
    "collapsed": false
   },
   "outputs": [
    {
     "ename": "SyntaxError",
     "evalue": "invalid syntax (<string>, line 1)",
     "output_type": "error",
     "traceback": [
      "\u001b[1;36m  File \u001b[1;32m\"<string>\"\u001b[1;36m, line \u001b[1;32m1\u001b[0m\n\u001b[1;33m    lambda 1,0.2,1: (-0.00761421319796954*sqrt(394)*besselk(1, sqrt(394))/besselk(1, 1.0))\u001b[0m\n\u001b[1;37m           ^\u001b[0m\n\u001b[1;31mSyntaxError\u001b[0m\u001b[1;31m:\u001b[0m invalid syntax\n"
     ]
    }
   ],
   "source": [
    "nx_L_lam = lambdify([R_L,theta_s,d], nx_cart(sqrt(394), 10, 15, theta_s, R_L, d),'numpy')"
   ]
  },
  {
   "cell_type": "code",
   "execution_count": null,
   "metadata": {
    "collapsed": true
   },
   "outputs": [],
   "source": [
    "func = lambdify([a,d,R_L,R_R,theta_s], f_2(nx_tot, ny_tot, theta_s, a, R_L, R_R, d, dxnx_2cyl, dynx_2cyl, dxny_2cyl, dyny_2cyl), modules='numpy',dummify=False)"
   ]
  },
  {
   "cell_type": "code",
   "execution_count": null,
   "metadata": {
    "collapsed": true
   },
   "outputs": [],
   "source": [
    "plot(sqrt(xZEROS**2+yTEST**2),f_2(nx_tot, ny_tot, theta_s, d, dxnx_2cyl, dynx_2cyl, dxny_2cyl, dyny_2cyl))"
   ]
  },
  {
   "cell_type": "code",
   "execution_count": null,
   "metadata": {
    "collapsed": true
   },
   "outputs": [],
   "source": [
    "I, e = quad(simple_f, 1, 200, args=(0.2, 10, 1, 500))"
   ]
  },
  {
   "cell_type": "code",
   "execution_count": null,
   "metadata": {
    "collapsed": false
   },
   "outputs": [],
   "source": [
    "I"
   ]
  },
  {
   "cell_type": "code",
   "execution_count": null,
   "metadata": {
    "collapsed": false
   },
   "outputs": [],
   "source": [
    "plt.scatter(np.linspace(1,200,1000), simple_f(np.linspace(1,200,1000), np.pi/6, 9, 1, 3.9))\n",
    "plt.xlim(0,10), plt.ylim(0, 25.5);"
   ]
  },
  {
   "cell_type": "code",
   "execution_count": null,
   "metadata": {
    "collapsed": false
   },
   "outputs": [],
   "source": [
    "simple_f(1, np.pi/6, 9, 1, 3.9)"
   ]
  },
  {
   "cell_type": "code",
   "execution_count": null,
   "metadata": {
    "collapsed": true
   },
   "outputs": [],
   "source": []
  }
 ],
 "metadata": {
  "kernelspec": {
   "display_name": "Python 3",
   "language": "python",
   "name": "python3"
  },
  "language_info": {
   "codemirror_mode": {
    "name": "ipython",
    "version": 3
   },
   "file_extension": ".py",
   "mimetype": "text/x-python",
   "name": "python",
   "nbconvert_exporter": "python",
   "pygments_lexer": "ipython3",
   "version": "3.4.0"
  }
 },
 "nbformat": 4,
 "nbformat_minor": 0
}
