{
 "cells": [
  {
   "cell_type": "code",
   "execution_count": 1,
   "metadata": {
    "collapsed": false
   },
   "outputs": [],
   "source": [
    "%matplotlib notebook\n",
    "from sympy import *\n",
    "from sympy import besselk, besselj\n",
    "from sympy.utilities.lambdify import lambdify\n",
    "from sympy.utilities.autowrap import ufuncify\n",
    "from sympy.utilities.lambdify import implemented_function\n",
    "from sympy.physics.hydrogen import R_nl\n",
    "import numpy as np\n",
    "from scipy.special import kn, jv, kv, iv, yv\n",
    "from scipy.integrate import quad\n",
    "import matplotlib.pyplot as plt\n",
    "from scipy import misc\n",
    "init_printing(use_unicode=True)"
   ]
  },
  {
   "cell_type": "code",
   "execution_count": 2,
   "metadata": {
    "collapsed": false
   },
   "outputs": [],
   "source": [
    "x, y, r, R, E, K, phi, theta_s, a, R_L, R_R, d, p, v, theta_1, theta_2 = symbols('x y r R E K phi theta_s a R_L R_R d p v theta_1 theta_2')"
   ]
  },
  {
   "cell_type": "markdown",
   "metadata": {},
   "source": [
    "##Single Cylinder"
   ]
  },
  {
   "cell_type": "code",
   "execution_count": 6,
   "metadata": {
    "collapsed": true
   },
   "outputs": [],
   "source": [
    "def Nx(x,y,theta_s):\n",
    "    return -2*y*tan(theta_s/2)/(x**2 + y**2 + tan(theta_s/2)**2)\n",
    "\n",
    "def Ny(x,y,theta_s):\n",
    "    return 2*x*tan(theta_s/2)/(x**2 + y**2 + tan(theta_s/2)**2)"
   ]
  },
  {
   "cell_type": "code",
   "execution_count": 19,
   "metadata": {
    "collapsed": false
   },
   "outputs": [],
   "source": [
    "#nx_r, nx_l\n",
    "nx2 = Nx(x-a,y,theta_s) + Nx(x+a,y,theta_s)"
   ]
  },
  {
   "cell_type": "code",
   "execution_count": 20,
   "metadata": {
    "collapsed": false
   },
   "outputs": [],
   "source": [
    "#ny_r, ny_l\n",
    "ny2 = Ny(x-a,y,theta_s) + Ny(x+a,y,theta_s)"
   ]
  },
  {
   "cell_type": "code",
   "execution_count": 21,
   "metadata": {
    "collapsed": true
   },
   "outputs": [],
   "source": [
    "DXNX2 = nx2.diff(x)\n",
    "DYNX2 = nx2.diff(y)\n",
    "DXNY2 = ny2.diff(x)\n",
    "DYNY2 = ny2.diff(y)"
   ]
  },
  {
   "cell_type": "code",
   "execution_count": 23,
   "metadata": {
    "collapsed": false
   },
   "outputs": [
    {
     "data": {
      "image/png": "[encoded data removed]",
      "text/latex": [
       "$$\\frac{64 \\tan^{6}{\\left (\\frac{\\theta_{s}}{2} \\right )}}{\\left(y^{2} + \\left(a - x\\right)^{2} + \\tan^{2}{\\left (\\frac{\\theta_{s}}{2} \\right )}\\right)^{4} \\left(y^{2} + \\left(a + x\\right)^{2} + \\tan^{2}{\\left (\\frac{\\theta_{s}}{2} \\right )}\\right)^{4}} \\left(a^{4} + 6 a^{2} x^{2} + 2 a^{2} y^{2} + 2 a^{2} \\tan^{2}{\\left (\\frac{\\theta_{s}}{2} \\right )} + x^{4} + 2 x^{2} y^{2} + 2 x^{2} \\tan^{2}{\\left (\\frac{\\theta_{s}}{2} \\right )} + y^{4} + 2 y^{2} \\tan^{2}{\\left (\\frac{\\theta_{s}}{2} \\right )} + \\tan^{4}{\\left (\\frac{\\theta_{s}}{2} \\right )}\\right)^{2}$$"
      ],
      "text/plain": [
       "                                                                              \n",
       "   ⎛ 4      2  2      2  2      2    2⎛θ_s⎞    4      2  2      2    2⎛θ_s⎞   \n",
       "64⋅⎜a  + 6⋅a ⋅x  + 2⋅a ⋅y  + 2⋅a ⋅tan ⎜───⎟ + x  + 2⋅x ⋅y  + 2⋅x ⋅tan ⎜───⎟ + \n",
       "   ⎝                                  ⎝ 2 ⎠                           ⎝ 2 ⎠   \n",
       "──────────────────────────────────────────────────────────────────────────────\n",
       "                                                           4                  \n",
       "                                ⎛ 2          2      2⎛θ_s⎞⎞  ⎛ 2          2   \n",
       "                                ⎜y  + (a - x)  + tan ⎜───⎟⎟ ⋅⎜y  + (a + x)  + \n",
       "                                ⎝                    ⎝ 2 ⎠⎠  ⎝                \n",
       "\n",
       "                                2          \n",
       " 4      2    2⎛θ_s⎞      4⎛θ_s⎞⎞     6⎛θ_s⎞\n",
       "y  + 2⋅y ⋅tan ⎜───⎟ + tan ⎜───⎟⎟ ⋅tan ⎜───⎟\n",
       "              ⎝ 2 ⎠       ⎝ 2 ⎠⎠      ⎝ 2 ⎠\n",
       "───────────────────────────────────────────\n",
       "          4                                \n",
       "   2⎛θ_s⎞⎞                                 \n",
       "tan ⎜───⎟⎟                                 \n",
       "    ⎝ 2 ⎠⎠                                 "
      ]
     },
     "execution_count": 23,
     "metadata": {},
     "output_type": "execute_result"
    }
   ],
   "source": [
    "simplify(DXNY2-DYNX2)**2"
   ]
  },
  {
   "cell_type": "code",
   "execution_count": 7,
   "metadata": {
    "collapsed": false,
    "scrolled": true
   },
   "outputs": [
    {
     "data": {
      "image/png": "[encoded data removed]",
      "text/latex": [
       "$$- \\frac{2 y \\tan{\\left (\\frac{\\theta_{s}}{2} \\right )}}{x^{2} + y^{2} + \\tan^{2}{\\left (\\frac{\\theta_{s}}{2} \\right )}}$$"
      ],
      "text/plain": [
       "           ⎛θ_s⎞   \n",
       "   -2⋅y⋅tan⎜───⎟   \n",
       "           ⎝ 2 ⎠   \n",
       "───────────────────\n",
       " 2    2      2⎛θ_s⎞\n",
       "x  + y  + tan ⎜───⎟\n",
       "              ⎝ 2 ⎠"
      ]
     },
     "execution_count": 7,
     "metadata": {},
     "output_type": "execute_result"
    }
   ],
   "source": [
    "Nx(x,y,theta_s)"
   ]
  },
  {
   "cell_type": "code",
   "execution_count": 8,
   "metadata": {
    "collapsed": false
   },
   "outputs": [
    {
     "data": {
      "image/png": "[encoded data removed]",
      "text/latex": [
       "$$\\frac{2 x \\tan{\\left (\\frac{\\theta_{s}}{2} \\right )}}{x^{2} + y^{2} + \\tan^{2}{\\left (\\frac{\\theta_{s}}{2} \\right )}}$$"
      ],
      "text/plain": [
       "           ⎛θ_s⎞   \n",
       "    2⋅x⋅tan⎜───⎟   \n",
       "           ⎝ 2 ⎠   \n",
       "───────────────────\n",
       " 2    2      2⎛θ_s⎞\n",
       "x  + y  + tan ⎜───⎟\n",
       "              ⎝ 2 ⎠"
      ]
     },
     "execution_count": 8,
     "metadata": {},
     "output_type": "execute_result"
    }
   ],
   "source": [
    "Ny(x,y,theta_s)"
   ]
  },
  {
   "cell_type": "code",
   "execution_count": 9,
   "metadata": {
    "collapsed": true
   },
   "outputs": [],
   "source": [
    "DXNX = Nx(x,y,theta_s).diff(x)\n",
    "DYNX = Nx(x,y,theta_s).diff(y)\n",
    "DXNY = Ny(x,y,theta_s).diff(x)\n",
    "DYNY = Ny(x,y,theta_s).diff(y)"
   ]
  },
  {
   "cell_type": "code",
   "execution_count": 10,
   "metadata": {
    "collapsed": true
   },
   "outputs": [],
   "source": [
    "def single_f(x, y, theta_s, dxnx, dynx, dxny, dyny):\n",
    "    return (dxnx**2 + dynx**2 + dxny**2 + dyny**2 + 2*dxnx*dyny - 2*dxny*dynx)/2"
   ]
  },
  {
   "cell_type": "code",
   "execution_count": 11,
   "metadata": {
    "collapsed": false
   },
   "outputs": [
    {
     "data": {
      "image/png": "[encoded data removed]",
      "text/latex": [
       "$$\\frac{8 \\tan^{6}{\\left (\\frac{\\theta_{s}}{2} \\right )}}{\\left(x^{2} + y^{2} + \\tan^{2}{\\left (\\frac{\\theta_{s}}{2} \\right )}\\right)^{4}}$$"
      ],
      "text/plain": [
       "          6⎛θ_s⎞      \n",
       "     8⋅tan ⎜───⎟      \n",
       "           ⎝ 2 ⎠      \n",
       "──────────────────────\n",
       "                     4\n",
       "⎛ 2    2      2⎛θ_s⎞⎞ \n",
       "⎜x  + y  + tan ⎜───⎟⎟ \n",
       "⎝              ⎝ 2 ⎠⎠ "
      ]
     },
     "execution_count": 11,
     "metadata": {},
     "output_type": "execute_result"
    }
   ],
   "source": [
    "simplify(single_f(x, y, theta_s, DXNX, DYNX, DXNY, DYNY))"
   ]
  },
  {
   "cell_type": "markdown",
   "metadata": {},
   "source": [
    "##Single Cylinder E-Field"
   ]
  },
  {
   "cell_type": "code",
   "execution_count": 3,
   "metadata": {
    "collapsed": false
   },
   "outputs": [],
   "source": [
    "def nx(r, phi, theta_s, R, d):\n",
    "    return (-theta_s*sin(phi)*besselk(1, r/d)/besselk(1, R/d))\n",
    "\n",
    "def ny(r, phi, theta_s, R, d):\n",
    "    return (theta_s*cos(phi)*besselk(1, r/d)/besselk(1, R/d))"
   ]
  },
  {
   "cell_type": "code",
   "execution_count": 4,
   "metadata": {
    "collapsed": false
   },
   "outputs": [
    {
     "data": {
      "image/png": "[encoded data removed]",
      "text/latex": [
       "$$- \\frac{\\theta_{s} K_{1}\\left(\\frac{r}{d}\\right)}{K_{1}\\left(\\frac{1}{d}\\right)} \\sin{\\left (\\phi \\right )}$$"
      ],
      "text/plain": [
       "                   ⎛   r⎞ \n",
       "-θ_s⋅sin(φ)⋅besselk⎜1, ─⎟ \n",
       "                   ⎝   d⎠ \n",
       "──────────────────────────\n",
       "             ⎛   1⎞       \n",
       "      besselk⎜1, ─⎟       \n",
       "             ⎝   d⎠       "
      ]
     },
     "execution_count": 4,
     "metadata": {},
     "output_type": "execute_result"
    }
   ],
   "source": [
    "nx(r, phi, theta_s, 1, d)"
   ]
  },
  {
   "cell_type": "code",
   "execution_count": 5,
   "metadata": {
    "collapsed": false
   },
   "outputs": [
    {
     "data": {
      "image/png": "[encoded data removed]",
      "text/latex": [
       "$$\\frac{\\theta_{s} K_{1}\\left(\\frac{r}{d}\\right)}{K_{1}\\left(\\frac{1}{d}\\right)} \\cos{\\left (\\phi \\right )}$$"
      ],
      "text/plain": [
       "                  ⎛   r⎞\n",
       "θ_s⋅cos(φ)⋅besselk⎜1, ─⎟\n",
       "                  ⎝   d⎠\n",
       "────────────────────────\n",
       "            ⎛   1⎞      \n",
       "     besselk⎜1, ─⎟      \n",
       "            ⎝   d⎠      "
      ]
     },
     "execution_count": 5,
     "metadata": {},
     "output_type": "execute_result"
    }
   ],
   "source": [
    "ny(r, phi, theta_s, 1, d)"
   ]
  },
  {
   "cell_type": "code",
   "execution_count": 6,
   "metadata": {
    "collapsed": false
   },
   "outputs": [],
   "source": [
    "dxnx = cos(phi)*nx(r, phi, theta_s, 1, d).diff(r) - (sin(phi)*nx(r, phi, theta_s, 1, d).diff(phi))/r\n",
    "dynx = sin(phi)*nx(r, phi, theta_s, 1, d).diff(r) + (cos(phi)*nx(r, phi, theta_s, 1, d).diff(phi))/r\n",
    "dxny = cos(phi)*ny(r, phi, theta_s, 1, d).diff(r) - (sin(phi)*ny(r, phi, theta_s, 1, d).diff(phi))/r\n",
    "dyny = sin(phi)*ny(r, phi, theta_s, 1, d).diff(r) + (cos(phi)*ny(r, phi, theta_s, 1, d).diff(phi))/r"
   ]
  },
  {
   "cell_type": "code",
   "execution_count": 41,
   "metadata": {
    "collapsed": false
   },
   "outputs": [
    {
     "data": {
      "image/png": "[encoded data removed]",
      "text/latex": [
       "$$\\frac{\\theta_{s} \\sin{\\left (2 \\phi \\right )}}{2 d r K_{1}\\left(\\frac{1}{d}\\right)} \\left(2 d K_{1}\\left(\\frac{r}{d}\\right) + r K_{0}\\left(\\frac{r}{d}\\right)\\right)$$"
      ],
      "text/plain": [
       "    ⎛           ⎛   r⎞            ⎛   r⎞⎞         \n",
       "θ_s⋅⎜2⋅d⋅besselk⎜1, ─⎟ + r⋅besselk⎜0, ─⎟⎟⋅sin(2⋅φ)\n",
       "    ⎝           ⎝   d⎠            ⎝   d⎠⎠         \n",
       "──────────────────────────────────────────────────\n",
       "                            ⎛   1⎞                \n",
       "               2⋅d⋅r⋅besselk⎜1, ─⎟                \n",
       "                            ⎝   d⎠                "
      ]
     },
     "execution_count": 41,
     "metadata": {},
     "output_type": "execute_result"
    }
   ],
   "source": [
    "simplify(dxnx)"
   ]
  },
  {
   "cell_type": "code",
   "execution_count": null,
   "metadata": {
    "collapsed": false
   },
   "outputs": [],
   "source": [
    "(dxnx+dyny)**2"
   ]
  },
  {
   "cell_type": "code",
   "execution_count": 7,
   "metadata": {
    "collapsed": false
   },
   "outputs": [
    {
     "data": {
      "image/png": "[encoded data removed]",
      "text/latex": [
       "$$\\frac{0.5 \\theta_{s}^{2}}{d^{2} K^{2}_{1}\\left(\\frac{1}{d}\\right)} \\left(K^{2}_{0}\\left(\\frac{r}{d}\\right) + K^{2}_{1}\\left(\\frac{r}{d}\\right)\\right)$$"
      ],
      "text/plain": [
       "       2 ⎛       2⎛   r⎞          2⎛   r⎞⎞\n",
       "0.5⋅θ_s ⋅⎜besselk ⎜0, ─⎟ + besselk ⎜1, ─⎟⎟\n",
       "         ⎝        ⎝   d⎠           ⎝   d⎠⎠\n",
       "──────────────────────────────────────────\n",
       "             2        2⎛   1⎞             \n",
       "            d ⋅besselk ⎜1, ─⎟             \n",
       "                       ⎝   d⎠             "
      ]
     },
     "execution_count": 7,
     "metadata": {},
     "output_type": "execute_result"
    }
   ],
   "source": [
    "simplify((1/2)*(simplify((dxny-dynx)**2) + simplify((nx(r, phi, theta_s, 1, d)**2+ny(r, phi, theta_s, 1, d)**2)/d**2)))"
   ]
  },
  {
   "cell_type": "code",
   "execution_count": 44,
   "metadata": {
    "collapsed": false
   },
   "outputs": [],
   "source": [
    "def f(r, phi, theta_s, R, d, dxnx, dynx, dxny, dyny):\n",
    "    return (1/2)*((dxnx+dyny)**2 + (dxny-dynx)**2) + (nx(r, phi, theta_s, 1, d)**2 + ny(r, phi, theta_s, 1, d)**2 - 1)/(d**2*2)"
   ]
  },
  {
   "cell_type": "code",
   "execution_count": 9,
   "metadata": {
    "collapsed": false
   },
   "outputs": [
    {
     "data": {
      "image/png": "[encoded data removed]",
      "text/latex": [
       "$$\\frac{\\theta_{s}^{2} K^{2}_{1}\\left(\\frac{r}{d}\\right)}{2 d^{2} K^{2}_{1}\\left(\\frac{1}{d}\\right)}$$"
      ],
      "text/plain": [
       "   2        2⎛   r⎞\n",
       "θ_s ⋅besselk ⎜1, ─⎟\n",
       "             ⎝   d⎠\n",
       "───────────────────\n",
       "   2        2⎛   1⎞\n",
       "2⋅d ⋅besselk ⎜1, ─⎟\n",
       "             ⎝   d⎠"
      ]
     },
     "execution_count": 9,
     "metadata": {},
     "output_type": "execute_result"
    }
   ],
   "source": [
    "simplify((nx(r, phi, theta_s, 1, d)**2 + ny(r, phi, theta_s, 1, d)**2)/(d**2*2))"
   ]
  },
  {
   "cell_type": "code",
   "execution_count": 45,
   "metadata": {
    "collapsed": false
   },
   "outputs": [
    {
     "data": {
      "image/png": "[encoded data removed]",
      "text/latex": [
       "$$\\frac{1}{d^{2} K^{2}_{1}\\left(\\frac{1}{d}\\right)} \\left(0.5 \\theta_{s}^{2} K^{2}_{0}\\left(\\frac{r}{d}\\right) + 0.5 \\theta_{s}^{2} K^{2}_{1}\\left(\\frac{r}{d}\\right) - 0.5 K^{2}_{1}\\left(\\frac{1}{d}\\right)\\right)$$"
      ],
      "text/plain": [
       "    ⎛   2        2⎛   r⎞      2        2⎛   r⎞          2⎛   1⎞⎞\n",
       "0.5⋅⎜θ_s ⋅besselk ⎜0, ─⎟ + θ_s ⋅besselk ⎜1, ─⎟ - besselk ⎜1, ─⎟⎟\n",
       "    ⎝             ⎝   d⎠                ⎝   d⎠           ⎝   d⎠⎠\n",
       "────────────────────────────────────────────────────────────────\n",
       "                        2        2⎛   1⎞                        \n",
       "                       d ⋅besselk ⎜1, ─⎟                        \n",
       "                                  ⎝   d⎠                        "
      ]
     },
     "execution_count": 45,
     "metadata": {},
     "output_type": "execute_result"
    }
   ],
   "source": [
    "simplify(f(r, phi, theta_s, 1, d, dxnx, dynx, dxny, dyny))"
   ]
  },
  {
   "cell_type": "code",
   "execution_count": null,
   "metadata": {
    "collapsed": true
   },
   "outputs": [],
   "source": [
    "def simple_f(r, theta_s, d):\n",
    "    return (theta_s**2*(k0(r/d)**2 + k1(r/d)**2))/(2*k1(1/d)**2)"
   ]
  },
  {
   "cell_type": "markdown",
   "metadata": {},
   "source": [
    "##Two Cylinders E-Field"
   ]
  },
  {
   "cell_type": "code",
   "execution_count": 3,
   "metadata": {
    "collapsed": true
   },
   "outputs": [],
   "source": [
    "def nx_cart(r, x, y, theta_s, R, d):\n",
    "    return (-theta_s*y*besselk(1, r/d))/(r*besselk(1, R/d))\n",
    "\n",
    "def ny_cart(r, x, y, theta_s, R, d):\n",
    "    return (theta_s*x*besselk(1, r/d))/(r*besselk(1, R/d))"
   ]
  },
  {
   "cell_type": "code",
   "execution_count": null,
   "metadata": {
    "collapsed": true
   },
   "outputs": [],
   "source": [
    "a = 2\n",
    "d = 1\n",
    "R_L = 1\n",
    "R_R = 1\n",
    "theta_s = 0.2"
   ]
  },
  {
   "cell_type": "code",
   "execution_count": 4,
   "metadata": {
    "collapsed": false
   },
   "outputs": [],
   "source": [
    "nx_L = nx_cart(sqrt((x+a)**2 + y**2), x, y, theta_2, 1, d)\n",
    "ny_L = ny_cart(sqrt((x+a)**2 + y**2), x+a, y, theta_2, 1, d)\n",
    "nx_R = nx_cart(sqrt((x-a)**2 + y**2), x, y, theta_1, 1, d)\n",
    "ny_R = ny_cart(sqrt((x-a)**2 + y**2), x-a, y, theta_1, 1, d)"
   ]
  },
  {
   "cell_type": "code",
   "execution_count": 5,
   "metadata": {
    "collapsed": false
   },
   "outputs": [
    {
     "data": {
      "image/png": "[encoded data removed]",
      "text/latex": [
       "$$\\left ( - \\frac{\\theta_{2} y K_{1}\\left(\\frac{1}{d} \\sqrt{y^{2} + \\left(a + x\\right)^{2}}\\right)}{\\sqrt{y^{2} + \\left(a + x\\right)^{2}} K_{1}\\left(\\frac{1}{d}\\right)}, \\quad - \\frac{\\theta_{1} y K_{1}\\left(\\frac{1}{d} \\sqrt{y^{2} + \\left(- a + x\\right)^{2}}\\right)}{\\sqrt{y^{2} + \\left(- a + x\\right)^{2}} K_{1}\\left(\\frac{1}{d}\\right)}\\right )$$"
      ],
      "text/plain": [
       "⎛             ⎛      _______________⎞                ⎛      ________________⎞ \n",
       "⎜             ⎜     ╱  2          2 ⎟                ⎜     ╱  2           2 ⎟ \n",
       "⎜             ⎜   ╲╱  y  + (a + x)  ⎟                ⎜   ╲╱  y  + (-a + x)  ⎟ \n",
       "⎜-θ₂⋅y⋅besselk⎜1, ──────────────────⎟   -θ₁⋅y⋅besselk⎜1, ───────────────────⎟ \n",
       "⎜             ⎝           d         ⎠                ⎝            d         ⎠ \n",
       "⎜─────────────────────────────────────, ──────────────────────────────────────\n",
       "⎜      _______________                       ________________                 \n",
       "⎜     ╱  2          2         ⎛   1⎞        ╱  2           2         ⎛   1⎞   \n",
       "⎜   ╲╱  y  + (a + x)  ⋅besselk⎜1, ─⎟      ╲╱  y  + (-a + x)  ⋅besselk⎜1, ─⎟   \n",
       "⎝                             ⎝   d⎠                                 ⎝   d⎠   \n",
       "\n",
       "⎞\n",
       "⎟\n",
       "⎟\n",
       "⎟\n",
       "⎟\n",
       "⎟\n",
       "⎟\n",
       "⎟\n",
       "⎟\n",
       "⎠"
      ]
     },
     "execution_count": 5,
     "metadata": {},
     "output_type": "execute_result"
    }
   ],
   "source": [
    "nx_L, nx_R"
   ]
  },
  {
   "cell_type": "code",
   "execution_count": null,
   "metadata": {
    "collapsed": false
   },
   "outputs": [],
   "source": [
    "#ny_L, ny_R"
   ]
  },
  {
   "cell_type": "code",
   "execution_count": 20,
   "metadata": {
    "collapsed": true
   },
   "outputs": [],
   "source": [
    "nx_tot = nx_L + nx_R\n",
    "ny_tot = ny_L + ny_R"
   ]
  },
  {
   "cell_type": "code",
   "execution_count": 31,
   "metadata": {
    "collapsed": false
   },
   "outputs": [
    {
     "data": {
      "image/png": "[encoded data removed]",
      "text/latex": [
       "$$\\frac{1}{d^{2}} \\left(\\left(- \\frac{\\theta_{1} y K_{1}\\left(\\frac{1}{d} \\sqrt{y^{2} + \\left(- a + x\\right)^{2}}\\right)}{\\sqrt{y^{2} + \\left(- a + x\\right)^{2}} K_{1}\\left(\\frac{1}{d}\\right)} - \\frac{\\theta_{2} y K_{1}\\left(\\frac{1}{d} \\sqrt{y^{2} + \\left(a + x\\right)^{2}}\\right)}{\\sqrt{y^{2} + \\left(a + x\\right)^{2}} K_{1}\\left(\\frac{1}{d}\\right)}\\right)^{2} + \\left(\\frac{\\theta_{1} \\left(- a + x\\right) K_{1}\\left(\\frac{1}{d} \\sqrt{y^{2} + \\left(- a + x\\right)^{2}}\\right)}{\\sqrt{y^{2} + \\left(- a + x\\right)^{2}} K_{1}\\left(\\frac{1}{d}\\right)} + \\frac{\\theta_{2} \\left(a + x\\right) K_{1}\\left(\\frac{1}{d} \\sqrt{y^{2} + \\left(a + x\\right)^{2}}\\right)}{\\sqrt{y^{2} + \\left(a + x\\right)^{2}} K_{1}\\left(\\frac{1}{d}\\right)}\\right)^{2}\\right)$$"
      ],
      "text/plain": [
       "                                                                              \n",
       "⎛              ⎛      ________________⎞               ⎛      _______________⎞⎞\n",
       "⎜              ⎜     ╱  2           2 ⎟               ⎜     ╱  2          2 ⎟⎟\n",
       "⎜              ⎜   ╲╱  y  + (-a + x)  ⎟               ⎜   ╲╱  y  + (a + x)  ⎟⎟\n",
       "⎜  θ₁⋅y⋅besselk⎜1, ───────────────────⎟   θ₂⋅y⋅besselk⎜1, ──────────────────⎟⎟\n",
       "⎜              ⎝            d         ⎠               ⎝           d         ⎠⎟\n",
       "⎜- ──────────────────────────────────── - ───────────────────────────────────⎟\n",
       "⎜      ________________                        _______________               ⎟\n",
       "⎜     ╱  2           2         ⎛   1⎞         ╱  2          2         ⎛   1⎞ ⎟\n",
       "⎜   ╲╱  y  + (-a + x)  ⋅besselk⎜1, ─⎟       ╲╱  y  + (a + x)  ⋅besselk⎜1, ─⎟ ⎟\n",
       "⎝                              ⎝   d⎠                                 ⎝   d⎠ ⎠\n",
       "──────────────────────────────────────────────────────────────────────────────\n",
       "                                                                              \n",
       "                                                                              \n",
       "\n",
       "2                                                                             \n",
       "    ⎛                   ⎛      ________________⎞                     ⎛      __\n",
       "    ⎜                   ⎜     ╱  2           2 ⎟                     ⎜     ╱  \n",
       "    ⎜                   ⎜   ╲╱  y  + (-a + x)  ⎟                     ⎜   ╲╱  y\n",
       "    ⎜θ₁⋅(-a + x)⋅besselk⎜1, ───────────────────⎟   θ₂⋅(a + x)⋅besselk⎜1, ─────\n",
       "    ⎜                   ⎝            d         ⎠                     ⎝        \n",
       "  + ⎜─────────────────────────────────────────── + ───────────────────────────\n",
       "    ⎜        ________________                              _______________    \n",
       "    ⎜       ╱  2           2         ⎛   1⎞               ╱  2          2     \n",
       "    ⎜     ╲╱  y  + (-a + x)  ⋅besselk⎜1, ─⎟             ╲╱  y  + (a + x)  ⋅bes\n",
       "    ⎝                                ⎝   d⎠                                   \n",
       "──────────────────────────────────────────────────────────────────────────────\n",
       "        2                                                                     \n",
       "       d                                                                      \n",
       "\n",
       "               2\n",
       "_____________⎞⎞ \n",
       "2          2 ⎟⎟ \n",
       "  + (a + x)  ⎟⎟ \n",
       "─────────────⎟⎟ \n",
       "   d         ⎠⎟ \n",
       "──────────────⎟ \n",
       "              ⎟ \n",
       "    ⎛   1⎞    ⎟ \n",
       "selk⎜1, ─⎟    ⎟ \n",
       "    ⎝   d⎠    ⎠ \n",
       "────────────────\n",
       "                \n",
       "                "
      ]
     },
     "execution_count": 31,
     "metadata": {},
     "output_type": "execute_result"
    }
   ],
   "source": [
    "(nx_tot**2 + ny_tot**2)/d**2"
   ]
  },
  {
   "cell_type": "code",
   "execution_count": 21,
   "metadata": {
    "collapsed": true
   },
   "outputs": [],
   "source": [
    "dxnx_2cyl = nx_tot.diff(x)\n",
    "dynx_2cyl = nx_tot.diff(y)\n",
    "dxny_2cyl = ny_tot.diff(x)\n",
    "dyny_2cyl = ny_tot.diff(y)"
   ]
  },
  {
   "cell_type": "markdown",
   "metadata": {},
   "source": [
    "##First term"
   ]
  },
  {
   "cell_type": "code",
   "execution_count": 22,
   "metadata": {
    "collapsed": false
   },
   "outputs": [
    {
     "data": {
      "image/png": "[encoded data removed]",
      "text/latex": [
       "$$0$$"
      ],
      "text/plain": [
       "0"
      ]
     },
     "execution_count": 22,
     "metadata": {},
     "output_type": "execute_result"
    }
   ],
   "source": [
    "simplify((dxnx_2cyl + dyny_2cyl)**2)"
   ]
  },
  {
   "cell_type": "markdown",
   "metadata": {},
   "source": [
    "##Second term"
   ]
  },
  {
   "cell_type": "code",
   "execution_count": 36,
   "metadata": {
    "collapsed": false
   },
   "outputs": [
    {
     "data": {
      "image/png": "[encoded data removed]",
      "text/latex": [
       "$$\\frac{1}{2 d^{2} K^{2}_{1}\\left(\\frac{1}{d}\\right)} \\left(\\theta_{1} K_{0}\\left(\\frac{1}{d} \\sqrt{a^{2} - 2 a x + x^{2} + y^{2}}\\right) + \\theta_{2} K_{0}\\left(\\frac{1}{d} \\sqrt{a^{2} + 2 a x + x^{2} + y^{2}}\\right)\\right)^{2}$$"
      ],
      "text/plain": [
       "                                                                              \n",
       "⎛          ⎛      ______________________⎞             ⎛      _________________\n",
       "⎜          ⎜     ╱  2            2    2 ⎟             ⎜     ╱  2            2 \n",
       "⎜          ⎜   ╲╱  a  - 2⋅a⋅x + x  + y  ⎟             ⎜   ╲╱  a  + 2⋅a⋅x + x  \n",
       "⎜θ₁⋅besselk⎜0, ─────────────────────────⎟ + θ₂⋅besselk⎜0, ────────────────────\n",
       "⎝          ⎝               d            ⎠             ⎝               d       \n",
       "──────────────────────────────────────────────────────────────────────────────\n",
       "                                    2        2⎛   1⎞                          \n",
       "                                 2⋅d ⋅besselk ⎜1, ─⎟                          \n",
       "                                              ⎝   d⎠                          \n",
       "\n",
       "       2\n",
       "_____⎞⎞ \n",
       "   2 ⎟⎟ \n",
       "+ y  ⎟⎟ \n",
       "─────⎟⎟ \n",
       "     ⎠⎠ \n",
       "────────\n",
       "        \n",
       "        \n",
       "        "
      ]
     },
     "execution_count": 36,
     "metadata": {},
     "output_type": "execute_result"
    }
   ],
   "source": [
    "simplify((dxny_2cyl - dynx_2cyl)**2/2)"
   ]
  },
  {
   "cell_type": "markdown",
   "metadata": {},
   "source": [
    "##n term"
   ]
  },
  {
   "cell_type": "code",
   "execution_count": 39,
   "metadata": {
    "collapsed": false,
    "scrolled": true
   },
   "outputs": [
    {
     "data": {
      "image/png": "[encoded data removed]",
      "text/latex": [
       "$$\\frac{1}{2 d^{2} \\left(y^{2} + \\left(a - x\\right)^{2}\\right) \\left(y^{2} + \\left(a + x\\right)^{2}\\right) K^{2}_{1}\\left(\\frac{1}{d}\\right)} \\left(y^{2} \\left(\\theta_{1} \\sqrt{y^{2} + \\left(a + x\\right)^{2}} K_{1}\\left(\\frac{1}{d} \\sqrt{y^{2} + \\left(a - x\\right)^{2}}\\right) + \\theta_{2} \\sqrt{y^{2} + \\left(a - x\\right)^{2}} K_{1}\\left(\\frac{1}{d} \\sqrt{y^{2} + \\left(a + x\\right)^{2}}\\right)\\right)^{2} - \\left(y^{2} + \\left(a - x\\right)^{2}\\right) \\left(y^{2} + \\left(a + x\\right)^{2}\\right) K^{2}_{1}\\left(\\frac{1}{d}\\right) + \\left(\\theta_{1} \\left(a - x\\right) \\sqrt{y^{2} + \\left(a + x\\right)^{2}} K_{1}\\left(\\frac{1}{d} \\sqrt{y^{2} + \\left(a - x\\right)^{2}}\\right) - \\theta_{2} \\left(a + x\\right) \\sqrt{y^{2} + \\left(a - x\\right)^{2}} K_{1}\\left(\\frac{1}{d} \\sqrt{y^{2} + \\left(a + x\\right)^{2}}\\right)\\right)^{2}\\right)$$"
      ],
      "text/plain": [
       "                                                                              \n",
       "   ⎛                             ⎛      _______________⎞                      \n",
       "   ⎜      _______________        ⎜     ╱  2          2 ⎟         _____________\n",
       " 2 ⎜     ╱  2          2         ⎜   ╲╱  y  + (a - x)  ⎟        ╱  2          \n",
       "y ⋅⎜θ₁⋅╲╱  y  + (a + x)  ⋅besselk⎜1, ──────────────────⎟ + θ₂⋅╲╱  y  + (a - x)\n",
       "   ⎝                             ⎝           d         ⎠                      \n",
       "──────────────────────────────────────────────────────────────────────────────\n",
       "                                                                              \n",
       "                                                                              \n",
       "                                                                              \n",
       "\n",
       "                                  2                                           \n",
       "          ⎛      _______________⎞⎞                                            \n",
       "__        ⎜     ╱  2          2 ⎟⎟                                            \n",
       "2         ⎜   ╲╱  y  + (a + x)  ⎟⎟    ⎛ 2          2⎞ ⎛ 2          2⎞        2\n",
       "  ⋅besselk⎜1, ──────────────────⎟⎟  - ⎝y  + (a - x) ⎠⋅⎝y  + (a + x) ⎠⋅besselk \n",
       "          ⎝           d         ⎠⎠                                            \n",
       "──────────────────────────────────────────────────────────────────────────────\n",
       "                                             2 ⎛ 2          2⎞ ⎛ 2          2⎞\n",
       "                                          2⋅d ⋅⎝y  + (a - x) ⎠⋅⎝y  + (a + x) ⎠\n",
       "                                                                              \n",
       "\n",
       "                                                                              \n",
       "         ⎛                                     ⎛      _______________⎞        \n",
       "         ⎜              _______________        ⎜     ╱  2          2 ⎟        \n",
       "⎛   1⎞   ⎜             ╱  2          2         ⎜   ╲╱  y  + (a - x)  ⎟        \n",
       "⎜1, ─⎟ + ⎜θ₁⋅(a - x)⋅╲╱  y  + (a + x)  ⋅besselk⎜1, ──────────────────⎟ - θ₂⋅(a\n",
       "⎝   d⎠   ⎝                                     ⎝           d         ⎠        \n",
       "──────────────────────────────────────────────────────────────────────────────\n",
       "        2⎛   1⎞                                                               \n",
       "⋅besselk ⎜1, ─⎟                                                               \n",
       "         ⎝   d⎠                                                               \n",
       "\n",
       "                                                        2\n",
       "                                ⎛      _______________⎞⎞ \n",
       "         _______________        ⎜     ╱  2          2 ⎟⎟ \n",
       "        ╱  2          2         ⎜   ╲╱  y  + (a + x)  ⎟⎟ \n",
       " + x)⋅╲╱  y  + (a - x)  ⋅besselk⎜1, ──────────────────⎟⎟ \n",
       "                                ⎝           d         ⎠⎠ \n",
       "─────────────────────────────────────────────────────────\n",
       "                                                         \n",
       "                                                         \n",
       "                                                         "
      ]
     },
     "execution_count": 39,
     "metadata": {},
     "output_type": "execute_result"
    }
   ],
   "source": [
    "simplify((nx_tot**2 + ny_tot**2 - 1)/(2*d**2))"
   ]
  },
  {
   "cell_type": "code",
   "execution_count": null,
   "metadata": {
    "collapsed": false
   },
   "outputs": [],
   "source": [
    "def f_2(n1, n2, theta_s, a, R_L, R_R, d, dxnx, dynx, dxny, dyny):\n",
    "    return (1/2)*(dxnx**2 + dynx**2 + dxny**2 + dyny**2 + 2*dxnx*dyny - 2*dxny*dynx) + (1/2)*(n1**2 + n2**2) - (1/2)"
   ]
  },
  {
   "cell_type": "code",
   "execution_count": null,
   "metadata": {
    "collapsed": false
   },
   "outputs": [],
   "source": [
    "f_2cyl = f_2(nx_tot, ny_tot, theta_s, a, R_L, R_R, d, dxnx_2cyl, dynx_2cyl, dxny_2cyl, dyny_2cyl)"
   ]
  },
  {
   "cell_type": "code",
   "execution_count": null,
   "metadata": {
    "collapsed": true
   },
   "outputs": [],
   "source": [
    "I, e = quad(simple_f, 1, 200, args=(0.2, 10, 1, 500))"
   ]
  },
  {
   "cell_type": "code",
   "execution_count": null,
   "metadata": {
    "collapsed": false
   },
   "outputs": [],
   "source": [
    "I"
   ]
  },
  {
   "cell_type": "code",
   "execution_count": null,
   "metadata": {
    "collapsed": true
   },
   "outputs": [],
   "source": []
  }
 ],
 "metadata": {
  "kernelspec": {
   "display_name": "Python 3",
   "language": "python",
   "name": "python3"
  },
  "language_info": {
   "codemirror_mode": {
    "name": "ipython",
    "version": 3
   },
   "file_extension": ".py",
   "mimetype": "text/x-python",
   "name": "python",
   "nbconvert_exporter": "python",
   "pygments_lexer": "ipython3",
   "version": "3.4.0"
  }
 },
 "nbformat": 4,
 "nbformat_minor": 0
}
