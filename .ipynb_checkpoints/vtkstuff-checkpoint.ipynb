{
 "cells": [
  {
   "cell_type": "code",
   "execution_count": 1,
   "metadata": {
    "collapsed": true
   },
   "outputs": [],
   "source": [
    "%matplotlib inline"
   ]
  },
  {
   "cell_type": "code",
   "execution_count": 3,
   "metadata": {
    "collapsed": false
   },
   "outputs": [],
   "source": [
    "import dolfin as df\n",
    "import mshr\n",
    "import numpy as np\n",
    "from Plot_vtk_matplotlib import *\n",
    "from Plot_vtk_matplotlib import plot_vtk_matplotlib as pvm"
   ]
  },
  {
   "cell_type": "code",
   "execution_count": null,
   "metadata": {
    "collapsed": false
   },
   "outputs": [
    {
     "name": "stderr",
     "output_type": "stream",
     "text": [
      "DEBUG:FFC:Reusing form from cache.\n"
     ]
    }
   ],
   "source": [
    "mesh = mshr.Rectangle(df.Point(-3, -3), df.Point(3, 3))\n",
    "mesh = mshr.generate_mesh(mesh, 10)\n",
    "vspace = df.VectorFunctionSpace(mesh, 'Lagrange', degree=1, dim=2)\n",
    "vfunction = df.Expression((\"sin(x[1])\", \"cos(x[0])\"))\n",
    "vfunction = df.interpolate(vfunction, vspace)\n",
    "# df.plot(vfunction, interactive=True)"
   ]
  },
  {
   "cell_type": "code",
   "execution_count": null,
   "metadata": {
    "collapsed": true
   },
   "outputs": [],
   "source": []
  }
 ],
 "metadata": {
  "kernelspec": {
   "display_name": "Python 2",
   "language": "python",
   "name": "python2"
  },
  "language_info": {
   "codemirror_mode": {
    "name": "ipython",
    "version": 2
   },
   "file_extension": ".py",
   "mimetype": "text/x-python",
   "name": "python",
   "nbconvert_exporter": "python",
   "pygments_lexer": "ipython2",
   "version": "2.7.6"
  }
 },
 "nbformat": 4,
 "nbformat_minor": 0
}
