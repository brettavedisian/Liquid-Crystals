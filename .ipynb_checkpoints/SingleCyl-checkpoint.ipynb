{
 "cells": [
  {
   "cell_type": "code",
   "execution_count": 1,
   "metadata": {
    "collapsed": true
   },
   "outputs": [],
   "source": [
    "# %matplotlib notebook\n",
    "%matplotlib inline\n",
    "from dolfin import *\n",
    "from mshr import *\n",
    "import numpy as np\n",
    "import matplotlib.pyplot as plt\n",
    "from matplotlib import cm\n",
    "import matplotlib.tri as tri\n",
    "from mpl_toolkits.mplot3d import Axes3D\n",
    "import logging\n",
    "logging.getLogger(\"FFC\").setLevel(logging.WARNING)\n",
    "dolfin.parameters.reorder_dofs_serial = False"
   ]
  },
  {
   "cell_type": "code",
   "execution_count": 2,
   "metadata": {
    "collapsed": true
   },
   "outputs": [],
   "source": [
    "def mesh2triang(mesh):\n",
    "    xy = mesh.coordinates()\n",
    "    return tri.Triangulation(xy[:, 0], xy[:, 1], mesh.cells())\n",
    "\n",
    "def mplot_cellfunction(cellfn):\n",
    "    C = cellfn.array()\n",
    "    tri = mesh2triang(cellfn.mesh())\n",
    "    return plt.tripcolor(tri, facecolors=C)\n",
    "\n",
    "def mplot_function(f):\n",
    "    mesh = f.function_space().mesh()\n",
    "    if (mesh.geometry().dim() != 2):\n",
    "        raise AttributeError('Mesh must be 2D')\n",
    "    # DG0 cellwise function\n",
    "    if f.vector().size() == mesh.num_cells():\n",
    "        C = f.vector().array()\n",
    "        return plt.tripcolor(mesh2triang(mesh), C)\n",
    "    # Scalar function, interpolated to vertices\n",
    "    elif f.value_rank() == 0:\n",
    "        C = f.compute_vertex_values(mesh)\n",
    "        return plt.tripcolor(mesh2triang(mesh), C, shading='gouraud')\n",
    "    # Vector function, interpolated to vertices\n",
    "    elif f.value_rank() == 1:\n",
    "        w0 = f.compute_vertex_values(mesh)\n",
    "        if (len(w0) != 2*mesh.num_vertices()):\n",
    "            raise AttributeError('Vector field must be 2D')\n",
    "        X = mesh.coordinates()[:, 0]\n",
    "        Y = mesh.coordinates()[:, 1]\n",
    "        U = w0[:mesh.num_vertices()]\n",
    "        V = w0[mesh.num_vertices():]\n",
    "        return plt.quiver(X,Y,U,V)\n",
    "\n",
    "# Plot a generic dolfin object (if supported)\n",
    "def plot(obj):\n",
    "    plt.gca().set_aspect('equal')\n",
    "    if isinstance(obj, Function):\n",
    "        return mplot_function(obj)\n",
    "    elif isinstance(obj, CellFunctionSizet):\n",
    "        return mplot_cellfunction(obj)\n",
    "    elif isinstance(obj, CellFunctionDouble):\n",
    "        return mplot_cellfunction(obj)\n",
    "    elif isinstance(obj, CellFunctionInt):\n",
    "        return mplot_cellfunction(obj)\n",
    "    elif isinstance(obj, Mesh):\n",
    "        if (obj.geometry().dim() != 2):\n",
    "            raise AttributeError('Mesh must be 2D')\n",
    "        return plt.triplot(mesh2triang(obj), color='#808080')\n",
    "\n",
    "    raise AttributeError('Failed to plot %s'%type(obj))\n",
    "# end of commands for plotting"
   ]
  },
  {
   "cell_type": "code",
   "execution_count": 3,
   "metadata": {
    "collapsed": false
   },
   "outputs": [],
   "source": [
    "thetaS = 0.2\n",
    "#THIS SECTION IS FOR MAKING THE MESH\n",
    "\n",
    "radiusOut = 10\n",
    "radiusIn = 1\n",
    "\n",
    "Out = Circle(Point(0,0),radiusOut)\n",
    "In = Circle(Point(0,0),radiusIn)\n",
    "\n",
    "dom = Out - In\n",
    "mesh = generate_mesh(dom, 40)\n",
    "mesh = refine(mesh)"
   ]
  },
  {
   "cell_type": "code",
   "execution_count": 4,
   "metadata": {
    "collapsed": true
   },
   "outputs": [],
   "source": [
    "#THIS SECTION IS FOR MARKING BOUNDARIES OF THE MESH\n",
    "class outer_boundary(SubDomain):\n",
    "\tdef inside(self, x, on_boundary):\n",
    "\t\ttol = 1E-1\n",
    "\t\tr = sqrt(x[0]*x[0] + x[1]*x[1])\n",
    "\t\treturn on_boundary and abs(r - radiusOut) < tol\n",
    "\n",
    "class inner_boundary(SubDomain):\n",
    "\tdef inside(self, x, on_boundary):\n",
    "\t\ttol = 1E-1\n",
    "\t\tr = sqrt(x[0]*x[0] + x[1]*x[1])\n",
    "\t\treturn on_boundary and abs(r - radiusIn) < tol\n",
    "\n",
    "outerradius = outer_boundary()\n",
    "innerradius = inner_boundary()\n",
    "\n",
    "boundaries = FacetFunction(\"size_t\", mesh)\n",
    "\n",
    "boundaries.set_all(0)\n",
    "innerradius.mark(boundaries,1)\n",
    "outerradius.mark(boundaries,2)"
   ]
  },
  {
   "cell_type": "code",
   "execution_count": 5,
   "metadata": {
    "collapsed": true
   },
   "outputs": [],
   "source": [
    "#This section defines the finite element basis functions, applies boundary\n",
    "#conditions, defines and solves the problem\n",
    "V = FunctionSpace(mesh,'Lagrange',1)\n",
    "nx = TrialFunction(V)\n",
    "ny = TrialFunction(V)\n",
    "v1 = TestFunction(V)\n",
    "v2 = TestFunction(V)"
   ]
  },
  {
   "cell_type": "code",
   "execution_count": 6,
   "metadata": {
    "collapsed": true
   },
   "outputs": [],
   "source": [
    "gx = Expression('-x[1]*sin(thetaS)/sqrt(x[0]*x[0] + x[1]*x[1])',thetaS = thetaS) \n",
    "gy = Expression('x[0]*sin(thetaS)/sqrt(x[0]*x[0] + x[1]*x[1])',thetaS = thetaS)\n",
    "\n",
    "#For nx\n",
    "bcs1 = [DirichletBC(V, 0, boundaries, 2), DirichletBC(V, gx, boundaries, 1)]\n",
    "#for ny\n",
    "bcs2 = [DirichletBC(V, 0, boundaries, 2), DirichletBC(V, gy, boundaries, 1)]"
   ]
  },
  {
   "cell_type": "code",
   "execution_count": 7,
   "metadata": {
    "collapsed": true
   },
   "outputs": [],
   "source": [
    "f = Constant(0.0)\n",
    "\n",
    "a1 = inner(nabla_grad(nx), nabla_grad(v1))*dx\n",
    "a2 = inner(nabla_grad(ny), nabla_grad(v2))*dx\n",
    "L1 = f*v1*dx\n",
    "L2 = f*v2*dx\n",
    "nx = Function(V)\n",
    "ny = Function(V)\n",
    "solve(a1 == L1, nx, bcs1)\n",
    "solve(a2 == L2, ny, bcs2)\n",
    "\n",
    "V_d = VectorFunctionSpace(mesh,'Lagrange',1)\n",
    "w1 = TrialFunction(V_d)\n",
    "w2 = TrialFunction(V_d)\n",
    "q1 = TestFunction(V_d)\n",
    "q2 = TestFunction(V_d)\n",
    "\n",
    "a3 = inner(w1,q1)*dx\n",
    "a4 = inner(w2,q2)*dx\n",
    "L3 = inner(grad(nx),q1)*dx\n",
    "L4 = inner(grad(ny),q2)*dx\n",
    "grad_nx = Function(V_d)\n",
    "grad_ny = Function(V_d)\n",
    "solve(a3 == L3, grad_nx)\n",
    "solve(a4 == L4, grad_ny)\n",
    "\n",
    "dxnx, dynx = grad_nx.split(deepcopy=True)\n",
    "dxny, dyny = grad_ny.split(deepcopy=True)\n",
    "\n",
    "cell_markers = CellFunction(\"uint\", mesh)\n",
    "\n",
    "dx1 = Measure(\"dx\", domain=mesh, subdomain_data=cell_markers)"
   ]
  },
  {
   "cell_type": "code",
   "execution_count": 11,
   "metadata": {
    "collapsed": false
   },
   "outputs": [
    {
     "name": "stdout",
     "output_type": "stream",
     "text": [
      "Splay Energy 0.000088\n",
      "Twist Energy 0.002752\n",
      "Total Energy 0.002840\n"
     ]
    }
   ],
   "source": [
    "splay = pow(dxnx+dyny,2)/2\n",
    "twist = pow(dxny-dynx,2)/2\n",
    "\n",
    "fel = splay + twist\n",
    "f1 = project(fel,V)\n",
    "\n",
    "Esplay = assemble(splay*dx1)\n",
    "Etwist = assemble(twist*dx1)\n",
    "\n",
    "Etot = Esplay+Etwist\n",
    "\n",
    "print('Splay Energy %f' % Esplay)\n",
    "print('Twist Energy %f' % Etwist)\n",
    "print('Total Energy %f' % Etot)"
   ]
  },
  {
   "cell_type": "code",
   "execution_count": 12,
   "metadata": {
    "collapsed": false
   },
   "outputs": [
    {
     "data": {
      "image/png": "[encoded data removed]",
      "text/plain": [
       "<matplotlib.figure.Figure at 0x7f9756a26fd0>"
      ]
     },
     "metadata": {},
     "output_type": "display_data"
    }
   ],
   "source": [
    "plt.figure(figsize=(10,10))\n",
    "plot(f1)\n",
    "plt.colorbar(shrink=0.8);"
   ]
  },
  {
   "cell_type": "code",
   "execution_count": null,
   "metadata": {
    "collapsed": true
   },
   "outputs": [],
   "source": []
  }
 ],
 "metadata": {
  "kernelspec": {
   "display_name": "Python 2",
   "language": "python",
   "name": "python2"
  },
  "language_info": {
   "codemirror_mode": {
    "name": "ipython",
    "version": 2
   },
   "file_extension": ".py",
   "mimetype": "text/x-python",
   "name": "python",
   "nbconvert_exporter": "python",
   "pygments_lexer": "ipython2",
   "version": "2.7.6"
  }
 },
 "nbformat": 4,
 "nbformat_minor": 0
}
