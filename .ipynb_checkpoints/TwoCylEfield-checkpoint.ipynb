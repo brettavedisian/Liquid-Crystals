{
 "cells": [
  {
   "cell_type": "code",
   "execution_count": 1,
   "metadata": {
    "collapsed": false
   },
   "outputs": [],
   "source": [
    "# %matplotlib notebook\n",
    "%matplotlib inline\n",
    "from __future__ import print_function\n",
    "from dolfin import *\n",
    "import dolfin.cpp as cpp\n",
    "import ufl\n",
    "from mshr import *\n",
    "import numpy as np\n",
    "import matplotlib.pyplot as plt\n",
    "from IPython import get_ipython\n",
    "import matplotlib.tri as tri\n",
    "import logging\n",
    "logging.getLogger(\"FFC\").setLevel(logging.WARNING)"
   ]
  },
  {
   "cell_type": "code",
   "execution_count": 7,
   "metadata": {
    "collapsed": true
   },
   "outputs": [],
   "source": [
    "def mesh2triang(mesh):\n",
    "    xy = mesh.coordinates()\n",
    "    return tri.Triangulation(xy[:, 0], xy[:, 1], mesh.cells())\n",
    "\n",
    "def mplot_cellfunction(cellfn):\n",
    "    C = cellfn.array()\n",
    "    tri = mesh2triang(cellfn.mesh())\n",
    "    return plt.tripcolor(tri, facecolors=C)\n",
    "\n",
    "def mplot_function(f):\n",
    "    mesh = f.function_space().mesh()\n",
    "    if (mesh.geometry().dim() != 2):\n",
    "        raise AttributeError('Mesh must be 2D')\n",
    "    # DG0 cellwise function\n",
    "    if f.vector().size() == mesh.num_cells():\n",
    "        C = f.vector().array()\n",
    "        return plt.tripcolor(mesh2triang(mesh), C)\n",
    "    # Scalar function, interpolated to vertices\n",
    "    elif f.value_rank() == 0:\n",
    "        C = f.compute_vertex_values(mesh)\n",
    "        return plt.tripcolor(mesh2triang(mesh), C, shading='gouraud')\n",
    "    # Vector function, interpolated to vertices\n",
    "    elif f.value_rank() == 1:\n",
    "        w0 = f.compute_vertex_values(mesh)\n",
    "        if (len(w0) != 2*mesh.num_vertices()):\n",
    "            raise AttributeError('Vector field must be 2D')\n",
    "        X = mesh.coordinates()[:, 0]\n",
    "        Y = mesh.coordinates()[:, 1]\n",
    "        U = w0[:mesh.num_vertices()]\n",
    "        V = w0[mesh.num_vertices():]\n",
    "        return plt.quiver(X,Y,U,V)\n",
    "\n",
    "# Plot a generic dolfin object (if supported)\n",
    "def plot(obj):\n",
    "    plt.gca().set_aspect('equal')\n",
    "    if isinstance(obj, Function):\n",
    "        return mplot_function(obj)\n",
    "    elif isinstance(obj, CellFunctionSizet):\n",
    "        return mplot_cellfunction(obj)\n",
    "    elif isinstance(obj, CellFunctionDouble):\n",
    "        return mplot_cellfunction(obj)\n",
    "    elif isinstance(obj, CellFunctionInt):\n",
    "        return mplot_cellfunction(obj)\n",
    "    elif isinstance(obj, Mesh):\n",
    "        if (obj.geometry().dim() != 2):\n",
    "            raise AttributeError('Mesh must be 2D')\n",
    "        return plt.triplot(mesh2triang(obj), color='#808080')\n",
    "\n",
    "    raise AttributeError('Failed to plot %s'%type(obj))\n",
    "# end of commands for plotting"
   ]
  },
  {
   "cell_type": "code",
   "execution_count": 8,
   "metadata": {
    "collapsed": true
   },
   "outputs": [],
   "source": [
    "radiusOut = 10\n",
    "thetaSL = 0.2\n",
    "thetaSR = 0.2\n",
    "radiusL = 1\n",
    "radiusR = 1\n",
    "d = 4\n",
    "d_array = []\n",
    "E_array = []\n",
    "D_array = []\n",
    "D = 1"
   ]
  },
  {
   "cell_type": "code",
   "execution_count": 9,
   "metadata": {
    "collapsed": false
   },
   "outputs": [],
   "source": [
    "for i in range(0,1):\n",
    "    Out = Circle(Point(0,0),radiusOut)\n",
    "    cL = Circle(Point(-(d/2),0),radiusL)\n",
    "    cR = Circle(Point((d/2),0),radiusR)\n",
    "    domain = Out - cL - cR\n",
    "\n",
    "    res = 200\n",
    "    mesh = generate_mesh(domain, res)\n",
    "    \n",
    "    class outside_border(SubDomain):\n",
    "        def inside(self, x, on_boundary):\n",
    "            tol = 1E-1\n",
    "            return on_boundary and abs( sqrt(x[0]*x[0] + x[1]*x[1]) - radiusOut) < tol\n",
    "\n",
    "    class circleR(SubDomain):\n",
    "        def inside(self, x, on_boundary):\n",
    "            tol = 1E-1\n",
    "            return on_boundary and abs(sqrt( (x[0] - (d/2))*(x[0] - (d/2)) + x[1]*x[1]) - radiusR) < tol\n",
    "\n",
    "    class circleL(SubDomain):\n",
    "        def inside(self, x, on_boundary):\n",
    "            tol = 1E-1\n",
    "            return on_boundary and abs(sqrt( (x[0] + (d/2))*(x[0] + (d/2)) + x[1]*x[1]) - radiusL) < tol\n",
    "\n",
    "    outside_border=outside_border()\n",
    "    circleR=circleR()\n",
    "    circleL=circleL()\n",
    "\n",
    "    boundaries = FacetFunction(\"size_t\", mesh)\n",
    "    boundaries.set_all(0)\n",
    "\n",
    "    outside_border.mark(boundaries,1)\n",
    "    circleL.mark(boundaries,2)\n",
    "    circleR.mark(boundaries,3)\n",
    "\n",
    "    V = FunctionSpace(mesh,'CG',2)\n",
    "\n",
    "    #Boundary Conditions\n",
    "    #Right hand cylinder is always counter clockwise orientation\n",
    "    nxR = Expression('-x[1]*sin(thetaSR)/sqrt((x[0] - (d/2))*(x[0] - (d/2)) + x[1]*x[1])',thetaSR = thetaSR, d = d)\n",
    "    nyR = Expression('(x[0] - (d/2))*sin(thetaSR)/sqrt((x[0] - (d/2))*(x[0] - (d/2)) + x[1]*x[1])',thetaSR = thetaSR, d = d)\n",
    "\n",
    "    #Same signs for same chirality, opposite signs for opposite chirality\n",
    "    nxL = Expression('-x[1]*sin(thetaSL)/sqrt((x[0] + (d/2))*(x[0] + (d/2)) + x[1]*x[1])',thetaSL = thetaSL, d = d)\n",
    "    nyL = Expression('(x[0] + (d/2))*sin(thetaSL)/sqrt((x[0] + (d/2))*(x[0] + (d/2)) + x[1]*x[1])',thetaSL = thetaSL, d = d)\n",
    "\n",
    "    #For nx\n",
    "    bcs1 = [DirichletBC(V, 0, boundaries, 1),\n",
    "            DirichletBC(V, nxL, boundaries, 2),\n",
    "            DirichletBC(V, nxR, boundaries, 3)]\n",
    "    #for ny\n",
    "    bcs2 = [DirichletBC(V, 0, boundaries, 1),\n",
    "            DirichletBC(V, nyL, boundaries, 2),\n",
    "            DirichletBC(V, nyR, boundaries, 3)]\n",
    "\n",
    "    nx = TrialFunction(V)\n",
    "    ny = TrialFunction(V)\n",
    "    v1 = TestFunction(V)\n",
    "    v2 = TestFunction(V)\n",
    "\n",
    "    f = Constant(0.0)\n",
    "    g = Constant(D**-2)\n",
    "    \n",
    "    a1 = (inner(nabla_grad(nx), nabla_grad(v1)) + g*(inner(nx,v1)))*dx\n",
    "    a2 = (inner(nabla_grad(ny), nabla_grad(v2)) + g*(inner(ny,v2)))*dx\n",
    "    L1 = f*v1*dx\n",
    "    L2 = f*v2*dx\n",
    "    nx = Function(V)\n",
    "    ny = Function(V)\n",
    "    solve(a1 == L1, nx, bcs1)\n",
    "    solve(a2 == L2, ny, bcs2)\n",
    "\n",
    "    V_d = VectorFunctionSpace(mesh,'Lagrange',1)\n",
    "    w1 = TrialFunction(V_d)\n",
    "    w2 = TrialFunction(V_d)\n",
    "    q1 = TestFunction(V_d)\n",
    "    q2 = TestFunction(V_d)\n",
    "\n",
    "    a3 = inner(w1,q1)*dx\n",
    "    a4 = inner(w2,q2)*dx\n",
    "    L3 = inner(grad(nx),q1)*dx\n",
    "    L4 = inner(grad(ny),q2)*dx\n",
    "    grad_nx = Function(V_d)\n",
    "    grad_ny = Function(V_d)\n",
    "    solve(a3 == L3, grad_nx)\n",
    "    solve(a4 == L4, grad_ny)\n",
    "\n",
    "    dxnx, dynx = grad_nx.split(deepcopy=True)\n",
    "    dxny, dyny = grad_ny.split(deepcopy=True)\n",
    "\n",
    "    cell_markers = CellFunction(\"uint\", mesh)\n",
    "    dx1 = Measure(\"dx\", domain=mesh, subdomain_data=cell_markers)\n",
    "\n",
    "    splay = pow(dxnx+dyny,2)\n",
    "    twist = pow(dxny-dynx,2)\n",
    "#     field = g*(pow(nx,2) + pow(ny,2) - 1)/2\n",
    "    field = g*(pow(nx,2) + pow(ny,2))/2\n",
    "    \n",
    "    fel = splay + twist + field\n",
    "    \n",
    "    f1 = project(fel,V)\n",
    "    \n",
    "    Esplay = assemble(splay*dx1)\n",
    "    Etwist = assemble(twist*dx1)\n",
    "    Efield = assemble(field*dx1)\n",
    "    \n",
    "    Etot = Esplay + Etwist + Efield\n",
    "\n",
    "    d_array.append(d)\n",
    "    D_array.append(D)\n",
    "    E_array.append(Etot)\n",
    "    D += 1"
   ]
  },
  {
   "cell_type": "code",
   "execution_count": 10,
   "metadata": {
    "collapsed": false,
    "scrolled": true
   },
   "outputs": [
    {
     "name": "stdout",
     "output_type": "stream",
     "text": [
      "E-field Energy 0.104432\n",
      "Splay Energy 0.000365\n",
      "Twist Energy 0.152868\n",
      "Total Energy 0.257665\n"
     ]
    }
   ],
   "source": [
    "print('E-field Energy %f' % Efield)\n",
    "print('Splay Energy %f' % Esplay)\n",
    "print('Twist Energy %f' % Etwist)\n",
    "print('Total Energy %f' % Etot)"
   ]
  },
  {
   "cell_type": "code",
   "execution_count": 11,
   "metadata": {
    "collapsed": false,
    "scrolled": false
   },
   "outputs": [
    {
     "data": {
      "image/png": "[encoded data removed]",
      "text/plain": [
       "<matplotlib.figure.Figure at 0x7fa3defe8090>"
      ]
     },
     "metadata": {},
     "output_type": "display_data"
    }
   ],
   "source": [
    "plt.figure(figsize=(10,10))\n",
    "plot(f1)\n",
    "plt.xlim(-10,10),plt.ylim(-10,10)\n",
    "plt.colorbar(shrink=0.8);"
   ]
  },
  {
   "cell_type": "code",
   "execution_count": 12,
   "metadata": {
    "collapsed": false
   },
   "outputs": [
    {
     "data": {
      "text/plain": [
       "0.0041178680139093444"
      ]
     },
     "execution_count": 12,
     "metadata": {},
     "output_type": "execute_result"
    }
   ],
   "source": [
    "F1(0,1)"
   ]
  },
  {
   "cell_type": "code",
   "execution_count": 13,
   "metadata": {
    "collapsed": false
   },
   "outputs": [],
   "source": [
    "# print(E_array)\n",
    "# print(d_array)\n",
    "\n",
    "# plt.figure()\n",
    "# plt.plot(D_array,E_array)\n",
    "# plt.title(\"Energy vs. Distance\")\n",
    "# plt.xlabel('Distance (a.u.)')\n",
    "# plt.ylabel('F (a.u.)');"
   ]
  },
  {
   "cell_type": "code",
   "execution_count": 14,
   "metadata": {
    "collapsed": false
   },
   "outputs": [
    {
     "ename": "RuntimeError",
     "evalue": "\n\n*** -------------------------------------------------------------------------\n*** DOLFIN encountered an error. If you are not able to resolve this issue\n*** using the information listed below, you can ask for help at\n***\n***     fenics@fenicsproject.org\n***\n*** Remember to include the error message listed below and, if possible,\n*** include a *minimal* running example to reproduce the error.\n***\n*** -------------------------------------------------------------------------\n*** Error:   Unable to evaluate function at point.\n*** Reason:  The point is not inside the domain. Consider calling \"Function::set_allow_extrapolation(true)\" on this Function to allow extrapolation.\n*** Where:   This error was encountered inside Function.cpp.\n*** Process: 0\n*** \n*** DOLFIN version: 1.6.0\n*** Git changeset:  unknown\n*** -------------------------------------------------------------------------\n",
     "output_type": "error",
     "traceback": [
      "\u001b[1;31m---------------------------------------------------------------------------\u001b[0m",
      "\u001b[1;31mRuntimeError\u001b[0m                              Traceback (most recent call last)",
      "\u001b[1;32m<ipython-input-14-f33b84caa6f4>\u001b[0m in \u001b[0;36m<module>\u001b[1;34m()\u001b[0m\n\u001b[0;32m     11\u001b[0m             \u001b[0mxx\u001b[0m\u001b[1;33m.\u001b[0m\u001b[0mappend\u001b[0m\u001b[1;33m(\u001b[0m\u001b[0mx\u001b[0m\u001b[1;33m)\u001b[0m\u001b[1;33m\u001b[0m\u001b[0m\n\u001b[0;32m     12\u001b[0m             \u001b[0myy\u001b[0m\u001b[1;33m.\u001b[0m\u001b[0mappend\u001b[0m\u001b[1;33m(\u001b[0m\u001b[0my\u001b[0m\u001b[1;33m)\u001b[0m\u001b[1;33m\u001b[0m\u001b[0m\n\u001b[1;32m---> 13\u001b[1;33m             \u001b[0mff\u001b[0m\u001b[1;33m.\u001b[0m\u001b[0mappend\u001b[0m\u001b[1;33m(\u001b[0m\u001b[0mf1\u001b[0m\u001b[1;33m(\u001b[0m\u001b[0mx\u001b[0m\u001b[1;33m,\u001b[0m\u001b[0my\u001b[0m\u001b[1;33m)\u001b[0m\u001b[1;33m)\u001b[0m\u001b[1;33m\u001b[0m\u001b[0m\n\u001b[0m\u001b[0;32m     14\u001b[0m         \u001b[1;32melif\u001b[0m \u001b[0mr\u001b[0m \u001b[1;33m<=\u001b[0m \u001b[1;36m1\u001b[0m\u001b[1;33m:\u001b[0m   \u001b[1;31m# if inside inner boundary, set to V_inner\u001b[0m\u001b[1;33m\u001b[0m\u001b[0m\n\u001b[0;32m     15\u001b[0m             \u001b[0mxx\u001b[0m\u001b[1;33m.\u001b[0m\u001b[0mappend\u001b[0m\u001b[1;33m(\u001b[0m\u001b[0mx\u001b[0m\u001b[1;33m)\u001b[0m\u001b[1;33m\u001b[0m\u001b[0m\n",
      "\u001b[1;32m/usr/lib/python2.7/dist-packages/dolfin/functions/function.pyc\u001b[0m in \u001b[0;36m__call__\u001b[1;34m(self, *args, **kwargs)\u001b[0m\n\u001b[0;32m    599\u001b[0m \u001b[1;33m\u001b[0m\u001b[0m\n\u001b[0;32m    600\u001b[0m         \u001b[1;31m# The actual evaluation\u001b[0m\u001b[1;33m\u001b[0m\u001b[1;33m\u001b[0m\u001b[0m\n\u001b[1;32m--> 601\u001b[1;33m         \u001b[0mself\u001b[0m\u001b[1;33m.\u001b[0m\u001b[0meval\u001b[0m\u001b[1;33m(\u001b[0m\u001b[0mvalues\u001b[0m\u001b[1;33m,\u001b[0m \u001b[0mx\u001b[0m\u001b[1;33m)\u001b[0m\u001b[1;33m\u001b[0m\u001b[0m\n\u001b[0m\u001b[0;32m    602\u001b[0m \u001b[1;33m\u001b[0m\u001b[0m\n\u001b[0;32m    603\u001b[0m         \u001b[1;31m# If scalar return statement, return scalar value.\u001b[0m\u001b[1;33m\u001b[0m\u001b[1;33m\u001b[0m\u001b[0m\n",
      "\u001b[1;31mRuntimeError\u001b[0m: \n\n*** -------------------------------------------------------------------------\n*** DOLFIN encountered an error. If you are not able to resolve this issue\n*** using the information listed below, you can ask for help at\n***\n***     fenics@fenicsproject.org\n***\n*** Remember to include the error message listed below and, if possible,\n*** include a *minimal* running example to reproduce the error.\n***\n*** -------------------------------------------------------------------------\n*** Error:   Unable to evaluate function at point.\n*** Reason:  The point is not inside the domain. Consider calling \"Function::set_allow_extrapolation(true)\" on this Function to allow extrapolation.\n*** Where:   This error was encountered inside Function.cpp.\n*** Process: 0\n*** \n*** DOLFIN version: 1.6.0\n*** Git changeset:  unknown\n*** -------------------------------------------------------------------------\n"
     ]
    }
   ],
   "source": [
    "# xx,yy,ff = [],[],[]\n",
    "# np.array(xx)\n",
    "# np.array(yy)\n",
    "# np.array(ff)\n",
    "\n",
    "# for x in np.linspace(-6,6,100):\n",
    "#     for y in np.linspace(-6,6,100):\n",
    "#         r = np.sqrt(x**2+y**2)\n",
    "#         #print(x,y,r)\n",
    "#         if (r >= 1) and (r < 10):\n",
    "#             xx.append(x)\n",
    "#             yy.append(y)\n",
    "#             ff.append(f1(x,y))\n",
    "#         elif r <= 1:   # if inside inner boundary, set to V_inner\n",
    "#             xx.append(x)\n",
    "#             yy.append(y)\n",
    "#             ff.append(np.NAN)\n",
    "#             #print('out')\n",
    "#         elif r >= 10: # if outside outer boundary, set to V_outer\n",
    "#             xx.append(x)\n",
    "#             yy.append(y)\n",
    "#             ff.append(0)\n",
    "#             #print('out')\n",
    "# #         else:\n",
    "# #             print('in',u(x,y))\n",
    "# print(len(xx),len(yy),len(ff))"
   ]
  },
  {
   "cell_type": "code",
   "execution_count": null,
   "metadata": {
    "collapsed": true
   },
   "outputs": [],
   "source": []
  }
 ],
 "metadata": {
  "kernelspec": {
   "display_name": "Python 2",
   "language": "python",
   "name": "python2"
  },
  "language_info": {
   "codemirror_mode": {
    "name": "ipython",
    "version": 2
   },
   "file_extension": ".py",
   "mimetype": "text/x-python",
   "name": "python",
   "nbconvert_exporter": "python",
   "pygments_lexer": "ipython2",
   "version": "2.7.6"
  }
 },
 "nbformat": 4,
 "nbformat_minor": 0
}
