{
 "cells": [
  {
   "cell_type": "code",
   "execution_count": 1,
   "metadata": {
    "collapsed": true
   },
   "outputs": [],
   "source": [
    "# %matplotlib notebook\n",
    "%matplotlib inline\n",
    "from dolfin import *\n",
    "from mshr import *\n",
    "import numpy as np\n",
    "import matplotlib.pyplot as plt\n",
    "from scipy.special import kn, k1, k0, jn\n",
    "import matplotlib.tri as tri\n",
    "from matplotlib import cm\n",
    "from mpl_toolkits.mplot3d import Axes3D\n",
    "from matplotlib.colors import LinearSegmentedColormap\n",
    "import logging\n",
    "logging.getLogger(\"FFC\").setLevel(logging.WARNING)\n",
    "dolfin.parameters.reorder_dofs_serial = False"
   ]
  },
  {
   "cell_type": "code",
   "execution_count": 2,
   "metadata": {
    "collapsed": true
   },
   "outputs": [],
   "source": [
    "#This block of code allows for plotting FEniCS objects with the Matplotlib backend.\n",
    "#Credit: https://bitbucket.org/fenics-project/dolfin/issues/455/add-ipython-compatible-matplotlib-plotting\n",
    "\n",
    "def mesh2triang(mesh):\n",
    "    xy = mesh.coordinates()\n",
    "    return tri.Triangulation(xy[:, 0], xy[:, 1], mesh.cells())\n",
    "\n",
    "def mplot_cellfunction(cellfn):\n",
    "    C = cellfn.array()\n",
    "    tri = mesh2triang(cellfn.mesh())\n",
    "    return plt.tripcolor(tri, facecolors=C)\n",
    "\n",
    "def mplot_function(f):\n",
    "    mesh = f.function_space().mesh()\n",
    "    if (mesh.geometry().dim() != 2):\n",
    "        raise AttributeError('Mesh must be 2D')\n",
    "    # DG0 cellwise function\n",
    "    if f.vector().size() == mesh.num_cells():\n",
    "        C = f.vector().array()\n",
    "        return plt.tripcolor(mesh2triang(mesh), C)\n",
    "    # Scalar function, interpolated to vertices\n",
    "    elif f.value_rank() == 0:\n",
    "        C = f.compute_vertex_values(mesh)\n",
    "        return plt.tripcolor(mesh2triang(mesh), C, shading='gouraud')\n",
    "    # Vector function, interpolated to vertices\n",
    "    elif f.value_rank() == 1:\n",
    "        w0 = f.compute_vertex_values(mesh)\n",
    "        if (len(w0) != 2*mesh.num_vertices()):\n",
    "            raise AttributeError('Vector field must be 2D')\n",
    "        X = mesh.coordinates()[:, 0]\n",
    "        Y = mesh.coordinates()[:, 1]\n",
    "        U = w0[:mesh.num_vertices()]\n",
    "        V = w0[mesh.num_vertices():]\n",
    "        return plt.quiver(X,Y,U,V)\n",
    "\n",
    "# Plot a generic dolfin object (if supported)\n",
    "def plot(obj):\n",
    "    plt.gca().set_aspect('equal')\n",
    "    if isinstance(obj, Function):\n",
    "        return mplot_function(obj)\n",
    "    elif isinstance(obj, CellFunctionSizet):\n",
    "        return mplot_cellfunction(obj)\n",
    "    elif isinstance(obj, CellFunctionDouble):\n",
    "        return mplot_cellfunction(obj)\n",
    "    elif isinstance(obj, CellFunctionInt):\n",
    "        return mplot_cellfunction(obj)\n",
    "    elif isinstance(obj, Mesh):\n",
    "        if (obj.geometry().dim() != 2):\n",
    "            raise AttributeError('Mesh must be 2D')\n",
    "        return plt.triplot(mesh2triang(obj), color='#808080')\n",
    "\n",
    "    raise AttributeError('Failed to plot %s'%type(obj))\n",
    "# end of commands for plotting"
   ]
  },
  {
   "cell_type": "code",
   "execution_count": 17,
   "metadata": {
    "collapsed": true
   },
   "outputs": [],
   "source": [
    "d = 2\n",
    "thetaS = 0.2\n",
    "#THIS SECTION IS FOR MAKING THE MESH\n",
    "\n",
    "radiusOut = 10\n",
    "radiusIn = 1\n",
    "\n",
    "Out = Circle(Point(0,0),radiusOut)\n",
    "In = Circle(Point(0,0),radiusIn)\n",
    "\n",
    "dom = Out - In\n",
    "\n",
    "mesh = generate_mesh(dom, 150)\n",
    "\n",
    "mesh = refine(mesh)"
   ]
  },
  {
   "cell_type": "code",
   "execution_count": 4,
   "metadata": {
    "collapsed": false
   },
   "outputs": [],
   "source": [
    "#THIS SECTION IS FOR MARKING BOUNDARIES OF THE MESH\n",
    "class outer_boundary(SubDomain):\n",
    "\tdef inside(self, x, on_boundary):\n",
    "\t\ttol = 1E-1\n",
    "\t\tr = sqrt(x[0]*x[0] + x[1]*x[1])\n",
    "\t\treturn on_boundary and abs(r - radiusOut) < tol\n",
    "\n",
    "class inner_boundary(SubDomain):\n",
    "\tdef inside(self, x, on_boundary):\n",
    "\t\ttol = 1E-1\n",
    "\t\tr = sqrt(x[0]*x[0] + x[1]*x[1])\n",
    "\t\treturn on_boundary and abs(r - radiusIn) < tol\n",
    "\n",
    "outerradius = outer_boundary()\n",
    "innerradius = inner_boundary()\n",
    "\n",
    "boundaries = FacetFunction(\"size_t\", mesh)\n",
    "\n",
    "boundaries.set_all(0)\n",
    "innerradius.mark(boundaries,1)\n",
    "outerradius.mark(boundaries,2)"
   ]
  },
  {
   "cell_type": "code",
   "execution_count": 5,
   "metadata": {
    "collapsed": true
   },
   "outputs": [],
   "source": [
    "#This section defines the finite element basis functions\n",
    "V = FunctionSpace(mesh,'Lagrange',1)\n",
    "nx = TrialFunction(V)\n",
    "ny = TrialFunction(V)\n",
    "v1 = TestFunction(V)\n",
    "v2 = TestFunction(V)"
   ]
  },
  {
   "cell_type": "code",
   "execution_count": 11,
   "metadata": {
    "collapsed": true
   },
   "outputs": [],
   "source": [
    "#This section defines the boundary conditions\n",
    "gx = Expression('-x[1]*sin(thetaS)/sqrt(x[0]*x[0] + x[1]*x[1])',thetaS = thetaS) \n",
    "gy = Expression('x[0]*sin(thetaS)/sqrt(x[0]*x[0] + x[1]*x[1])',thetaS = thetaS)\n",
    "\n",
    "#For nx\n",
    "bcs1 = [DirichletBC(V, 0, boundaries, 2), DirichletBC(V, gx, boundaries, 1)]\n",
    "#for ny\n",
    "bcs2 = [DirichletBC(V, 0, boundaries, 2), DirichletBC(V, gy, boundaries, 1)]"
   ]
  },
  {
   "cell_type": "code",
   "execution_count": 18,
   "metadata": {
    "collapsed": false
   },
   "outputs": [
    {
     "data": {
      "text/plain": [
       "array([ 2.])"
      ]
     },
     "execution_count": 18,
     "metadata": {},
     "output_type": "execute_result"
    }
   ],
   "source": [
    "np.linspace(2,3,1)"
   ]
  },
  {
   "cell_type": "code",
   "execution_count": null,
   "metadata": {
    "collapsed": false
   },
   "outputs": [],
   "source": [
    "Etot_list = []\n",
    "d_list = []\n",
    "\n",
    "d_low = 2\n",
    "d_high = 3\n",
    "d_amt = 1\n",
    "\n",
    "#This block solves the problem\n",
    "for i in np.linspace(d_low,d_high,d_amt):\n",
    "    #THIS SECTION IS FOR MARKING BOUNDARIES OF THE MESH\n",
    "    class outer_boundary(SubDomain):\n",
    "        def inside(self, x, on_boundary):\n",
    "            tol = 1E-1\n",
    "            r = sqrt(x[0]*x[0] + x[1]*x[1])\n",
    "            return on_boundary and abs(r - radiusOut) < tol\n",
    "\n",
    "    class inner_boundary(SubDomain):\n",
    "        def inside(self, x, on_boundary):\n",
    "            tol = 1E-1\n",
    "            r = sqrt(x[0]*x[0] + x[1]*x[1])\n",
    "            return on_boundary and abs(r - radiusIn) < tol\n",
    "\n",
    "    outerradius = outer_boundary()\n",
    "    innerradius = inner_boundary()\n",
    "\n",
    "    boundaries = FacetFunction(\"size_t\", mesh)\n",
    "\n",
    "    boundaries.set_all(0)\n",
    "    innerradius.mark(boundaries,1)\n",
    "    outerradius.mark(boundaries,2)\n",
    "    \n",
    "    #This section defines the finite element basis functions\n",
    "    V = FunctionSpace(mesh,'Lagrange',1)\n",
    "    nx = TrialFunction(V)\n",
    "    ny = TrialFunction(V)\n",
    "    v1 = TestFunction(V)\n",
    "    v2 = TestFunction(V)\n",
    "    \n",
    "    #This section defines the boundary conditions\n",
    "    gx = Expression('-x[1]*sin(thetaS)/sqrt(x[0]*x[0] + x[1]*x[1])',thetaS = thetaS) \n",
    "    gy = Expression('x[0]*sin(thetaS)/sqrt(x[0]*x[0] + x[1]*x[1])',thetaS = thetaS)\n",
    "\n",
    "    #For nx\n",
    "    bcs1 = [DirichletBC(V, 0, boundaries, 2), DirichletBC(V, gx, boundaries, 1)]\n",
    "    #for ny\n",
    "    bcs2 = [DirichletBC(V, 0, boundaries, 2), DirichletBC(V, gy, boundaries, 1)]\n",
    "    \n",
    "    f = Constant(0.0)\n",
    "    g = Constant(i**-2)\n",
    "\n",
    "    a1 = (inner(nabla_grad(nx), nabla_grad(v1)) + g*(inner(nx,v1)))*dx\n",
    "    a2 = (inner(nabla_grad(ny), nabla_grad(v2)) + g*(inner(ny,v2)))*dx\n",
    "    L1 = f*v1*dx\n",
    "    L2 = f*v2*dx\n",
    "    nx = Function(V)\n",
    "    ny = Function(V)\n",
    "    solve(a1 == L1, nx, bcs1)\n",
    "    solve(a2 == L2, ny, bcs2)\n",
    "\n",
    "    V_d = VectorFunctionSpace(mesh,'Lagrange',1)\n",
    "    w1 = TrialFunction(V_d)\n",
    "    w2 = TrialFunction(V_d)\n",
    "    q1 = TestFunction(V_d)\n",
    "    q2 = TestFunction(V_d)\n",
    "\n",
    "    a3 = inner(w1,q1)*dx\n",
    "    a4 = inner(w2,q2)*dx\n",
    "    L3 = inner(grad(nx),q1)*dx\n",
    "    L4 = inner(grad(ny),q2)*dx\n",
    "    grad_nx = Function(V_d)\n",
    "    grad_ny = Function(V_d)\n",
    "    solve(a3 == L3, grad_nx)\n",
    "    solve(a4 == L4, grad_ny)\n",
    "\n",
    "    dxnx, dynx = grad_nx.split(deepcopy=True)\n",
    "    dxny, dyny = grad_ny.split(deepcopy=True)\n",
    "\n",
    "    cell_markers = CellFunction(\"uint\", mesh)\n",
    "    dx1 = Measure(\"dx\", domain=mesh, subdomain_data=cell_markers)\n",
    "\n",
    "    splay = pow(dxnx+dyny,2)/2\n",
    "    twist = pow(dxny-dynx,2)/2\n",
    "    field = g*(pow(nx,2) + pow(ny,2))/2\n",
    "\n",
    "    fel = splay + twist + field\n",
    "\n",
    "    f1 = project(fel,V)\n",
    "\n",
    "    Esplay = assemble(splay*dx1)\n",
    "    Etwist = assemble(twist*dx1)\n",
    "    Efield = assemble(field*dx1)\n",
    "\n",
    "    Etot = Esplay + Etwist + Efield\n",
    "    \n",
    "    Etot_list.append(Etot)\n",
    "    d_list.append(i)"
   ]
  },
  {
   "cell_type": "code",
   "execution_count": 9,
   "metadata": {
    "collapsed": true
   },
   "outputs": [],
   "source": [
    "def int_f(d,theta_s,K,R):\n",
    "    return K*R*np.pi*theta_s**2*k0(R/d)/(d*k1(R/d))\n",
    "Eint_list = int_f(np.array(d_list),0.2,1,1)"
   ]
  },
  {
   "cell_type": "code",
   "execution_count": 10,
   "metadata": {
    "collapsed": false
   },
   "outputs": [
    {
     "data": {
      "image/png": "[encoded data removed]",
      "text/plain": [
       "<matplotlib.figure.Figure at 0x7f3412b6ec10>"
      ]
     },
     "metadata": {},
     "output_type": "display_data"
    }
   ],
   "source": [
    "plt.figure(figsize=(11,8))\n",
    "plt.scatter(np.array(d_list),np.array(Etot_list),color='r',label='Numerical')\n",
    "plt.scatter(np.array(d_list),np.array(Eint_list),color='b',label='Analytical')\n",
    "plt.legend(loc='upper right',fontsize=18)\n",
    "plt.gca().spines['right'].set_visible(False)\n",
    "plt.gca().spines['top'].set_visible(False)\n",
    "plt.xlabel('d',fontsize=20)\n",
    "plt.ylabel('F/L',fontsize=20,labelpad=25,rotation='horizontal')\n",
    "plt.title('Numerical vs Analytical Total Free Energy',fontsize=20,y=1.01)\n",
    "plt.tick_params(axis='both',which='major',labelsize=14)\n",
    "plt.tick_params(axis='x', top='off')\n",
    "plt.tick_params(axis='y', right='off')\n",
    "plt.xlim(0,10),plt.ylim(0,0.25);"
   ]
  },
  {
   "cell_type": "code",
   "execution_count": null,
   "metadata": {
    "collapsed": false
   },
   "outputs": [],
   "source": [
    "plt.figure(figsize=(10,10))\n",
    "plot(f1)\n",
    "plt.xlabel('x',fontsize=16)\n",
    "plt.ylabel('y',fontsize=16,rotation='horizontal',labelpad=3)\n",
    "plt.colorbar(shrink=0.8);"
   ]
  },
  {
   "cell_type": "code",
   "execution_count": null,
   "metadata": {
    "collapsed": true
   },
   "outputs": [],
   "source": []
  }
 ],
 "metadata": {
  "kernelspec": {
   "display_name": "Python 2",
   "language": "python",
   "name": "python2"
  },
  "language_info": {
   "codemirror_mode": {
    "name": "ipython",
    "version": 2
   },
   "file_extension": ".py",
   "mimetype": "text/x-python",
   "name": "python",
   "nbconvert_exporter": "python",
   "pygments_lexer": "ipython2",
   "version": "2.7.6"
  }
 },
 "nbformat": 4,
 "nbformat_minor": 0
}
