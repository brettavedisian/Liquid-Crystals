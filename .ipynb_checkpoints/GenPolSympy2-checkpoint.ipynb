{
 "cells": [
  {
   "cell_type": "code",
   "execution_count": 2,
   "metadata": {
    "collapsed": true
   },
   "outputs": [],
   "source": [
    "%matplotlib inline\n",
    "from sympy import *\n",
    "init_printing(use_unicode=True)"
   ]
  },
  {
   "cell_type": "code",
   "execution_count": 3,
   "metadata": {
    "collapsed": false
   },
   "outputs": [],
   "source": [
    "r, u, v, c, r_c, u_c, v_c, E, p, r_p, u_p, v_p, e, a, b, q, b_0, b_1, b_2, b_3, q_0, q_1, q_2, q_3, q_4, q_5  = symbols('r u v c r_c u_c v_c E p r_p u_p v_p e a b q b_0 b_1 b_2 b_3 q_0 q_1 q_2 q_3 q_4 q_5')"
   ]
  },
  {
   "cell_type": "code",
   "execution_count": 4,
   "metadata": {
    "collapsed": true
   },
   "outputs": [],
   "source": [
    "gamma = symbols('gamma',positive=True)"
   ]
  },
  {
   "cell_type": "markdown",
   "metadata": {},
   "source": [
    "####$f_{2}(c,p) = \\dfrac{1}{2}r_{c}c^{2}+\\dfrac{1}{4}u_{c}c^{4}+\\dfrac{1}{6}v_{c}c^{6}+\\dfrac{1}{2}r_{p}p^{2}+\\dfrac{1}{4}u_{p}p^{4}+\\dfrac{1}{6}v_{p}p^{6}-\\gamma cp-ec^{2}p^{2}-Ep$"
   ]
  },
  {
   "cell_type": "code",
   "execution_count": 6,
   "metadata": {
    "collapsed": false
   },
   "outputs": [
    {
     "data": {
      "image/png": "[encoded data removed]",
      "text/latex": [
       "$$- E p + \\frac{c^{6} v_{c}}{6} + \\frac{c^{4} u_{c}}{4} - \\frac{c^{2} p^{2}}{2} + \\frac{c^{2} r_{c}}{2} - c \\gamma p + \\frac{p^{6} v_{p}}{6} + \\frac{p^{4}}{4} + \\frac{p^{2}}{2}$$"
      ],
      "text/plain": [
       "        6        4        2  2    2                6        4    2\n",
       "       c ⋅v_c   c ⋅u_c   c ⋅p    c ⋅r_c           p ⋅v_p   p    p \n",
       "-E⋅p + ────── + ────── - ───── + ────── - c⋅γ⋅p + ────── + ── + ──\n",
       "         6        4        2       2                6      4    2 "
      ]
     },
     "execution_count": 6,
     "metadata": {},
     "output_type": "execute_result"
    }
   ],
   "source": [
    "f = ((1/2)*r_c*c**2+(1/4)*u_c*c**4+(1/6)*v_c*c**6+(1/2)*p**2\n",
    "      +(1/4)*p**4+(1/6)*v_p*p**6-E*p-gamma*c*p-c**2*p**2/2)\n",
    "nsimplify(f)"
   ]
  },
  {
   "cell_type": "markdown",
   "metadata": {},
   "source": [
    "###Solve for $E(c,p)$\n",
    "\n",
    "###$\\dfrac{\\partial f_{2}(c,p)}{\\partial p} = 0 = $"
   ]
  },
  {
   "cell_type": "code",
   "execution_count": 7,
   "metadata": {
    "collapsed": false
   },
   "outputs": [
    {
     "data": {
      "image/png": "[encoded data removed]",
      "text/latex": [
       "$$- c^{2} p - c \\gamma + p^{5} v_{p} + p^{3} + p$$"
      ],
      "text/plain": [
       "   2            5        3    \n",
       "- c ⋅p - c⋅γ + p ⋅v_p + p  + p"
      ]
     },
     "execution_count": 7,
     "metadata": {},
     "output_type": "execute_result"
    }
   ],
   "source": [
    "E_c = solve(f.diff(p),E)[0]\n",
    "E_c"
   ]
  },
  {
   "cell_type": "markdown",
   "metadata": {},
   "source": [
    "###Solve for $p_{min}(c)$\n",
    "\n",
    "###$\\dfrac{\\partial f_{2}(c,p)}{\\partial c} = 0 = $"
   ]
  },
  {
   "cell_type": "code",
   "execution_count": 8,
   "metadata": {
    "collapsed": false
   },
   "outputs": [
    {
     "data": {
      "image/png": "[encoded data removed]",
      "text/latex": [
       "$$\\frac{1}{2 c} \\left(- \\gamma + \\sqrt{4 c^{6} v_{c} + 4 c^{4} u_{c} + 4 c^{2} r_{c} + \\gamma^{2}}\\right)$$"
      ],
      "text/plain": [
       "        _____________________________________\n",
       "       ╱    6          4          2        2 \n",
       "-γ + ╲╱  4⋅c ⋅v_c + 4⋅c ⋅u_c + 4⋅c ⋅r_c + γ  \n",
       "─────────────────────────────────────────────\n",
       "                     2⋅c                     "
      ]
     },
     "execution_count": 8,
     "metadata": {},
     "output_type": "execute_result"
    }
   ],
   "source": [
    "p_min = nsimplify(solve(f.diff(c),p)[0])\n",
    "p_min"
   ]
  },
  {
   "cell_type": "markdown",
   "metadata": {},
   "source": [
    "###Plug $p_{min}(c)$ into $E(p,c)$:"
   ]
  },
  {
   "cell_type": "code",
   "execution_count": 9,
   "metadata": {
    "collapsed": false
   },
   "outputs": [
    {
     "data": {
      "image/png": "[encoded data removed]",
      "text/latex": [
       "$$- c \\gamma - \\frac{c}{2} \\left(- \\gamma + \\sqrt{4 c^{6} v_{c} + 4 c^{4} u_{c} + 4 c^{2} r_{c} + \\gamma^{2}}\\right) + \\frac{1}{2 c} \\left(- \\gamma + \\sqrt{4 c^{6} v_{c} + 4 c^{4} u_{c} + 4 c^{2} r_{c} + \\gamma^{2}}\\right) + \\frac{1}{8 c^{3}} \\left(- \\gamma + \\sqrt{4 c^{6} v_{c} + 4 c^{4} u_{c} + 4 c^{2} r_{c} + \\gamma^{2}}\\right)^{3} + \\frac{v_{p}}{32 c^{5}} \\left(- \\gamma + \\sqrt{4 c^{6} v_{c} + 4 c^{4} u_{c} + 4 c^{2} r_{c} + \\gamma^{2}}\\right)^{5}$$"
      ],
      "text/plain": [
       "                                                                              \n",
       "         ⎛        _____________________________________⎞           ___________\n",
       "         ⎜       ╱    6          4          2        2 ⎟          ╱    6      \n",
       "       c⋅⎝-γ + ╲╱  4⋅c ⋅v_c + 4⋅c ⋅u_c + 4⋅c ⋅r_c + γ  ⎠   -γ + ╲╱  4⋅c ⋅v_c +\n",
       "-c⋅γ - ───────────────────────────────────────────────── + ───────────────────\n",
       "                               2                                              \n",
       "                                                                              \n",
       "\n",
       "                                                                            3 \n",
       "__________________________   ⎛        _____________________________________⎞  \n",
       "    4          2        2    ⎜       ╱    6          4          2        2 ⎟  \n",
       " 4⋅c ⋅u_c + 4⋅c ⋅r_c + γ     ⎝-γ + ╲╱  4⋅c ⋅v_c + 4⋅c ⋅u_c + 4⋅c ⋅r_c + γ  ⎠  \n",
       "────────────────────────── + ──────────────────────────────────────────────── \n",
       "  2⋅c                                                 3                       \n",
       "                                                   8⋅c                        \n",
       "\n",
       "                                                     5\n",
       "      ⎛        _____________________________________⎞ \n",
       "      ⎜       ╱    6          4          2        2 ⎟ \n",
       "  v_p⋅⎝-γ + ╲╱  4⋅c ⋅v_c + 4⋅c ⋅u_c + 4⋅c ⋅r_c + γ  ⎠ \n",
       "+ ────────────────────────────────────────────────────\n",
       "                             5                        \n",
       "                         32⋅c                         "
      ]
     },
     "execution_count": 9,
     "metadata": {},
     "output_type": "execute_result"
    }
   ],
   "source": [
    "E_c = nsimplify(E_c.subs(p,p_min))\n",
    "E_c"
   ]
  },
  {
   "cell_type": "markdown",
   "metadata": {},
   "source": [
    "###Series expand $E(p_{min}(c),c)$ in powers of $c$ to order 7:"
   ]
  },
  {
   "cell_type": "code",
   "execution_count": 10,
   "metadata": {
    "collapsed": false
   },
   "outputs": [
    {
     "data": {
      "image/png": "[encoded data removed]",
      "text/latex": [
       "$$c \\left(- \\gamma + \\frac{r_{c}}{\\gamma}\\right) + c^{3} \\left(- \\frac{r_{c}}{\\gamma} + \\frac{u_{c}}{\\gamma} + \\frac{r_{c}^{3}}{\\gamma^{3}} - \\frac{r_{c}^{2}}{\\gamma^{3}}\\right) + c^{5} \\left(- \\frac{u_{c}}{\\gamma} + \\frac{v_{c}}{\\gamma} + \\frac{3 u_{c}}{\\gamma^{3}} r_{c}^{2} + \\frac{r_{c}^{2}}{\\gamma^{3}} - \\frac{2 r_{c}}{\\gamma^{3}} u_{c} + \\frac{r_{c}^{5} v_{p}}{\\gamma^{5}} - \\frac{3 r_{c}^{4}}{\\gamma^{5}} + \\frac{2 r_{c}^{3}}{\\gamma^{5}}\\right) + \\mathcal{O}\\left(c^{7}\\right)$$"
      ],
      "text/plain": [
       "                  ⎛                 3      2⎞      ⎛                   2      \n",
       "  ⎛     r_c⎞    3 ⎜  r_c   u_c   r_c    r_c ⎟    5 ⎜  u_c   v_c   3⋅r_c ⋅u_c  \n",
       "c⋅⎜-γ + ───⎟ + c ⋅⎜- ─── + ─── + ──── - ────⎟ + c ⋅⎜- ─── + ─── + ────────── +\n",
       "  ⎝      γ ⎠      ⎜   γ     γ      3      3 ⎟      ⎜   γ     γ         3      \n",
       "                  ⎝               γ      γ  ⎠      ⎝                  γ       \n",
       "\n",
       "    2                  5            4        3⎞        \n",
       " r_c    2⋅r_c⋅u_c   r_c ⋅v_p   3⋅r_c    2⋅r_c ⎟    ⎛ 7⎞\n",
       " ──── - ───────── + ──────── - ────── + ──────⎟ + O⎝c ⎠\n",
       "   3         3          5         5        5  ⎟        \n",
       "  γ         γ          γ         γ        γ   ⎠        "
      ]
     },
     "execution_count": 10,
     "metadata": {},
     "output_type": "execute_result"
    }
   ],
   "source": [
    "series(E_c,c,n=7)"
   ]
  },
  {
   "cell_type": "code",
   "execution_count": 9,
   "metadata": {
    "collapsed": true
   },
   "outputs": [],
   "source": [
    "Etrun = a*c+b*c**3+q*c**5"
   ]
  },
  {
   "cell_type": "code",
   "execution_count": 10,
   "metadata": {
    "collapsed": true
   },
   "outputs": [
    {
     "data": {
      "image/png": "[encoded data removed]",
      "text/latex": [
       "$$\\left [ - \\frac{\\sqrt{10}}{10} \\sqrt{- \\frac{3 b}{q} - \\frac{1}{q} \\sqrt{- 20 a q + 9 b^{2}}}, \\quad \\frac{\\sqrt{10}}{10} \\sqrt{- \\frac{3 b}{q} - \\frac{1}{q} \\sqrt{- 20 a q + 9 b^{2}}}, \\quad - \\frac{\\sqrt{10}}{10} \\sqrt{- \\frac{3 b}{q} + \\frac{1}{q} \\sqrt{- 20 a q + 9 b^{2}}}, \\quad \\frac{\\sqrt{10}}{10} \\sqrt{- \\frac{3 b}{q} + \\frac{1}{q} \\sqrt{- 20 a q + 9 b^{2}}}\\right ]$$"
      ],
      "text/plain": [
       "⎡              _____________________________                __________________\n",
       "⎢             ╱            ________________                ╱            ______\n",
       "⎢            ╱            ╱              2                ╱            ╱      \n",
       "⎢   ____    ╱     3⋅b   ╲╱  -20⋅a⋅q + 9⋅b        ____    ╱     3⋅b   ╲╱  -20⋅a\n",
       "⎢-╲╱ 10 ⋅  ╱    - ─── - ───────────────────    ╲╱ 10 ⋅  ╱    - ─── - ─────────\n",
       "⎢        ╲╱        q             q                    ╲╱        q             \n",
       "⎢────────────────────────────────────────────, ───────────────────────────────\n",
       "⎣                     10                                           10         \n",
       "\n",
       "___________                _____________________________                ______\n",
       "__________                ╱            ________________                ╱      \n",
       "        2                ╱            ╱              2                ╱       \n",
       "⋅q + 9⋅b        ____    ╱     3⋅b   ╲╱  -20⋅a⋅q + 9⋅b        ____    ╱     3⋅b\n",
       "──────────   -╲╱ 10 ⋅  ╱    - ─── + ───────────────────    ╲╱ 10 ⋅  ╱    - ───\n",
       "q                    ╲╱        q             q                    ╲╱        q \n",
       "───────────, ────────────────────────────────────────────, ───────────────────\n",
       "                                  10                                          \n",
       "\n",
       "_______________________⎤\n",
       "      ________________ ⎥\n",
       "     ╱              2  ⎥\n",
       "   ╲╱  -20⋅a⋅q + 9⋅b   ⎥\n",
       " + ─────────────────── ⎥\n",
       "            q          ⎥\n",
       "───────────────────────⎥\n",
       " 10                    ⎦"
      ]
     },
     "execution_count": 10,
     "metadata": {},
     "output_type": "execute_result"
    }
   ],
   "source": [
    "solve(Etrun.diff(c),c)"
   ]
  },
  {
   "cell_type": "code",
   "execution_count": 11,
   "metadata": {
    "collapsed": true
   },
   "outputs": [
    {
     "data": {
      "image/png": "[encoded data removed]",
      "text/latex": [
       "$$\\left ( \\frac{\\sqrt{10}}{10} \\sqrt{- \\frac{3 b}{q} - \\frac{1}{q} \\sqrt{- 20 a q + 9 b^{2}}}, \\quad \\frac{\\sqrt{10}}{10} \\sqrt{- \\frac{3 b}{q} + \\frac{1}{q} \\sqrt{- 20 a q + 9 b^{2}}}\\right )$$"
      ],
      "text/plain": [
       "⎛             _____________________________               ____________________\n",
       "⎜            ╱            ________________               ╱            ________\n",
       "⎜           ╱            ╱              2               ╱            ╱        \n",
       "⎜  ____    ╱     3⋅b   ╲╱  -20⋅a⋅q + 9⋅b       ____    ╱     3⋅b   ╲╱  -20⋅a⋅q\n",
       "⎜╲╱ 10 ⋅  ╱    - ─── - ───────────────────   ╲╱ 10 ⋅  ╱    - ─── + ───────────\n",
       "⎜       ╲╱        q             q                   ╲╱        q             q \n",
       "⎜──────────────────────────────────────────, ─────────────────────────────────\n",
       "⎝                    10                                          10           \n",
       "\n",
       "_________⎞\n",
       "________ ⎟\n",
       "      2  ⎟\n",
       " + 9⋅b   ⎟\n",
       "──────── ⎟\n",
       "         ⎟\n",
       "─────────⎟\n",
       "         ⎠"
      ]
     },
     "execution_count": 11,
     "metadata": {},
     "output_type": "execute_result"
    }
   ],
   "source": [
    "c_L = solve(Etrun.diff(c),c)[1]\n",
    "c_U = solve(Etrun.diff(c),c)[3]\n",
    "c_L,c_U"
   ]
  },
  {
   "cell_type": "code",
   "execution_count": 12,
   "metadata": {
    "collapsed": false
   },
   "outputs": [],
   "source": [
    "E_L = simplify(Etrun.subs(c,c_U))\n",
    "E_U = simplify(Etrun.subs(c,c_L))"
   ]
  },
  {
   "cell_type": "code",
   "execution_count": 13,
   "metadata": {
    "collapsed": true
   },
   "outputs": [
    {
     "data": {
      "image/png": "[encoded data removed]",
      "text/latex": [
       "$$\\left ( \\frac{\\sqrt{10}}{250 q} \\sqrt{\\frac{1}{q} \\left(- 3 b + \\sqrt{- 20 a q + 9 b^{2}}\\right)} \\left(20 a q - 3 b^{2} + b \\sqrt{- 20 a q + 9 b^{2}}\\right), \\quad \\frac{\\sqrt{10}}{250 q} \\sqrt{\\frac{1}{q} \\left(- 3 b - \\sqrt{- 20 a q + 9 b^{2}}\\right)} \\left(20 a q - 3 b^{2} - b \\sqrt{- 20 a q + 9 b^{2}}\\right)\\right )$$"
      ],
      "text/plain": [
       "⎛             ____________________________                                    \n",
       "⎜            ╱           ________________                                     \n",
       "⎜           ╱           ╱              2   ⎛                     _____________\n",
       "⎜  ____    ╱   -3⋅b + ╲╱  -20⋅a⋅q + 9⋅b    ⎜            2       ╱             \n",
       "⎜╲╱ 10 ⋅  ╱    ────────────────────────── ⋅⎝20⋅a⋅q - 3⋅b  + b⋅╲╱  -20⋅a⋅q + 9⋅\n",
       "⎜       ╲╱                 q                                                  \n",
       "⎜─────────────────────────────────────────────────────────────────────────────\n",
       "⎝                                      250⋅q                                  \n",
       "\n",
       "                   ____________________________                               \n",
       "                  ╱           ________________                                \n",
       "___⎞             ╱           ╱              2   ⎛                     ________\n",
       " 2 ⎟    ____    ╱   -3⋅b - ╲╱  -20⋅a⋅q + 9⋅b    ⎜            2       ╱        \n",
       "b  ⎠  ╲╱ 10 ⋅  ╱    ────────────────────────── ⋅⎝20⋅a⋅q - 3⋅b  - b⋅╲╱  -20⋅a⋅q\n",
       "             ╲╱                 q                                             \n",
       "────, ────────────────────────────────────────────────────────────────────────\n",
       "                                            250⋅q                             \n",
       "\n",
       "         ⎞\n",
       "         ⎟\n",
       "________⎞⎟\n",
       "      2 ⎟⎟\n",
       " + 9⋅b  ⎠⎟\n",
       "         ⎟\n",
       "─────────⎟\n",
       "         ⎠"
      ]
     },
     "execution_count": 13,
     "metadata": {},
     "output_type": "execute_result"
    }
   ],
   "source": [
    "E_L,E_U"
   ]
  },
  {
   "cell_type": "code",
   "execution_count": 13,
   "metadata": {
    "collapsed": false
   },
   "outputs": [],
   "source": [
    "rc = (gamma**2+a*gamma)\n",
    "\n",
    "B = (-r_c/gamma+u_c/gamma+(r_c/gamma)**3-r_c**2/gamma**3)\n",
    "\n",
    "Q = (-u_c/gamma+v_c/gamma+3*u_c*r_c**2/gamma**3+r_c**2/gamma**3\n",
    "     -2*r_c*u_c/gamma**3+v_p*(r_c/gamma)**5-3*r_c**4/gamma**5+2*r_c**3/gamma**5)"
   ]
  },
  {
   "cell_type": "code",
   "execution_count": 19,
   "metadata": {
    "collapsed": false
   },
   "outputs": [
    {
     "data": {
      "image/png": "[encoded data removed]",
      "text/latex": [
       "$$a^{3} + a^{2} \\left(3 \\gamma - \\frac{1}{\\gamma}\\right) + a \\left(3 \\gamma^{2} - 3\\right) + \\gamma^{3} - 2 \\gamma + \\frac{u_{c}}{\\gamma}$$"
      ],
      "text/plain": [
       " 3    2 ⎛      1⎞     ⎛   2    ⎞    3         u_c\n",
       "a  + a ⋅⎜3⋅γ - ─⎟ + a⋅⎝3⋅γ  - 3⎠ + γ  - 2⋅γ + ───\n",
       "        ⎝      γ⎠                              γ "
      ]
     },
     "execution_count": 19,
     "metadata": {},
     "output_type": "execute_result"
    }
   ],
   "source": [
    "collect(expand(B.subs(r_c,rc)),a)"
   ]
  },
  {
   "cell_type": "code",
   "execution_count": 20,
   "metadata": {
    "collapsed": false
   },
   "outputs": [
    {
     "data": {
      "image/png": "[encoded data removed]",
      "text/latex": [
       "$$a^{5} v_{p} + a^{4} \\left(5 \\gamma v_{p} - \\frac{3}{\\gamma}\\right) + a^{3} \\left(10 \\gamma^{2} v_{p} - 12 + \\frac{2}{\\gamma^{2}}\\right) + a^{2} \\left(10 \\gamma^{3} v_{p} - 18 \\gamma + \\frac{3 u_{c}}{\\gamma} + \\frac{7}{\\gamma}\\right) + a \\left(5 \\gamma^{4} v_{p} - 12 \\gamma^{2} + 6 u_{c} + 8 - \\frac{2 u_{c}}{\\gamma^{2}}\\right) + \\gamma^{5} v_{p} - 3 \\gamma^{3} + 3 \\gamma u_{c} + 3 \\gamma - \\frac{3 u_{c}}{\\gamma} + \\frac{v_{c}}{\\gamma}$$"
      ],
      "text/plain": [
       " 5        4 ⎛          3⎞    3 ⎛    2            2 ⎞    2 ⎛    3              \n",
       "a ⋅v_p + a ⋅⎜5⋅γ⋅v_p - ─⎟ + a ⋅⎜10⋅γ ⋅v_p - 12 + ──⎟ + a ⋅⎜10⋅γ ⋅v_p - 18⋅γ + \n",
       "            ⎝          γ⎠      ⎜                  2⎟      ⎝                   \n",
       "                               ⎝                 γ ⎠                          \n",
       "\n",
       "3⋅u_c   7⎞     ⎛   4           2               2⋅u_c⎞    5          3         \n",
       "───── + ─⎟ + a⋅⎜5⋅γ ⋅v_p - 12⋅γ  + 6⋅u_c + 8 - ─────⎟ + γ ⋅v_p - 3⋅γ  + 3⋅γ⋅u_\n",
       "  γ     γ⎠     ⎜                                  2 ⎟                         \n",
       "               ⎝                                 γ  ⎠                         \n",
       "\n",
       "          3⋅u_c   v_c\n",
       "c + 3⋅γ - ───── + ───\n",
       "            γ      γ \n",
       "                     "
      ]
     },
     "execution_count": 20,
     "metadata": {},
     "output_type": "execute_result"
    }
   ],
   "source": [
    "collect(expand(Q.subs(r_c,rc)),a)"
   ]
  },
  {
   "cell_type": "code",
   "execution_count": 18,
   "metadata": {
    "collapsed": true
   },
   "outputs": [],
   "source": [
    "b0 = gamma**3-2*gamma+u_c/gamma\n",
    "\n",
    "b1 = 3*gamma**2-3\n",
    "\n",
    "b2 = 3*gamma-1/gamma\n",
    "\n",
    "b3 = 1\n",
    "\n",
    "q0 = gamma**5*v_p-3*gamma**3+3*gamma*u_c+3*gamma-3*u_c/gamma+v_c/gamma\n",
    "\n",
    "q1 = 5*gamma**4*v_p-12*gamma**2+6*u_c+8-2*u_c/gamma**2\n",
    "\n",
    "q2 = 10*v_p*gamma**3-18*gamma+(7+3*u_c)/gamma\n",
    "\n",
    "q3 = 10*v_p*gamma**2-12+2/gamma**2\n",
    "\n",
    "q4 = 5*v_p*gamma-3/gamma\n",
    "\n",
    "q5 = v_p"
   ]
  },
  {
   "cell_type": "code",
   "execution_count": 12,
   "metadata": {
    "collapsed": false
   },
   "outputs": [],
   "source": [
    "uc = solve(b0-b_0,u_c)[0]\n",
    "up = solve(b3-b_3,u_p)[0]\n",
    "vc = solve(q0-q_0,v_c)[0]\n",
    "vp = solve(q5-q_5,v_p)[0]"
   ]
  },
  {
   "cell_type": "code",
   "execution_count": 13,
   "metadata": {
    "collapsed": false
   },
   "outputs": [],
   "source": [
    "replacements = [(v_p,vp),(u_p,up),(u_c,uc)]"
   ]
  },
  {
   "cell_type": "code",
   "execution_count": 16,
   "metadata": {
    "collapsed": false
   },
   "outputs": [],
   "source": [
    "vc = simplify(vc.subs([i for i in replacements]))"
   ]
  },
  {
   "cell_type": "code",
   "execution_count": 17,
   "metadata": {
    "collapsed": false
   },
   "outputs": [
    {
     "data": {
      "image/png": "[encoded data removed]",
      "text/latex": [
       "$$- \\frac{3 b_{0}}{r_{p}} b_{3} \\gamma^{3} + \\frac{6 b_{0}}{r_{p}^{2}} e \\gamma + \\frac{3 b_{3}^{2}}{r_{p}} \\gamma^{6} - \\frac{12 b_{3}}{r_{p}^{2}} e \\gamma^{4} + \\frac{12 e^{2}}{r_{p}^{3}} \\gamma^{2} - \\frac{\\gamma^{6} q_{5}}{r_{p}} + \\frac{\\gamma q_{0}}{r_{p}}$$"
      ],
      "text/plain": [
       "           3                  2  6            4       2  2    6          \n",
       "  3⋅b₀⋅b₃⋅γ    6⋅b₀⋅e⋅γ   3⋅b₃ ⋅γ    12⋅b₃⋅e⋅γ    12⋅e ⋅γ    γ ⋅q₅   γ⋅q₀\n",
       "- ────────── + ──────── + ──────── - ────────── + ──────── - ───── + ────\n",
       "     r_p            2       r_p            2           3      r_p    r_p \n",
       "                 r_p                    r_p         r_p                  "
      ]
     },
     "execution_count": 17,
     "metadata": {},
     "output_type": "execute_result"
    }
   ],
   "source": [
    "expand(vc)"
   ]
  },
  {
   "cell_type": "code",
   "execution_count": 18,
   "metadata": {
    "collapsed": false
   },
   "outputs": [],
   "source": [
    "uc = simplify(uc.subs([i for i in replacements]))"
   ]
  },
  {
   "cell_type": "code",
   "execution_count": 19,
   "metadata": {
    "collapsed": false
   },
   "outputs": [
    {
     "data": {
      "image/png": "[encoded data removed]",
      "text/latex": [
       "$$\\frac{b_{0} \\gamma}{r_{p}} - \\frac{b_{3} \\gamma^{4}}{r_{p}} + \\frac{4 e}{r_{p}^{2}} \\gamma^{2}$$"
      ],
      "text/plain": [
       "           4        2\n",
       "b₀⋅γ   b₃⋅γ    4⋅e⋅γ \n",
       "──── - ───── + ──────\n",
       "r_p     r_p        2 \n",
       "                r_p  "
      ]
     },
     "execution_count": 19,
     "metadata": {},
     "output_type": "execute_result"
    }
   ],
   "source": [
    "expand(uc)"
   ]
  },
  {
   "cell_type": "code",
   "execution_count": 20,
   "metadata": {
    "collapsed": false
   },
   "outputs": [
    {
     "data": {
      "image/png": "[encoded data removed]",
      "text/latex": [
       "$$b_{3} r_{p}^{3}$$"
      ],
      "text/plain": [
       "      3\n",
       "b₃⋅r_p "
      ]
     },
     "execution_count": 20,
     "metadata": {},
     "output_type": "execute_result"
    }
   ],
   "source": [
    "up"
   ]
  },
  {
   "cell_type": "code",
   "execution_count": 21,
   "metadata": {
    "collapsed": false
   },
   "outputs": [
    {
     "data": {
      "image/png": "[encoded data removed]",
      "text/latex": [
       "$$q_{5} r_{p}^{5}$$"
      ],
      "text/plain": [
       "      5\n",
       "q₅⋅r_p "
      ]
     },
     "execution_count": 21,
     "metadata": {},
     "output_type": "execute_result"
    }
   ],
   "source": [
    "vp"
   ]
  },
  {
   "cell_type": "markdown",
   "metadata": {},
   "source": [
    "###$b_0$"
   ]
  },
  {
   "cell_type": "code",
   "execution_count": 22,
   "metadata": {
    "collapsed": false
   },
   "outputs": [
    {
     "data": {
      "image/png": "[encoded data removed]",
      "text/latex": [
       "$$- \\frac{4 e}{r_{p}} \\gamma + \\frac{\\gamma^{3} u_{p}}{r_{p}^{3}} + \\frac{r_{p} u_{c}}{\\gamma}$$"
      ],
      "text/plain": [
       "           3              \n",
       "  4⋅e⋅γ   γ ⋅u_p   r_p⋅u_c\n",
       "- ───── + ────── + ───────\n",
       "   r_p        3       γ   \n",
       "           r_p            "
      ]
     },
     "execution_count": 22,
     "metadata": {},
     "output_type": "execute_result"
    }
   ],
   "source": [
    "b0"
   ]
  },
  {
   "cell_type": "markdown",
   "metadata": {},
   "source": [
    "###$b_1$"
   ]
  },
  {
   "cell_type": "code",
   "execution_count": 23,
   "metadata": {
    "collapsed": false
   },
   "outputs": [],
   "source": [
    "b1 = simplify(b1.subs(u_p,up))"
   ]
  },
  {
   "cell_type": "code",
   "execution_count": 24,
   "metadata": {
    "collapsed": false
   },
   "outputs": [
    {
     "data": {
      "image/png": "[encoded data removed]",
      "text/latex": [
       "$$3 b_{3} \\gamma^{2} - \\frac{6 e}{r_{p}}$$"
      ],
      "text/plain": [
       "      2   6⋅e\n",
       "3⋅b₃⋅γ  - ───\n",
       "          r_p"
      ]
     },
     "execution_count": 24,
     "metadata": {},
     "output_type": "execute_result"
    }
   ],
   "source": [
    "b1"
   ]
  },
  {
   "cell_type": "markdown",
   "metadata": {},
   "source": [
    "###$b_2$"
   ]
  },
  {
   "cell_type": "code",
   "execution_count": 25,
   "metadata": {
    "collapsed": false
   },
   "outputs": [],
   "source": [
    "b2 = simplify(b2.subs(u_p,up))"
   ]
  },
  {
   "cell_type": "code",
   "execution_count": 26,
   "metadata": {
    "collapsed": false,
    "scrolled": true
   },
   "outputs": [
    {
     "data": {
      "image/png": "[encoded data removed]",
      "text/latex": [
       "$$3 b_{3} \\gamma - \\frac{2 e}{\\gamma r_{p}}$$"
      ],
      "text/plain": [
       "          2⋅e \n",
       "3⋅b₃⋅γ - ─────\n",
       "         γ⋅r_p"
      ]
     },
     "execution_count": 26,
     "metadata": {},
     "output_type": "execute_result"
    }
   ],
   "source": [
    "b2"
   ]
  },
  {
   "cell_type": "markdown",
   "metadata": {},
   "source": [
    "###$b_3$"
   ]
  },
  {
   "cell_type": "code",
   "execution_count": 27,
   "metadata": {
    "collapsed": false
   },
   "outputs": [
    {
     "data": {
      "image/png": "[encoded data removed]",
      "text/latex": [
       "$$\\frac{u_{p}}{r_{p}^{3}}$$"
      ],
      "text/plain": [
       "u_p \n",
       "────\n",
       "   3\n",
       "r_p "
      ]
     },
     "execution_count": 27,
     "metadata": {},
     "output_type": "execute_result"
    }
   ],
   "source": [
    "b3"
   ]
  },
  {
   "cell_type": "markdown",
   "metadata": {},
   "source": [
    "###$B(a)$ i.t.o. $b_3$"
   ]
  },
  {
   "cell_type": "code",
   "execution_count": 28,
   "metadata": {
    "collapsed": false,
    "scrolled": true
   },
   "outputs": [],
   "source": [
    "B_a = b_0+b1*a+b2*a**2+b_3*a**3"
   ]
  },
  {
   "cell_type": "code",
   "execution_count": 29,
   "metadata": {
    "collapsed": false
   },
   "outputs": [
    {
     "data": {
      "image/png": "[encoded data removed]",
      "text/latex": [
       "$$a^{3} b_{3} + a^{2} \\left(3 b_{3} \\gamma - \\frac{2 e}{\\gamma r_{p}}\\right) + a \\left(3 b_{3} \\gamma^{2} - \\frac{6 e}{r_{p}}\\right) + b_{0}$$"
      ],
      "text/plain": [
       " 3       2 ⎛          2⋅e ⎞     ⎛      2   6⋅e⎞     \n",
       "a ⋅b₃ + a ⋅⎜3⋅b₃⋅γ - ─────⎟ + a⋅⎜3⋅b₃⋅γ  - ───⎟ + b₀\n",
       "           ⎝         γ⋅r_p⎠     ⎝          r_p⎠     "
      ]
     },
     "execution_count": 29,
     "metadata": {},
     "output_type": "execute_result"
    }
   ],
   "source": [
    "B_a"
   ]
  },
  {
   "cell_type": "markdown",
   "metadata": {},
   "source": [
    "###$q_0$"
   ]
  },
  {
   "cell_type": "code",
   "execution_count": 30,
   "metadata": {
    "collapsed": false
   },
   "outputs": [
    {
     "data": {
      "image/png": "[encoded data removed]",
      "text/latex": [
       "$$- \\frac{6 e}{r_{p}^{4}} \\gamma^{3} u_{p} - \\frac{6 e}{\\gamma} u_{c} + \\frac{\\gamma^{5} v_{p}}{r_{p}^{5}} + \\frac{3 \\gamma}{r_{p}^{2}} \\left(4 e^{2} + u_{c} u_{p}\\right) + \\frac{r_{p} v_{c}}{\\gamma}$$"
      ],
      "text/plain": [
       "       3                  5           ⎛   2          ⎞          \n",
       "  6⋅e⋅γ ⋅u_p   6⋅e⋅u_c   γ ⋅v_p   3⋅γ⋅⎝4⋅e  + u_c⋅u_p⎠   r_p⋅v_c\n",
       "- ────────── - ─────── + ────── + ──────────────────── + ───────\n",
       "        4         γ          5               2              γ   \n",
       "     r_p                  r_p             r_p                   "
      ]
     },
     "execution_count": 30,
     "metadata": {},
     "output_type": "execute_result"
    }
   ],
   "source": [
    "q0"
   ]
  },
  {
   "cell_type": "markdown",
   "metadata": {},
   "source": [
    "###$q_1$"
   ]
  },
  {
   "cell_type": "code",
   "execution_count": 33,
   "metadata": {
    "collapsed": false
   },
   "outputs": [],
   "source": [
    "q1 = simplify(q1.subs([i for i in replacements]))"
   ]
  },
  {
   "cell_type": "code",
   "execution_count": 34,
   "metadata": {
    "collapsed": false
   },
   "outputs": [
    {
     "data": {
      "image/png": "[encoded data removed]",
      "text/latex": [
       "$$6 b_{0} b_{3} \\gamma - \\frac{4 b_{0} e}{\\gamma r_{p}} - 6 b_{3}^{2} \\gamma^{4} + \\frac{4 b_{3}}{r_{p}} e \\gamma^{2} + \\frac{16 e^{2}}{r_{p}^{2}} + 5 \\gamma^{4} q_{5}$$"
      ],
      "text/plain": [
       "                                        2       2          \n",
       "            4⋅b₀⋅e       2  4   4⋅b₃⋅e⋅γ    16⋅e       4   \n",
       "6⋅b₀⋅b₃⋅γ - ────── - 6⋅b₃ ⋅γ  + ───────── + ───── + 5⋅γ ⋅q₅\n",
       "            γ⋅r_p                  r_p          2          \n",
       "                                             r_p           "
      ]
     },
     "execution_count": 34,
     "metadata": {},
     "output_type": "execute_result"
    }
   ],
   "source": [
    "q1"
   ]
  },
  {
   "cell_type": "markdown",
   "metadata": {},
   "source": [
    "###$q_2$"
   ]
  },
  {
   "cell_type": "code",
   "execution_count": 37,
   "metadata": {
    "collapsed": false
   },
   "outputs": [],
   "source": [
    "q2 = q2.subs([i for i in replacements])"
   ]
  },
  {
   "cell_type": "code",
   "execution_count": 38,
   "metadata": {
    "collapsed": false
   },
   "outputs": [
    {
     "data": {
      "image/png": "[encoded data removed]",
      "text/latex": [
       "$$3 b_{0} b_{3} - 3 b_{3}^{2} \\gamma^{3} - \\frac{24 b_{3}}{r_{p}} e \\gamma + \\frac{28 e^{2}}{\\gamma r_{p}^{2}} + 10 \\gamma^{3} q_{5}$$"
      ],
      "text/plain": [
       "                                     2            \n",
       "              2  3   24⋅b₃⋅e⋅γ   28⋅e         3   \n",
       "3⋅b₀⋅b₃ - 3⋅b₃ ⋅γ  - ───────── + ────── + 10⋅γ ⋅q₅\n",
       "                        r_p           2           \n",
       "                                 γ⋅r_p            "
      ]
     },
     "execution_count": 38,
     "metadata": {},
     "output_type": "execute_result"
    }
   ],
   "source": [
    "expand(q2)"
   ]
  },
  {
   "cell_type": "markdown",
   "metadata": {},
   "source": [
    "###$q_3$"
   ]
  },
  {
   "cell_type": "code",
   "execution_count": 39,
   "metadata": {
    "collapsed": false
   },
   "outputs": [],
   "source": [
    "q3 = simplify(q3.subs([i for i in replacements]))"
   ]
  },
  {
   "cell_type": "code",
   "execution_count": 40,
   "metadata": {
    "collapsed": false
   },
   "outputs": [
    {
     "data": {
      "image/png": "[encoded data removed]",
      "text/latex": [
       "$$- \\frac{24 b_{3}}{r_{p}} e + \\frac{8 e^{2}}{\\gamma^{2} r_{p}^{2}} + 10 \\gamma^{2} q_{5}$$"
      ],
      "text/plain": [
       "                 2            \n",
       "  24⋅b₃⋅e     8⋅e         2   \n",
       "- ─────── + ─────── + 10⋅γ ⋅q₅\n",
       "    r_p      2    2           \n",
       "            γ ⋅r_p            "
      ]
     },
     "execution_count": 40,
     "metadata": {},
     "output_type": "execute_result"
    }
   ],
   "source": [
    "q3"
   ]
  },
  {
   "cell_type": "markdown",
   "metadata": {},
   "source": [
    "###$q_4$"
   ]
  },
  {
   "cell_type": "code",
   "execution_count": 41,
   "metadata": {
    "collapsed": false
   },
   "outputs": [],
   "source": [
    "q4 = simplify(q4.subs([i for i in replacements]))"
   ]
  },
  {
   "cell_type": "code",
   "execution_count": 42,
   "metadata": {
    "collapsed": false
   },
   "outputs": [
    {
     "data": {
      "image/png": "[encoded data removed]",
      "text/latex": [
       "$$- \\frac{6 b_{3} e}{\\gamma r_{p}} + 5 \\gamma q_{5}$$"
      ],
      "text/plain": [
       "  6⋅b₃⋅e         \n",
       "- ────── + 5⋅γ⋅q₅\n",
       "  γ⋅r_p          "
      ]
     },
     "execution_count": 42,
     "metadata": {},
     "output_type": "execute_result"
    }
   ],
   "source": [
    "q4"
   ]
  },
  {
   "cell_type": "markdown",
   "metadata": {},
   "source": [
    "###$Q(a)$ i.t.o. $b_0$, $b_3$, $q_5$"
   ]
  },
  {
   "cell_type": "code",
   "execution_count": 43,
   "metadata": {
    "collapsed": false
   },
   "outputs": [],
   "source": [
    "Q_a = q_0+q1*a+q2*a**2+q3*a**3+q4*a**4+q_5*a**5"
   ]
  },
  {
   "cell_type": "code",
   "execution_count": 44,
   "metadata": {
    "collapsed": false
   },
   "outputs": [
    {
     "data": {
      "image/png": "[encoded data removed]",
      "text/latex": [
       "$$a^{5} q_{5} + a^{4} \\left(- \\frac{6 b_{3} e}{\\gamma r_{p}} + 5 \\gamma q_{5}\\right) + a^{3} \\left(- \\frac{24 b_{3}}{r_{p}} e + \\frac{8 e^{2}}{\\gamma^{2} r_{p}^{2}} + 10 \\gamma^{2} q_{5}\\right) + a^{2} \\left(3 b_{0} b_{3} - 3 b_{3}^{2} \\gamma^{3} - \\frac{24 b_{3}}{r_{p}} e \\gamma + \\frac{28 e^{2}}{\\gamma r_{p}^{2}} + 10 \\gamma^{3} q_{5}\\right) + a \\left(6 b_{0} b_{3} \\gamma - \\frac{4 b_{0} e}{\\gamma r_{p}} - 6 b_{3}^{2} \\gamma^{4} + \\frac{4 b_{3}}{r_{p}} e \\gamma^{2} + \\frac{16 e^{2}}{r_{p}^{2}} + 5 \\gamma^{4} q_{5}\\right) + q_{0}$$"
      ],
      "text/plain": [
       "                                    ⎛                 2            ⎞      ⎛   \n",
       " 5       4 ⎛  6⋅b₃⋅e         ⎞    3 ⎜  24⋅b₃⋅e     8⋅e         2   ⎟    2 ⎜   \n",
       "a ⋅q₅ + a ⋅⎜- ────── + 5⋅γ⋅q₅⎟ + a ⋅⎜- ─────── + ─────── + 10⋅γ ⋅q₅⎟ + a ⋅⎜3⋅b\n",
       "           ⎝  γ⋅r_p          ⎠      ⎜    r_p      2    2           ⎟      ⎜   \n",
       "                                    ⎝            γ ⋅r_p            ⎠      ⎝   \n",
       "\n",
       "                                  2            ⎞     ⎛                        \n",
       "           2  3   24⋅b₃⋅e⋅γ   28⋅e         3   ⎟     ⎜            4⋅b₀⋅e      \n",
       "₀⋅b₃ - 3⋅b₃ ⋅γ  - ───────── + ────── + 10⋅γ ⋅q₅⎟ + a⋅⎜6⋅b₀⋅b₃⋅γ - ────── - 6⋅b\n",
       "                     r_p           2           ⎟     ⎜            γ⋅r_p       \n",
       "                              γ⋅r_p            ⎠     ⎝                        \n",
       "\n",
       "                2       2          ⎞     \n",
       " 2  4   4⋅b₃⋅e⋅γ    16⋅e       4   ⎟     \n",
       "₃ ⋅γ  + ───────── + ───── + 5⋅γ ⋅q₅⎟ + q₀\n",
       "           r_p          2          ⎟     \n",
       "                     r_p           ⎠     "
      ]
     },
     "execution_count": 44,
     "metadata": {},
     "output_type": "execute_result"
    }
   ],
   "source": [
    "collect(expand(Q_a),a)"
   ]
  },
  {
   "cell_type": "markdown",
   "metadata": {},
   "source": [
    "###$R(a)$"
   ]
  },
  {
   "cell_type": "code",
   "execution_count": 45,
   "metadata": {
    "collapsed": false
   },
   "outputs": [
    {
     "data": {
      "image/png": "[encoded data removed]",
      "text/latex": [
       "$$a^{6} \\left(b_{3}^{2} - \\frac{20 q_{5}}{9}\\right) + a^{5} \\left(6 b_{3}^{2} \\gamma + \\frac{28 b_{3} e}{3 \\gamma r_{p}} - \\frac{100 q_{5}}{9} \\gamma\\right) + a^{4} \\left(15 b_{3}^{2} \\gamma^{2} + \\frac{88 b_{3} e}{3 r_{p}} - \\frac{124 e^{2}}{9 \\gamma^{2} r_{p}^{2}} - \\frac{200 q_{5}}{9} \\gamma^{2}\\right) + a^{3} \\left(- \\frac{14 b_{0}}{3} b_{3} + \\frac{74 b_{3}^{2}}{3} \\gamma^{3} + \\frac{16 b_{3} e \\gamma}{3 r_{p}} - \\frac{344 e^{2}}{9 \\gamma r_{p}^{2}} - \\frac{200 q_{5}}{9} \\gamma^{3}\\right) + a^{2} \\left(- \\frac{22 b_{0}}{3} b_{3} \\gamma + \\frac{44 b_{0} e}{9 \\gamma r_{p}} + \\frac{67 b_{3}^{2}}{3} \\gamma^{4} - \\frac{404 b_{3} e \\gamma^{2}}{9 r_{p}} + \\frac{4 e^{2}}{9 r_{p}^{2}} - \\frac{100 q_{5}}{9} \\gamma^{4}\\right) + a \\left(6 b_{0} b_{3} \\gamma^{2} - \\frac{12 b_{0}}{r_{p}} e - \\frac{20 q_{0}}{9}\\right) + b_{0}^{2}$$"
      ],
      "text/plain": [
       "                                                          ⎛                   \n",
       " 6 ⎛  2   20⋅q₅⎞    5 ⎛    2     28⋅b₃⋅e   100⋅γ⋅q₅⎞    4 ⎜     2  2   88⋅b₃⋅e\n",
       "a ⋅⎜b₃  - ─────⎟ + a ⋅⎜6⋅b₃ ⋅γ + ─────── - ────────⎟ + a ⋅⎜15⋅b₃ ⋅γ  + ───────\n",
       "   ⎝        9  ⎠      ⎝          3⋅γ⋅r_p      9    ⎠      ⎜             3⋅r_p \n",
       "                                                          ⎝                   \n",
       "\n",
       "          2         2   ⎞      ⎛                  2  3                     2  \n",
       "     124⋅e     200⋅γ ⋅q₅⎟    3 ⎜  14⋅b₀⋅b₃   74⋅b₃ ⋅γ    16⋅b₃⋅e⋅γ    344⋅e   \n",
       " - ───────── - ─────────⎟ + a ⋅⎜- ──────── + ───────── + ───────── - ──────── \n",
       "      2    2       9    ⎟      ⎜     3           3         3⋅r_p            2 \n",
       "   9⋅γ ⋅r_p             ⎠      ⎝                                     9⋅γ⋅r_p  \n",
       "\n",
       "       3   ⎞      ⎛                              2  4             2       2   \n",
       "  200⋅γ ⋅q₅⎟    2 ⎜  22⋅b₀⋅b₃⋅γ   44⋅b₀⋅e   67⋅b₃ ⋅γ    404⋅b₃⋅e⋅γ     4⋅e    \n",
       "- ─────────⎟ + a ⋅⎜- ────────── + ─────── + ───────── - ─────────── + ────── -\n",
       "      9    ⎟      ⎜      3        9⋅γ⋅r_p       3          9⋅r_p           2  \n",
       "           ⎠      ⎝                                                   9⋅r_p   \n",
       "\n",
       "      4   ⎞                                         \n",
       " 100⋅γ ⋅q₅⎟     ⎛         2   12⋅b₀⋅e   20⋅q₀⎞     2\n",
       " ─────────⎟ + a⋅⎜6⋅b₀⋅b₃⋅γ  - ─────── - ─────⎟ + b₀ \n",
       "     9    ⎟     ⎝               r_p       9  ⎠      \n",
       "          ⎠                                         "
      ]
     },
     "execution_count": 45,
     "metadata": {},
     "output_type": "execute_result"
    }
   ],
   "source": [
    "series(B_a**2-(20*a*Q_a/9),a,n=7)"
   ]
  },
  {
   "cell_type": "code",
   "execution_count": null,
   "metadata": {
    "collapsed": true
   },
   "outputs": [],
   "source": []
  }
 ],
 "metadata": {
  "kernelspec": {
   "display_name": "Python 3",
   "language": "python",
   "name": "python3"
  },
  "language_info": {
   "codemirror_mode": {
    "name": "ipython",
    "version": 3
   },
   "file_extension": ".py",
   "mimetype": "text/x-python",
   "name": "python",
   "nbconvert_exporter": "python",
   "pygments_lexer": "ipython3",
   "version": "3.4.0"
  }
 },
 "nbformat": 4,
 "nbformat_minor": 0
}
