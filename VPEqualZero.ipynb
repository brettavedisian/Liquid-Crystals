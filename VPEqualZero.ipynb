{
 "cells": [
  {
   "cell_type": "code",
   "execution_count": 1,
   "metadata": {
    "collapsed": true
   },
   "outputs": [],
   "source": [
    "%matplotlib inline\n",
    "from sympy import *\n",
    "init_printing(use_unicode=True)"
   ]
  },
  {
   "cell_type": "code",
   "execution_count": 2,
   "metadata": {
    "collapsed": false
   },
   "outputs": [],
   "source": [
    "r, u, v, c, r_c, u_c, v_c, E, p, r_p, u_p, v_p, e, a, b, q, b_0, b_1, b_2, b_3, q_0, q_1, q_2, q_3, q_4, q_5, t, g, c_0, c_1, c_2, c_3, c_4, c_5 = symbols('r u v c r_c u_c v_c E p r_p u_p v_p e a b q b_0 b_1 b_2 b_3 q_0 q_1 q_2 q_3 q_4 q_5 t g c_0 c_1 c_2 c_3 c_4 c_5',positive=True)"
   ]
  },
  {
   "cell_type": "code",
   "execution_count": 3,
   "metadata": {
    "collapsed": false
   },
   "outputs": [],
   "source": [
    "cprm, thetaprm, Pprm, betaprm, rtheta, gammaprm, rhoprm, Eprm, sigmaprm = symbols('cprm thetaprm Pprm betaprm r_theta gammaprm rhoprm Eprm sigmaprm',positive=True)"
   ]
  },
  {
   "cell_type": "code",
   "execution_count": 4,
   "metadata": {
    "collapsed": true
   },
   "outputs": [],
   "source": [
    "gamma,r_p,u_p,e = symbols('gamma r_p u_p e',positive=True)"
   ]
  },
  {
   "cell_type": "markdown",
   "metadata": {},
   "source": [
    "####$f_{2}(c,p) = \\dfrac{1}{2}r_{c}c^{2}+\\dfrac{1}{4}u_{c}c^{4}+\\dfrac{1}{6}v_{c}c^{6}+\\dfrac{1}{2}r_{p}p^{2}+\\dfrac{1}{4}u_{p}p^{4}-\\gamma cp-\\dfrac{1}{2}ec^{2}p^{2}-Ep$"
   ]
  },
  {
   "cell_type": "code",
   "execution_count": 5,
   "metadata": {
    "collapsed": false
   },
   "outputs": [
    {
     "data": {
      "image/png": "[encoded data removed]",
      "text/latex": [
       "$$- E p + \\frac{c^{6} v_{c}}{6} + \\frac{c^{4} u_{c}}{4} - \\frac{c^{2} e}{2} p^{2} + \\frac{c^{2} r_{c}}{2} - c \\gamma p + \\frac{p^{4} u_{p}}{4} + \\frac{p^{2} r_{p}}{2}$$"
      ],
      "text/plain": [
       "        6        4        2    2    2                4        2    \n",
       "       c ⋅v_c   c ⋅u_c   c ⋅e⋅p    c ⋅r_c           p ⋅u_p   p ⋅r_p\n",
       "-E⋅p + ────── + ────── - ─────── + ────── - c⋅γ⋅p + ────── + ──────\n",
       "         6        4         2        2                4        2   "
      ]
     },
     "execution_count": 5,
     "metadata": {},
     "output_type": "execute_result"
    }
   ],
   "source": [
    "f2 = ((1/2)*r_c*c**2+(1/4)*u_c*c**4+(1/6)*v_c*c**6+(1/2)*r_p*p**2+(1/4)*u_p*p**4-E*p-gamma*c*p-e*c**2*p**2/2)\n",
    "nsimplify(f2)"
   ]
  },
  {
   "cell_type": "markdown",
   "metadata": {},
   "source": [
    "###Rescaling"
   ]
  },
  {
   "cell_type": "code",
   "execution_count": 5,
   "metadata": {
    "collapsed": false
   },
   "outputs": [],
   "source": [
    "P, C, w, rho, beta, tau, Epr = symbols('P C w rho beta tau E^{\\prime}')"
   ]
  },
  {
   "cell_type": "code",
   "execution_count": 7,
   "metadata": {
    "collapsed": false
   },
   "outputs": [
    {
     "data": {
      "image/png": "[encoded data removed]",
      "text/latex": [
       "$$- E {P}' w + \\frac{u_{p} w^{4}}{4} {P}'^{4} - \\frac{e w^{2}}{2} {P}'^{2} c^{2} + \\frac{r_{p} w^{2}}{2} {P}'^{2} - {P}' c \\gamma w + \\frac{c^{6} v_{c}}{6} + \\frac{c^{4} u_{c}}{4} + \\frac{c^{2} r_{c}}{2}$$"
      ],
      "text/plain": [
       "              4      4      2  2    2      2      2                6        4 \n",
       "           P ̍ ⋅u_p⋅w    P ̍ ⋅c ⋅e⋅w    P ̍ ⋅r_p⋅w                c ⋅v_c   c ⋅\n",
       "-E⋅P ̍⋅w + ─────────── - ──────────── + ─────────── - P ̍⋅c⋅γ⋅w + ────── + ───\n",
       "                4             2              2                      6        4\n",
       "\n",
       "       2    \n",
       "u_c   c ⋅r_c\n",
       "─── + ──────\n",
       "        2   "
      ]
     },
     "execution_count": 7,
     "metadata": {},
     "output_type": "execute_result"
    }
   ],
   "source": [
    "fP = nsimplify(f2.subs(p,w*Pprm))\n",
    "fP"
   ]
  },
  {
   "cell_type": "code",
   "execution_count": 8,
   "metadata": {
    "collapsed": false
   },
   "outputs": [
    {
     "data": {
      "image/png": "[encoded data removed]",
      "text/latex": [
       "$$- \\frac{E {P}'}{\\sqrt{u_{p}}} \\sqrt{r_{p}} + \\frac{{P}'^{4} r_{p}^{2}}{4 u_{p}} - \\frac{{P}'^{2} c^{2} e r_{p}}{2 u_{p}} + \\frac{{P}'^{2} r_{p}^{2}}{2 u_{p}} - \\frac{{P}' c}{\\sqrt{u_{p}}} \\gamma \\sqrt{r_{p}} + \\frac{c^{6} v_{c}}{6} + \\frac{c^{4} u_{c}}{4} + \\frac{c^{2} r_{c}}{2}$$"
      ],
      "text/plain": [
       "          _____      4    2      2  2            2    2             _____    6\n",
       "  E⋅P ̍⋅╲╱ r_p    P ̍ ⋅r_p    P ̍ ⋅c ⋅e⋅r_p   P ̍ ⋅r_p    P ̍⋅c⋅γ⋅╲╱ r_p    c \n",
       "- ───────────── + ───────── - ───────────── + ───────── - ─────────────── + ──\n",
       "       _____        4⋅u_p         2⋅u_p         2⋅u_p           _____         \n",
       "     ╲╱ u_p                                                   ╲╱ u_p          \n",
       "\n",
       "        4        2    \n",
       "⋅v_c   c ⋅u_c   c ⋅r_c\n",
       "──── + ────── + ──────\n",
       "6        4        2   \n",
       "                      "
      ]
     },
     "execution_count": 8,
     "metadata": {},
     "output_type": "execute_result"
    }
   ],
   "source": [
    "fP = nsimplify(fP.subs(w,sqrt(r_p/u_p)))\n",
    "fP"
   ]
  },
  {
   "cell_type": "code",
   "execution_count": 9,
   "metadata": {
    "collapsed": false
   },
   "outputs": [
    {
     "data": {
      "image/png": "[encoded data removed]",
      "text/latex": [
       "$$- \\frac{E {P}'}{r_{p}^{\\frac{3}{2}}} \\sqrt{u_{p}} + \\frac{{P}'^{4}}{4} - \\frac{{P}'^{2} c^{2} e}{2 r_{p}} + \\frac{{P}'^{2}}{2} - \\frac{{P}' c}{r_{p}^{\\frac{3}{2}}} \\gamma \\sqrt{u_{p}} + \\frac{c^{6} u_{p} v_{c}}{6 r_{p}^{2}} + \\frac{c^{4} u_{c} u_{p}}{4 r_{p}^{2}} + \\frac{c^{2} r_{c} u_{p}}{2 r_{p}^{2}}$$"
      ],
      "text/plain": [
       "          _____      4      2  2        2             _____    6            4 \n",
       "  E⋅P ̍⋅╲╱ u_p    P ̍    P ̍ ⋅c ⋅e   P ̍    P ̍⋅c⋅γ⋅╲╱ u_p    c ⋅u_p⋅v_c   c ⋅\n",
       "- ───────────── + ──── - ───────── + ──── - ─────────────── + ────────── + ───\n",
       "         3/2       4       2⋅r_p      2             3/2              2        \n",
       "      r_p                                        r_p            6⋅r_p        4\n",
       "\n",
       "           2        \n",
       "u_c⋅u_p   c ⋅r_c⋅u_p\n",
       "─────── + ──────────\n",
       "    2            2  \n",
       "⋅r_p        2⋅r_p   "
      ]
     },
     "execution_count": 9,
     "metadata": {},
     "output_type": "execute_result"
    }
   ],
   "source": [
    "fP = expand(fP/(r_p**2/u_p),r_p)\n",
    "fP"
   ]
  },
  {
   "cell_type": "code",
   "execution_count": 10,
   "metadata": {
    "collapsed": false
   },
   "outputs": [
    {
     "data": {
      "image/png": "[encoded data removed]",
      "text/latex": [
       "$$- E^{{\\prime}} {P}' + \\frac{{P}'^{4}}{4} - \\frac{{P}'^{2} {c}'^{2}}{2} + \\frac{{P}'^{2}}{2} - \\frac{{P}' {c}' \\gamma \\sqrt{u_{p}}}{\\sqrt{e} r_{p}} + \\frac{{c}'^{6} r_{p} u_{p} v_{c}}{6 e^{3}} + \\frac{{c}'^{4} u_{c} u_{p}}{4 e^{2}} + \\frac{{c}'^{2} r_{c} u_{p}}{2 e r_{p}}$$"
      ],
      "text/plain": [
       "                      4      2    2      2               _____      6         \n",
       "                   P ̍    P ̍ ⋅c ̍    P ̍    P ̍⋅c ̍⋅γ⋅╲╱ u_p    c ̍ ⋅r_p⋅u_p⋅\n",
       "-E__{\\prime}⋅P ̍ + ──── - ───────── + ──── - ───────────────── + ─────────────\n",
       "                    4         2        2           ___                    3   \n",
       "                                                 ╲╱ e ⋅r_p             6⋅e    \n",
       "\n",
       "         4              2        \n",
       "v_c   c ̍ ⋅u_c⋅u_p   c ̍ ⋅r_c⋅u_p\n",
       "─── + ──────────── + ────────────\n",
       "             2         2⋅e⋅r_p   \n",
       "          4⋅e                    "
      ]
     },
     "execution_count": 10,
     "metadata": {},
     "output_type": "execute_result"
    }
   ],
   "source": [
    "fP = fP.subs([(E,Epr/sqrt(u_p)*r_p**(3/2)),(c,cprm*sqrt(r_p/e))])\n",
    "fP"
   ]
  },
  {
   "cell_type": "code",
   "execution_count": 11,
   "metadata": {
    "collapsed": false
   },
   "outputs": [
    {
     "data": {
      "image/png": "[encoded data removed]",
      "text/latex": [
       "$$- E^{{\\prime}} {P}' + \\frac{{P}'^{4}}{4} - \\frac{{P}'^{2} {\\theta}'^{2}}{2} + \\frac{{P}'^{2}}{2} - {P}' {\\beta}' {\\theta}' + \\frac{{\\gamma}' {\\theta}'^{4}}{4} + \\frac{r_{\\theta} {\\theta}'^{2}}{2} + \\frac{{\\rho}' {\\theta}'^{6}}{6}$$"
      ],
      "text/plain": [
       "                      4      2    2      2                        4          2\n",
       "                   P ̍    P ̍ ⋅θ ̍    P ̍                  γ ̍⋅θ ̍    r_θ⋅θ ̍ \n",
       "-E__{\\prime}⋅P ̍ + ──── - ───────── + ──── - P ̍⋅β ̍⋅θ ̍ + ──────── + ────────\n",
       "                    4         2        2                      4          2    \n",
       "\n",
       "          6\n",
       "   ρ ̍⋅θ ̍ \n",
       " + ────────\n",
       "      6    "
      ]
     },
     "execution_count": 11,
     "metadata": {},
     "output_type": "execute_result"
    }
   ],
   "source": [
    "fP = fP.subs([(cprm,thetaprm),(r_c,rtheta*e*r_p/u_p),(u_c,gammaprm*e**2/u_p),(v_c,rhoprm*e**3/(u_p*r_p)),(gamma,betaprm*r_p*sqrt(e/u_p))])\n",
    "fP"
   ]
  },
  {
   "cell_type": "code",
   "execution_count": 6,
   "metadata": {
    "collapsed": false
   },
   "outputs": [
    {
     "data": {
      "image/png": "[encoded data removed]",
      "text/latex": [
       "$$- {E}' {P}' + \\frac{{P}'^{6} {\\sigma}'}{6} + \\frac{{P}'^{4}}{4} - \\frac{{P}'^{2} {\\theta}'^{2}}{2} + \\frac{{P}'^{2}}{2} - {P}' {\\beta}' {\\theta}' + \\frac{{\\gamma}' {\\theta}'^{4}}{4} + \\frac{r_{\\theta} {\\theta}'^{2}}{2} + \\frac{{\\rho}' {\\theta}'^{6}}{6}$$"
      ],
      "text/plain": [
       "              6          4      2    2      2                        4        \n",
       "           P ̍ ⋅σ ̍   P ̍    P ̍ ⋅θ ̍    P ̍                  γ ̍⋅θ ̍    r_θ⋅θ\n",
       "-E ̍⋅P ̍ + ──────── + ──── - ───────── + ──── - P ̍⋅β ̍⋅θ ̍ + ──────── + ─────\n",
       "              6        4         2        2                      4          2 \n",
       "\n",
       "  2          6\n",
       " ̍    ρ ̍⋅θ ̍ \n",
       "─── + ────────\n",
       "         6    "
      ]
     },
     "execution_count": 6,
     "metadata": {},
     "output_type": "execute_result"
    }
   ],
   "source": [
    "fhelp = nsimplify((1/2)*rtheta*thetaprm**2+(1/4)*gammaprm*thetaprm**4+(1/6)*rhoprm*thetaprm**6+(1/2)*Pprm**2+(1/4)*Pprm**4\n",
    "        +(1/6)*sigmaprm*Pprm**6-betaprm*thetaprm*Pprm-(1/2)*Pprm**2*thetaprm**2-Eprm*Pprm)\n",
    "fhelp"
   ]
  },
  {
   "cell_type": "code",
   "execution_count": 13,
   "metadata": {
    "collapsed": false
   },
   "outputs": [
    {
     "data": {
      "image/png": "[encoded data removed]",
      "text/latex": [
       "$${P}'^{5} {\\sigma}' + {P}'^{3} - {P}' {\\theta}'^{2} + {P}' - {\\beta}' {\\theta}'$$"
      ],
      "text/plain": [
       "   5          3          2                \n",
       "P ̍ ⋅σ ̍ + P ̍  - P ̍⋅θ ̍  + P ̍ - β ̍⋅θ ̍"
      ]
     },
     "execution_count": 13,
     "metadata": {},
     "output_type": "execute_result"
    }
   ],
   "source": [
    "Ep = solve(fhelp.diff(Pprm),Eprm)[0]\n",
    "Ep"
   ]
  },
  {
   "cell_type": "code",
   "execution_count": 14,
   "metadata": {
    "collapsed": false
   },
   "outputs": [
    {
     "data": {
      "image/png": "[encoded data removed]",
      "text/latex": [
       "$$- {P}'^{2} {\\theta}' - {P}' {\\beta}' + {\\gamma}' {\\theta}'^{3} + r_{\\theta} {\\theta}' + {\\rho}' {\\theta}'^{5}$$"
      ],
      "text/plain": [
       "     2                        3                    5\n",
       "- P ̍ ⋅θ ̍ - P ̍⋅β ̍ + γ ̍⋅θ ̍  + r_θ⋅θ ̍ + ρ ̍⋅θ ̍ "
      ]
     },
     "execution_count": 14,
     "metadata": {},
     "output_type": "execute_result"
    }
   ],
   "source": [
    "fhelp.diff(thetaprm)"
   ]
  },
  {
   "cell_type": "code",
   "execution_count": 15,
   "metadata": {
    "collapsed": false,
    "scrolled": true
   },
   "outputs": [
    {
     "data": {
      "image/png": "[encoded data removed]",
      "text/latex": [
       "$$\\frac{1}{2 {\\theta}'} \\left(- {\\beta}' + \\sqrt{{\\beta}'^{2} + 4 {\\gamma}' {\\theta}'^{4} + 4 r_{\\theta} {\\theta}'^{2} + 4 {\\rho}' {\\theta}'^{6}}\\right)$$"
      ],
      "text/plain": [
       "          _____________________________________________\n",
       "         ╱    2            4            2            6 \n",
       "-β ̍ + ╲╱  β ̍  + 4⋅γ ̍⋅θ ̍  + 4⋅r_θ⋅θ ̍  + 4⋅ρ ̍⋅θ ̍  \n",
       "───────────────────────────────────────────────────────\n",
       "                         2⋅θ ̍                         "
      ]
     },
     "execution_count": 15,
     "metadata": {},
     "output_type": "execute_result"
    }
   ],
   "source": [
    "P_min = solve(fhelp.diff(thetaprm),Pprm)[0]\n",
    "P_min"
   ]
  },
  {
   "cell_type": "code",
   "execution_count": 16,
   "metadata": {
    "collapsed": false,
    "scrolled": true
   },
   "outputs": [
    {
     "data": {
      "image/png": "[encoded data removed]",
      "text/latex": [
       "$$- {\\beta}' {\\theta}' + \\frac{{\\sigma}'}{32 {\\theta}'^{5}} \\left(- {\\beta}' + \\sqrt{{\\beta}'^{2} + 4 {\\gamma}' {\\theta}'^{4} + 4 r_{\\theta} {\\theta}'^{2} + 4 {\\rho}' {\\theta}'^{6}}\\right)^{5} - \\frac{{\\theta}'}{2} \\left(- {\\beta}' + \\sqrt{{\\beta}'^{2} + 4 {\\gamma}' {\\theta}'^{4} + 4 r_{\\theta} {\\theta}'^{2} + 4 {\\rho}' {\\theta}'^{6}}\\right) + \\frac{1}{2 {\\theta}'} \\left(- {\\beta}' + \\sqrt{{\\beta}'^{2} + 4 {\\gamma}' {\\theta}'^{4} + 4 r_{\\theta} {\\theta}'^{2} + 4 {\\rho}' {\\theta}'^{6}}\\right) + \\frac{1}{8 {\\theta}'^{3}} \\left(- {\\beta}' + \\sqrt{{\\beta}'^{2} + 4 {\\gamma}' {\\theta}'^{4} + 4 r_{\\theta} {\\theta}'^{2} + 4 {\\rho}' {\\theta}'^{6}}\\right)^{3}$$"
      ],
      "text/plain": [
       "                                                                        5     \n",
       "               ⎛          _____________________________________________⎞      \n",
       "               ⎜         ╱    2            4            2            6 ⎟      \n",
       "           σ ̍⋅⎝-β ̍ + ╲╱  β ̍  + 4⋅γ ̍⋅θ ̍  + 4⋅r_θ⋅θ ̍  + 4⋅ρ ̍⋅θ ̍  ⎠    θ \n",
       "-β ̍⋅θ ̍ + ────────────────────────────────────────────────────────────── - ──\n",
       "                                            5                                 \n",
       "                                      32⋅θ ̍                                  \n",
       "\n",
       "                                                                              \n",
       "  ⎛          _____________________________________________⎞             ______\n",
       "  ⎜         ╱    2            4            2            6 ⎟            ╱    2 \n",
       "̍⋅⎝-β ̍ + ╲╱  β ̍  + 4⋅γ ̍⋅θ ̍  + 4⋅r_θ⋅θ ̍  + 4⋅ρ ̍⋅θ ̍  ⎠   -β ̍ + ╲╱  β ̍  \n",
       "─────────────────────────────────────────────────────────── + ────────────────\n",
       "                            2                                                 \n",
       "                                                                              \n",
       "\n",
       "                                                                              \n",
       "_______________________________________   ⎛          _________________________\n",
       "           4            2            6    ⎜         ╱    2            4       \n",
       "+ 4⋅γ ̍⋅θ ̍  + 4⋅r_θ⋅θ ̍  + 4⋅ρ ̍⋅θ ̍     ⎝-β ̍ + ╲╱  β ̍  + 4⋅γ ̍⋅θ ̍  + 4⋅r_\n",
       "─────────────────────────────────────── + ────────────────────────────────────\n",
       "         2⋅θ ̍                                                           3    \n",
       "                                                                    8⋅θ ̍     \n",
       "\n",
       "                     3\n",
       "____________________⎞ \n",
       "     2            6 ⎟ \n",
       "θ⋅θ ̍  + 4⋅ρ ̍⋅θ ̍  ⎠ \n",
       "──────────────────────\n",
       "                      \n",
       "                      "
      ]
     },
     "execution_count": 16,
     "metadata": {},
     "output_type": "execute_result"
    }
   ],
   "source": [
    "Ep = Ep.subs(Pprm,P_min)\n",
    "Ep"
   ]
  },
  {
   "cell_type": "code",
   "execution_count": 17,
   "metadata": {
    "collapsed": false,
    "scrolled": true
   },
   "outputs": [
    {
     "data": {
      "image/png": "[encoded data removed]",
      "text/latex": [
       "$${\\theta}' \\left(- {\\beta}' + \\frac{r_{\\theta}}{{\\beta}'}\\right) + {\\theta}'^{3} \\left(\\frac{{\\gamma}'}{{\\beta}'} - \\frac{r_{\\theta}}{{\\beta}'} + \\frac{r_{\\theta}^{3}}{{\\beta}'^{3}} - \\frac{r_{\\theta}^{2}}{{\\beta}'^{3}}\\right) + {\\theta}'^{5} \\left(- \\frac{{\\gamma}'}{{\\beta}'} + \\frac{{\\rho}'}{{\\beta}'} + \\frac{3 {\\gamma}'}{{\\beta}'^{3}} r_{\\theta}^{2} - \\frac{2 {\\gamma}'}{{\\beta}'^{3}} r_{\\theta} + \\frac{r_{\\theta}^{2}}{{\\beta}'^{3}} + \\frac{r_{\\theta}^{5} {\\sigma}'}{{\\beta}'^{5}} - \\frac{3 r_{\\theta}^{4}}{{\\beta}'^{5}} + \\frac{2 r_{\\theta}^{3}}{{\\beta}'^{5}}\\right) + \\mathcal{O}\\left({\\theta}'^{7}\\right)$$"
      ],
      "text/plain": [
       "                        ⎛               3      2⎞        ⎛                    \n",
       "    ⎛       r_θ⎞      3 ⎜γ ̍   r_θ   r_θ    r_θ ⎟      5 ⎜  γ ̍   ρ ̍   3⋅γ ̍⋅\n",
       "θ ̍⋅⎜-β ̍ + ───⎟ + θ ̍ ⋅⎜─── - ─── + ──── - ────⎟ + θ ̍ ⋅⎜- ─── + ─── + ──────\n",
       "    ⎝       β ̍⎠        ⎜β ̍   β ̍      3      3⎟        ⎜  β ̍   β ̍         \n",
       "                        ⎝            β ̍    β ̍ ⎠        ⎝                 β ̍\n",
       "\n",
       "   2                  2      5            4        3⎞          \n",
       "r_θ    2⋅γ ̍⋅r_θ   r_θ    r_θ ⋅σ ̍   3⋅r_θ    2⋅r_θ ⎟    ⎛   7⎞\n",
       "──── - ───────── + ──── + ──────── - ────── + ──────⎟ + O⎝θ ̍ ⎠\n",
       "3            3        3        5         5        5 ⎟          \n",
       "          β ̍      β ̍      β ̍       β ̍      β ̍  ⎠          "
      ]
     },
     "execution_count": 17,
     "metadata": {},
     "output_type": "execute_result"
    }
   ],
   "source": [
    "series(Ep,thetaprm,n=7)"
   ]
  },
  {
   "cell_type": "code",
   "execution_count": 62,
   "metadata": {
    "collapsed": true
   },
   "outputs": [],
   "source": [
    "# Series expansion of $E$ out to $\\mathcal{O(\\theta^{\\prime 7})}$:\n",
    "\n",
    "# $\\beta E = \\theta^{\\prime}\\left(-\\beta^{\\prime 2} + r_{\\theta}^{\\prime}\\right) + \\theta^{\\prime 3}\\left(\\gamma^{\\prime} - r_{\\theta}^{\\prime} + \\dfrac{r_{\\theta}^{\\prime 3}}{\\beta^{\\prime 2}} - \\dfrac{r_{\\theta}^{\\prime 2}}{\\beta^{\\prime 2}}\\right) + \\theta^{\\prime 5}\\left(-\\gamma^{\\prime} + \\rho^{\\prime} + \\dfrac{3\\gamma^{\\prime}r_{\\theta}^{\\prime 2}}{\\beta^{\\prime 2}} - \\dfrac{2\\gamma^{\\prime}r_{\\theta}}{\\beta^{\\prime 2}} + \\dfrac{r_{\\theta}^{\\prime 2}}{\\beta^{\\prime 2}} - \\dfrac{3r_{\\theta}^{\\prime 4}}{\\beta^{\\prime 4}} + \\dfrac{2r_{\\theta}^{\\prime 3}}{\\beta^{\\prime 4}}\\right)$\n",
    "\n",
    "# The coefficients of $E$ i.t.o. $a$ where $r_{\\theta}^{\\prime} = \\beta^{\\prime 2} + a$:\n",
    "\n",
    "# $B(a) = \\dfrac{a^{3}}{\\beta^{\\prime 2}} + a^{2}\\left(3 - \\dfrac{1}{\\beta^{\\prime 2}}\\right) + a(3\\beta^{\\prime 2} - 3) + \\beta^{\\prime 4} - 2\\beta^{\\prime 2} + \\gamma^{\\prime}$\n",
    "\n",
    "# $C(a) = -\\dfrac{3a^{4}}{\\beta^{\\prime 4}} + a^{3}\\left(\\dfrac{2}{\\beta^{\\prime 4}} - \\dfrac{12}{\\beta^{\\prime 2}}\\right) + a^{2}\\left(\\dfrac{3\\gamma^{\\prime}}{\\beta^{\\prime 2}} - 18 + \\dfrac{7}{\\beta^{\\prime 2}}\\right) + a\\left(6\\gamma^{\\prime} - 12\\beta^{\\prime 2} - \\dfrac{2\\gamma^{\\prime}}{\\beta^{\\prime 2}} + 8\\right) - 3\\beta^{\\prime 4} + 3\\beta^{\\prime 2}\\gamma^{\\prime} + 3\\beta^{\\prime 2} - 3\\gamma^{\\prime} + \\rho^{\\prime}$\n",
    "\n",
    "# $R(a) = B(a)^{2} - \\dfrac{20aC(a)}{9}$ (not going to write this one out, it's long)"
   ]
  },
  {
   "cell_type": "code",
   "execution_count": 5,
   "metadata": {
    "collapsed": false
   },
   "outputs": [],
   "source": [
    "rth = betaprm**2+a*betaprm\n",
    "\n",
    "B = (gammaprm-rtheta+(rtheta**3-rtheta**2)/betaprm**2)/betaprm\n",
    "\n",
    "C = (-gammaprm+rhoprm+3*gammaprm*(rtheta/betaprm)**2-2*gammaprm*rtheta/betaprm**2\n",
    "     +(rtheta/betaprm)**2+rtheta**5*sigmaprm/betaprm**4-3*(rtheta/betaprm)**4+2*rtheta**3/betaprm**4)/betaprm"
   ]
  },
  {
   "cell_type": "code",
   "execution_count": 6,
   "metadata": {
    "collapsed": false
   },
   "outputs": [
    {
     "data": {
      "image/png": "[encoded data removed]",
      "text/latex": [
       "$$a^{3} + a^{2} \\left(3 {\\beta}' - \\frac{1}{{\\beta}'}\\right) + a \\left(3 {\\beta}'^{2} - 3\\right) + {\\beta}'^{3} - 2 {\\beta}' + \\frac{{\\gamma}'}{{\\beta}'}$$"
      ],
      "text/plain": [
       " 3    2 ⎛         1 ⎞     ⎛     2    ⎞      3           γ ̍\n",
       "a  + a ⋅⎜3⋅β ̍ - ───⎟ + a⋅⎝3⋅β ̍  - 3⎠ + β ̍  - 2⋅β ̍ + ───\n",
       "        ⎝        β ̍⎠                                   β ̍"
      ]
     },
     "execution_count": 6,
     "metadata": {},
     "output_type": "execute_result"
    }
   ],
   "source": [
    "B = collect(expand(B.subs(rtheta,rth)),a)\n",
    "B"
   ]
  },
  {
   "cell_type": "code",
   "execution_count": 7,
   "metadata": {
    "collapsed": false,
    "scrolled": true
   },
   "outputs": [
    {
     "data": {
      "image/png": "[encoded data removed]",
      "text/latex": [
       "$$a^{5} {\\sigma}' + a^{4} \\left(5 {\\beta}' {\\sigma}' - \\frac{3}{{\\beta}'}\\right) + a^{3} \\left(10 {\\beta}'^{2} {\\sigma}' - 12 + \\frac{2}{{\\beta}'^{2}}\\right) + a^{2} \\left(10 {\\beta}'^{3} {\\sigma}' - 18 {\\beta}' + \\frac{3 {\\gamma}'}{{\\beta}'} + \\frac{7}{{\\beta}'}\\right) + a \\left(5 {\\beta}'^{4} {\\sigma}' - 12 {\\beta}'^{2} + 6 {\\gamma}' + 8 - \\frac{2 {\\gamma}'}{{\\beta}'^{2}}\\right) + {\\beta}'^{5} {\\sigma}' - 3 {\\beta}'^{3} + 3 {\\beta}' {\\gamma}' + 3 {\\beta}' - \\frac{3 {\\gamma}'}{{\\beta}'} + \\frac{{\\rho}'}{{\\beta}'}$$"
      ],
      "text/plain": [
       " 5        4 ⎛             3 ⎞    3 ⎛      2             2  ⎞    2 ⎛      3    \n",
       "a ⋅σ ̍ + a ⋅⎜5⋅β ̍⋅σ ̍ - ───⎟ + a ⋅⎜10⋅β ̍ ⋅σ ̍ - 12 + ────⎟ + a ⋅⎜10⋅β ̍ ⋅σ ̍\n",
       "            ⎝            β ̍⎠      ⎜                      2⎟      ⎝           \n",
       "                                   ⎝                   β ̍ ⎠                  \n",
       "\n",
       "            3⋅γ ̍    7 ⎞     ⎛     4             2               2⋅γ ̍⎞      5\n",
       " - 18⋅β ̍ + ───── + ───⎟ + a⋅⎜5⋅β ̍ ⋅σ ̍ - 12⋅β ̍  + 6⋅γ ̍ + 8 - ─────⎟ + β ̍ \n",
       "             β ̍    β ̍⎠     ⎜                                       2⎟       \n",
       "                             ⎝                                    β ̍ ⎠       \n",
       "\n",
       "            3                       3⋅γ ̍   ρ ̍\n",
       "⋅σ ̍ - 3⋅β ̍  + 3⋅β ̍⋅γ ̍ + 3⋅β ̍ - ───── + ───\n",
       "                                     β ̍    β ̍\n",
       "                                               "
      ]
     },
     "execution_count": 7,
     "metadata": {},
     "output_type": "execute_result"
    }
   ],
   "source": [
    "C = collect(expand(C.subs(rtheta,rth)),a)\n",
    "C"
   ]
  },
  {
   "cell_type": "code",
   "execution_count": 8,
   "metadata": {
    "collapsed": true
   },
   "outputs": [],
   "source": [
    "b0 = betaprm**3-2*betaprm+gammaprm/betaprm\n",
    "b1 = 3*betaprm**2-3\n",
    "b2 = 3*betaprm-1/betaprm\n",
    "b3 = 1\n",
    "\n",
    "c0 = betaprm**5*sigmaprm-3*betaprm**3+3*betaprm*gammaprm+3*betaprm-3*gammaprm/betaprm+rhoprm/betaprm\n",
    "c1 = 5*betaprm**4*sigmaprm+6*gammaprm-12*betaprm**2+8-2*gammaprm/betaprm**2\n",
    "c2 = 10*betaprm**3*sigmaprm+(3*gammaprm+7)/betaprm-18*betaprm\n",
    "c3 = 10*betaprm**2*sigmaprm-12+2/betaprm**2\n",
    "c4 = 5*betaprm*sigmaprm-3/betaprm\n",
    "c5 = sigmaprm"
   ]
  },
  {
   "cell_type": "code",
   "execution_count": 9,
   "metadata": {
    "collapsed": false
   },
   "outputs": [],
   "source": [
    "gammap = expand(solve(b0-b_0,gammaprm)[0])\n",
    "sigmap = expand(solve(c0-c_0,sigmaprm)[0])"
   ]
  },
  {
   "cell_type": "code",
   "execution_count": 10,
   "metadata": {
    "collapsed": true
   },
   "outputs": [],
   "source": [
    "replacements = [(gammaprm,gammap),(sigmaprm,sigmap)]"
   ]
  },
  {
   "cell_type": "code",
   "execution_count": 11,
   "metadata": {
    "collapsed": true
   },
   "outputs": [],
   "source": [
    "sigmap = simplify(sigmap.subs(gammaprm,gammap))"
   ]
  },
  {
   "cell_type": "code",
   "execution_count": 12,
   "metadata": {
    "collapsed": false
   },
   "outputs": [
    {
     "data": {
      "image/png": "[encoded data removed]",
      "text/latex": [
       "$$- \\frac{3 b_{0}}{{\\beta}'^{3}} + \\frac{3 b_{0}}{{\\beta}'^{5}} + 3 - \\frac{6}{{\\beta}'^{2}} + \\frac{3}{{\\beta}'^{4}} + \\frac{c_{0}}{{\\beta}'^{5}} - \\frac{{\\rho}'}{{\\beta}'^{6}}$$"
      ],
      "text/plain": [
       "  3⋅b₀   3⋅b₀        6      3      c₀    ρ ̍ \n",
       "- ──── + ──── + 3 - ──── + ──── + ──── - ────\n",
       "     3      5          2      4      5      6\n",
       "  β ̍    β ̍        β ̍    β ̍    β ̍    β ̍ "
      ]
     },
     "execution_count": 12,
     "metadata": {},
     "output_type": "execute_result"
    }
   ],
   "source": [
    "sigmap"
   ]
  },
  {
   "cell_type": "code",
   "execution_count": 13,
   "metadata": {
    "collapsed": false
   },
   "outputs": [
    {
     "data": {
      "image/png": "[encoded data removed]",
      "text/latex": [
       "$$b_{0} {\\beta}' - {\\beta}'^{4} + 2 {\\beta}'^{2}$$"
      ],
      "text/plain": [
       "            4        2\n",
       "b₀⋅β ̍ - β ̍  + 2⋅β ̍ "
      ]
     },
     "execution_count": 13,
     "metadata": {},
     "output_type": "execute_result"
    }
   ],
   "source": [
    "gammap"
   ]
  },
  {
   "cell_type": "code",
   "execution_count": 14,
   "metadata": {
    "collapsed": false
   },
   "outputs": [
    {
     "data": {
      "image/png": "[encoded data removed]",
      "text/latex": [
       "$${\\beta}'^{3} - 2 {\\beta}' + \\frac{{\\gamma}'}{{\\beta}'}$$"
      ],
      "text/plain": [
       "   3           γ ̍\n",
       "β ̍  - 2⋅β ̍ + ───\n",
       "               β ̍"
      ]
     },
     "execution_count": 14,
     "metadata": {},
     "output_type": "execute_result"
    }
   ],
   "source": [
    "b0"
   ]
  },
  {
   "cell_type": "code",
   "execution_count": 15,
   "metadata": {
    "collapsed": false
   },
   "outputs": [
    {
     "data": {
      "image/png": "[encoded data removed]",
      "text/latex": [
       "$$3 {\\beta}'^{2} - 3$$"
      ],
      "text/plain": [
       "     2    \n",
       "3⋅β ̍  - 3"
      ]
     },
     "execution_count": 15,
     "metadata": {},
     "output_type": "execute_result"
    }
   ],
   "source": [
    "b1"
   ]
  },
  {
   "cell_type": "code",
   "execution_count": 16,
   "metadata": {
    "collapsed": false
   },
   "outputs": [
    {
     "data": {
      "image/png": "[encoded data removed]",
      "text/latex": [
       "$$3 {\\beta}' - \\frac{1}{{\\beta}'}$$"
      ],
      "text/plain": [
       "         1 \n",
       "3⋅β ̍ - ───\n",
       "        β ̍"
      ]
     },
     "execution_count": 16,
     "metadata": {},
     "output_type": "execute_result"
    }
   ],
   "source": [
    "b2"
   ]
  },
  {
   "cell_type": "code",
   "execution_count": 17,
   "metadata": {
    "collapsed": false
   },
   "outputs": [
    {
     "data": {
      "image/png": "[encoded data removed]",
      "text/latex": [
       "$$1$$"
      ],
      "text/plain": [
       "1"
      ]
     },
     "execution_count": 17,
     "metadata": {},
     "output_type": "execute_result"
    }
   ],
   "source": [
    "b3"
   ]
  },
  {
   "cell_type": "code",
   "execution_count": 18,
   "metadata": {
    "collapsed": false
   },
   "outputs": [
    {
     "data": {
      "image/png": "[encoded data removed]",
      "text/latex": [
       "$$a^{3} + a^{2} \\left(3 {\\beta}' - \\frac{1}{{\\beta}'}\\right) + a \\left(3 {\\beta}'^{2} - 3\\right) + b_{0}$$"
      ],
      "text/plain": [
       " 3    2 ⎛         1 ⎞     ⎛     2    ⎞     \n",
       "a  + a ⋅⎜3⋅β ̍ - ───⎟ + a⋅⎝3⋅β ̍  - 3⎠ + b₀\n",
       "        ⎝        β ̍⎠                      "
      ]
     },
     "execution_count": 18,
     "metadata": {},
     "output_type": "execute_result"
    }
   ],
   "source": [
    "B_a = b3*a**3+b2*a**2+b1*a+b_0\n",
    "B_a"
   ]
  },
  {
   "cell_type": "code",
   "execution_count": 19,
   "metadata": {
    "collapsed": false
   },
   "outputs": [
    {
     "data": {
      "image/png": "[encoded data removed]",
      "text/latex": [
       "$${\\beta}'^{5} {\\sigma}' - 3 {\\beta}'^{3} + 3 {\\beta}' {\\gamma}' + 3 {\\beta}' - \\frac{3 {\\gamma}'}{{\\beta}'} + \\frac{{\\rho}'}{{\\beta}'}$$"
      ],
      "text/plain": [
       "   5            3                       3⋅γ ̍   ρ ̍\n",
       "β ̍ ⋅σ ̍ - 3⋅β ̍  + 3⋅β ̍⋅γ ̍ + 3⋅β ̍ - ───── + ───\n",
       "                                         β ̍    β ̍"
      ]
     },
     "execution_count": 19,
     "metadata": {},
     "output_type": "execute_result"
    }
   ],
   "source": [
    "# c0 = c0.subs(sigmaprm,sigmap).subs(gammaprm,gammap)\n",
    "c0"
   ]
  },
  {
   "cell_type": "code",
   "execution_count": 20,
   "metadata": {
    "collapsed": false
   },
   "outputs": [
    {
     "data": {
      "image/png": "[encoded data removed]",
      "text/latex": [
       "$$- 9 b_{0} {\\beta}' + \\frac{13 b_{0}}{{\\beta}'} + 9 {\\beta}'^{4} - 28 {\\beta}'^{2} + 19 + \\frac{5 c_{0}}{{\\beta}'} - \\frac{5 {\\rho}'}{{\\beta}'^{2}}$$"
      ],
      "text/plain": [
       "            13⋅b₀        4         2        5⋅c₀   5⋅ρ ̍\n",
       "-9⋅b₀⋅β ̍ + ───── + 9⋅β ̍  - 28⋅β ̍  + 19 + ──── - ─────\n",
       "             β ̍                            β ̍        2\n",
       "                                                    β ̍ "
      ]
     },
     "execution_count": 20,
     "metadata": {},
     "output_type": "execute_result"
    }
   ],
   "source": [
    "c1 = c1.subs(sigmaprm,sigmap).subs(gammaprm,gammap)\n",
    "expand(c1)"
   ]
  },
  {
   "cell_type": "code",
   "execution_count": 21,
   "metadata": {
    "collapsed": false
   },
   "outputs": [
    {
     "data": {
      "image/png": "[encoded data removed]",
      "text/latex": [
       "$$- 27 b_{0} + \\frac{30 b_{0}}{{\\beta}'^{2}} + 27 {\\beta}'^{3} - 72 {\\beta}' + \\frac{37}{{\\beta}'} + \\frac{10 c_{0}}{{\\beta}'^{2}} - \\frac{10 {\\rho}'}{{\\beta}'^{3}}$$"
      ],
      "text/plain": [
       "         30⋅b₀         3             37   10⋅c₀   10⋅ρ ̍\n",
       "-27⋅b₀ + ───── + 27⋅β ̍  - 72⋅β ̍ + ─── + ───── - ──────\n",
       "             2                      β ̍       2       3 \n",
       "          β ̍                              β ̍     β ̍  "
      ]
     },
     "execution_count": 21,
     "metadata": {},
     "output_type": "execute_result"
    }
   ],
   "source": [
    "c2 = c2.subs(sigmaprm,sigmap).subs(gammaprm,gammap)\n",
    "expand(c2)"
   ]
  },
  {
   "cell_type": "code",
   "execution_count": 22,
   "metadata": {
    "collapsed": false
   },
   "outputs": [
    {
     "data": {
      "image/png": "[encoded data removed]",
      "text/latex": [
       "$$- \\frac{30 b_{0}}{{\\beta}'} + \\frac{30 b_{0}}{{\\beta}'^{3}} + 30 {\\beta}'^{2} - 72 + \\frac{32}{{\\beta}'^{2}} + \\frac{10 c_{0}}{{\\beta}'^{3}} - \\frac{10 {\\rho}'}{{\\beta}'^{4}}$$"
      ],
      "text/plain": [
       "  30⋅b₀   30⋅b₀         2         32    10⋅c₀   10⋅ρ ̍\n",
       "- ───── + ───── + 30⋅β ̍  - 72 + ──── + ───── - ──────\n",
       "   β ̍        3                     2       3       4 \n",
       "           β ̍                   β ̍     β ̍     β ̍  "
      ]
     },
     "execution_count": 22,
     "metadata": {},
     "output_type": "execute_result"
    }
   ],
   "source": [
    "c3 = c3.subs(sigmaprm,sigmap).subs(gammaprm,gammap)\n",
    "expand(c3)"
   ]
  },
  {
   "cell_type": "code",
   "execution_count": 23,
   "metadata": {
    "collapsed": false
   },
   "outputs": [
    {
     "data": {
      "image/png": "[encoded data removed]",
      "text/latex": [
       "$$- \\frac{15 b_{0}}{{\\beta}'^{2}} + \\frac{15 b_{0}}{{\\beta}'^{4}} + 15 {\\beta}' - \\frac{33}{{\\beta}'} + \\frac{15}{{\\beta}'^{3}} + \\frac{5 c_{0}}{{\\beta}'^{4}} - \\frac{5 {\\rho}'}{{\\beta}'^{5}}$$"
      ],
      "text/plain": [
       "  15⋅b₀   15⋅b₀             33    15    5⋅c₀   5⋅ρ ̍\n",
       "- ───── + ───── + 15⋅β ̍ - ─── + ──── + ──── - ─────\n",
       "      2       4            β ̍      3      4       5\n",
       "   β ̍     β ̍                   β ̍    β ̍     β ̍ "
      ]
     },
     "execution_count": 23,
     "metadata": {},
     "output_type": "execute_result"
    }
   ],
   "source": [
    "c4 = c4.subs(sigmaprm,sigmap).subs(gammaprm,gammap)\n",
    "expand(c4)"
   ]
  },
  {
   "cell_type": "code",
   "execution_count": 26,
   "metadata": {
    "collapsed": false
   },
   "outputs": [
    {
     "data": {
      "image/png": "[encoded data removed]",
      "text/latex": [
       "$$- \\frac{3 b_{0}}{{\\beta}'^{3}} + \\frac{3 b_{0}}{{\\beta}'^{5}} + 3 - \\frac{6}{{\\beta}'^{2}} + \\frac{3}{{\\beta}'^{4}} + \\frac{c_{0}}{{\\beta}'^{5}} - \\frac{{\\rho}'}{{\\beta}'^{6}}$$"
      ],
      "text/plain": [
       "  3⋅b₀   3⋅b₀        6      3      c₀    ρ ̍ \n",
       "- ──── + ──── + 3 - ──── + ──── + ──── - ────\n",
       "     3      5          2      4      5      6\n",
       "  β ̍    β ̍        β ̍    β ̍    β ̍    β ̍ "
      ]
     },
     "execution_count": 26,
     "metadata": {},
     "output_type": "execute_result"
    }
   ],
   "source": [
    "c5 = c5.subs(sigmaprm,sigmap).subs(gammaprm,gammap)\n",
    "c5"
   ]
  },
  {
   "cell_type": "code",
   "execution_count": 24,
   "metadata": {
    "collapsed": false
   },
   "outputs": [
    {
     "data": {
      "image/png": "[encoded data removed]",
      "text/latex": [
       "$$a^{5} c_{5} + a^{4} \\left(- \\frac{15 b_{0}}{{\\beta}'^{2}} + \\frac{15 b_{0}}{{\\beta}'^{4}} + 15 {\\beta}' - \\frac{33}{{\\beta}'} + \\frac{15}{{\\beta}'^{3}} + \\frac{5 c_{0}}{{\\beta}'^{4}} - \\frac{5 {\\rho}'}{{\\beta}'^{5}}\\right) + a^{3} \\left(- \\frac{30 b_{0}}{{\\beta}'} + \\frac{30 b_{0}}{{\\beta}'^{3}} + 30 {\\beta}'^{2} - 72 + \\frac{32}{{\\beta}'^{2}} + \\frac{10 c_{0}}{{\\beta}'^{3}} - \\frac{10 {\\rho}'}{{\\beta}'^{4}}\\right) + a^{2} \\left(- 27 b_{0} + \\frac{30 b_{0}}{{\\beta}'^{2}} + 27 {\\beta}'^{3} - 72 {\\beta}' + \\frac{37}{{\\beta}'} + \\frac{10 c_{0}}{{\\beta}'^{2}} - \\frac{10 {\\rho}'}{{\\beta}'^{3}}\\right) + a \\left(- 9 b_{0} {\\beta}' + \\frac{13 b_{0}}{{\\beta}'} + 9 {\\beta}'^{4} - 28 {\\beta}'^{2} + 19 + \\frac{5 c_{0}}{{\\beta}'} - \\frac{5 {\\rho}'}{{\\beta}'^{2}}\\right) + c_{0}$$"
      ],
      "text/plain": [
       " 5       4 ⎛  15⋅b₀   15⋅b₀             33    15    5⋅c₀   5⋅ρ ̍⎞    3 ⎛  30⋅b\n",
       "a ⋅c₅ + a ⋅⎜- ───── + ───── + 15⋅β ̍ - ─── + ──── + ──── - ─────⎟ + a ⋅⎜- ────\n",
       "           ⎜      2       4            β ̍      3      4       5⎟      ⎜   β ̍\n",
       "           ⎝   β ̍     β ̍                   β ̍    β ̍     β ̍ ⎠      ⎝      \n",
       "\n",
       "₀   30⋅b₀         2         32    10⋅c₀   10⋅ρ ̍⎞    2 ⎛         30⋅b₀        \n",
       "─ + ───── + 30⋅β ̍  - 72 + ──── + ───── - ──────⎟ + a ⋅⎜-27⋅b₀ + ───── + 27⋅β \n",
       "        3                     2       3       4 ⎟      ⎜             2        \n",
       "     β ̍                   β ̍     β ̍     β ̍  ⎠      ⎝          β ̍         \n",
       "\n",
       " 3             37   10⋅c₀   10⋅ρ ̍⎞     ⎛            13⋅b₀        4         2 \n",
       "̍  - 72⋅β ̍ + ─── + ───── - ──────⎟ + a⋅⎜-9⋅b₀⋅β ̍ + ───── + 9⋅β ̍  - 28⋅β ̍  \n",
       "              β ̍       2       3 ⎟     ⎜             β ̍                     \n",
       "                     β ̍     β ̍  ⎠     ⎝                                     \n",
       "\n",
       "       5⋅c₀   5⋅ρ ̍⎞     \n",
       "+ 19 + ──── - ─────⎟ + c₀\n",
       "       β ̍        2⎟     \n",
       "               β ̍ ⎠     "
      ]
     },
     "execution_count": 24,
     "metadata": {},
     "output_type": "execute_result"
    }
   ],
   "source": [
    "C_a = c_5*a**5+c4*a**4+c3*a**3+c2*a**2+c1*a+c_0\n",
    "collect(expand(C_a),a)"
   ]
  },
  {
   "cell_type": "code",
   "execution_count": 25,
   "metadata": {
    "collapsed": false
   },
   "outputs": [
    {
     "data": {
      "image/png": "[encoded data removed]",
      "text/latex": [
       "$$a^{6} \\left(- \\frac{20 c_{5}}{9} + 1\\right) + a^{5} \\left(\\frac{100 b_{0}}{3 {\\beta}'^{2}} - \\frac{100 b_{0}}{3 {\\beta}'^{4}} - \\frac{82 {\\beta}'}{3} + \\frac{214}{3 {\\beta}'} - \\frac{100}{3 {\\beta}'^{3}} - \\frac{100 c_{0}}{9 {\\beta}'^{4}} + \\frac{100 {\\rho}'}{9 {\\beta}'^{5}}\\right) + a^{4} \\left(\\frac{200 b_{0}}{3 {\\beta}'} - \\frac{200 b_{0}}{3 {\\beta}'^{3}} - \\frac{155 {\\beta}'^{2}}{3} + 148 - \\frac{631}{9 {\\beta}'^{2}} - \\frac{200 c_{0}}{9 {\\beta}'^{3}} + \\frac{200 {\\rho}'}{9 {\\beta}'^{4}}\\right) + a^{3} \\left(62 b_{0} - \\frac{200 b_{0}}{3 {\\beta}'^{2}} - 42 {\\beta}'^{3} + 136 {\\beta}' - \\frac{686}{9 {\\beta}'} - \\frac{200 c_{0}}{9 {\\beta}'^{2}} + \\frac{200 {\\rho}'}{9 {\\beta}'^{3}}\\right) + a^{2} \\left(26 b_{0} {\\beta}' - \\frac{278 b_{0}}{9 {\\beta}'} - 11 {\\beta}'^{4} + \\frac{398 {\\beta}'^{2}}{9} - \\frac{299}{9} - \\frac{100 c_{0}}{9 {\\beta}'} + \\frac{100 {\\rho}'}{9 {\\beta}'^{2}}\\right) + a \\left(6 b_{0} {\\beta}'^{2} - 6 b_{0} - \\frac{20 c_{0}}{9}\\right) + b_{0}^{2}$$"
      ],
      "text/plain": [
       "                                                                              \n",
       " 6 ⎛  20⋅c₅    ⎞    5 ⎛100⋅b₀   100⋅b₀   82⋅β ̍    214     100     100⋅c₀   10\n",
       "a ⋅⎜- ───── + 1⎟ + a ⋅⎜────── - ────── - ────── + ───── - ────── - ────── + ──\n",
       "   ⎝    9      ⎠      ⎜     2        4     3      3⋅β ̍        3        4     \n",
       "                      ⎝3⋅β ̍    3⋅β ̍                     3⋅β ̍    9⋅β ̍     9\n",
       "\n",
       "            ⎛                         2                                  ⎞    \n",
       "0⋅ρ ̍⎞    4 ⎜200⋅b₀   200⋅b₀   155⋅β ̍           631     200⋅c₀   200⋅ρ ̍⎟    \n",
       "─────⎟ + a ⋅⎜────── - ────── - ──────── + 148 - ────── - ────── + ───────⎟ + a\n",
       "    5⎟      ⎜3⋅β ̍         3      3                  2        3         4⎟    \n",
       "⋅β ̍ ⎠      ⎝         3⋅β ̍                     9⋅β ̍    9⋅β ̍     9⋅β ̍ ⎠    \n",
       "\n",
       "                                                                       ⎛      \n",
       "3 ⎛        200⋅b₀         3              686    200⋅c₀   200⋅ρ ̍⎞    2 ⎜      \n",
       " ⋅⎜62⋅b₀ - ────── - 42⋅β ̍  + 136⋅β ̍ - ───── - ────── + ───────⎟ + a ⋅⎜26⋅b₀⋅\n",
       "  ⎜             2                       9⋅β ̍        2         3⎟      ⎜      \n",
       "  ⎝        3⋅β ̍                                9⋅β ̍     9⋅β ̍ ⎠      ⎝      \n",
       "\n",
       "                                2                         ⎞                   \n",
       "      278⋅b₀         4   398⋅β ̍    299   100⋅c₀   100⋅ρ ̍⎟     ⎛        2    \n",
       "β ̍ - ────── - 11⋅β ̍  + ──────── - ─── - ────── + ───────⎟ + a⋅⎜6⋅b₀⋅β ̍  - 6\n",
       "      9⋅β ̍                 9        9    9⋅β ̍          2⎟     ⎝             \n",
       "                                                    9⋅β ̍ ⎠                   \n",
       "\n",
       "                  \n",
       "      20⋅c₀⎞     2\n",
       "⋅b₀ - ─────⎟ + b₀ \n",
       "        9  ⎠      \n",
       "                  "
      ]
     },
     "execution_count": 25,
     "metadata": {},
     "output_type": "execute_result"
    }
   ],
   "source": [
    "series(B_a**2-20*a*C_a/9,a,n=7)"
   ]
  },
  {
   "cell_type": "code",
   "execution_count": 30,
   "metadata": {
    "collapsed": false,
    "scrolled": true
   },
   "outputs": [
    {
     "data": {
      "image/png": "[encoded data removed]",
      "text/latex": [
       "$$a^{6} \\left(- \\frac{20 {\\sigma}'}{9} + 1\\right) + a^{5} \\left(- \\frac{100 {\\beta}'}{9} {\\sigma}' + 6 {\\beta}' + \\frac{14}{3 {\\beta}'}\\right) + a^{4} \\left(- \\frac{200 {\\sigma}'}{9} {\\beta}'^{2} + 15 {\\beta}'^{2} + \\frac{44}{3} - \\frac{31}{9 {\\beta}'^{2}}\\right) + a^{3} \\left(- \\frac{200 {\\sigma}'}{9} {\\beta}'^{3} + 20 {\\beta}'^{3} + 12 {\\beta}' - \\frac{14 {\\gamma}'}{3 {\\beta}'} - \\frac{86}{9 {\\beta}'}\\right) + a^{2} \\left(- \\frac{100 {\\sigma}'}{9} {\\beta}'^{4} + 15 {\\beta}'^{4} - \\frac{16 {\\beta}'^{2}}{3} - \\frac{22 {\\gamma}'}{3} - \\frac{43}{9} + \\frac{22 {\\gamma}'}{9 {\\beta}'^{2}}\\right) + a \\left(- \\frac{20 {\\sigma}'}{9} {\\beta}'^{5} + 6 {\\beta}'^{5} - \\frac{34 {\\beta}'^{3}}{3} - \\frac{2 {\\beta}'}{3} {\\gamma}' + \\frac{16 {\\beta}'}{3} + \\frac{2 {\\gamma}'}{3 {\\beta}'} - \\frac{20 {\\rho}'}{9 {\\beta}'}\\right) + {\\beta}'^{6} - 4 {\\beta}'^{4} + 2 {\\beta}'^{2} {\\gamma}' + 4 {\\beta}'^{2} - 4 {\\gamma}' + \\frac{{\\gamma}'^{2}}{{\\beta}'^{2}}$$"
      ],
      "text/plain": [
       "                                                            ⎛         2       \n",
       " 6 ⎛  20⋅σ ̍    ⎞    5 ⎛  100⋅β ̍⋅σ ̍             14 ⎞    4 ⎜  200⋅β ̍ ⋅σ ̍   \n",
       "a ⋅⎜- ────── + 1⎟ + a ⋅⎜- ─────────── + 6⋅β ̍ + ─────⎟ + a ⋅⎜- ──────────── + \n",
       "   ⎝    9       ⎠      ⎝       9                3⋅β ̍⎠      ⎜       9         \n",
       "                                                            ⎝                 \n",
       "\n",
       "                     ⎞      ⎛         3                                       \n",
       "      2   44     31  ⎟    3 ⎜  200⋅β ̍ ⋅σ ̍         3            14⋅γ ̍     86\n",
       "15⋅β ̍  + ── - ──────⎟ + a ⋅⎜- ──────────── + 20⋅β ̍  + 12⋅β ̍ - ────── - ────\n",
       "          3         2⎟      ⎝       9                            3⋅β ̍    9⋅β \n",
       "               9⋅β ̍ ⎠                                                        \n",
       "\n",
       " ⎞      ⎛         4                       2                       ⎞     ⎛     \n",
       " ⎟    2 ⎜  100⋅β ̍ ⋅σ ̍         4   16⋅β ̍    22⋅γ ̍   43   22⋅γ ̍⎟     ⎜  20⋅\n",
       "─⎟ + a ⋅⎜- ──────────── + 15⋅β ̍  - ─────── - ────── - ── + ──────⎟ + a⋅⎜- ───\n",
       "̍⎠      ⎜       9                      3        3      9         2⎟     ⎝     \n",
       "        ⎝                                                   9⋅β ̍ ⎠           \n",
       "\n",
       "   5                      3                                      ⎞            \n",
       "β ̍ ⋅σ ̍        5   34⋅β ̍    2⋅β ̍⋅γ ̍   16⋅β ̍   2⋅γ ̍   20⋅ρ ̍⎟      6     \n",
       "──────── + 6⋅β ̍  - ─────── - ───────── + ────── + ───── - ──────⎟ + β ̍  - 4⋅\n",
       "  9                    3          3         3      3⋅β ̍   9⋅β ̍ ⎠            \n",
       "                                                                              \n",
       "\n",
       "                                        2\n",
       "   4        2            2           γ ̍ \n",
       "β ̍  + 2⋅β ̍ ⋅γ ̍ + 4⋅β ̍  - 4⋅γ ̍ + ────\n",
       "                                        2\n",
       "                                     β ̍ "
      ]
     },
     "execution_count": 30,
     "metadata": {},
     "output_type": "execute_result"
    }
   ],
   "source": [
    "series(B**2-20*a*C/9,a,n=7)"
   ]
  },
  {
   "cell_type": "code",
   "execution_count": 26,
   "metadata": {
    "collapsed": false
   },
   "outputs": [
    {
     "data": {
      "image/png": "[encoded data removed]",
      "text/latex": [
       "$$a {\\theta}' + b {\\theta}'^{3} + c {\\theta}'^{5}$$"
      ],
      "text/plain": [
       "             3        5\n",
       "a⋅θ ̍ + b⋅θ ̍  + c⋅θ ̍ "
      ]
     },
     "execution_count": 26,
     "metadata": {},
     "output_type": "execute_result"
    }
   ],
   "source": [
    "Etrun = a*thetaprm+b*thetaprm**3+c*thetaprm**5\n",
    "Etrun"
   ]
  },
  {
   "cell_type": "code",
   "execution_count": 27,
   "metadata": {
    "collapsed": false
   },
   "outputs": [
    {
     "data": {
      "image/png": "[encoded data removed]",
      "text/latex": [
       "$$a {\\theta}' + {\\theta}'^{5} \\left(a^{5} {\\sigma}' + a^{4} \\left(5 {\\beta}' {\\sigma}' - \\frac{3}{{\\beta}'}\\right) + a^{3} \\left(10 {\\beta}'^{2} {\\sigma}' - 12 + \\frac{2}{{\\beta}'^{2}}\\right) + a^{2} \\left(10 {\\beta}'^{3} {\\sigma}' - 18 {\\beta}' + \\frac{3 {\\gamma}'}{{\\beta}'} + \\frac{7}{{\\beta}'}\\right) + a \\left(5 {\\beta}'^{4} {\\sigma}' - 12 {\\beta}'^{2} + 6 {\\gamma}' + 8 - \\frac{2 {\\gamma}'}{{\\beta}'^{2}}\\right) + {\\beta}'^{5} {\\sigma}' - 3 {\\beta}'^{3} + 3 {\\beta}' {\\gamma}' + 3 {\\beta}' - \\frac{3 {\\gamma}'}{{\\beta}'} + \\frac{{\\rho}'}{{\\beta}'}\\right) + {\\theta}'^{3} \\left(a^{3} + a^{2} \\left(3 {\\beta}' - \\frac{1}{{\\beta}'}\\right) + a \\left(3 {\\beta}'^{2} - 3\\right) + {\\beta}'^{3} - 2 {\\beta}' + \\frac{{\\gamma}'}{{\\beta}'}\\right)$$"
      ],
      "text/plain": [
       "           5 ⎛ 5        4 ⎛             3 ⎞    3 ⎛      2             2  ⎞    \n",
       "a⋅θ ̍ + θ ̍ ⋅⎜a ⋅σ ̍ + a ⋅⎜5⋅β ̍⋅σ ̍ - ───⎟ + a ⋅⎜10⋅β ̍ ⋅σ ̍ - 12 + ────⎟ + a\n",
       "             ⎜            ⎝            β ̍⎠      ⎜                      2⎟    \n",
       "             ⎝                                   ⎝                   β ̍ ⎠    \n",
       "\n",
       "2 ⎛      3                3⋅γ ̍    7 ⎞     ⎛     4             2              \n",
       " ⋅⎜10⋅β ̍ ⋅σ ̍ - 18⋅β ̍ + ───── + ───⎟ + a⋅⎜5⋅β ̍ ⋅σ ̍ - 12⋅β ̍  + 6⋅γ ̍ + 8 -\n",
       "  ⎝                        β ̍    β ̍⎠     ⎜                                  \n",
       "                                           ⎝                                  \n",
       "\n",
       " 2⋅γ ̍⎞      5            3                       3⋅γ ̍   ρ ̍⎞      3 ⎛ 3    2\n",
       " ─────⎟ + β ̍ ⋅σ ̍ - 3⋅β ̍  + 3⋅β ̍⋅γ ̍ + 3⋅β ̍ - ───── + ───⎟ + θ ̍ ⋅⎜a  + a \n",
       "     2⎟                                            β ̍    β ̍⎟        ⎝       \n",
       "  β ̍ ⎠                                                      ⎠                \n",
       "\n",
       " ⎛         1 ⎞     ⎛     2    ⎞      3           γ ̍⎞\n",
       "⋅⎜3⋅β ̍ - ───⎟ + a⋅⎝3⋅β ̍  - 3⎠ + β ̍  - 2⋅β ̍ + ───⎟\n",
       " ⎝        β ̍⎠                                   β ̍⎠\n",
       "                                                     "
      ]
     },
     "execution_count": 27,
     "metadata": {},
     "output_type": "execute_result"
    }
   ],
   "source": [
    "collect(Etrun.subs([(b,B),(c,C)]),thetaprm)"
   ]
  },
  {
   "cell_type": "code",
   "execution_count": 28,
   "metadata": {
    "collapsed": false
   },
   "outputs": [
    {
     "data": {
      "image/png": "[encoded data removed]",
      "text/latex": [
       "$$\\left ( \\frac{\\sqrt{10}}{10 \\sqrt{c}} \\sqrt{- 3 b - \\sqrt{- 20 a c + 9 b^{2}}}, \\quad \\frac{\\sqrt{10}}{10 \\sqrt{c}} \\sqrt{- 3 b + \\sqrt{- 20 a c + 9 b^{2}}}\\right )$$"
      ],
      "text/plain": [
       "⎛           ____________________________             _________________________\n",
       "⎜          ╱           ________________             ╱           ______________\n",
       "⎜  ____   ╱           ╱              2      ____   ╱           ╱              \n",
       "⎜╲╱ 10 ⋅╲╱   -3⋅b - ╲╱  -20⋅a⋅c + 9⋅b     ╲╱ 10 ⋅╲╱   -3⋅b + ╲╱  -20⋅a⋅c + 9⋅b\n",
       "⎜───────────────────────────────────────, ────────────────────────────────────\n",
       "⎜                     ___                                      ___            \n",
       "⎝                10⋅╲╱ c                                  10⋅╲╱ c             \n",
       "\n",
       "___⎞\n",
       "__ ⎟\n",
       "2  ⎟\n",
       "   ⎟\n",
       "───⎟\n",
       "   ⎟\n",
       "   ⎠"
      ]
     },
     "execution_count": 28,
     "metadata": {},
     "output_type": "execute_result"
    }
   ],
   "source": [
    "theta_L = solve(Etrun.diff(thetaprm),thetaprm)[1]\n",
    "theta_U = solve(Etrun.diff(thetaprm),thetaprm)[3]\n",
    "theta_L,theta_U"
   ]
  },
  {
   "cell_type": "code",
   "execution_count": 29,
   "metadata": {
    "collapsed": false
   },
   "outputs": [
    {
     "data": {
      "image/png": "[encoded data removed]",
      "text/latex": [
       "$$\\left ( \\frac{\\sqrt{10}}{250 c^{\\frac{3}{2}}} \\sqrt{- 3 b + \\sqrt{- 20 a c + 9 b^{2}}} \\left(20 a c - 3 b^{2} + b \\sqrt{- 20 a c + 9 b^{2}}\\right), \\quad \\frac{\\sqrt{10}}{250 c^{\\frac{3}{2}}} \\sqrt{- 3 b - \\sqrt{- 20 a c + 9 b^{2}}} \\left(20 a c - 3 b^{2} - b \\sqrt{- 20 a c + 9 b^{2}}\\right)\\right )$$"
      ],
      "text/plain": [
       "⎛           ____________________________                                      \n",
       "⎜          ╱           ________________  ⎛                     _______________\n",
       "⎜  ____   ╱           ╱              2   ⎜            2       ╱              2\n",
       "⎜╲╱ 10 ⋅╲╱   -3⋅b + ╲╱  -20⋅a⋅c + 9⋅b   ⋅⎝20⋅a⋅c - 3⋅b  + b⋅╲╱  -20⋅a⋅c + 9⋅b \n",
       "⎜─────────────────────────────────────────────────────────────────────────────\n",
       "⎜                                         3/2                                 \n",
       "⎝                                    250⋅c                                    \n",
       "\n",
       "               ____________________________                                   \n",
       "_⎞            ╱           ________________  ⎛                     ____________\n",
       " ⎟    ____   ╱           ╱              2   ⎜            2       ╱            \n",
       " ⎠  ╲╱ 10 ⋅╲╱   -3⋅b - ╲╱  -20⋅a⋅c + 9⋅b   ⋅⎝20⋅a⋅c - 3⋅b  - b⋅╲╱  -20⋅a⋅c + 9\n",
       "──, ──────────────────────────────────────────────────────────────────────────\n",
       "                                             3/2                              \n",
       "                                        250⋅c                                 \n",
       "\n",
       "     ⎞\n",
       "____⎞⎟\n",
       "  2 ⎟⎟\n",
       "⋅b  ⎠⎟\n",
       "─────⎟\n",
       "     ⎟\n",
       "     ⎠"
      ]
     },
     "execution_count": 29,
     "metadata": {},
     "output_type": "execute_result"
    }
   ],
   "source": [
    "E_L = simplify(Etrun.subs(thetaprm,theta_U))\n",
    "E_U = simplify(Etrun.subs(thetaprm,theta_L))\n",
    "E_L,E_U"
   ]
  },
  {
   "cell_type": "code",
   "execution_count": null,
   "metadata": {
    "collapsed": true
   },
   "outputs": [],
   "source": []
  }
 ],
 "metadata": {
  "kernelspec": {
   "display_name": "Python 3",
   "language": "python",
   "name": "python3"
  },
  "language_info": {
   "codemirror_mode": {
    "name": "ipython",
    "version": 3
   },
   "file_extension": ".py",
   "mimetype": "text/x-python",
   "name": "python",
   "nbconvert_exporter": "python",
   "pygments_lexer": "ipython3",
   "version": "3.4.0"
  }
 },
 "nbformat": 4,
 "nbformat_minor": 0
}
