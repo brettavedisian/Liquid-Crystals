{
 "cells": [
  {
   "cell_type": "code",
   "execution_count": 1,
   "metadata": {
    "collapsed": true
   },
   "outputs": [],
   "source": [
    "%matplotlib inline\n",
    "from sympy import *\n",
    "init_printing(use_unicode=True)"
   ]
  },
  {
   "cell_type": "code",
   "execution_count": 2,
   "metadata": {
    "collapsed": false
   },
   "outputs": [],
   "source": [
    "r, u, v, c, r_c, u_c, v_c, E, p, r_p, u_p, v_p, e, a, b, q, b_0, b_1, b_2, b_3, q_0, q_1, q_2, q_3, q_4, q_5, t, g = symbols('r u v c r_c u_c v_c E p r_p u_p v_p e a b q b_0 b_1 b_2 b_3 q_0 q_1 q_2 q_3 q_4 q_5 t g',positive=True)"
   ]
  },
  {
   "cell_type": "code",
   "execution_count": 3,
   "metadata": {
    "collapsed": false
   },
   "outputs": [],
   "source": [
    "cprm, thetaprm, Pprm, betaprm, rtheta, gammaprm, rhoprm, Eprm = symbols('cprm thetaprm Pprm betaprm r_theta gammaprm rhoprm Eprm',positive=True)"
   ]
  },
  {
   "cell_type": "code",
   "execution_count": 4,
   "metadata": {
    "collapsed": true
   },
   "outputs": [],
   "source": [
    "gamma,r_p,u_p,e = symbols('gamma r_p u_p e',positive=True)"
   ]
  },
  {
   "cell_type": "markdown",
   "metadata": {},
   "source": [
    "####$f_{2}(c,p) = \\dfrac{1}{2}r_{c}c^{2}+\\dfrac{1}{4}u_{c}c^{4}+\\dfrac{1}{6}v_{c}c^{6}+\\dfrac{1}{2}r_{p}p^{2}+\\dfrac{1}{4}u_{p}p^{4}-\\gamma cp-\\dfrac{1}{2}ec^{2}p^{2}-Ep$"
   ]
  },
  {
   "cell_type": "code",
   "execution_count": 5,
   "metadata": {
    "collapsed": false
   },
   "outputs": [
    {
     "data": {
      "image/png": "[encoded data removed]",
      "text/latex": [
       "$$- E p + \\frac{c^{6} v_{c}}{6} + \\frac{c^{4} u_{c}}{4} - \\frac{c^{2} e}{2} p^{2} + \\frac{c^{2} r_{c}}{2} - c \\gamma p + \\frac{p^{4} u_{p}}{4} + \\frac{p^{2} r_{p}}{2}$$"
      ],
      "text/plain": [
       "        6        4        2    2    2                4        2    \n",
       "       c ⋅v_c   c ⋅u_c   c ⋅e⋅p    c ⋅r_c           p ⋅u_p   p ⋅r_p\n",
       "-E⋅p + ────── + ────── - ─────── + ────── - c⋅γ⋅p + ────── + ──────\n",
       "         6        4         2        2                4        2   "
      ]
     },
     "execution_count": 5,
     "metadata": {},
     "output_type": "execute_result"
    }
   ],
   "source": [
    "f2 = ((1/2)*r_c*c**2+(1/4)*u_c*c**4+(1/6)*v_c*c**6+(1/2)*r_p*p**2+(1/4)*u_p*p**4-E*p-gamma*c*p-e*c**2*p**2/2)\n",
    "nsimplify(f2)"
   ]
  },
  {
   "cell_type": "markdown",
   "metadata": {},
   "source": [
    "###Rescaling"
   ]
  },
  {
   "cell_type": "code",
   "execution_count": 6,
   "metadata": {
    "collapsed": false
   },
   "outputs": [],
   "source": [
    "P, C, w, rho, beta, tau, Epr = symbols('P C w rho beta tau E^{\\prime}')"
   ]
  },
  {
   "cell_type": "code",
   "execution_count": 7,
   "metadata": {
    "collapsed": false
   },
   "outputs": [
    {
     "data": {
      "image/png": "[encoded data removed]",
      "text/latex": [
       "$$- E {P}' w + \\frac{u_{p} w^{4}}{4} {P}'^{4} - \\frac{e w^{2}}{2} {P}'^{2} c^{2} + \\frac{r_{p} w^{2}}{2} {P}'^{2} - {P}' c \\gamma w + \\frac{c^{6} v_{c}}{6} + \\frac{c^{4} u_{c}}{4} + \\frac{c^{2} r_{c}}{2}$$"
      ],
      "text/plain": [
       "              4      4      2  2    2      2      2                6        4 \n",
       "           P ̍ ⋅u_p⋅w    P ̍ ⋅c ⋅e⋅w    P ̍ ⋅r_p⋅w                c ⋅v_c   c ⋅\n",
       "-E⋅P ̍⋅w + ─────────── - ──────────── + ─────────── - P ̍⋅c⋅γ⋅w + ────── + ───\n",
       "                4             2              2                      6        4\n",
       "\n",
       "       2    \n",
       "u_c   c ⋅r_c\n",
       "─── + ──────\n",
       "        2   "
      ]
     },
     "execution_count": 7,
     "metadata": {},
     "output_type": "execute_result"
    }
   ],
   "source": [
    "fP = nsimplify(f2.subs(p,w*Pprm))\n",
    "fP"
   ]
  },
  {
   "cell_type": "code",
   "execution_count": 8,
   "metadata": {
    "collapsed": false
   },
   "outputs": [
    {
     "data": {
      "image/png": "[encoded data removed]",
      "text/latex": [
       "$$- \\frac{E {P}'}{\\sqrt{u_{p}}} \\sqrt{r_{p}} + \\frac{{P}'^{4} r_{p}^{2}}{4 u_{p}} - \\frac{{P}'^{2} c^{2} e r_{p}}{2 u_{p}} + \\frac{{P}'^{2} r_{p}^{2}}{2 u_{p}} - \\frac{{P}' c}{\\sqrt{u_{p}}} \\gamma \\sqrt{r_{p}} + \\frac{c^{6} v_{c}}{6} + \\frac{c^{4} u_{c}}{4} + \\frac{c^{2} r_{c}}{2}$$"
      ],
      "text/plain": [
       "          _____      4    2      2  2            2    2             _____    6\n",
       "  E⋅P ̍⋅╲╱ r_p    P ̍ ⋅r_p    P ̍ ⋅c ⋅e⋅r_p   P ̍ ⋅r_p    P ̍⋅c⋅γ⋅╲╱ r_p    c \n",
       "- ───────────── + ───────── - ───────────── + ───────── - ─────────────── + ──\n",
       "       _____        4⋅u_p         2⋅u_p         2⋅u_p           _____         \n",
       "     ╲╱ u_p                                                   ╲╱ u_p          \n",
       "\n",
       "        4        2    \n",
       "⋅v_c   c ⋅u_c   c ⋅r_c\n",
       "──── + ────── + ──────\n",
       "6        4        2   \n",
       "                      "
      ]
     },
     "execution_count": 8,
     "metadata": {},
     "output_type": "execute_result"
    }
   ],
   "source": [
    "fP = nsimplify(fP.subs(w,sqrt(r_p/u_p)))\n",
    "fP"
   ]
  },
  {
   "cell_type": "code",
   "execution_count": 9,
   "metadata": {
    "collapsed": false
   },
   "outputs": [
    {
     "data": {
      "image/png": "[encoded data removed]",
      "text/latex": [
       "$$- \\frac{E {P}'}{r_{p}^{\\frac{3}{2}}} \\sqrt{u_{p}} + \\frac{{P}'^{4}}{4} - \\frac{{P}'^{2} c^{2} e}{2 r_{p}} + \\frac{{P}'^{2}}{2} - \\frac{{P}' c}{r_{p}^{\\frac{3}{2}}} \\gamma \\sqrt{u_{p}} + \\frac{c^{6} u_{p} v_{c}}{6 r_{p}^{2}} + \\frac{c^{4} u_{c} u_{p}}{4 r_{p}^{2}} + \\frac{c^{2} r_{c} u_{p}}{2 r_{p}^{2}}$$"
      ],
      "text/plain": [
       "          _____      4      2  2        2             _____    6            4 \n",
       "  E⋅P ̍⋅╲╱ u_p    P ̍    P ̍ ⋅c ⋅e   P ̍    P ̍⋅c⋅γ⋅╲╱ u_p    c ⋅u_p⋅v_c   c ⋅\n",
       "- ───────────── + ──── - ───────── + ──── - ─────────────── + ────────── + ───\n",
       "         3/2       4       2⋅r_p      2             3/2              2        \n",
       "      r_p                                        r_p            6⋅r_p        4\n",
       "\n",
       "           2        \n",
       "u_c⋅u_p   c ⋅r_c⋅u_p\n",
       "─────── + ──────────\n",
       "    2            2  \n",
       "⋅r_p        2⋅r_p   "
      ]
     },
     "execution_count": 9,
     "metadata": {},
     "output_type": "execute_result"
    }
   ],
   "source": [
    "fP = expand(fP/(r_p**2/u_p),r_p)\n",
    "fP"
   ]
  },
  {
   "cell_type": "code",
   "execution_count": 10,
   "metadata": {
    "collapsed": false
   },
   "outputs": [
    {
     "data": {
      "image/png": "[encoded data removed]",
      "text/latex": [
       "$$- E^{{\\prime}} {P}' + \\frac{{P}'^{4}}{4} - \\frac{{P}'^{2} {c}'^{2}}{2} + \\frac{{P}'^{2}}{2} - \\frac{{P}' {c}' \\gamma \\sqrt{u_{p}}}{\\sqrt{e} r_{p}} + \\frac{{c}'^{6} r_{p} u_{p} v_{c}}{6 e^{3}} + \\frac{{c}'^{4} u_{c} u_{p}}{4 e^{2}} + \\frac{{c}'^{2} r_{c} u_{p}}{2 e r_{p}}$$"
      ],
      "text/plain": [
       "                      4      2    2      2               _____      6         \n",
       "                   P ̍    P ̍ ⋅c ̍    P ̍    P ̍⋅c ̍⋅γ⋅╲╱ u_p    c ̍ ⋅r_p⋅u_p⋅\n",
       "-E__{\\prime}⋅P ̍ + ──── - ───────── + ──── - ───────────────── + ─────────────\n",
       "                    4         2        2           ___                    3   \n",
       "                                                 ╲╱ e ⋅r_p             6⋅e    \n",
       "\n",
       "         4              2        \n",
       "v_c   c ̍ ⋅u_c⋅u_p   c ̍ ⋅r_c⋅u_p\n",
       "─── + ──────────── + ────────────\n",
       "             2         2⋅e⋅r_p   \n",
       "          4⋅e                    "
      ]
     },
     "execution_count": 10,
     "metadata": {},
     "output_type": "execute_result"
    }
   ],
   "source": [
    "fP = fP.subs([(E,Epr/sqrt(u_p)*r_p**(3/2)),(c,cprm*sqrt(r_p/e))])\n",
    "fP"
   ]
  },
  {
   "cell_type": "code",
   "execution_count": 11,
   "metadata": {
    "collapsed": false
   },
   "outputs": [
    {
     "data": {
      "image/png": "[encoded data removed]",
      "text/latex": [
       "$$- E^{{\\prime}} {P}' + \\frac{{P}'^{4}}{4} - \\frac{{P}'^{2} {\\theta}'^{2}}{2} + \\frac{{P}'^{2}}{2} - {P}' {\\beta}' {\\theta}' + \\frac{{\\gamma}' {\\theta}'^{4}}{4} + \\frac{r_{\\theta} {\\theta}'^{2}}{2} + \\frac{{\\rho}' {\\theta}'^{6}}{6}$$"
      ],
      "text/plain": [
       "                      4      2    2      2                        4          2\n",
       "                   P ̍    P ̍ ⋅θ ̍    P ̍                  γ ̍⋅θ ̍    r_θ⋅θ ̍ \n",
       "-E__{\\prime}⋅P ̍ + ──── - ───────── + ──── - P ̍⋅β ̍⋅θ ̍ + ──────── + ────────\n",
       "                    4         2        2                      4          2    \n",
       "\n",
       "          6\n",
       "   ρ ̍⋅θ ̍ \n",
       " + ────────\n",
       "      6    "
      ]
     },
     "execution_count": 11,
     "metadata": {},
     "output_type": "execute_result"
    }
   ],
   "source": [
    "fP = fP.subs([(cprm,thetaprm),(r_c,rtheta*e*r_p/u_p),(u_c,gammaprm*e**2/u_p),(v_c,rhoprm*e**3/(u_p*r_p)),(gamma,betaprm*r_p*sqrt(e/u_p))])\n",
    "fP"
   ]
  },
  {
   "cell_type": "code",
   "execution_count": 12,
   "metadata": {
    "collapsed": false
   },
   "outputs": [
    {
     "data": {
      "image/png": "[encoded data removed]",
      "text/latex": [
       "$$- {E}' {P}' + \\frac{{P}'^{4}}{4} - \\frac{{P}'^{2} {\\theta}'^{2}}{2} + \\frac{{P}'^{2}}{2} - {P}' {\\beta}' {\\theta}' + \\frac{{\\gamma}' {\\theta}'^{4}}{4} + \\frac{r_{\\theta} {\\theta}'^{2}}{2} + \\frac{{\\rho}' {\\theta}'^{6}}{6}$$"
      ],
      "text/plain": [
       "              4      2    2      2                        4          2        \n",
       "           P ̍    P ̍ ⋅θ ̍    P ̍                  γ ̍⋅θ ̍    r_θ⋅θ ̍    ρ ̍⋅θ\n",
       "-E ̍⋅P ̍ + ──── - ───────── + ──── - P ̍⋅β ̍⋅θ ̍ + ──────── + ──────── + ─────\n",
       "            4         2        2                      4          2          6 \n",
       "\n",
       "  6\n",
       " ̍ \n",
       "───\n",
       "   "
      ]
     },
     "execution_count": 12,
     "metadata": {},
     "output_type": "execute_result"
    }
   ],
   "source": [
    "fhelp = nsimplify((1/2)*rtheta*thetaprm**2+(1/4)*gammaprm*thetaprm**4+(1/6)*rhoprm*thetaprm**6+(1/2)*Pprm**2+(1/4)*Pprm**4\n",
    "        -betaprm*thetaprm*Pprm-(1/2)*Pprm**2*thetaprm**2-Eprm*Pprm)\n",
    "fhelp"
   ]
  },
  {
   "cell_type": "code",
   "execution_count": 13,
   "metadata": {
    "collapsed": false
   },
   "outputs": [
    {
     "data": {
      "image/png": "[encoded data removed]",
      "text/latex": [
       "$${P}'^{3} - {P}' {\\theta}'^{2} + {P}' - {\\beta}' {\\theta}'$$"
      ],
      "text/plain": [
       "   3          2                \n",
       "P ̍  - P ̍⋅θ ̍  + P ̍ - β ̍⋅θ ̍"
      ]
     },
     "execution_count": 13,
     "metadata": {},
     "output_type": "execute_result"
    }
   ],
   "source": [
    "Ep = solve(fhelp.diff(Pprm),Eprm)[0]\n",
    "Ep"
   ]
  },
  {
   "cell_type": "code",
   "execution_count": 14,
   "metadata": {
    "collapsed": false
   },
   "outputs": [
    {
     "data": {
      "image/png": "[encoded data removed]",
      "text/latex": [
       "$$- {P}'^{2} {\\theta}' - {P}' {\\beta}' + {\\gamma}' {\\theta}'^{3} + r_{\\theta} {\\theta}' + {\\rho}' {\\theta}'^{5}$$"
      ],
      "text/plain": [
       "     2                        3                    5\n",
       "- P ̍ ⋅θ ̍ - P ̍⋅β ̍ + γ ̍⋅θ ̍  + r_θ⋅θ ̍ + ρ ̍⋅θ ̍ "
      ]
     },
     "execution_count": 14,
     "metadata": {},
     "output_type": "execute_result"
    }
   ],
   "source": [
    "fhelp.diff(thetaprm)"
   ]
  },
  {
   "cell_type": "code",
   "execution_count": 15,
   "metadata": {
    "collapsed": false,
    "scrolled": true
   },
   "outputs": [
    {
     "data": {
      "image/png": "[encoded data removed]",
      "text/latex": [
       "$$\\frac{1}{2 {\\theta}'} \\left(- {\\beta}' + \\sqrt{{\\beta}'^{2} + 4 {\\gamma}' {\\theta}'^{4} + 4 r_{\\theta} {\\theta}'^{2} + 4 {\\rho}' {\\theta}'^{6}}\\right)$$"
      ],
      "text/plain": [
       "          _____________________________________________\n",
       "         ╱    2            4            2            6 \n",
       "-β ̍ + ╲╱  β ̍  + 4⋅γ ̍⋅θ ̍  + 4⋅r_θ⋅θ ̍  + 4⋅ρ ̍⋅θ ̍  \n",
       "───────────────────────────────────────────────────────\n",
       "                         2⋅θ ̍                         "
      ]
     },
     "execution_count": 15,
     "metadata": {},
     "output_type": "execute_result"
    }
   ],
   "source": [
    "P_min = solve(fhelp.diff(thetaprm),Pprm)[0]\n",
    "P_min"
   ]
  },
  {
   "cell_type": "code",
   "execution_count": 16,
   "metadata": {
    "collapsed": false,
    "scrolled": true
   },
   "outputs": [
    {
     "data": {
      "image/png": "[encoded data removed]",
      "text/latex": [
       "$$- {\\beta}' {\\theta}' - \\frac{{\\theta}'}{2} \\left(- {\\beta}' + \\sqrt{{\\beta}'^{2} + 4 {\\gamma}' {\\theta}'^{4} + 4 r_{\\theta} {\\theta}'^{2} + 4 {\\rho}' {\\theta}'^{6}}\\right) + \\frac{1}{2 {\\theta}'} \\left(- {\\beta}' + \\sqrt{{\\beta}'^{2} + 4 {\\gamma}' {\\theta}'^{4} + 4 r_{\\theta} {\\theta}'^{2} + 4 {\\rho}' {\\theta}'^{6}}\\right) + \\frac{1}{8 {\\theta}'^{3}} \\left(- {\\beta}' + \\sqrt{{\\beta}'^{2} + 4 {\\gamma}' {\\theta}'^{4} + 4 r_{\\theta} {\\theta}'^{2} + 4 {\\rho}' {\\theta}'^{6}}\\right)^{3}$$"
      ],
      "text/plain": [
       "                                                                              \n",
       "               ⎛          _____________________________________________⎞      \n",
       "               ⎜         ╱    2            4            2            6 ⎟      \n",
       "           θ ̍⋅⎝-β ̍ + ╲╱  β ̍  + 4⋅γ ̍⋅θ ̍  + 4⋅r_θ⋅θ ̍  + 4⋅ρ ̍⋅θ ̍  ⎠   -β \n",
       "-β ̍⋅θ ̍ - ───────────────────────────────────────────────────────────── + ───\n",
       "                                         2                                    \n",
       "                                                                              \n",
       "\n",
       "                                                                              \n",
       "       _____________________________________________   ⎛          ____________\n",
       "      ╱    2            4            2            6    ⎜         ╱    2       \n",
       "̍ + ╲╱  β ̍  + 4⋅γ ̍⋅θ ̍  + 4⋅r_θ⋅θ ̍  + 4⋅ρ ̍⋅θ ̍     ⎝-β ̍ + ╲╱  β ̍  + 4⋅γ \n",
       "──────────────────────────────────────────────────── + ───────────────────────\n",
       "                      2⋅θ ̍                                                   \n",
       "                                                                              \n",
       "\n",
       "                                  3\n",
       "_________________________________⎞ \n",
       "     4            2            6 ⎟ \n",
       "̍⋅θ ̍  + 4⋅r_θ⋅θ ̍  + 4⋅ρ ̍⋅θ ̍  ⎠ \n",
       "───────────────────────────────────\n",
       "        3                          \n",
       "   8⋅θ ̍                           "
      ]
     },
     "execution_count": 16,
     "metadata": {},
     "output_type": "execute_result"
    }
   ],
   "source": [
    "Ep = Ep.subs(Pprm,P_min)\n",
    "Ep"
   ]
  },
  {
   "cell_type": "code",
   "execution_count": 17,
   "metadata": {
    "collapsed": false,
    "scrolled": true
   },
   "outputs": [
    {
     "data": {
      "image/png": "[encoded data removed]",
      "text/latex": [
       "$${\\theta}' \\left(- {\\beta}'^{2} + r_{\\theta}\\right) + {\\theta}'^{3} \\left({\\gamma}' - r_{\\theta} + \\frac{r_{\\theta}^{3}}{{\\beta}'^{2}} - \\frac{r_{\\theta}^{2}}{{\\beta}'^{2}}\\right) + {\\theta}'^{5} \\left(- {\\gamma}' + {\\rho}' + \\frac{3 {\\gamma}'}{{\\beta}'^{2}} r_{\\theta}^{2} - \\frac{2 {\\gamma}'}{{\\beta}'^{2}} r_{\\theta} + \\frac{r_{\\theta}^{2}}{{\\beta}'^{2}} - \\frac{3 r_{\\theta}^{4}}{{\\beta}'^{4}} + \\frac{2 r_{\\theta}^{3}}{{\\beta}'^{4}}\\right) + \\mathcal{O}\\left({\\theta}'^{7}\\right)$$"
      ],
      "text/plain": [
       "                          ⎛               3      2⎞        ⎛                  \n",
       "    ⎛     2      ⎞      3 ⎜            r_θ    r_θ ⎟      5 ⎜             3⋅γ ̍\n",
       "θ ̍⋅⎝- β ̍  + r_θ⎠ + θ ̍ ⋅⎜γ ̍ - r_θ + ──── - ────⎟ + θ ̍ ⋅⎜-γ ̍ + ρ ̍ + ─────\n",
       "                          ⎜               2      2⎟        ⎜                  \n",
       "                          ⎝            β ̍    β ̍ ⎠        ⎝                β \n",
       "\n",
       "    2                  2        4        3⎞          \n",
       "⋅r_θ    2⋅γ ̍⋅r_θ   r_θ    3⋅r_θ    2⋅r_θ ⎟    ⎛   7⎞\n",
       "───── - ───────── + ──── - ────── + ──────⎟ + O⎝θ ̍ ⎠\n",
       " 2            2        2       4        4 ⎟          \n",
       "̍          β ̍      β ̍     β ̍      β ̍  ⎠          "
      ]
     },
     "execution_count": 17,
     "metadata": {},
     "output_type": "execute_result"
    }
   ],
   "source": [
    "(series(betaprm*Ep,thetaprm,n=7))"
   ]
  },
  {
   "cell_type": "code",
   "execution_count": 18,
   "metadata": {
    "collapsed": true
   },
   "outputs": [],
   "source": [
    "# ####Series expansion of $E$ out to $\\mathcal{O(\\theta^{\\prime 7})}$:\n",
    "\n",
    "# $E = \\theta^{\\prime}\\left(-\\beta^{\\prime} + \\dfrac{r_{\\theta}^{\\prime}}{\\beta^{\\prime}}\\right) + \\theta^{\\prime 3}\\left(\\dfrac{\\gamma^{\\prime}}{\\beta^{\\prime}} - \\dfrac{r_{\\theta}^{\\prime}}{\\beta^{\\prime}} + \\dfrac{r_{\\theta}^{\\prime 3}}{\\beta^{\\prime 3}} - \\dfrac{r_{\\theta}^{\\prime 2}}{\\beta^{\\prime 3}}\\right) + \\theta^{\\prime 5}\\left(-\\dfrac{\\gamma^{\\prime}}{\\beta^{\\prime}} + \\dfrac{\\rho^{\\prime}}{\\beta^{\\prime}} + \\dfrac{3\\gamma^{\\prime}r_{\\theta}^{\\prime 2}}{\\beta^{\\prime 3}} - \\dfrac{2\\gamma^{\\prime}r_{\\theta}}{\\beta^{\\prime 3}} + \\dfrac{r_{\\theta}^{\\prime 2}}{\\beta^{\\prime 3}} - \\dfrac{3r_{\\theta}^{\\prime 4}}{\\beta^{\\prime 5}} + \\dfrac{2r_{\\theta}^{\\prime 3}}{\\beta^{\\prime 5}}\\right)$\n",
    "\n",
    "# ####The coefficients of $E$ i.t.o. $a$ where $r_{\\theta}^{\\prime} = \\beta^{\\prime 2} + a\\beta^{\\prime}$:\n",
    "\n",
    "# $B(a) = a^{3} + a^{2}\\left(3\\beta^{\\prime} - \\dfrac{1}{\\beta^{\\prime}}\\right) + 3a(\\beta^{\\prime 2} - 1) + \\beta^{\\prime 3} - 2\\beta^{\\prime} + \\dfrac{\\gamma^{\\prime}}{\\beta^{\\prime}}$\n",
    "\n",
    "# $C(a) = -\\dfrac{3a^{4}}{\\beta^{\\prime}} + a^{3}\\left(\\dfrac{2}{\\beta^{\\prime 2}} - 12\\right) + a^{2}\\left(\\dfrac{3\\gamma^{\\prime}}{\\beta^{\\prime}} - 18\\beta^{\\prime} + \\dfrac{7}{\\beta^{\\prime}}\\right) + a\\left(6\\gamma^{\\prime} - 12\\beta^{\\prime 2} - \\dfrac{2\\gamma^{\\prime}}{\\beta^{\\prime 2}} + 8\\right) - 3\\beta^{\\prime 3} + 3\\beta^{\\prime}\\gamma^{\\prime} + 3\\beta^{\\prime} - \\dfrac{3\\gamma^{\\prime}}{\\beta^{\\prime}} + \\dfrac{\\rho^{\\prime}}{\\beta^{\\prime}}$\n",
    "\n",
    "# ####$R(a) = B(a)^{2} - \\dfrac{20aC(a)}{9}$ (not going to write this one out, it's long)\n",
    "\n",
    "# ####From here, I can modify the parameter search program to get parameters which match the $B(a) < 0$ and $C(a), R(a) > 0$ conditions for the plots."
   ]
  },
  {
   "cell_type": "code",
   "execution_count": 25,
   "metadata": {
    "collapsed": false
   },
   "outputs": [],
   "source": [
    "rth = betaprm**2+a\n",
    "\n",
    "B = gammaprm-rtheta+(rtheta**3-rtheta**2)/betaprm**2\n",
    "\n",
    "C = -gammaprm+rhoprm+3*gammaprm*(rtheta/betaprm)**2-2*gammaprm*rtheta/betaprm**2+(rtheta/betaprm)**2-3*(rtheta/betaprm)**4+2*rtheta**3/betaprm**4"
   ]
  },
  {
   "cell_type": "code",
   "execution_count": 26,
   "metadata": {
    "collapsed": false
   },
   "outputs": [
    {
     "data": {
      "image/png": "[encoded data removed]",
      "text/latex": [
       "$$\\frac{a^{3}}{{\\beta}'^{2}} + a^{2} \\left(3 - \\frac{1}{{\\beta}'^{2}}\\right) + a \\left(3 {\\beta}'^{2} - 3\\right) + {\\beta}'^{4} - 2 {\\beta}'^{2} + {\\gamma}'$$"
      ],
      "text/plain": [
       "  3                                                        \n",
       " a      2 ⎛     1  ⎞     ⎛     2    ⎞      4        2      \n",
       "──── + a ⋅⎜3 - ────⎟ + a⋅⎝3⋅β ̍  - 3⎠ + β ̍  - 2⋅β ̍  + γ ̍\n",
       "   2      ⎜       2⎟                                       \n",
       "β ̍       ⎝    β ̍ ⎠                                       "
      ]
     },
     "execution_count": 26,
     "metadata": {},
     "output_type": "execute_result"
    }
   ],
   "source": [
    "B = collect(expand(B.subs(rtheta,rth)),a)\n",
    "B"
   ]
  },
  {
   "cell_type": "code",
   "execution_count": 27,
   "metadata": {
    "collapsed": false,
    "scrolled": true
   },
   "outputs": [
    {
     "data": {
      "image/png": "[encoded data removed]",
      "text/latex": [
       "$$- \\frac{3 a^{4}}{{\\beta}'^{4}} + a^{3} \\left(- \\frac{12}{{\\beta}'^{2}} + \\frac{2}{{\\beta}'^{4}}\\right) + a^{2} \\left(-18 + \\frac{3 {\\gamma}'}{{\\beta}'^{2}} + \\frac{7}{{\\beta}'^{2}}\\right) + a \\left(- 12 {\\beta}'^{2} + 6 {\\gamma}' + 8 - \\frac{2 {\\gamma}'}{{\\beta}'^{2}}\\right) - 3 {\\beta}'^{4} + 3 {\\beta}'^{2} {\\gamma}' + 3 {\\beta}'^{2} - 3 {\\gamma}' + {\\rho}'$$"
      ],
      "text/plain": [
       "     4                                                                        \n",
       "  3⋅a     3 ⎛   12     2  ⎞    2 ⎛      3⋅γ ̍    7  ⎞     ⎛        2          \n",
       "- ──── + a ⋅⎜- ──── + ────⎟ + a ⋅⎜-18 + ───── + ────⎟ + a⋅⎜- 12⋅β ̍  + 6⋅γ ̍ +\n",
       "     4      ⎜     2      4⎟      ⎜          2      2⎟     ⎜                   \n",
       "  β ̍       ⎝  β ̍    β ̍ ⎠      ⎝       β ̍    β ̍ ⎠     ⎝                   \n",
       "\n",
       "                                                        \n",
       "     2⋅γ ̍⎞        4        2            2              \n",
       " 8 - ─────⎟ - 3⋅β ̍  + 3⋅β ̍ ⋅γ ̍ + 3⋅β ̍  - 3⋅γ ̍ + ρ ̍\n",
       "         2⎟                                             \n",
       "      β ̍ ⎠                                             "
      ]
     },
     "execution_count": 27,
     "metadata": {},
     "output_type": "execute_result"
    }
   ],
   "source": [
    "C = collect(expand(C.subs(rtheta,rth)),a)\n",
    "C"
   ]
  },
  {
   "cell_type": "code",
   "execution_count": 28,
   "metadata": {
    "collapsed": false
   },
   "outputs": [
    {
     "data": {
      "image/png": "[encoded data removed]",
      "text/latex": [
       "$$\\frac{a^{6}}{{\\beta}'^{4}} + a^{5} \\left(\\frac{6}{{\\beta}'^{2}} + \\frac{14}{3 {\\beta}'^{4}}\\right) + a^{4} \\left(15 + \\frac{44}{3 {\\beta}'^{2}} - \\frac{31}{9 {\\beta}'^{4}}\\right) + a^{3} \\left(20 {\\beta}'^{2} + 12 - \\frac{14 {\\gamma}'}{3 {\\beta}'^{2}} - \\frac{86}{9 {\\beta}'^{2}}\\right) + a^{2} \\left(15 {\\beta}'^{4} - \\frac{16 {\\beta}'^{2}}{3} - \\frac{22 {\\gamma}'}{3} - \\frac{43}{9} + \\frac{22 {\\gamma}'}{9 {\\beta}'^{2}}\\right) + a \\left(6 {\\beta}'^{6} - \\frac{34 {\\beta}'^{4}}{3} - \\frac{2 {\\gamma}'}{3} {\\beta}'^{2} + \\frac{16 {\\beta}'^{2}}{3} + \\frac{2 {\\gamma}'}{3} - \\frac{20 {\\rho}'}{9}\\right) + {\\beta}'^{8} - 4 {\\beta}'^{6} + 2 {\\beta}'^{4} {\\gamma}' + 4 {\\beta}'^{4} - 4 {\\beta}'^{2} {\\gamma}' + {\\gamma}'^{2}$$"
      ],
      "text/plain": [
       "  6                                                                           \n",
       " a      5 ⎛ 6       14  ⎞    4 ⎛       44       31  ⎞    3 ⎛      2        14⋅\n",
       "──── + a ⋅⎜──── + ──────⎟ + a ⋅⎜15 + ────── - ──────⎟ + a ⋅⎜20⋅β ̍  + 12 - ───\n",
       "   4      ⎜   2        4⎟      ⎜          2        4⎟      ⎜                  \n",
       "β ̍       ⎝β ̍    3⋅β ̍ ⎠      ⎝     3⋅β ̍    9⋅β ̍ ⎠      ⎝               3⋅β\n",
       "\n",
       "                   ⎛                2                       ⎞     ⎛           \n",
       "γ ̍     86  ⎞    2 ⎜      4   16⋅β ̍    22⋅γ ̍   43   22⋅γ ̍⎟     ⎜     6   34\n",
       "─── - ──────⎟ + a ⋅⎜15⋅β ̍  - ─────── - ────── - ── + ──────⎟ + a⋅⎜6⋅β ̍  - ──\n",
       "  2        2⎟      ⎜             3        3      9         2⎟     ⎝           \n",
       " ̍    9⋅β ̍ ⎠      ⎝                                  9⋅β ̍ ⎠                 \n",
       "\n",
       "    4        2             2                 ⎞                                \n",
       "⋅β ̍    2⋅β ̍ ⋅γ ̍   16⋅β ̍    2⋅γ ̍   20⋅ρ ̍⎟      8        6        4       \n",
       "───── - ────────── + ─────── + ───── - ──────⎟ + β ̍  - 4⋅β ̍  + 2⋅β ̍ ⋅γ ̍ + \n",
       " 3          3           3        3       9   ⎠                                \n",
       "                                                                              \n",
       "\n",
       "                          \n",
       "     4        2          2\n",
       "4⋅β ̍  - 4⋅β ̍ ⋅γ ̍ + γ ̍ \n",
       "                          \n",
       "                          "
      ]
     },
     "execution_count": 28,
     "metadata": {},
     "output_type": "execute_result"
    }
   ],
   "source": [
    "series(B**2-20*a*C/9,a,n=7)"
   ]
  },
  {
   "cell_type": "code",
   "execution_count": 31,
   "metadata": {
    "collapsed": false
   },
   "outputs": [
    {
     "data": {
      "image/png": "[encoded data removed]",
      "text/latex": [
       "$$a {\\theta}' + b {\\theta}'^{3} + c {\\theta}'^{5}$$"
      ],
      "text/plain": [
       "             3        5\n",
       "a⋅θ ̍ + b⋅θ ̍  + c⋅θ ̍ "
      ]
     },
     "execution_count": 31,
     "metadata": {},
     "output_type": "execute_result"
    }
   ],
   "source": [
    "Etrun = a*thetaprm+b*thetaprm**3+c*thetaprm**5\n",
    "Etrun"
   ]
  },
  {
   "cell_type": "code",
   "execution_count": 33,
   "metadata": {
    "collapsed": false
   },
   "outputs": [
    {
     "data": {
      "image/png": "[encoded data removed]",
      "text/latex": [
       "$$a {\\theta}' + {\\theta}'^{5} \\left(- \\frac{3 a^{4}}{{\\beta}'^{4}} + a^{3} \\left(- \\frac{12}{{\\beta}'^{2}} + \\frac{2}{{\\beta}'^{4}}\\right) + a^{2} \\left(-18 + \\frac{3 {\\gamma}'}{{\\beta}'^{2}} + \\frac{7}{{\\beta}'^{2}}\\right) + a \\left(- 12 {\\beta}'^{2} + 6 {\\gamma}' + 8 - \\frac{2 {\\gamma}'}{{\\beta}'^{2}}\\right) - 3 {\\beta}'^{4} + 3 {\\beta}'^{2} {\\gamma}' + 3 {\\beta}'^{2} - 3 {\\gamma}' + {\\rho}'\\right) + {\\theta}'^{3} \\left(\\frac{a^{3}}{{\\beta}'^{2}} + a^{2} \\left(3 - \\frac{1}{{\\beta}'^{2}}\\right) + a \\left(3 {\\beta}'^{2} - 3\\right) + {\\beta}'^{4} - 2 {\\beta}'^{2} + {\\gamma}'\\right)$$"
      ],
      "text/plain": [
       "             ⎛     4                                                          \n",
       "           5 ⎜  3⋅a     3 ⎛   12     2  ⎞    2 ⎛      3⋅γ ̍    7  ⎞     ⎛     \n",
       "a⋅θ ̍ + θ ̍ ⋅⎜- ──── + a ⋅⎜- ──── + ────⎟ + a ⋅⎜-18 + ───── + ────⎟ + a⋅⎜- 12⋅\n",
       "             ⎜     4      ⎜     2      4⎟      ⎜          2      2⎟     ⎜     \n",
       "             ⎝  β ̍       ⎝  β ̍    β ̍ ⎠      ⎝       β ̍    β ̍ ⎠     ⎝     \n",
       "\n",
       "                                                                      ⎞       \n",
       "   2               2⋅γ ̍⎞        4        2            2              ⎟      3\n",
       "β ̍  + 6⋅γ ̍ + 8 - ─────⎟ - 3⋅β ̍  + 3⋅β ̍ ⋅γ ̍ + 3⋅β ̍  - 3⋅γ ̍ + ρ ̍⎟ + θ ̍ \n",
       "                       2⎟                                             ⎟       \n",
       "                    β ̍ ⎠                                             ⎠       \n",
       "\n",
       " ⎛  3                                                        ⎞\n",
       " ⎜ a      2 ⎛     1  ⎞     ⎛     2    ⎞      4        2      ⎟\n",
       "⋅⎜──── + a ⋅⎜3 - ────⎟ + a⋅⎝3⋅β ̍  - 3⎠ + β ̍  - 2⋅β ̍  + γ ̍⎟\n",
       " ⎜   2      ⎜       2⎟                                       ⎟\n",
       " ⎝β ̍       ⎝    β ̍ ⎠                                       ⎠"
      ]
     },
     "execution_count": 33,
     "metadata": {},
     "output_type": "execute_result"
    }
   ],
   "source": [
    "collect(Etrun.subs([(b,B),(c,C)]),thetaprm)"
   ]
  },
  {
   "cell_type": "code",
   "execution_count": 24,
   "metadata": {
    "collapsed": false
   },
   "outputs": [
    {
     "data": {
      "image/png": "[encoded data removed]",
      "text/latex": [
       "$$\\left ( \\frac{\\sqrt{10}}{10 \\sqrt{c}} \\sqrt{- 3 b - \\sqrt{- 20 a c + 9 b^{2}}}, \\quad \\frac{\\sqrt{10}}{10 \\sqrt{c}} \\sqrt{- 3 b + \\sqrt{- 20 a c + 9 b^{2}}}\\right )$$"
      ],
      "text/plain": [
       "⎛           ____________________________             _________________________\n",
       "⎜          ╱           ________________             ╱           ______________\n",
       "⎜  ____   ╱           ╱              2      ____   ╱           ╱              \n",
       "⎜╲╱ 10 ⋅╲╱   -3⋅b - ╲╱  -20⋅a⋅c + 9⋅b     ╲╱ 10 ⋅╲╱   -3⋅b + ╲╱  -20⋅a⋅c + 9⋅b\n",
       "⎜───────────────────────────────────────, ────────────────────────────────────\n",
       "⎜                     ___                                      ___            \n",
       "⎝                10⋅╲╱ c                                  10⋅╲╱ c             \n",
       "\n",
       "___⎞\n",
       "__ ⎟\n",
       "2  ⎟\n",
       "   ⎟\n",
       "───⎟\n",
       "   ⎟\n",
       "   ⎠"
      ]
     },
     "execution_count": 24,
     "metadata": {},
     "output_type": "execute_result"
    }
   ],
   "source": [
    "theta_L = solve(Etrun.diff(thetaprm),thetaprm)[1]\n",
    "theta_U = solve(Etrun.diff(thetaprm),thetaprm)[3]\n",
    "theta_L,theta_U"
   ]
  },
  {
   "cell_type": "code",
   "execution_count": 25,
   "metadata": {
    "collapsed": false
   },
   "outputs": [
    {
     "data": {
      "image/png": "[encoded data removed]",
      "text/latex": [
       "$$\\left ( \\frac{\\sqrt{10}}{250 c^{\\frac{3}{2}}} \\sqrt{- 3 b + \\sqrt{- 20 a c + 9 b^{2}}} \\left(20 a c - 3 b^{2} + b \\sqrt{- 20 a c + 9 b^{2}}\\right), \\quad \\frac{\\sqrt{10}}{250 c^{\\frac{3}{2}}} \\sqrt{- 3 b - \\sqrt{- 20 a c + 9 b^{2}}} \\left(20 a c - 3 b^{2} - b \\sqrt{- 20 a c + 9 b^{2}}\\right)\\right )$$"
      ],
      "text/plain": [
       "⎛           ____________________________                                      \n",
       "⎜          ╱           ________________  ⎛                     _______________\n",
       "⎜  ____   ╱           ╱              2   ⎜            2       ╱              2\n",
       "⎜╲╱ 10 ⋅╲╱   -3⋅b + ╲╱  -20⋅a⋅c + 9⋅b   ⋅⎝20⋅a⋅c - 3⋅b  + b⋅╲╱  -20⋅a⋅c + 9⋅b \n",
       "⎜─────────────────────────────────────────────────────────────────────────────\n",
       "⎜                                         3/2                                 \n",
       "⎝                                    250⋅c                                    \n",
       "\n",
       "               ____________________________                                   \n",
       "_⎞            ╱           ________________  ⎛                     ____________\n",
       " ⎟    ____   ╱           ╱              2   ⎜            2       ╱            \n",
       " ⎠  ╲╱ 10 ⋅╲╱   -3⋅b - ╲╱  -20⋅a⋅c + 9⋅b   ⋅⎝20⋅a⋅c - 3⋅b  - b⋅╲╱  -20⋅a⋅c + 9\n",
       "──, ──────────────────────────────────────────────────────────────────────────\n",
       "                                             3/2                              \n",
       "                                        250⋅c                                 \n",
       "\n",
       "     ⎞\n",
       "____⎞⎟\n",
       "  2 ⎟⎟\n",
       "⋅b  ⎠⎟\n",
       "─────⎟\n",
       "     ⎟\n",
       "     ⎠"
      ]
     },
     "execution_count": 25,
     "metadata": {},
     "output_type": "execute_result"
    }
   ],
   "source": [
    "E_L = simplify(Etrun.subs(thetaprm,theta_U))\n",
    "E_U = simplify(Etrun.subs(thetaprm,theta_L))\n",
    "E_L,E_U"
   ]
  },
  {
   "cell_type": "markdown",
   "metadata": {},
   "source": [
    "###Solve for $E(c,p)$\n",
    "\n",
    "###$\\dfrac{\\partial f_{2}(c,p)}{\\partial p} = 0 = $"
   ]
  },
  {
   "cell_type": "code",
   "execution_count": 11,
   "metadata": {
    "collapsed": false
   },
   "outputs": [
    {
     "data": {
      "image/png": "[encoded data removed]",
      "text/latex": [
       "$$- 2.0 c^{2} e p - c \\gamma + p^{3} u_{p} + p r_{p}$$"
      ],
      "text/plain": [
       "             2              3            \n",
       "- -2.0⋅(-1)⋅c ⋅e⋅p - c⋅γ + p ⋅u_p + p⋅r_p"
      ]
     },
     "execution_count": 11,
     "metadata": {},
     "output_type": "execute_result"
    }
   ],
   "source": [
    "E_c = solve(f2.diff(p),E)[0]\n",
    "E_c"
   ]
  },
  {
   "cell_type": "markdown",
   "metadata": {},
   "source": [
    "###Solve for $p_{min}(c)$\n",
    "\n",
    "###$\\dfrac{\\partial f_{2}(c,p)}{\\partial c} = 0 = $"
   ]
  },
  {
   "cell_type": "code",
   "execution_count": 7,
   "metadata": {
    "collapsed": false
   },
   "outputs": [
    {
     "data": {
      "image/png": "[encoded data removed]",
      "text/latex": [
       "$$\\frac{1}{4 c e} \\left(- \\gamma + \\sqrt{8 c^{6} e v_{c} + 8 c^{4} e u_{c} + 8 c^{2} e r_{c} + \\gamma^{2}}\\right)$$"
      ],
      "text/plain": [
       "        ___________________________________________\n",
       "       ╱    6            4            2          2 \n",
       "-γ + ╲╱  8⋅c ⋅e⋅v_c + 8⋅c ⋅e⋅u_c + 8⋅c ⋅e⋅r_c + γ  \n",
       "───────────────────────────────────────────────────\n",
       "                       4⋅c⋅e                       "
      ]
     },
     "execution_count": 7,
     "metadata": {},
     "output_type": "execute_result"
    }
   ],
   "source": [
    "p_min = nsimplify(solve(f2.diff(c),p)[0])\n",
    "p_min"
   ]
  },
  {
   "cell_type": "markdown",
   "metadata": {},
   "source": [
    "###Plug $p_{min}(c)$ into $E(p,c)$:"
   ]
  },
  {
   "cell_type": "code",
   "execution_count": 8,
   "metadata": {
    "collapsed": false
   },
   "outputs": [
    {
     "data": {
      "image/png": "[encoded data removed]",
      "text/latex": [
       "$$- c \\gamma - \\frac{c}{2} \\left(- \\gamma + \\sqrt{8 c^{6} e v_{c} + 8 c^{4} e u_{c} + 8 c^{2} e r_{c} + \\gamma^{2}}\\right) + \\frac{r_{p}}{4 c e} \\left(- \\gamma + \\sqrt{8 c^{6} e v_{c} + 8 c^{4} e u_{c} + 8 c^{2} e r_{c} + \\gamma^{2}}\\right) + \\frac{u_{p}}{64 c^{3} e^{3}} \\left(- \\gamma + \\sqrt{8 c^{6} e v_{c} + 8 c^{4} e u_{c} + 8 c^{2} e r_{c} + \\gamma^{2}}\\right)^{3}$$"
      ],
      "text/plain": [
       "                                                                              \n",
       "         ⎛        ___________________________________________⎞       ⎛        \n",
       "         ⎜       ╱    6            4            2          2 ⎟       ⎜       ╱\n",
       "       c⋅⎝-γ + ╲╱  8⋅c ⋅e⋅v_c + 8⋅c ⋅e⋅u_c + 8⋅c ⋅e⋅r_c + γ  ⎠   r_p⋅⎝-γ + ╲╱ \n",
       "-c⋅γ - ─────────────────────────────────────────────────────── + ─────────────\n",
       "                                  2                                           \n",
       "                                                                              \n",
       "\n",
       "                                                                              \n",
       "___________________________________________⎞       ⎛        __________________\n",
       "    6            4            2          2 ⎟       ⎜       ╱    6            4\n",
       " 8⋅c ⋅e⋅v_c + 8⋅c ⋅e⋅u_c + 8⋅c ⋅e⋅r_c + γ  ⎠   u_p⋅⎝-γ + ╲╱  8⋅c ⋅e⋅v_c + 8⋅c \n",
       "──────────────────────────────────────────── + ───────────────────────────────\n",
       "             4⋅c⋅e                                                          3 \n",
       "                                                                        64⋅c ⋅\n",
       "\n",
       "                          3\n",
       "_________________________⎞ \n",
       "            2          2 ⎟ \n",
       "⋅e⋅u_c + 8⋅c ⋅e⋅r_c + γ  ⎠ \n",
       "───────────────────────────\n",
       " 3                         \n",
       "e                          "
      ]
     },
     "execution_count": 8,
     "metadata": {},
     "output_type": "execute_result"
    }
   ],
   "source": [
    "E_c = nsimplify(E_c.subs(p,p_min))\n",
    "E_c"
   ]
  },
  {
   "cell_type": "markdown",
   "metadata": {},
   "source": [
    "###Series expand $E(p_{min}(c),c)$ in powers of $c$ to order 7:"
   ]
  },
  {
   "cell_type": "code",
   "execution_count": 9,
   "metadata": {
    "collapsed": false
   },
   "outputs": [
    {
     "data": {
      "image/png": "[encoded data removed]",
      "text/latex": [
       "$$c \\left(- \\gamma + \\frac{r_{c} r_{p}}{\\gamma}\\right) + c^{3} \\left(- \\frac{2 e}{\\gamma} r_{c} - \\frac{2 e}{\\gamma^{3}} r_{c}^{2} r_{p} + \\frac{r_{p} u_{c}}{\\gamma} + \\frac{r_{c}^{3} u_{p}}{\\gamma^{3}}\\right) + c^{5} \\left(\\frac{4 e^{2}}{\\gamma^{3}} r_{c}^{2} + \\frac{8 r_{p}}{\\gamma^{5}} e^{2} r_{c}^{3} - \\frac{2 e}{\\gamma} u_{c} - \\frac{4 e}{\\gamma^{3}} r_{c} r_{p} u_{c} - \\frac{6 e}{\\gamma^{5}} r_{c}^{4} u_{p} + \\frac{r_{p} v_{c}}{\\gamma} + \\frac{3 u_{c}}{\\gamma^{3}} r_{c}^{2} u_{p}\\right) + \\mathcal{O}\\left(c^{7}\\right)$$"
      ],
      "text/plain": [
       "                      ⎛                   2                    3    ⎞      ⎛  \n",
       "  ⎛     r_c⋅r_p⎞    3 ⎜  2⋅e⋅r_c   2⋅e⋅r_c ⋅r_p   r_p⋅u_c   r_c ⋅u_p⎟    5 ⎜4⋅\n",
       "c⋅⎜-γ + ───────⎟ + c ⋅⎜- ─────── - ──────────── + ─────── + ────────⎟ + c ⋅⎜──\n",
       "  ⎝        γ   ⎠      ⎜     γ            3           γ          3   ⎟      ⎜  \n",
       "                      ⎝                 γ                      γ    ⎠      ⎝  \n",
       "\n",
       " 2    2      2    3                                          4                \n",
       "e ⋅r_c    8⋅e ⋅r_c ⋅r_p   2⋅e⋅u_c   4⋅e⋅r_c⋅r_p⋅u_c   6⋅e⋅r_c ⋅u_p   r_p⋅v_c  \n",
       "─────── + ───────────── - ─────── - ─────────────── - ──────────── + ─────── +\n",
       "   3             5           γ              3               5           γ     \n",
       "  γ             γ                          γ               γ                  \n",
       "\n",
       "      2        ⎞        \n",
       " 3⋅r_c ⋅u_c⋅u_p⎟    ⎛ 7⎞\n",
       " ──────────────⎟ + O⎝c ⎠\n",
       "        3      ⎟        \n",
       "       γ       ⎠        "
      ]
     },
     "execution_count": 9,
     "metadata": {},
     "output_type": "execute_result"
    }
   ],
   "source": [
    "series(E_c,c,n=7)"
   ]
  },
  {
   "cell_type": "code",
   "execution_count": 10,
   "metadata": {
    "collapsed": true
   },
   "outputs": [],
   "source": [
    "rc = (gamma**2+gamma*a)/r_p\n",
    "\n",
    "B = (r_p*u_c*gamma**2+r_c**3*u_p-2*e*r_c*gamma**2-2*e*r_c**2*r_p)/gamma**3\n",
    "\n",
    "Q = (4*e**2*r_c**2*gamma**2+8*r_p*e**2*r_c**3-2*e*u_c*gamma**4\n",
    "     -4*e*r_c*r_p*u_c*gamma**2-6*e*r_c**4*u_p+r_p*v_c*gamma**4\n",
    "     +3*u_c*r_c**2*u_p*gamma**2)/gamma**5"
   ]
  },
  {
   "cell_type": "code",
   "execution_count": 11,
   "metadata": {
    "collapsed": false
   },
   "outputs": [
    {
     "data": {
      "image/png": "[encoded data removed]",
      "text/latex": [
       "$$\\frac{a^{3} u_{p}}{r_{p}^{3}} + a^{2} \\left(- \\frac{2 e}{\\gamma r_{p}} + \\frac{3 u_{p}}{r_{p}^{3}} \\gamma\\right) + a \\left(- \\frac{6 e}{r_{p}} + \\frac{3 u_{p}}{r_{p}^{3}} \\gamma^{2}\\right) - \\frac{4 e}{r_{p}} \\gamma + \\frac{\\gamma^{3} u_{p}}{r_{p}^{3}} + \\frac{r_{p} u_{c}}{\\gamma}$$"
      ],
      "text/plain": [
       " 3                                  ⎛           2    ⎞            3           \n",
       "a ⋅u_p    2 ⎛   2⋅e    3⋅γ⋅u_p⎞     ⎜  6⋅e   3⋅γ ⋅u_p⎟   4⋅e⋅γ   γ ⋅u_p   r_p⋅\n",
       "────── + a ⋅⎜- ───── + ───────⎟ + a⋅⎜- ─── + ────────⎟ - ───── + ────── + ────\n",
       "    3       ⎜  γ⋅r_p        3 ⎟     ⎜  r_p        3  ⎟    r_p        3       γ\n",
       " r_p        ⎝            r_p  ⎠     ⎝          r_p   ⎠            r_p         \n",
       "\n",
       "   \n",
       "u_c\n",
       "───\n",
       "   \n",
       "   "
      ]
     },
     "execution_count": 11,
     "metadata": {},
     "output_type": "execute_result"
    }
   ],
   "source": [
    "collect(expand(B.subs(r_c,rc)),a)"
   ]
  },
  {
   "cell_type": "code",
   "execution_count": 12,
   "metadata": {
    "collapsed": false
   },
   "outputs": [
    {
     "data": {
      "image/png": "[encoded data removed]",
      "text/latex": [
       "$$- \\frac{6 a^{4} e u_{p}}{\\gamma r_{p}^{4}} + a^{3} \\left(\\frac{8 e^{2}}{\\gamma^{2} r_{p}^{2}} - \\frac{24 e}{r_{p}^{4}} u_{p}\\right) + a^{2} \\left(\\frac{28 e^{2}}{\\gamma r_{p}^{2}} - \\frac{36 e}{r_{p}^{4}} \\gamma u_{p} + \\frac{3 u_{c} u_{p}}{\\gamma r_{p}^{2}}\\right) + a \\left(\\frac{32 e^{2}}{r_{p}^{2}} - \\frac{24 e}{r_{p}^{4}} \\gamma^{2} u_{p} - \\frac{4 e}{\\gamma^{2}} u_{c} + \\frac{6 u_{c}}{r_{p}^{2}} u_{p}\\right) + \\frac{12 \\gamma}{r_{p}^{2}} e^{2} - \\frac{6 e}{r_{p}^{4}} \\gamma^{3} u_{p} - \\frac{6 e}{\\gamma} u_{c} + \\frac{3 u_{c}}{r_{p}^{2}} \\gamma u_{p} + \\frac{r_{p} v_{c}}{\\gamma}$$"
      ],
      "text/plain": [
       "     4            ⎛     2            ⎞      ⎛    2                          ⎞ \n",
       "  6⋅a ⋅e⋅u_p    3 ⎜  8⋅e     24⋅e⋅u_p⎟    2 ⎜28⋅e     36⋅e⋅γ⋅u_p   3⋅u_c⋅u_p⎟ \n",
       "- ────────── + a ⋅⎜─────── - ────────⎟ + a ⋅⎜────── - ────────── + ─────────⎟ \n",
       "         4        ⎜ 2    2        4  ⎟      ⎜     2         4             2 ⎟ \n",
       "    γ⋅r_p         ⎝γ ⋅r_p      r_p   ⎠      ⎝γ⋅r_p       r_p         γ⋅r_p  ⎠ \n",
       "\n",
       "    ⎛    2         2                          ⎞       2          3            \n",
       "    ⎜32⋅e    24⋅e⋅γ ⋅u_p   4⋅e⋅u_c   6⋅u_c⋅u_p⎟   12⋅e ⋅γ   6⋅e⋅γ ⋅u_p   6⋅e⋅u\n",
       "+ a⋅⎜───── - ─────────── - ─────── + ─────────⎟ + ─────── - ────────── - ─────\n",
       "    ⎜    2          4          2           2  ⎟        2          4         γ \n",
       "    ⎝ r_p        r_p          γ         r_p   ⎠     r_p        r_p            \n",
       "\n",
       "                          \n",
       "_c   3⋅γ⋅u_c⋅u_p   r_p⋅v_c\n",
       "── + ─────────── + ───────\n",
       "            2         γ   \n",
       "         r_p              "
      ]
     },
     "execution_count": 12,
     "metadata": {},
     "output_type": "execute_result"
    }
   ],
   "source": [
    "collect(expand(Q.subs(r_c,rc)),a)"
   ]
  },
  {
   "cell_type": "code",
   "execution_count": 13,
   "metadata": {
    "collapsed": false
   },
   "outputs": [],
   "source": [
    "b0 = (gamma**6*u_p-4*e*gamma**4*r_p**2+u_c*gamma**2*r_p**4)/(gamma*r_p)**3\n",
    "\n",
    "b1 = (3*u_p*gamma**5-6*e*gamma**3*r_p**2)/(gamma*r_p)**3\n",
    "\n",
    "b2 = (3*u_p*gamma**4-2*e*gamma**2*r_p**2)/(gamma*r_p)**3\n",
    "\n",
    "b3 = u_p/r_p**3\n",
    "\n",
    "q0 = (-6*e*u_p*gamma**8*r_p+3*gamma**6*r_p**3*(4*e**2+u_c*u_p)-6*e*u_c*r_p**5*gamma**4+v_c*r_p**6*gamma**4)/(gamma*r_p)**5\n",
    "\n",
    "q1 = (-24*e*u_p*gamma**7*r_p+2*gamma**5*r_p**3*(16*e**2+3*u_c*u_p)-4*e*u_c*r_p**5*gamma**3)/(gamma*r_p)**5\n",
    "\n",
    "q2 = (-36*e*u_p*gamma**6*r_p+gamma**4*r_p**3*(28*e**2+3*u_c*u_p))/(gamma*r_p)**5\n",
    "\n",
    "q3 = (-24*e*u_p*gamma**5*r_p+8*e**2*gamma**3*r_p**3)/(gamma*r_p)**5\n",
    "\n",
    "q4 = -6*e*u_p*gamma**4*r_p/(gamma*r_p)**5\n",
    "\n",
    "# q5 = v_p/r_p**5"
   ]
  },
  {
   "cell_type": "code",
   "execution_count": 14,
   "metadata": {
    "collapsed": false
   },
   "outputs": [
    {
     "data": {
      "image/png": "[encoded data removed]",
      "text/latex": [
       "$$a^{3} b_{3} + \\frac{a^{2}}{\\gamma^{3} r_{p}^{3}} \\left(- 2 e \\gamma^{2} r_{p}^{2} + 3 \\gamma^{4} u_{p}\\right) + \\frac{a}{\\gamma^{3} r_{p}^{3}} \\left(- 6 e \\gamma^{3} r_{p}^{2} + 3 \\gamma^{5} u_{p}\\right) + b_{0}$$"
      ],
      "text/plain": [
       "         2 ⎛       2    2      4    ⎞     ⎛       3    2      5    ⎞     \n",
       " 3      a ⋅⎝- 2⋅e⋅γ ⋅r_p  + 3⋅γ ⋅u_p⎠   a⋅⎝- 6⋅e⋅γ ⋅r_p  + 3⋅γ ⋅u_p⎠     \n",
       "a ⋅b₃ + ───────────────────────────── + ──────────────────────────── + b₀\n",
       "                    3    3                         3    3                \n",
       "                   γ ⋅r_p                         γ ⋅r_p                 "
      ]
     },
     "execution_count": 14,
     "metadata": {},
     "output_type": "execute_result"
    }
   ],
   "source": [
    "b_0+b1*a+b2*a**2+b_3*a**3"
   ]
  },
  {
   "cell_type": "code",
   "execution_count": 15,
   "metadata": {
    "collapsed": false
   },
   "outputs": [
    {
     "data": {
      "image/png": "[encoded data removed]",
      "text/latex": [
       "$$- \\frac{6 a^{4} e u_{p}}{\\gamma r_{p}^{4}} + \\frac{a^{3}}{\\gamma^{5} r_{p}^{5}} \\left(8 e^{2} \\gamma^{3} r_{p}^{3} - 24 e \\gamma^{5} r_{p} u_{p}\\right) + \\frac{a^{2}}{\\gamma^{5} r_{p}^{5}} \\left(- 36 e \\gamma^{6} r_{p} u_{p} + \\gamma^{4} r_{p}^{3} \\left(28 e^{2} + 3 u_{c} u_{p}\\right)\\right) + \\frac{a}{\\gamma^{5} r_{p}^{5}} \\left(- 24 e \\gamma^{7} r_{p} u_{p} - 4 e \\gamma^{3} r_{p}^{5} u_{c} + 2 \\gamma^{5} r_{p}^{3} \\left(16 e^{2} + 3 u_{c} u_{p}\\right)\\right) + \\frac{1}{\\gamma^{5} r_{p}^{5}} \\left(- 6 e \\gamma^{8} r_{p} u_{p} - 6 e \\gamma^{4} r_{p}^{5} u_{c} + 3 \\gamma^{6} r_{p}^{3} \\left(4 e^{2} + u_{c} u_{p}\\right) + \\gamma^{4} r_{p}^{6} v_{c}\\right)$$"
      ],
      "text/plain": [
       "     4          3 ⎛   2  3    3         5        ⎞    2 ⎛        6            \n",
       "  6⋅a ⋅e⋅u_p   a ⋅⎝8⋅e ⋅γ ⋅r_p  - 24⋅e⋅γ ⋅r_p⋅u_p⎠   a ⋅⎝- 36⋅e⋅γ ⋅r_p⋅u_p + γ\n",
       "- ────────── + ─────────────────────────────────── + ─────────────────────────\n",
       "         4                    5    5                                        5 \n",
       "    γ⋅r_p                    γ ⋅r_p                                        γ ⋅\n",
       "\n",
       "4    3 ⎛    2            ⎞⎞     ⎛        7                3    5          5   \n",
       " ⋅r_p ⋅⎝28⋅e  + 3⋅u_c⋅u_p⎠⎠   a⋅⎝- 24⋅e⋅γ ⋅r_p⋅u_p - 4⋅e⋅γ ⋅r_p ⋅u_c + 2⋅γ ⋅r_\n",
       "─────────────────────────── + ────────────────────────────────────────────────\n",
       "   5                                                           5    5         \n",
       "r_p                                                           γ ⋅r_p          \n",
       "\n",
       " 3 ⎛    2            ⎞⎞          8                4    5          6    3 ⎛   2\n",
       "p ⋅⎝16⋅e  + 3⋅u_c⋅u_p⎠⎠   - 6⋅e⋅γ ⋅r_p⋅u_p - 6⋅e⋅γ ⋅r_p ⋅u_c + 3⋅γ ⋅r_p ⋅⎝4⋅e \n",
       "─────────────────────── + ────────────────────────────────────────────────────\n",
       "                                                              5    5          \n",
       "                                                             γ ⋅r_p           \n",
       "\n",
       "          ⎞    4    6    \n",
       " + u_c⋅u_p⎠ + γ ⋅r_p ⋅v_c\n",
       "─────────────────────────\n",
       "                         \n",
       "                         "
      ]
     },
     "execution_count": 15,
     "metadata": {},
     "output_type": "execute_result"
    }
   ],
   "source": [
    "q0+q1*a+q2*a**2+q3*a**3+q4*a**4"
   ]
  },
  {
   "cell_type": "code",
   "execution_count": 16,
   "metadata": {
    "collapsed": true
   },
   "outputs": [],
   "source": [
    "uc = solve(b0-b_0,u_c)[0]\n",
    "up = solve(b3-b_3,u_p)[0]\n",
    "vc = solve(q0-q_0,v_c)[0]"
   ]
  },
  {
   "cell_type": "code",
   "execution_count": 17,
   "metadata": {
    "collapsed": true
   },
   "outputs": [],
   "source": [
    "replacements = [(u_p,up),(u_c,uc)]"
   ]
  },
  {
   "cell_type": "code",
   "execution_count": 18,
   "metadata": {
    "collapsed": false
   },
   "outputs": [
    {
     "data": {
      "image/png": "[encoded data removed]",
      "text/latex": [
       "$$\\frac{\\gamma}{r_{p}^{2}} \\left(b_{0} r_{p} - b_{3} \\gamma^{3} r_{p} + 4 e \\gamma\\right)$$"
      ],
      "text/plain": [
       "  ⎛             3            ⎞\n",
       "γ⋅⎝b₀⋅r_p - b₃⋅γ ⋅r_p + 4⋅e⋅γ⎠\n",
       "──────────────────────────────\n",
       "                2             \n",
       "             r_p              "
      ]
     },
     "execution_count": 18,
     "metadata": {},
     "output_type": "execute_result"
    }
   ],
   "source": [
    "uc = simplify(uc.subs([i for i in replacements]))\n",
    "uc"
   ]
  },
  {
   "cell_type": "code",
   "execution_count": 19,
   "metadata": {
    "collapsed": false
   },
   "outputs": [
    {
     "data": {
      "image/png": "[encoded data removed]",
      "text/latex": [
       "$$b_{3} r_{p}^{3}$$"
      ],
      "text/plain": [
       "      3\n",
       "b₃⋅r_p "
      ]
     },
     "execution_count": 19,
     "metadata": {},
     "output_type": "execute_result"
    }
   ],
   "source": [
    "up"
   ]
  },
  {
   "cell_type": "code",
   "execution_count": 21,
   "metadata": {
    "collapsed": false
   },
   "outputs": [
    {
     "data": {
      "image/png": "[encoded data removed]",
      "text/latex": [
       "$$\\frac{\\gamma}{r_{p}^{3}} \\left(- 3 b_{0} b_{3} \\gamma^{2} r_{p}^{2} + 6 b_{0} e r_{p} + 3 b_{3}^{2} \\gamma^{5} r_{p}^{2} - 12 b_{3} e \\gamma^{3} r_{p} + 12 e^{2} \\gamma + q_{0} r_{p}^{2}\\right)$$"
      ],
      "text/plain": [
       "  ⎛           2    2                    2  5    2            3           2    \n",
       "γ⋅⎝- 3⋅b₀⋅b₃⋅γ ⋅r_p  + 6⋅b₀⋅e⋅r_p + 3⋅b₃ ⋅γ ⋅r_p  - 12⋅b₃⋅e⋅γ ⋅r_p + 12⋅e ⋅γ +\n",
       "──────────────────────────────────────────────────────────────────────────────\n",
       "                                             3                                \n",
       "                                          r_p                                 \n",
       "\n",
       "       2⎞\n",
       " q₀⋅r_p ⎠\n",
       "─────────\n",
       "         \n",
       "         "
      ]
     },
     "execution_count": 21,
     "metadata": {},
     "output_type": "execute_result"
    }
   ],
   "source": [
    "vc = simplify(vc.subs([i for i in replacements]))\n",
    "vc"
   ]
  },
  {
   "cell_type": "markdown",
   "metadata": {},
   "source": [
    "###$b_0$"
   ]
  },
  {
   "cell_type": "code",
   "execution_count": 29,
   "metadata": {
    "collapsed": false
   },
   "outputs": [
    {
     "data": {
      "image/png": "[encoded data removed]",
      "text/latex": [
       "$$\\frac{1}{\\gamma^{3} r_{p}^{3}} \\left(- 4 e \\gamma^{4} r_{p}^{2} + \\gamma^{6} u_{p} + \\gamma^{2} r_{p}^{4} u_{c}\\right)$$"
      ],
      "text/plain": [
       "       4    2    6        2    4    \n",
       "- 4⋅e⋅γ ⋅r_p  + γ ⋅u_p + γ ⋅r_p ⋅u_c\n",
       "────────────────────────────────────\n",
       "               3    3               \n",
       "              γ ⋅r_p                "
      ]
     },
     "execution_count": 29,
     "metadata": {},
     "output_type": "execute_result"
    }
   ],
   "source": [
    "b0"
   ]
  },
  {
   "cell_type": "markdown",
   "metadata": {},
   "source": [
    "###$b_1$"
   ]
  },
  {
   "cell_type": "code",
   "execution_count": 30,
   "metadata": {
    "collapsed": false
   },
   "outputs": [
    {
     "data": {
      "image/png": "[encoded data removed]",
      "text/latex": [
       "$$3 b_{3} \\gamma^{2} - \\frac{6 e}{r_{p}}$$"
      ],
      "text/plain": [
       "      2   6⋅e\n",
       "3⋅b₃⋅γ  - ───\n",
       "          r_p"
      ]
     },
     "execution_count": 30,
     "metadata": {},
     "output_type": "execute_result"
    }
   ],
   "source": [
    "b1 = simplify(b1.subs(u_p,up))\n",
    "b1"
   ]
  },
  {
   "cell_type": "markdown",
   "metadata": {},
   "source": [
    "###$b_2$"
   ]
  },
  {
   "cell_type": "code",
   "execution_count": 31,
   "metadata": {
    "collapsed": false
   },
   "outputs": [
    {
     "data": {
      "image/png": "[encoded data removed]",
      "text/latex": [
       "$$3 b_{3} \\gamma - \\frac{2 e}{\\gamma r_{p}}$$"
      ],
      "text/plain": [
       "          2⋅e \n",
       "3⋅b₃⋅γ - ─────\n",
       "         γ⋅r_p"
      ]
     },
     "execution_count": 31,
     "metadata": {},
     "output_type": "execute_result"
    }
   ],
   "source": [
    "b2 = simplify(b2.subs(u_p,up))\n",
    "b2"
   ]
  },
  {
   "cell_type": "markdown",
   "metadata": {},
   "source": [
    "###$b_3$"
   ]
  },
  {
   "cell_type": "code",
   "execution_count": 32,
   "metadata": {
    "collapsed": false
   },
   "outputs": [
    {
     "data": {
      "image/png": "[encoded data removed]",
      "text/latex": [
       "$$\\frac{u_{p}}{r_{p}^{3}}$$"
      ],
      "text/plain": [
       "u_p \n",
       "────\n",
       "   3\n",
       "r_p "
      ]
     },
     "execution_count": 32,
     "metadata": {},
     "output_type": "execute_result"
    }
   ],
   "source": [
    "b3"
   ]
  },
  {
   "cell_type": "markdown",
   "metadata": {},
   "source": [
    "###$B(a)$ i.t.o. $b_3$"
   ]
  },
  {
   "cell_type": "code",
   "execution_count": 33,
   "metadata": {
    "collapsed": false
   },
   "outputs": [
    {
     "data": {
      "image/png": "[encoded data removed]",
      "text/latex": [
       "$$a^{3} b_{3} + a^{2} \\left(3 b_{3} \\gamma - \\frac{2 e}{\\gamma r_{p}}\\right) + a \\left(3 b_{3} \\gamma^{2} - \\frac{6 e}{r_{p}}\\right) + b_{0}$$"
      ],
      "text/plain": [
       " 3       2 ⎛          2⋅e ⎞     ⎛      2   6⋅e⎞     \n",
       "a ⋅b₃ + a ⋅⎜3⋅b₃⋅γ - ─────⎟ + a⋅⎜3⋅b₃⋅γ  - ───⎟ + b₀\n",
       "           ⎝         γ⋅r_p⎠     ⎝          r_p⎠     "
      ]
     },
     "execution_count": 33,
     "metadata": {},
     "output_type": "execute_result"
    }
   ],
   "source": [
    "B_a = b_0+b1*a+b2*a**2+b_3*a**3\n",
    "B_a"
   ]
  },
  {
   "cell_type": "markdown",
   "metadata": {},
   "source": [
    "###$q_0$"
   ]
  },
  {
   "cell_type": "code",
   "execution_count": 34,
   "metadata": {
    "collapsed": false
   },
   "outputs": [
    {
     "data": {
      "image/png": "[encoded data removed]",
      "text/latex": [
       "$$\\frac{1}{\\gamma^{5} r_{p}^{5}} \\left(- 6 e \\gamma^{8} r_{p} u_{p} - 6 e \\gamma^{4} r_{p}^{5} u_{c} + 3 \\gamma^{6} r_{p}^{3} \\left(4 e^{2} + u_{c} u_{p}\\right) + \\gamma^{4} r_{p}^{6} v_{c}\\right)$$"
      ],
      "text/plain": [
       "       8                4    5          6    3 ⎛   2          ⎞    4    6    \n",
       "- 6⋅e⋅γ ⋅r_p⋅u_p - 6⋅e⋅γ ⋅r_p ⋅u_c + 3⋅γ ⋅r_p ⋅⎝4⋅e  + u_c⋅u_p⎠ + γ ⋅r_p ⋅v_c\n",
       "─────────────────────────────────────────────────────────────────────────────\n",
       "                                    5    5                                   \n",
       "                                   γ ⋅r_p                                    "
      ]
     },
     "execution_count": 34,
     "metadata": {},
     "output_type": "execute_result"
    }
   ],
   "source": [
    "q0"
   ]
  },
  {
   "cell_type": "markdown",
   "metadata": {},
   "source": [
    "###$q_1$"
   ]
  },
  {
   "cell_type": "code",
   "execution_count": 42,
   "metadata": {
    "collapsed": false
   },
   "outputs": [
    {
     "data": {
      "image/png": "[encoded data removed]",
      "text/latex": [
       "$$6 b_{0} b_{3} \\gamma - \\frac{4 b_{0} e}{\\gamma r_{p}} - 6 b_{3}^{2} \\gamma^{4} + \\frac{4 b_{3}}{r_{p}} e \\gamma^{2} + \\frac{16 e^{2}}{r_{p}^{2}}$$"
      ],
      "text/plain": [
       "                                        2       2\n",
       "            4⋅b₀⋅e       2  4   4⋅b₃⋅e⋅γ    16⋅e \n",
       "6⋅b₀⋅b₃⋅γ - ────── - 6⋅b₃ ⋅γ  + ───────── + ─────\n",
       "            γ⋅r_p                  r_p          2\n",
       "                                             r_p "
      ]
     },
     "execution_count": 42,
     "metadata": {},
     "output_type": "execute_result"
    }
   ],
   "source": [
    "q1 = simplify(q1.subs([i for i in replacements]))\n",
    "q1"
   ]
  },
  {
   "cell_type": "markdown",
   "metadata": {},
   "source": [
    "###$q_2$"
   ]
  },
  {
   "cell_type": "code",
   "execution_count": 41,
   "metadata": {
    "collapsed": false
   },
   "outputs": [
    {
     "data": {
      "image/png": "[encoded data removed]",
      "text/latex": [
       "$$3 b_{0} b_{3} - 3 b_{3}^{2} \\gamma^{3} - \\frac{24 b_{3}}{r_{p}} e \\gamma + \\frac{28 e^{2}}{\\gamma r_{p}^{2}}$$"
      ],
      "text/plain": [
       "                                     2 \n",
       "              2  3   24⋅b₃⋅e⋅γ   28⋅e  \n",
       "3⋅b₀⋅b₃ - 3⋅b₃ ⋅γ  - ───────── + ──────\n",
       "                        r_p           2\n",
       "                                 γ⋅r_p "
      ]
     },
     "execution_count": 41,
     "metadata": {},
     "output_type": "execute_result"
    }
   ],
   "source": [
    "q2 = simplify(q2.subs([i for i in replacements]))\n",
    "q2"
   ]
  },
  {
   "cell_type": "markdown",
   "metadata": {},
   "source": [
    "###$q_3$"
   ]
  },
  {
   "cell_type": "code",
   "execution_count": 37,
   "metadata": {
    "collapsed": false
   },
   "outputs": [
    {
     "data": {
      "image/png": "[encoded data removed]",
      "text/latex": [
       "$$- \\frac{24 b_{3}}{r_{p}} e + \\frac{8 e^{2}}{\\gamma^{2} r_{p}^{2}}$$"
      ],
      "text/plain": [
       "                 2 \n",
       "  24⋅b₃⋅e     8⋅e  \n",
       "- ─────── + ───────\n",
       "    r_p      2    2\n",
       "            γ ⋅r_p "
      ]
     },
     "execution_count": 37,
     "metadata": {},
     "output_type": "execute_result"
    }
   ],
   "source": [
    "q3 = simplify(q3.subs([i for i in replacements]))\n",
    "q3"
   ]
  },
  {
   "cell_type": "markdown",
   "metadata": {},
   "source": [
    "###$q_4$"
   ]
  },
  {
   "cell_type": "code",
   "execution_count": 38,
   "metadata": {
    "collapsed": false
   },
   "outputs": [
    {
     "data": {
      "image/png": "[encoded data removed]",
      "text/latex": [
       "$$- \\frac{6 b_{3} e}{\\gamma r_{p}}$$"
      ],
      "text/plain": [
       "-6⋅b₃⋅e \n",
       "────────\n",
       " γ⋅r_p  "
      ]
     },
     "execution_count": 38,
     "metadata": {},
     "output_type": "execute_result"
    }
   ],
   "source": [
    "q4 = simplify(q4.subs([i for i in replacements]))\n",
    "q4"
   ]
  },
  {
   "cell_type": "markdown",
   "metadata": {},
   "source": [
    "###$Q(a)$ i.t.o. $b_0$, $b_3$, $q_0$"
   ]
  },
  {
   "cell_type": "code",
   "execution_count": 43,
   "metadata": {
    "collapsed": false
   },
   "outputs": [
    {
     "data": {
      "image/png": "[encoded data removed]",
      "text/latex": [
       "$$- \\frac{6 a^{4} b_{3} e}{\\gamma r_{p}} + a^{3} \\left(- \\frac{24 b_{3}}{r_{p}} e + \\frac{8 e^{2}}{\\gamma^{2} r_{p}^{2}}\\right) + a^{2} \\left(3 b_{0} b_{3} - 3 b_{3}^{2} \\gamma^{3} - \\frac{24 b_{3}}{r_{p}} e \\gamma + \\frac{28 e^{2}}{\\gamma r_{p}^{2}}\\right) + a \\left(6 b_{0} b_{3} \\gamma - \\frac{4 b_{0} e}{\\gamma r_{p}} - 6 b_{3}^{2} \\gamma^{4} + \\frac{4 b_{3}}{r_{p}} e \\gamma^{2} + \\frac{16 e^{2}}{r_{p}^{2}}\\right) + q_{0}$$"
      ],
      "text/plain": [
       "     4           ⎛                 2 ⎞      ⎛                                 \n",
       "  6⋅a ⋅b₃⋅e    3 ⎜  24⋅b₃⋅e     8⋅e  ⎟    2 ⎜              2  3   24⋅b₃⋅e⋅γ   \n",
       "- ───────── + a ⋅⎜- ─────── + ───────⎟ + a ⋅⎜3⋅b₀⋅b₃ - 3⋅b₃ ⋅γ  - ───────── + \n",
       "    γ⋅r_p        ⎜    r_p      2    2⎟      ⎜                        r_p      \n",
       "                 ⎝            γ ⋅r_p ⎠      ⎝                                 \n",
       "\n",
       "    2 ⎞     ⎛                                        2       2⎞     \n",
       "28⋅e  ⎟     ⎜            4⋅b₀⋅e       2  4   4⋅b₃⋅e⋅γ    16⋅e ⎟     \n",
       "──────⎟ + a⋅⎜6⋅b₀⋅b₃⋅γ - ────── - 6⋅b₃ ⋅γ  + ───────── + ─────⎟ + q₀\n",
       "     2⎟     ⎜            γ⋅r_p                  r_p          2⎟     \n",
       "γ⋅r_p ⎠     ⎝                                             r_p ⎠     "
      ]
     },
     "execution_count": 43,
     "metadata": {},
     "output_type": "execute_result"
    }
   ],
   "source": [
    "Q_a = q_0+q1*a+q2*a**2+q3*a**3+q4*a**4\n",
    "Q_a"
   ]
  },
  {
   "cell_type": "markdown",
   "metadata": {},
   "source": [
    "###$R(a)$"
   ]
  },
  {
   "cell_type": "code",
   "execution_count": 45,
   "metadata": {
    "collapsed": false
   },
   "outputs": [
    {
     "data": {
      "image/png": "[encoded data removed]",
      "text/latex": [
       "$$a^{6} b_{3}^{2} + a^{5} \\left(6 b_{3}^{2} \\gamma + \\frac{28 b_{3} e}{3 \\gamma r_{p}}\\right) + a^{4} \\left(15 b_{3}^{2} \\gamma^{2} + \\frac{88 b_{3} e}{3 r_{p}} - \\frac{124 e^{2}}{9 \\gamma^{2} r_{p}^{2}}\\right) + a^{3} \\left(- \\frac{14 b_{0}}{3} b_{3} + \\frac{74 b_{3}^{2}}{3} \\gamma^{3} + \\frac{16 b_{3} e \\gamma}{3 r_{p}} - \\frac{344 e^{2}}{9 \\gamma r_{p}^{2}}\\right) + a^{2} \\left(- \\frac{22 b_{0}}{3} b_{3} \\gamma + \\frac{44 b_{0} e}{9 \\gamma r_{p}} + \\frac{67 b_{3}^{2}}{3} \\gamma^{4} - \\frac{404 b_{3} e \\gamma^{2}}{9 r_{p}} + \\frac{4 e^{2}}{9 r_{p}^{2}}\\right) + a \\left(6 b_{0} b_{3} \\gamma^{2} - \\frac{12 b_{0}}{r_{p}} e - \\frac{20 q_{0}}{9}\\right) + b_{0}^{2}$$"
      ],
      "text/plain": [
       "                                     ⎛                             2 ⎞      ⎛ \n",
       " 6   2    5 ⎛    2     28⋅b₃⋅e⎞    4 ⎜     2  2   88⋅b₃⋅e     124⋅e  ⎟    3 ⎜ \n",
       "a ⋅b₃  + a ⋅⎜6⋅b₃ ⋅γ + ───────⎟ + a ⋅⎜15⋅b₃ ⋅γ  + ─────── - ─────────⎟ + a ⋅⎜-\n",
       "            ⎝          3⋅γ⋅r_p⎠      ⎜             3⋅r_p       2    2⎟      ⎜ \n",
       "                                     ⎝                      9⋅γ ⋅r_p ⎠      ⎝ \n",
       "\n",
       "                 2  3                     2 ⎞      ⎛                          \n",
       " 14⋅b₀⋅b₃   74⋅b₃ ⋅γ    16⋅b₃⋅e⋅γ    344⋅e  ⎟    2 ⎜  22⋅b₀⋅b₃⋅γ   44⋅b₀⋅e   6\n",
       " ──────── + ───────── + ───────── - ────────⎟ + a ⋅⎜- ────────── + ─────── + ─\n",
       "    3           3         3⋅r_p            2⎟      ⎜      3        9⋅γ⋅r_p    \n",
       "                                    9⋅γ⋅r_p ⎠      ⎝                          \n",
       "\n",
       "    2  4             2       2 ⎞                                         \n",
       "7⋅b₃ ⋅γ    404⋅b₃⋅e⋅γ     4⋅e  ⎟     ⎛         2   12⋅b₀⋅e   20⋅q₀⎞     2\n",
       "──────── - ─────────── + ──────⎟ + a⋅⎜6⋅b₀⋅b₃⋅γ  - ─────── - ─────⎟ + b₀ \n",
       "   3          9⋅r_p           2⎟     ⎝               r_p       9  ⎠      \n",
       "                         9⋅r_p ⎠                                         "
      ]
     },
     "execution_count": 45,
     "metadata": {},
     "output_type": "execute_result"
    }
   ],
   "source": [
    "series(B_a**2-(20*a*Q_a/9),a,n=7)"
   ]
  },
  {
   "cell_type": "code",
   "execution_count": null,
   "metadata": {
    "collapsed": true
   },
   "outputs": [],
   "source": []
  }
 ],
 "metadata": {
  "kernelspec": {
   "display_name": "Python 3",
   "language": "python",
   "name": "python3"
  },
  "language_info": {
   "codemirror_mode": {
    "name": "ipython",
    "version": 3
   },
   "file_extension": ".py",
   "mimetype": "text/x-python",
   "name": "python",
   "nbconvert_exporter": "python",
   "pygments_lexer": "ipython3",
   "version": "3.4.0"
  }
 },
 "nbformat": 4,
 "nbformat_minor": 0
}
