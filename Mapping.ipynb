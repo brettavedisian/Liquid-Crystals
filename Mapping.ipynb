{
 "cells": [
  {
   "cell_type": "code",
   "execution_count": 1,
   "metadata": {
    "collapsed": false
   },
   "outputs": [],
   "source": [
    "%matplotlib inline\n",
    "from sympy import *\n",
    "init_printing(use_unicode=True)"
   ]
  },
  {
   "cell_type": "code",
   "execution_count": 26,
   "metadata": {
    "collapsed": false
   },
   "outputs": [],
   "source": [
    "r, u, v, c, r_c, u_c, v_c, E, p, r_p, u_p, v_p, e, a, b, q, b_0, b_1, b_2, b_3, q_0, q_1, q_2, q_3, q_4, q_5, beta, rho, epsilon, delta, d, K_3, Omega, Lambda, lamda, C, mu, Gamma, tau, nu, xi, P_x, eta, varep, gamma, P_0, theta_0, z = symbols('r u v c r_c u_c v_c E p r_p u_p v_p e a b q b_0 b_1 b_2 b_3 q_0 q_1 q_2 q_3 q_4 q_5 beta rho epsilon delta d K_3 Omega Lambda lamda C mu Gamma tau nu xi_2 P_x eta varepsilon gamma P_0 theta_0 z')"
   ]
  },
  {
   "cell_type": "code",
   "execution_count": 3,
   "metadata": {
    "collapsed": false
   },
   "outputs": [],
   "source": [
    "eptil, atil, btil, ctil, Ctil, gtil, thetatil, Ptil, gprm, thetaprm, Pprm, Tprm, chiprm = symbols('epsilontilde atilde btilde ctilde Ctilde gtilde_{0} thetatilde_{0} Ptilde_{0} gprm thetaprm Pprm Tprm chiprm')"
   ]
  },
  {
   "cell_type": "code",
   "execution_count": 12,
   "metadata": {
    "collapsed": true
   },
   "outputs": [],
   "source": [
    "def g1(a,b,q,xi,P_x,varep,eta,C,Omega):\n",
    "    return (a*xi**2)/2+(b*xi**4)/4+(q*xi**6)/6+P_x**2/(2*varep)+(eta*P_x**4)/4+C*P_x*xi-(Omega*(P_x*xi)**2)/2"
   ]
  },
  {
   "cell_type": "code",
   "execution_count": 14,
   "metadata": {
    "collapsed": false
   },
   "outputs": [
    {
     "data": {
      "image/png": "[encoded data removed]",
      "text/latex": [
       "$$C P_{x} \\xi_{2} - \\frac{\\Omega P_{x}^{2}}{2} \\xi_{2}^{2} + \\frac{P_{x}^{4} \\eta}{4} + \\frac{P_{x}^{2}}{2 \\varepsilon} + \\frac{a \\xi_{2}^{2}}{2} + \\frac{b \\xi_{2}^{4}}{4} + \\frac{q \\xi_{2}^{6}}{6}$$"
      ],
      "text/plain": [
       "              2   2     4           2            2       4       6\n",
       "          Ω⋅Pₓ ⋅ξ₂    Pₓ ⋅η       Pₓ         a⋅ξ₂    b⋅ξ₂    q⋅ξ₂ \n",
       "C⋅Pₓ⋅ξ₂ - ───────── + ───── + ──────────── + ───── + ───── + ─────\n",
       "              2         4     2⋅varepsilon     2       4       6  "
      ]
     },
     "execution_count": 14,
     "metadata": {},
     "output_type": "execute_result"
    }
   ],
   "source": [
    "g1(a,b,q,xi,P_x,varep,eta,C,Omega)"
   ]
  },
  {
   "cell_type": "code",
   "execution_count": 31,
   "metadata": {
    "collapsed": true
   },
   "outputs": [],
   "source": [
    "g = (a*xi**2)/2+(b*xi**4)/4+(q*xi**6)/6+P_x**2/(2*epsilon)+(eta*P_x**4)/4+C*P_x*xi-(Omega*(P_x*xi)**2)/2"
   ]
  },
  {
   "cell_type": "code",
   "execution_count": 32,
   "metadata": {
    "collapsed": false
   },
   "outputs": [
    {
     "data": {
      "image/png": "[encoded data removed]",
      "text/latex": [
       "$$C P_{x} \\xi_{2} - \\frac{\\Omega P_{x}^{2}}{2} \\xi_{2}^{2} + \\frac{P_{x}^{4} \\eta}{4} + \\frac{P_{x}^{2}}{2 \\epsilon} + \\frac{a \\xi_{2}^{2}}{2} + \\frac{b \\xi_{2}^{4}}{4} + \\frac{q \\xi_{2}^{6}}{6}$$"
      ],
      "text/plain": [
       "              2   2     4       2       2       4       6\n",
       "          Ω⋅Pₓ ⋅ξ₂    Pₓ ⋅η   Pₓ    a⋅ξ₂    b⋅ξ₂    q⋅ξ₂ \n",
       "C⋅Pₓ⋅ξ₂ - ───────── + ───── + ─── + ───── + ───── + ─────\n",
       "              2         4     2⋅ε     2       4       6  "
      ]
     },
     "execution_count": 32,
     "metadata": {},
     "output_type": "execute_result"
    }
   ],
   "source": [
    "g"
   ]
  },
  {
   "cell_type": "code",
   "execution_count": null,
   "metadata": {
    "collapsed": true
   },
   "outputs": [],
   "source": []
  },
  {
   "cell_type": "markdown",
   "metadata": {},
   "source": [
    "####$f(c,p) = \\dfrac{1}{2}r_{c}c^{2}+\\dfrac{1}{4}u_{c}c^{4}+\\dfrac{1}{6}v_{c}c^{6}+\\dfrac{1}{2}r_{p}p^{2}+\\dfrac{1}{4}u_{p}p^{4}+\\dfrac{1}{6}v_{p}p^{6}-\\gamma cp-ec^{2}p^{2}-Ep$\n",
    "\n",
    "###'Our' version of the equation\n",
    "\n",
    "$P_x \\neq 0 = p$\n",
    "\n",
    "$P_y = 0$\n",
    "\n",
    "$\\xi_1 = 0$\n",
    "\n",
    "$\\xi_2 \\neq 0 = c$\n",
    "\n",
    "$r_p = \\dfrac{1}{\\epsilon}$\n",
    "\n",
    "$u_p = \\eta$\n",
    "\n",
    "$\\gamma = -C$\n",
    "\n",
    "$e = \\dfrac{1}{2}\\Omega$\n",
    "\n",
    "###Missing: $p^6$ and $E$ terms"
   ]
  },
  {
   "cell_type": "code",
   "execution_count": 33,
   "metadata": {
    "collapsed": false
   },
   "outputs": [
    {
     "data": {
      "image/png": "[encoded data removed]",
      "text/latex": [
       "$$\\frac{a c^{2}}{2} + \\frac{b c^{4}}{4} + \\frac{c^{6} q}{6} - c^{2} e p^{2} - c \\gamma p + \\frac{p^{4} u_{p}}{4} + \\frac{p^{2} r_{p}}{2}$$"
      ],
      "text/plain": [
       "   2      4    6                        4        2    \n",
       "a⋅c    b⋅c    c ⋅q    2    2           p ⋅u_p   p ⋅r_p\n",
       "──── + ──── + ──── - c ⋅e⋅p  - c⋅γ⋅p + ────── + ──────\n",
       " 2      4      6                         4        2   "
      ]
     },
     "execution_count": 33,
     "metadata": {},
     "output_type": "execute_result"
    }
   ],
   "source": [
    "g.subs([(epsilon,1/r_p),(eta,u_p),(C,-gamma),(Omega,2*e),(xi,c),(P_x,p)])"
   ]
  },
  {
   "cell_type": "markdown",
   "metadata": {},
   "source": [
    "#Is this portion relevant?\n",
    "\n",
    "###Dimensionless free energy density\n",
    "\n",
    "$\\vec{P} = (P_x,P_y) = (-P_0\\sin\\left(\\dfrac{2\\pi z}{p}\\right),P_0\\cos\\left(\\dfrac{2\\pi z}{p}\\right))$\n",
    "\n",
    "$\\vec{\\xi} = (\\xi_1,\\xi_2) = (\\theta_0\\cos\\left(\\dfrac{2\\pi z}{p}\\right),\\theta_0\\sin\\left(\\dfrac{2\\pi z}{p}\\right))$\n",
    "\n",
    "###The following is what results if the params from Eq. (3) and the above relations are subbed into $g$."
   ]
  },
  {
   "cell_type": "code",
   "execution_count": 9,
   "metadata": {
    "collapsed": false
   },
   "outputs": [],
   "source": [
    "g0 = (beta**2-Gamma*tau)*thetatil**2/2 + Gamma*thetatil**4/4 + rho*thetatil**6/6 + Ptil**2/2 - beta*Ptil*thetatil - (Ptil*thetatil)**2/2 + Ptil**4/4 - nu*delta*thetatil**3*Ptil"
   ]
  },
  {
   "cell_type": "code",
   "execution_count": 22,
   "metadata": {
    "collapsed": false
   },
   "outputs": [
    {
     "data": {
      "image/png": "[encoded data removed]",
      "text/latex": [
       "$$\\frac{\\Gamma \\tilde{\\theta}_{{0}}^{4}}{4} + \\frac{\\tilde{P}_{{0}}^{4}}{4} - \\frac{\\tilde{P}_{{0}}^{2} \\tilde{\\theta}_{{0}}^{2}}{2} + \\frac{\\tilde{P}_{{0}}^{2}}{2} - \\tilde{P}_{{0}} \\beta \\tilde{\\theta}_{{0}} - \\tilde{P}_{{0}} \\delta \\nu \\tilde{\\theta}_{{0}}^{3} + \\frac{\\rho \\tilde{\\theta}_{{0}}^{6}}{6} + \\frac{\\tilde{\\theta}_{{0}}^{2}}{2} \\left(- \\Gamma \\tau + \\beta^{2}\\right)$$"
      ],
      "text/plain": [
       "        4         4         2       2         2                               \n",
       "Γ⋅θ̃_{0}    P̃_{0}    P̃_{0} ⋅θ̃_{0}    P̃_{0}                                \n",
       "───────── + ─────── - ─────────────── + ─────── - P̃_{0}⋅β⋅θ̃_{0} - P̃_{0}⋅δ⋅ν\n",
       "    4          4             2             2                                  \n",
       "\n",
       "                   6         2 ⎛        2⎞\n",
       "       3   ρ⋅θ̃_{0}    θ̃_{0} ⋅⎝-Γ⋅τ + β ⎠\n",
       "⋅θ̃_{0}  + ───────── + ───────────────────\n",
       "               6                2         "
      ]
     },
     "execution_count": 22,
     "metadata": {},
     "output_type": "execute_result"
    }
   ],
   "source": [
    "g0"
   ]
  },
  {
   "cell_type": "markdown",
   "metadata": {
    "collapsed": true
   },
   "source": [
    "###If we map this equation to ours, we can see:\n",
    "\n",
    "$B(a) = \\Gamma$\n",
    "\n",
    "$r_p = 1$\n",
    "\n",
    "$u_p = 1$\n",
    "\n",
    "$e = \\dfrac{1}{2}$\n",
    "\n",
    "$gamma = \\beta$\n",
    "\n",
    "$Q(a) = \\rho$\n",
    "\n",
    "$a = \\beta^2 - \\Gamma\\tau$"
   ]
  },
  {
   "cell_type": "code",
   "execution_count": null,
   "metadata": {
    "collapsed": true
   },
   "outputs": [],
   "source": []
  }
 ],
 "metadata": {
  "kernelspec": {
   "display_name": "Python 3",
   "language": "python",
   "name": "python3"
  },
  "language_info": {
   "codemirror_mode": {
    "name": "ipython",
    "version": 3
   },
   "file_extension": ".py",
   "mimetype": "text/x-python",
   "name": "python",
   "nbconvert_exporter": "python",
   "pygments_lexer": "ipython3",
   "version": "3.4.0"
  }
 },
 "nbformat": 4,
 "nbformat_minor": 0
}
