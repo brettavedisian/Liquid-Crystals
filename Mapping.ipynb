{
 "cells": [
  {
   "cell_type": "code",
   "execution_count": 1,
   "metadata": {
    "collapsed": false
   },
   "outputs": [],
   "source": [
    "%matplotlib inline\n",
    "from sympy import *\n",
    "import matplotlib.pyplot as plt\n",
    "import numpy as np\n",
    "init_printing(use_unicode=True)"
   ]
  },
  {
   "cell_type": "code",
   "execution_count": 2,
   "metadata": {
    "collapsed": false
   },
   "outputs": [],
   "source": [
    "r, u, v, c, r_c, u_c, v_c, E, p, r_p, u_p, v_p, e, a, b, q, b_0, b_1, b_2, b_3, q_0, q_1, q_2, q_3, q_4, q_5, beta, rho, epsilon, delta, d, K_3, Omega, Lambda, lamda, C, mu, Gamma, tau, nu, xi, P_x, eta, varep, gamma, P_0, theta_0, z, a_0, alpha_0, alpha, T_p, T_c, T = symbols('r u v c r_c u_c v_c E p r_p u_p v_p e a b q b_0 b_1 b_2 b_3 q_0 q_1 q_2 q_3 q_4 q_5 beta rho epsilon delta d K_3 Omega Lambda lamda C mu Gamma tau nu xi_2 P_x eta varepsilon gamma P_0 theta_0 z a_0 alpha_0 alpha T_p T_c T')"
   ]
  },
  {
   "cell_type": "code",
   "execution_count": 3,
   "metadata": {
    "collapsed": false
   },
   "outputs": [],
   "source": [
    "eptil, atil, btil, ctil, Ctil, gtil, thetatil, Ptil, gprm, thetaprm, Pprm, Tprm, chiprm = symbols('epsilontilde atilde btilde ctilde Ctilde gtilde_{0} thetatilde_{0} Ptilde_{0} gprm thetaprm Pprm Tprm chiprm')"
   ]
  },
  {
   "cell_type": "markdown",
   "metadata": {},
   "source": [
    "#Generalized Landau Model of Ferroelectric Liquid Crystals"
   ]
  },
  {
   "cell_type": "code",
   "execution_count": 4,
   "metadata": {
    "collapsed": true
   },
   "outputs": [],
   "source": [
    "def g1(a,b,q,xi,P_x,varep,eta,C,Omega):\n",
    "    return (a*xi**2)/2+(b*xi**4)/4+(q*xi**6)/6+P_x**2/(2*varep)+(eta*P_x**4)/4+C*P_x*xi-(Omega*(P_x*xi)**2)/2"
   ]
  },
  {
   "cell_type": "code",
   "execution_count": 5,
   "metadata": {
    "collapsed": false
   },
   "outputs": [
    {
     "data": {
      "image/png": "[encoded data removed]",
      "text/latex": [
       "$$C P_{x} \\xi_{2} - \\frac{\\Omega P_{x}^{2}}{2} \\xi_{2}^{2} + \\frac{P_{x}^{4} \\eta}{4} + \\frac{P_{x}^{2}}{2 \\varepsilon} + \\frac{a \\xi_{2}^{2}}{2} + \\frac{b \\xi_{2}^{4}}{4} + \\frac{q \\xi_{2}^{6}}{6}$$"
      ],
      "text/plain": [
       "              2   2     4           2            2       4       6\n",
       "          Ω⋅Pₓ ⋅ξ₂    Pₓ ⋅η       Pₓ         a⋅ξ₂    b⋅ξ₂    q⋅ξ₂ \n",
       "C⋅Pₓ⋅ξ₂ - ───────── + ───── + ──────────── + ───── + ───── + ─────\n",
       "              2         4     2⋅varepsilon     2       4       6  "
      ]
     },
     "execution_count": 5,
     "metadata": {},
     "output_type": "execute_result"
    }
   ],
   "source": [
    "g1(a,b,q,xi,P_x,varep,eta,C,Omega)"
   ]
  },
  {
   "cell_type": "code",
   "execution_count": 6,
   "metadata": {
    "collapsed": true
   },
   "outputs": [],
   "source": [
    "g = (a*xi**2)/2+(b*xi**4)/4+(q*xi**6)/6+P_x**2/(2*epsilon)+(eta*P_x**4)/4+C*P_x*xi-(Omega*(P_x*xi)**2)/2"
   ]
  },
  {
   "cell_type": "code",
   "execution_count": 7,
   "metadata": {
    "collapsed": false
   },
   "outputs": [
    {
     "data": {
      "image/png": "[encoded data removed]",
      "text/latex": [
       "$$C P_{x} \\xi_{2} - \\frac{\\Omega P_{x}^{2}}{2} \\xi_{2}^{2} + \\frac{P_{x}^{4} \\eta}{4} + \\frac{P_{x}^{2}}{2 \\epsilon} + \\frac{a \\xi_{2}^{2}}{2} + \\frac{b \\xi_{2}^{4}}{4} + \\frac{q \\xi_{2}^{6}}{6}$$"
      ],
      "text/plain": [
       "              2   2     4       2       2       4       6\n",
       "          Ω⋅Pₓ ⋅ξ₂    Pₓ ⋅η   Pₓ    a⋅ξ₂    b⋅ξ₂    q⋅ξ₂ \n",
       "C⋅Pₓ⋅ξ₂ - ───────── + ───── + ─── + ───── + ───── + ─────\n",
       "              2         4     2⋅ε     2       4       6  "
      ]
     },
     "execution_count": 7,
     "metadata": {},
     "output_type": "execute_result"
    }
   ],
   "source": [
    "g"
   ]
  },
  {
   "cell_type": "markdown",
   "metadata": {},
   "source": [
    "####$f(c,p) = \\dfrac{1}{2}r_{c}c^{2}+\\dfrac{1}{4}u_{c}c^{4}+\\dfrac{1}{6}v_{c}c^{6}+\\dfrac{1}{2}r_{p}p^{2}+\\dfrac{1}{4}u_{p}p^{4}+\\dfrac{1}{6}v_{p}p^{6}-\\gamma cp-ec^{2}p^{2}-Ep$\n",
    "\n",
    "###'Our' version of the equation\n",
    "\n",
    "$P_x \\neq 0 = p$\n",
    "\n",
    "$P_y = 0$\n",
    "\n",
    "$\\xi_1 = 0$\n",
    "\n",
    "$\\xi_2 \\neq 0 = c$\n",
    "\n",
    "$r_p = \\dfrac{1}{\\epsilon}$\n",
    "\n",
    "$u_p = \\eta$\n",
    "\n",
    "$\\gamma = -C$\n",
    "\n",
    "$e = \\dfrac{1}{2}\\Omega$\n",
    "\n",
    "###Missing: $p^6$ and $E$ terms"
   ]
  },
  {
   "cell_type": "code",
   "execution_count": 8,
   "metadata": {
    "collapsed": false
   },
   "outputs": [
    {
     "data": {
      "image/png": "[encoded data removed]",
      "text/latex": [
       "$$\\frac{a c^{2}}{2} + \\frac{b c^{4}}{4} + \\frac{c^{6} q}{6} - c^{2} e p^{2} - c \\gamma p + \\frac{p^{4} u_{p}}{4} + \\frac{p^{2} r_{p}}{2}$$"
      ],
      "text/plain": [
       "   2      4    6                        4        2    \n",
       "a⋅c    b⋅c    c ⋅q    2    2           p ⋅u_p   p ⋅r_p\n",
       "──── + ──── + ──── - c ⋅e⋅p  - c⋅γ⋅p + ────── + ──────\n",
       " 2      4      6                         4        2   "
      ]
     },
     "execution_count": 8,
     "metadata": {},
     "output_type": "execute_result"
    }
   ],
   "source": [
    "g.subs([(epsilon,1/r_p),(eta,u_p),(C,-gamma),(Omega,2*e),(xi,c),(P_x,p)])"
   ]
  },
  {
   "cell_type": "markdown",
   "metadata": {
    "collapsed": true
   },
   "source": [
    "#Electrically Induced Tilt in Achiral Bent-Core Liquid Crystals"
   ]
  },
  {
   "cell_type": "code",
   "execution_count": 4,
   "metadata": {
    "collapsed": false
   },
   "outputs": [],
   "source": [
    "fc = a*c**2+b*c**4+q*c**6\n",
    "fp = alpha*p**2+beta*p**4+gamma*p**6-E*p\n",
    "fcp = -Omega*(p*c)**2"
   ]
  },
  {
   "cell_type": "code",
   "execution_count": 5,
   "metadata": {
    "collapsed": false
   },
   "outputs": [
    {
     "data": {
      "image/png": "[encoded data removed]",
      "text/latex": [
       "$$a c^{2} + b c^{4} + c^{6} q$$"
      ],
      "text/plain": [
       "   2      4    6  \n",
       "a⋅c  + b⋅c  + c ⋅q"
      ]
     },
     "execution_count": 5,
     "metadata": {},
     "output_type": "execute_result"
    }
   ],
   "source": [
    "fc"
   ]
  },
  {
   "cell_type": "code",
   "execution_count": 6,
   "metadata": {
    "collapsed": false
   },
   "outputs": [
    {
     "data": {
      "image/png": "[encoded data removed]",
      "text/latex": [
       "$$- E p + \\alpha p^{2} + \\beta p^{4} + \\gamma p^{6}$$"
      ],
      "text/plain": [
       "          2      4      6\n",
       "-E⋅p + α⋅p  + β⋅p  + γ⋅p "
      ]
     },
     "execution_count": 6,
     "metadata": {},
     "output_type": "execute_result"
    }
   ],
   "source": [
    "fp"
   ]
  },
  {
   "cell_type": "code",
   "execution_count": 7,
   "metadata": {
    "collapsed": false
   },
   "outputs": [
    {
     "data": {
      "image/png": "[encoded data removed]",
      "text/latex": [
       "$$- \\Omega c^{2} p^{2}$$"
      ],
      "text/plain": [
       "    2  2\n",
       "-Ω⋅c ⋅p "
      ]
     },
     "execution_count": 7,
     "metadata": {},
     "output_type": "execute_result"
    }
   ],
   "source": [
    "fcp"
   ]
  },
  {
   "cell_type": "markdown",
   "metadata": {},
   "source": [
    "###Mapping:\n",
    "\n",
    "$\\dfrac{1}{2}r_c = a = a_{0}(T-T_c) = 6\\times10^4$ $\\text{ N/K m}^2$\n",
    "\n",
    "$\\dfrac{1}{4}u_c = b = 10^4 \\text{ N/m}^2$\n",
    "\n",
    "$\\dfrac{1}{6}v_c = q = 9\\times10^7 \\text{ N/m}^2$\n",
    "\n",
    "$\\dfrac{1}{2}r_p = \\alpha = \\alpha_{0}(T-T_p) = 0.6\\times10^9 \\text{ J m/C}^2$\n",
    "\n",
    "$\\dfrac{1}{4}u_p = \\beta \\approx 10^4 \\dfrac{ J m^5}{C^4}$\n",
    "\n",
    "$\\dfrac{1}{6}v_p = \\gamma = 0$\n",
    "\n",
    "$e = \\Omega$"
   ]
  },
  {
   "cell_type": "code",
   "execution_count": 8,
   "metadata": {
    "collapsed": false
   },
   "outputs": [],
   "source": [
    "# fc = fc.subs([(a_0*(T-T_c),a)])#,6e4),(b,10**4),(q,9e7)])\n",
    "# fc"
   ]
  },
  {
   "cell_type": "code",
   "execution_count": 9,
   "metadata": {
    "collapsed": false
   },
   "outputs": [
    {
     "data": {
      "image/png": "[encoded data removed]",
      "text/latex": [
       "$$- E p + \\alpha p^{2} + \\beta p^{4}$$"
      ],
      "text/plain": [
       "          2      4\n",
       "-E⋅p + α⋅p  + β⋅p "
      ]
     },
     "execution_count": 9,
     "metadata": {},
     "output_type": "execute_result"
    }
   ],
   "source": [
    "fp = fp.subs([(gamma,0)])#,(alpha_0*(T-T_p),alpha),(beta,10**4)])\n",
    "fp"
   ]
  },
  {
   "cell_type": "markdown",
   "metadata": {},
   "source": [
    "###$\\dfrac{\\partial f}{\\partial c} = 0$"
   ]
  },
  {
   "cell_type": "code",
   "execution_count": 10,
   "metadata": {
    "collapsed": false
   },
   "outputs": [
    {
     "data": {
      "image/png": "[encoded data removed]",
      "text/latex": [
       "$$4 b c^{3} + 6 c^{5} q + c \\left(- 2 \\Omega p^{2} + 2 a\\right)$$"
      ],
      "text/plain": [
       "     3      5       ⎛       2      ⎞\n",
       "4⋅b⋅c  + 6⋅c ⋅q + c⋅⎝- 2⋅Ω⋅p  + 2⋅a⎠"
      ]
     },
     "execution_count": 10,
     "metadata": {},
     "output_type": "execute_result"
    }
   ],
   "source": [
    "collect((fc+fp+fcp).diff(c),c)"
   ]
  },
  {
   "cell_type": "markdown",
   "metadata": {},
   "source": [
    "###Solve for $p$"
   ]
  },
  {
   "cell_type": "code",
   "execution_count": 11,
   "metadata": {
    "collapsed": false,
    "scrolled": true
   },
   "outputs": [
    {
     "data": {
      "image/png": "[encoded data removed]",
      "text/latex": [
       "$$\\sqrt{\\frac{1}{\\Omega} \\left(a + 2 b c^{2} + 3 c^{4} q\\right)}$$"
      ],
      "text/plain": [
       "     _____________________\n",
       "    ╱          2      4   \n",
       "   ╱  a + 2⋅b⋅c  + 3⋅c ⋅q \n",
       "  ╱   ─────────────────── \n",
       "╲╱             Ω          "
      ]
     },
     "execution_count": 11,
     "metadata": {},
     "output_type": "execute_result"
    }
   ],
   "source": [
    "pc = solve((fc+fp+fcp).diff(c),p)[1]\n",
    "pc"
   ]
  },
  {
   "cell_type": "markdown",
   "metadata": {},
   "source": [
    "###Solve $\\dfrac{\\partial f}{\\partial p} = 0$ for $E$"
   ]
  },
  {
   "cell_type": "code",
   "execution_count": 12,
   "metadata": {
    "collapsed": false
   },
   "outputs": [
    {
     "data": {
      "image/png": "[encoded data removed]",
      "text/latex": [
       "$$2 p \\left(- \\Omega c^{2} + \\alpha + 2 \\beta p^{2}\\right)$$"
      ],
      "text/plain": [
       "    ⎛     2            2⎞\n",
       "2⋅p⋅⎝- Ω⋅c  + α + 2⋅β⋅p ⎠"
      ]
     },
     "execution_count": 12,
     "metadata": {},
     "output_type": "execute_result"
    }
   ],
   "source": [
    "solve((fc+fp+fcp).diff(p),E)[0]"
   ]
  },
  {
   "cell_type": "markdown",
   "metadata": {},
   "source": [
    "###Sub $p(c)$ into $E(c,p)$"
   ]
  },
  {
   "cell_type": "code",
   "execution_count": 13,
   "metadata": {
    "collapsed": false
   },
   "outputs": [
    {
     "data": {
      "image/png": "[encoded data removed]",
      "text/latex": [
       "$$2 \\sqrt{\\frac{1}{\\Omega} \\left(a + 2 b c^{2} + 3 c^{4} q\\right)} \\left(- \\Omega c^{2} + \\alpha + \\frac{2 \\beta}{\\Omega} \\left(a + 2 b c^{2} + 3 c^{4} q\\right)\\right)$$"
      ],
      "text/plain": [
       "       _____________________                                         \n",
       "      ╱          2      4    ⎛                 ⎛         2      4  ⎞⎞\n",
       "     ╱  a + 2⋅b⋅c  + 3⋅c ⋅q  ⎜     2       2⋅β⋅⎝a + 2⋅b⋅c  + 3⋅c ⋅q⎠⎟\n",
       "2⋅  ╱   ─────────────────── ⋅⎜- Ω⋅c  + α + ─────────────────────────⎟\n",
       "  ╲╱             Ω           ⎝                         Ω            ⎠"
      ]
     },
     "execution_count": 13,
     "metadata": {},
     "output_type": "execute_result"
    }
   ],
   "source": [
    "(solve((fc+fp+fcp).diff(p),E)[0]).subs(p,pc)"
   ]
  },
  {
   "cell_type": "code",
   "execution_count": 37,
   "metadata": {
    "collapsed": false,
    "scrolled": false
   },
   "outputs": [
    {
     "data": {
      "image/png": "[encoded data removed]",
      "text/latex": [
       "$$\\frac{1}{\\Omega a^{3}} \\left(\\Omega a^{3} \\left(4 \\beta \\left(\\frac{a}{\\Omega}\\right)^{\\frac{3}{2}} + 2 \\alpha \\sqrt{\\frac{a}{\\Omega}} + \\mathcal{O}\\left(c^{7}\\right)\\right) + 2 a^{2} c^{2} \\sqrt{\\frac{a}{\\Omega}} \\left(- \\Omega^{2} a + \\Omega \\alpha b + 6 a b \\beta\\right) + a c^{4} \\sqrt{\\frac{a}{\\Omega}} \\left(\\Omega a \\left(- 2 \\Omega b + 3 \\alpha q\\right) - \\Omega \\alpha b^{2} + 18 a^{2} \\beta q + 6 a b^{2} \\beta\\right) + c^{6} \\sqrt{\\frac{a}{\\Omega}} \\left(- 3 \\Omega^{2} a^{2} q + \\Omega a b \\left(\\Omega b - 3 \\alpha q\\right) + \\Omega \\alpha b^{3} + 18 a^{2} b \\beta q - 2 a b^{3} \\beta\\right)\\right)$$"
      ],
      "text/plain": [
       "     ⎛       3/2           ___        ⎞               ___                     \n",
       "   3 ⎜    ⎛a⎞             ╱ a     ⎛ 7⎞⎟      2  2    ╱ a  ⎛   2               \n",
       "Ω⋅a ⋅⎜4⋅β⋅⎜─⎟    + 2⋅α⋅  ╱  ─  + O⎝c ⎠⎟ + 2⋅a ⋅c ⋅  ╱  ─ ⋅⎝- Ω ⋅a + Ω⋅α⋅b + 6⋅\n",
       "     ⎝    ⎝Ω⎠          ╲╱   Ω         ⎠           ╲╱   Ω                      \n",
       "──────────────────────────────────────────────────────────────────────────────\n",
       "                                                                              \n",
       "                                                                              \n",
       "\n",
       "                  ___                                                         \n",
       "     ⎞      4    ╱ a  ⎛                            2       2            2  ⎞  \n",
       "a⋅b⋅β⎠ + a⋅c ⋅  ╱  ─ ⋅⎝Ω⋅a⋅(-2⋅Ω⋅b + 3⋅α⋅q) - Ω⋅α⋅b  + 18⋅a ⋅β⋅q + 6⋅a⋅b ⋅β⎠ +\n",
       "              ╲╱   Ω                                                          \n",
       "──────────────────────────────────────────────────────────────────────────────\n",
       "                                          3                                   \n",
       "                                       Ω⋅a                                    \n",
       "\n",
       "        ___                                                                   \n",
       "  6    ╱ a  ⎛     2  2                                3       2              3\n",
       " c ⋅  ╱  ─ ⋅⎝- 3⋅Ω ⋅a ⋅q + Ω⋅a⋅b⋅(Ω⋅b - 3⋅α⋅q) + Ω⋅α⋅b  + 18⋅a ⋅b⋅β⋅q - 2⋅a⋅b \n",
       "    ╲╱   Ω                                                                    \n",
       "──────────────────────────────────────────────────────────────────────────────\n",
       "                                                                              \n",
       "                                                                              \n",
       "\n",
       "   \n",
       "  ⎞\n",
       "⋅β⎠\n",
       "   \n",
       "───\n",
       "   \n",
       "   "
      ]
     },
     "execution_count": 37,
     "metadata": {},
     "output_type": "execute_result"
    }
   ],
   "source": [
    "simplify(series((solve((fc+fp+fcp).diff(p),E)[0]).subs(p,pc),c,n=7))"
   ]
  },
  {
   "cell_type": "markdown",
   "metadata": {},
   "source": [
    "###Define above equation for plotting"
   ]
  },
  {
   "cell_type": "code",
   "execution_count": 45,
   "metadata": {
    "collapsed": false
   },
   "outputs": [],
   "source": [
    "def Ecc(a,b,q,c,Omega,alpha,beta):\n",
    "    return [2*np.sqrt((a+2*b*c**2+3*q*c**4)/Omega)*(alpha-Omega*c**2+(2*beta/Omega)*(a+2*b*c**2+3*q*c**4)),\n",
    "            (Omega*a**3*(4*beta*(a/Omega)**(3/2)+2*alpha*np.sqrt(a/Omega))\n",
    "            +2*(a*c)**2*np.sqrt(a/Omega)*(-Omega**2*a+Omega*alpha*b+6*a*b*beta)\n",
    "            +a*c**4*np.sqrt(a/Omega)*(Omega*a*(-2*Omega*b+3*alpha*q)-Omega*alpha*b**2+18*a**2*beta*q+6*a*b**2*beta)\n",
    "            +c**6*np.sqrt(a/Omega)*(-3*q*(Omega*a)**2+Omega*a*b*(Omega*b-3*alpha*q)+Omega*alpha*b**3+18*a**2*b*beta*q-2*a*b**3*beta))/(Omega*a**3)]"
   ]
  },
  {
   "cell_type": "code",
   "execution_count": 49,
   "metadata": {
    "collapsed": false
   },
   "outputs": [
    {
     "data": {
      "image/png": "[encoded data removed]",
      "text/plain": [
       "<matplotlib.figure.Figure at 0x7fcc68fbef98>"
      ]
     },
     "metadata": {},
     "output_type": "display_data"
    }
   ],
   "source": [
    "plt.figure(figsize=(11,8))\n",
    "plt.scatter(Ecc(6e4*(116-114.1),10**4,9e7,np.linspace(7.5,17.5),10**10,0.6e9,10**4)[1],np.linspace(7.5,17.5),color='r',label='expand')\n",
    "plt.ylim(0,35)\n",
    "plt.xlabel('E',fontsize=18)\n",
    "plt.ylabel('c',rotation='horizontal',labelpad=25,fontsize=18);"
   ]
  },
  {
   "cell_type": "code",
   "execution_count": 50,
   "metadata": {
    "collapsed": false
   },
   "outputs": [
    {
     "data": {
      "image/png": "[encoded data removed]",
      "text/plain": [
       "<matplotlib.figure.Figure at 0x7fcc68f33ac8>"
      ]
     },
     "metadata": {},
     "output_type": "display_data"
    }
   ],
   "source": [
    "plt.figure(figsize=(11,8))\n",
    "plt.scatter(Ecc(6e4*(116-114.1),10**4,9e7,np.linspace(7.5,17.5),10**10,0.6e9,10**4)[0],np.linspace(7.5,17.5),color='r',label='no expand')\n",
    "plt.ylim(0,35)\n",
    "plt.xlabel('E',fontsize=18)\n",
    "plt.ylabel('c',rotation='horizontal',labelpad=25,fontsize=18);"
   ]
  },
  {
   "cell_type": "markdown",
   "metadata": {},
   "source": [
    "###$\\dfrac{\\partial f}{\\partial p} = 0$"
   ]
  },
  {
   "cell_type": "code",
   "execution_count": 17,
   "metadata": {
    "collapsed": false
   },
   "outputs": [
    {
     "data": {
      "image/png": "[encoded data removed]",
      "text/latex": [
       "$$- E - 2 \\Omega c^{2} p + 2 \\alpha p + 4 \\beta p^{3}$$"
      ],
      "text/plain": [
       "          2                  3\n",
       "-E - 2⋅Ω⋅c ⋅p + 2⋅α⋅p + 4⋅β⋅p "
      ]
     },
     "execution_count": 17,
     "metadata": {},
     "output_type": "execute_result"
    }
   ],
   "source": [
    "(fc+fp+fcp).diff(p)"
   ]
  },
  {
   "cell_type": "markdown",
   "metadata": {},
   "source": [
    "###Solve for $c$"
   ]
  },
  {
   "cell_type": "code",
   "execution_count": 40,
   "metadata": {
    "collapsed": false
   },
   "outputs": [
    {
     "data": {
      "image/png": "[encoded data removed]",
      "text/latex": [
       "$$\\frac{\\sqrt{2}}{2} \\sqrt{\\frac{1}{\\Omega p} \\left(- E + 2 \\alpha p + 4 \\beta p^{3}\\right)}$$"
      ],
      "text/plain": [
       "           _____________________\n",
       "          ╱                   3 \n",
       "  ___    ╱  -E + 2⋅α⋅p + 4⋅β⋅p  \n",
       "╲╱ 2 ⋅  ╱   ─────────────────── \n",
       "      ╲╱            Ω⋅p         \n",
       "────────────────────────────────\n",
       "               2                "
      ]
     },
     "execution_count": 40,
     "metadata": {},
     "output_type": "execute_result"
    }
   ],
   "source": [
    "solve((fc+fp+fcp).diff(p),c)[1]"
   ]
  },
  {
   "cell_type": "markdown",
   "metadata": {},
   "source": [
    "###Sub $c(p)$ into $p(c)$"
   ]
  },
  {
   "cell_type": "code",
   "execution_count": 50,
   "metadata": {
    "collapsed": false
   },
   "outputs": [
    {
     "data": {
      "image/png": "[encoded data removed]",
      "text/latex": [
       "$$\\frac{1}{2} \\sqrt{\\frac{3 E^{2} q}{\\Omega^{3} p^{2}} - \\frac{4 E b}{\\Omega^{2} p} - \\frac{12 E \\alpha q}{\\Omega^{3} p} - \\frac{24 E}{\\Omega^{3}} \\beta p q + \\frac{4 a}{\\Omega} + \\frac{8 \\alpha}{\\Omega^{2}} b + \\frac{16 b}{\\Omega^{2}} \\beta p^{2} + \\frac{12 q}{\\Omega^{3}} \\alpha^{2} + \\frac{48 \\alpha}{\\Omega^{3}} \\beta p^{2} q + \\frac{48 q}{\\Omega^{3}} \\beta^{2} p^{4}}$$"
      ],
      "text/plain": [
       "      ________________________________________________________________________\n",
       "     ╱    2                                                           2       \n",
       "    ╱  3⋅E ⋅q   4⋅E⋅b   12⋅E⋅α⋅q   24⋅E⋅β⋅p⋅q   4⋅a   8⋅α⋅b   16⋅b⋅β⋅p    12⋅α\n",
       "   ╱   ────── - ───── - ──────── - ────────── + ─── + ───── + ───────── + ────\n",
       "  ╱     3  2      2        3            3        Ω       2         2          \n",
       "╲╱     Ω ⋅p      Ω ⋅p     Ω ⋅p         Ω                Ω         Ω          Ω\n",
       "──────────────────────────────────────────────────────────────────────────────\n",
       "                                                      2                       \n",
       "\n",
       "_______________________________\n",
       "2             2         2  4   \n",
       " ⋅q   48⋅α⋅β⋅p ⋅q   48⋅β ⋅p ⋅q \n",
       "─── + ─────────── + ────────── \n",
       "3           3            3     \n",
       "           Ω            Ω      \n",
       "───────────────────────────────\n",
       "                               "
      ]
     },
     "execution_count": 50,
     "metadata": {},
     "output_type": "execute_result"
    }
   ],
   "source": [
    "expand(simplify(pc.subs(c,solve((fc+fp+fcp).diff(p),c)[1])),p)"
   ]
  },
  {
   "cell_type": "markdown",
   "metadata": {},
   "source": [
    "###Solve for $E(p)$"
   ]
  },
  {
   "cell_type": "code",
   "execution_count": 52,
   "metadata": {
    "collapsed": false
   },
   "outputs": [
    {
     "data": {
      "image/png": "[encoded data removed]",
      "text/latex": [
       "$$\\frac{1}{3 q} \\left(2 p \\left(\\Omega b + 3 \\alpha q + 6 \\beta p^{2} q\\right) + 2 \\sqrt{\\Omega^{2} p^{2} \\left(3 \\Omega p^{2} q - 3 a q + b^{2}\\right)}\\right)$$"
      ],
      "text/plain": [
       "  ⎛                                _______________________________⎞\n",
       "  ⎜  ⎛                   2  ⎞     ╱  2  2 ⎛     2              2⎞ ⎟\n",
       "2⋅⎝p⋅⎝Ω⋅b + 3⋅α⋅q + 6⋅β⋅p ⋅q⎠ + ╲╱  Ω ⋅p ⋅⎝3⋅Ω⋅p ⋅q - 3⋅a⋅q + b ⎠ ⎠\n",
       "───────────────────────────────────────────────────────────────────\n",
       "                                3⋅q                                "
      ]
     },
     "execution_count": 52,
     "metadata": {},
     "output_type": "execute_result"
    }
   ],
   "source": [
    "simplify(solve(expand(simplify(pc.subs(c,solve((fc+fp+fcp).diff(p),c)[1])),p)-p,E)[1])"
   ]
  },
  {
   "cell_type": "markdown",
   "metadata": {},
   "source": [
    "###Define above equation for plotting"
   ]
  },
  {
   "cell_type": "code",
   "execution_count": 24,
   "metadata": {
    "collapsed": true
   },
   "outputs": [],
   "source": [
    "def Epp(a,b,q,alpha,beta,Omega,p):\n",
    "    return (2*p*(Omega*b+3*alpha*q+6*beta*q*p**2)+2*Omega*p*np.sqrt(3*Omega*q*p**2-3*a*q+b**2))/(3*q)"
   ]
  },
  {
   "cell_type": "code",
   "execution_count": 39,
   "metadata": {
    "collapsed": false
   },
   "outputs": [
    {
     "name": "stderr",
     "output_type": "stream",
     "text": [
      "/usr/local/lib/python3.4/dist-packages/IPython/kernel/__main__.py:2: RuntimeWarning: invalid value encountered in sqrt\n",
      "  from IPython.kernel.zmq import kernelapp as app\n"
     ]
    },
    {
     "data": {
      "image/png": "[encoded data removed]",
      "text/plain": [
       "<matplotlib.figure.Figure at 0x7fcc6954b2b0>"
      ]
     },
     "metadata": {},
     "output_type": "display_data"
    }
   ],
   "source": [
    "plt.figure(figsize=(11,8))\n",
    "plt.scatter(Epp(6e4*(116-114.1),10**4,9e7,0.6e9,10**4,10**11,np.linspace(0,0.005))/10**7,np.linspace(0,0.005))\n",
    "plt.ylim(0,0.005),plt.xlim(0,60)\n",
    "plt.xlabel('E',fontsize=18)\n",
    "plt.ylabel('p',rotation='horizontal',labelpad=25,fontsize=18);"
   ]
  },
  {
   "cell_type": "code",
   "execution_count": 19,
   "metadata": {
    "collapsed": true
   },
   "outputs": [],
   "source": [
    "def ppp(a,b,q,Omega,c):\n",
    "    return np.sqrt((a+2*b*c**2+3*q*c**4)/Omega)"
   ]
  },
  {
   "cell_type": "code",
   "execution_count": 20,
   "metadata": {
    "collapsed": false
   },
   "outputs": [
    {
     "data": {
      "image/png": "[encoded data removed]",
      "text/plain": [
       "<matplotlib.figure.Figure at 0x7fcc6954a4a8>"
      ]
     },
     "metadata": {},
     "output_type": "display_data"
    }
   ],
   "source": [
    "plt.figure(figsize=(11,8))\n",
    "plt.scatter(np.linspace(0,35),ppp(6e4*(116-114.1),10**4,9e7,10**10,np.linspace(0,35)))\n",
    "plt.ylim(-2,220),plt.xlim(-1,36)\n",
    "plt.xlabel('c',fontsize=18)\n",
    "plt.ylabel('p',rotation='horizontal',labelpad=25,fontsize=18);"
   ]
  },
  {
   "cell_type": "code",
   "execution_count": 9,
   "metadata": {
    "collapsed": false
   },
   "outputs": [
    {
     "data": {
      "image/png": "[encoded data removed]",
      "text/latex": [
       "$$\\frac{2}{\\Omega} \\sqrt{\\frac{1}{\\Omega} \\left(a + 2 b c^{2} + 3 c^{4} q\\right)} \\left(\\Omega \\left(- \\Omega c^{2} + \\alpha\\right) + 2 \\beta \\left(a + 2 b c^{2} + 3 c^{4} q\\right)\\right)$$"
      ],
      "text/plain": [
       "       _____________________                                             \n",
       "      ╱          2      4                                                \n",
       "     ╱  a + 2⋅b⋅c  + 3⋅c ⋅q  ⎛  ⎛     2    ⎞       ⎛         2      4  ⎞⎞\n",
       "2⋅  ╱   ─────────────────── ⋅⎝Ω⋅⎝- Ω⋅c  + α⎠ + 2⋅β⋅⎝a + 2⋅b⋅c  + 3⋅c ⋅q⎠⎠\n",
       "  ╲╱             Ω                                                       \n",
       "─────────────────────────────────────────────────────────────────────────\n",
       "                                    Ω                                    "
      ]
     },
     "execution_count": 9,
     "metadata": {},
     "output_type": "execute_result"
    }
   ],
   "source": [
    "simplify((solve((fp+fcp).diff(p),E)[0]).subs(p,solve((fc+fp+fcp).diff(c),p)[1]))"
   ]
  },
  {
   "cell_type": "code",
   "execution_count": 64,
   "metadata": {
    "collapsed": true
   },
   "outputs": [],
   "source": [
    "def Ec(om, a, b, c, q, alp, beta):\n",
    "    return (2/om)*np.sqrt((a+2*b*c**2+3*q*c**4)/om)*(alp*om-(c*om)**2+2*beta*a+4*b*beta*c**2+6*beta*q*c**4)"
   ]
  },
  {
   "cell_type": "code",
   "execution_count": 86,
   "metadata": {
    "collapsed": false
   },
   "outputs": [
    {
     "data": {
      "image/png": "[encoded data removed]",
      "text/latex": [
       "$$\\frac{E^{2}}{4 p^{2}} - \\frac{E \\alpha}{p} - 2 E \\beta p + \\alpha^{2} + 4 \\alpha \\beta p^{2} + 4 \\beta^{2} p^{4}$$"
      ],
      "text/plain": [
       "  2                                           \n",
       " E     E⋅α              2          2      2  4\n",
       "──── - ─── - 2⋅E⋅β⋅p + α  + 4⋅α⋅β⋅p  + 4⋅β ⋅p \n",
       "   2    p                                     \n",
       "4⋅p                                           "
      ]
     },
     "execution_count": 86,
     "metadata": {},
     "output_type": "execute_result"
    }
   ],
   "source": [
    "expand((alpha-E/(2*p)+2*beta*p**2)**2)"
   ]
  },
  {
   "cell_type": "code",
   "execution_count": 65,
   "metadata": {
    "collapsed": false
   },
   "outputs": [
    {
     "data": {
      "image/png": "[encoded data removed]",
      "text/plain": [
       "<matplotlib.figure.Figure at 0x7f837cc16320>"
      ]
     },
     "metadata": {},
     "output_type": "display_data"
    }
   ],
   "source": [
    "plt.scatter(Ec(10**11,6e4,10**4,np.linspace(0,15,200),9e7,0.6e9,10**4),np.linspace(0,15,200),marker='s');"
   ]
  },
  {
   "cell_type": "code",
   "execution_count": 48,
   "metadata": {
    "collapsed": false
   },
   "outputs": [],
   "source": [
    "def Eth(T):\n",
    "    E = []\n",
    "    for i in T:\n",
    "        if i > 114.1:\n",
    "            E.append(0.64e6*(i-100)*np.sqrt(i-114.1))\n",
    "        else:\n",
    "            E.append(0)\n",
    "    return E"
   ]
  },
  {
   "cell_type": "code",
   "execution_count": 58,
   "metadata": {
    "collapsed": false
   },
   "outputs": [
    {
     "data": {
      "image/png": "[encoded data removed]",
      "text/plain": [
       "<matplotlib.figure.Figure at 0x7f837cd08a58>"
      ]
     },
     "metadata": {},
     "output_type": "display_data"
    }
   ],
   "source": [
    "plt.plot(np.linspace(113,119,10),Eth(np.linspace(113,119,10)))\n",
    "plt.xlim(113,122),plt.ylim(0,3e7);"
   ]
  },
  {
   "cell_type": "code",
   "execution_count": null,
   "metadata": {
    "collapsed": true
   },
   "outputs": [],
   "source": []
  }
 ],
 "metadata": {
  "kernelspec": {
   "display_name": "Python 3",
   "language": "python",
   "name": "python3"
  },
  "language_info": {
   "codemirror_mode": {
    "name": "ipython",
    "version": 3
   },
   "file_extension": ".py",
   "mimetype": "text/x-python",
   "name": "python",
   "nbconvert_exporter": "python",
   "pygments_lexer": "ipython3",
   "version": "3.4.0"
  }
 },
 "nbformat": 4,
 "nbformat_minor": 0
}
