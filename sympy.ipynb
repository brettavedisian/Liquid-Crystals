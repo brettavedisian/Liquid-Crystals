{
 "cells": [
  {
   "cell_type": "code",
   "execution_count": 1,
   "metadata": {
    "collapsed": false
   },
   "outputs": [],
   "source": [
    "%matplotlib inline\n",
    "from sympy import *\n",
    "from sympy import besselk, besselj\n",
    "from sympy.utilities.lambdify import lambdify\n",
    "from sympy.utilities.autowrap import ufuncify\n",
    "from sympy.utilities.lambdify import implemented_function\n",
    "from sympy.physics.hydrogen import R_nl\n",
    "import numpy as np\n",
    "from scipy.special import kn, jv, kv, iv, yv\n",
    "from scipy.integrate import quad\n",
    "import matplotlib.pyplot as plt\n",
    "from scipy import misc\n",
    "init_printing(use_unicode=True)"
   ]
  },
  {
   "cell_type": "code",
   "execution_count": 2,
   "metadata": {
    "collapsed": false
   },
   "outputs": [],
   "source": [
    "x, y, r, R, E, K, phi, theta_s, a, R_L, R_R, d, p, v = symbols('x y r R E K phi theta_s a R_L R_R d p v')"
   ]
  },
  {
   "cell_type": "markdown",
   "metadata": {},
   "source": [
    "##Single Cylinder"
   ]
  },
  {
   "cell_type": "code",
   "execution_count": 3,
   "metadata": {
    "collapsed": true
   },
   "outputs": [],
   "source": [
    "def Nx(x,y,theta_s):\n",
    "    return -2*y*tan(theta_s/2)/(x**2 + y**2 + tan(theta_s/2)**2)\n",
    "\n",
    "def Ny(x,y,theta_s):\n",
    "    return 2*x*tan(theta_s/2)/(x**2 + y**2 + tan(theta_s/2)**2)"
   ]
  },
  {
   "cell_type": "code",
   "execution_count": 4,
   "metadata": {
    "collapsed": false
   },
   "outputs": [
    {
     "data": {
      "image/png": "[encoded data removed]",
      "text/latex": [
       "$$- \\frac{2 y \\tan{\\left (\\frac{\\theta_{s}}{2} \\right )}}{x^{2} + y^{2} + \\tan^{2}{\\left (\\frac{\\theta_{s}}{2} \\right )}}$$"
      ],
      "text/plain": [
       "           ⎛θ_s⎞   \n",
       "   -2⋅y⋅tan⎜───⎟   \n",
       "           ⎝ 2 ⎠   \n",
       "───────────────────\n",
       " 2    2      2⎛θ_s⎞\n",
       "x  + y  + tan ⎜───⎟\n",
       "              ⎝ 2 ⎠"
      ]
     },
     "execution_count": 4,
     "metadata": {},
     "output_type": "execute_result"
    }
   ],
   "source": [
    "Nx(x,y,theta_s)"
   ]
  },
  {
   "cell_type": "code",
   "execution_count": 5,
   "metadata": {
    "collapsed": false
   },
   "outputs": [
    {
     "data": {
      "image/png": "[encoded data removed]",
      "text/latex": [
       "$$\\frac{2 x \\tan{\\left (\\frac{\\theta_{s}}{2} \\right )}}{x^{2} + y^{2} + \\tan^{2}{\\left (\\frac{\\theta_{s}}{2} \\right )}}$$"
      ],
      "text/plain": [
       "           ⎛θ_s⎞   \n",
       "    2⋅x⋅tan⎜───⎟   \n",
       "           ⎝ 2 ⎠   \n",
       "───────────────────\n",
       " 2    2      2⎛θ_s⎞\n",
       "x  + y  + tan ⎜───⎟\n",
       "              ⎝ 2 ⎠"
      ]
     },
     "execution_count": 5,
     "metadata": {},
     "output_type": "execute_result"
    }
   ],
   "source": [
    "Ny(x,y,theta_s)"
   ]
  },
  {
   "cell_type": "code",
   "execution_count": 6,
   "metadata": {
    "collapsed": true
   },
   "outputs": [],
   "source": [
    "DXNX = Nx(x,y,theta_s).diff(x)\n",
    "DYNX = Nx(x,y,theta_s).diff(y)\n",
    "DXNY = Ny(x,y,theta_s).diff(x)\n",
    "DYNY = Ny(x,y,theta_s).diff(y)"
   ]
  },
  {
   "cell_type": "code",
   "execution_count": 7,
   "metadata": {
    "collapsed": false
   },
   "outputs": [
    {
     "data": {
      "image/png": "[encoded data removed]",
      "text/latex": [
       "$$\\frac{4 x y \\tan{\\left (\\frac{\\theta_{s}}{2} \\right )}}{\\left(x^{2} + y^{2} + \\tan^{2}{\\left (\\frac{\\theta_{s}}{2} \\right )}\\right)^{2}}$$"
      ],
      "text/plain": [
       "             ⎛θ_s⎞    \n",
       "    4⋅x⋅y⋅tan⎜───⎟    \n",
       "             ⎝ 2 ⎠    \n",
       "──────────────────────\n",
       "                     2\n",
       "⎛ 2    2      2⎛θ_s⎞⎞ \n",
       "⎜x  + y  + tan ⎜───⎟⎟ \n",
       "⎝              ⎝ 2 ⎠⎠ "
      ]
     },
     "execution_count": 7,
     "metadata": {},
     "output_type": "execute_result"
    }
   ],
   "source": [
    "DXNX"
   ]
  },
  {
   "cell_type": "code",
   "execution_count": 8,
   "metadata": {
    "collapsed": false
   },
   "outputs": [
    {
     "data": {
      "image/png": "[encoded data removed]",
      "text/latex": [
       "$$\\frac{4 y^{2} \\tan{\\left (\\frac{\\theta_{s}}{2} \\right )}}{\\left(x^{2} + y^{2} + \\tan^{2}{\\left (\\frac{\\theta_{s}}{2} \\right )}\\right)^{2}} - \\frac{2 \\tan{\\left (\\frac{\\theta_{s}}{2} \\right )}}{x^{2} + y^{2} + \\tan^{2}{\\left (\\frac{\\theta_{s}}{2} \\right )}}$$"
      ],
      "text/plain": [
       "       2    ⎛θ_s⎞                  ⎛θ_s⎞    \n",
       "    4⋅y ⋅tan⎜───⎟             2⋅tan⎜───⎟    \n",
       "            ⎝ 2 ⎠                  ⎝ 2 ⎠    \n",
       "────────────────────── - ───────────────────\n",
       "                     2    2    2      2⎛θ_s⎞\n",
       "⎛ 2    2      2⎛θ_s⎞⎞    x  + y  + tan ⎜───⎟\n",
       "⎜x  + y  + tan ⎜───⎟⎟                  ⎝ 2 ⎠\n",
       "⎝              ⎝ 2 ⎠⎠                       "
      ]
     },
     "execution_count": 8,
     "metadata": {},
     "output_type": "execute_result"
    }
   ],
   "source": [
    "DYNX"
   ]
  },
  {
   "cell_type": "code",
   "execution_count": 9,
   "metadata": {
    "collapsed": false
   },
   "outputs": [
    {
     "data": {
      "image/png": "[encoded data removed]",
      "text/latex": [
       "$$- \\frac{4 x^{2} \\tan{\\left (\\frac{\\theta_{s}}{2} \\right )}}{\\left(x^{2} + y^{2} + \\tan^{2}{\\left (\\frac{\\theta_{s}}{2} \\right )}\\right)^{2}} + \\frac{2 \\tan{\\left (\\frac{\\theta_{s}}{2} \\right )}}{x^{2} + y^{2} + \\tan^{2}{\\left (\\frac{\\theta_{s}}{2} \\right )}}$$"
      ],
      "text/plain": [
       "         2    ⎛θ_s⎞                  ⎛θ_s⎞    \n",
       "      4⋅x ⋅tan⎜───⎟             2⋅tan⎜───⎟    \n",
       "              ⎝ 2 ⎠                  ⎝ 2 ⎠    \n",
       "- ────────────────────── + ───────────────────\n",
       "                       2    2    2      2⎛θ_s⎞\n",
       "  ⎛ 2    2      2⎛θ_s⎞⎞    x  + y  + tan ⎜───⎟\n",
       "  ⎜x  + y  + tan ⎜───⎟⎟                  ⎝ 2 ⎠\n",
       "  ⎝              ⎝ 2 ⎠⎠                       "
      ]
     },
     "execution_count": 9,
     "metadata": {},
     "output_type": "execute_result"
    }
   ],
   "source": [
    "DXNY"
   ]
  },
  {
   "cell_type": "code",
   "execution_count": 10,
   "metadata": {
    "collapsed": false
   },
   "outputs": [
    {
     "data": {
      "image/png": "[encoded data removed]",
      "text/latex": [
       "$$- \\frac{4 x y \\tan{\\left (\\frac{\\theta_{s}}{2} \\right )}}{\\left(x^{2} + y^{2} + \\tan^{2}{\\left (\\frac{\\theta_{s}}{2} \\right )}\\right)^{2}}$$"
      ],
      "text/plain": [
       "             ⎛θ_s⎞    \n",
       "   -4⋅x⋅y⋅tan⎜───⎟    \n",
       "             ⎝ 2 ⎠    \n",
       "──────────────────────\n",
       "                     2\n",
       "⎛ 2    2      2⎛θ_s⎞⎞ \n",
       "⎜x  + y  + tan ⎜───⎟⎟ \n",
       "⎝              ⎝ 2 ⎠⎠ "
      ]
     },
     "execution_count": 10,
     "metadata": {},
     "output_type": "execute_result"
    }
   ],
   "source": [
    "DYNY"
   ]
  },
  {
   "cell_type": "code",
   "execution_count": 11,
   "metadata": {
    "collapsed": true
   },
   "outputs": [],
   "source": [
    "def single_f(x, y, theta_s, dxnx, dynx, dxny, dyny):\n",
    "    return (dxnx**2 + dynx**2 + dxny**2 + dyny**2 + 2*dxnx*dyny - 2*dxny*dynx)/2"
   ]
  },
  {
   "cell_type": "code",
   "execution_count": 12,
   "metadata": {
    "collapsed": false
   },
   "outputs": [
    {
     "data": {
      "image/png": "[encoded data removed]",
      "text/latex": [
       "$$\\frac{8 \\tan^{6}{\\left (\\frac{\\theta_{s}}{2} \\right )}}{\\left(x^{2} + y^{2} + \\tan^{2}{\\left (\\frac{\\theta_{s}}{2} \\right )}\\right)^{4}}$$"
      ],
      "text/plain": [
       "          6⎛θ_s⎞      \n",
       "     8⋅tan ⎜───⎟      \n",
       "           ⎝ 2 ⎠      \n",
       "──────────────────────\n",
       "                     4\n",
       "⎛ 2    2      2⎛θ_s⎞⎞ \n",
       "⎜x  + y  + tan ⎜───⎟⎟ \n",
       "⎝              ⎝ 2 ⎠⎠ "
      ]
     },
     "execution_count": 12,
     "metadata": {},
     "output_type": "execute_result"
    }
   ],
   "source": [
    "simplify(single_f(x, y, theta_s, DXNX, DYNX, DXNY, DYNY))"
   ]
  },
  {
   "cell_type": "markdown",
   "metadata": {},
   "source": [
    "##Single Cylinder E-Field"
   ]
  },
  {
   "cell_type": "code",
   "execution_count": 13,
   "metadata": {
    "collapsed": false
   },
   "outputs": [],
   "source": [
    "def nx(r, phi, theta_s, R, d):\n",
    "    return (-theta_s*sin(phi)*besselk(1, r/d)/besselk(1, R/d))\n",
    "\n",
    "def nx_cart(r, x, y, theta_s, R, d):\n",
    "    return (-theta_s*y*besselk(1, r/d))/(r*besselk(1, R/d))\n",
    "\n",
    "def ny(r, phi, theta_s, R, d):\n",
    "    return (theta_s*cos(phi)*besselk(1, r/d)/besselk(1, R/d))\n",
    "\n",
    "def ny_cart(r, x, y, theta_s, R, d):\n",
    "    return (theta_s*x*besselk(1, r/d))/(r*besselk(1, R/d))"
   ]
  },
  {
   "cell_type": "code",
   "execution_count": 14,
   "metadata": {
    "collapsed": false
   },
   "outputs": [
    {
     "data": {
      "image/png": "[encoded data removed]",
      "text/latex": [
       "$$- \\frac{\\theta_{s} K_{1}\\left(\\frac{r}{d}\\right)}{K_{1}\\left(\\frac{R}{d}\\right)} \\sin{\\left (\\phi \\right )}$$"
      ],
      "text/plain": [
       "                   ⎛   r⎞ \n",
       "-θ_s⋅sin(φ)⋅besselk⎜1, ─⎟ \n",
       "                   ⎝   d⎠ \n",
       "──────────────────────────\n",
       "             ⎛   R⎞       \n",
       "      besselk⎜1, ─⎟       \n",
       "             ⎝   d⎠       "
      ]
     },
     "execution_count": 14,
     "metadata": {},
     "output_type": "execute_result"
    }
   ],
   "source": [
    "nx(r, phi, theta_s, R, d)"
   ]
  },
  {
   "cell_type": "code",
   "execution_count": 15,
   "metadata": {
    "collapsed": false
   },
   "outputs": [
    {
     "data": {
      "image/png": "[encoded data removed]",
      "text/latex": [
       "$$\\frac{\\theta_{s} K_{1}\\left(\\frac{r}{d}\\right)}{K_{1}\\left(\\frac{R}{d}\\right)} \\cos{\\left (\\phi \\right )}$$"
      ],
      "text/plain": [
       "                  ⎛   r⎞\n",
       "θ_s⋅cos(φ)⋅besselk⎜1, ─⎟\n",
       "                  ⎝   d⎠\n",
       "────────────────────────\n",
       "            ⎛   R⎞      \n",
       "     besselk⎜1, ─⎟      \n",
       "            ⎝   d⎠      "
      ]
     },
     "execution_count": 15,
     "metadata": {},
     "output_type": "execute_result"
    }
   ],
   "source": [
    "ny(r, phi, theta_s, R, d)"
   ]
  },
  {
   "cell_type": "code",
   "execution_count": 16,
   "metadata": {
    "collapsed": false
   },
   "outputs": [],
   "source": [
    "dxnx = cos(phi)*nx(r, phi, theta_s, R, d).diff(r) - (sin(phi)*nx(r, phi, theta_s, R, d).diff(phi))/r\n",
    "dynx = sin(phi)*nx(r, phi, theta_s, R, d).diff(r) + (cos(phi)*nx(r, phi, theta_s, R, d).diff(phi))/r\n",
    "dxny = cos(phi)*ny(r, phi, theta_s, R, d).diff(r) - (sin(phi)*ny(r, phi, theta_s, R, d).diff(phi))/r\n",
    "dyny = sin(phi)*ny(r, phi, theta_s, R, d).diff(r) + (cos(phi)*ny(r, phi, theta_s, R, d).diff(phi))/r"
   ]
  },
  {
   "cell_type": "code",
   "execution_count": 17,
   "metadata": {
    "collapsed": false
   },
   "outputs": [],
   "source": [
    "#dxnx"
   ]
  },
  {
   "cell_type": "code",
   "execution_count": 18,
   "metadata": {
    "collapsed": false
   },
   "outputs": [
    {
     "data": {
      "image/png": "[encoded data removed]",
      "text/latex": [
       "$$\\frac{\\theta_{s} \\sin{\\left (2 \\phi \\right )}}{2 d r K_{1}\\left(\\frac{R}{d}\\right)} \\left(2 d K_{1}\\left(\\frac{r}{d}\\right) + r K_{0}\\left(\\frac{r}{d}\\right)\\right)$$"
      ],
      "text/plain": [
       "    ⎛           ⎛   r⎞            ⎛   r⎞⎞         \n",
       "θ_s⋅⎜2⋅d⋅besselk⎜1, ─⎟ + r⋅besselk⎜0, ─⎟⎟⋅sin(2⋅φ)\n",
       "    ⎝           ⎝   d⎠            ⎝   d⎠⎠         \n",
       "──────────────────────────────────────────────────\n",
       "                            ⎛   R⎞                \n",
       "               2⋅d⋅r⋅besselk⎜1, ─⎟                \n",
       "                            ⎝   d⎠                "
      ]
     },
     "execution_count": 18,
     "metadata": {},
     "output_type": "execute_result"
    }
   ],
   "source": [
    "simplify(dxnx)"
   ]
  },
  {
   "cell_type": "code",
   "execution_count": 19,
   "metadata": {
    "collapsed": false
   },
   "outputs": [],
   "source": [
    "#dynx"
   ]
  },
  {
   "cell_type": "code",
   "execution_count": 20,
   "metadata": {
    "collapsed": false
   },
   "outputs": [
    {
     "data": {
      "image/png": "[encoded data removed]",
      "text/latex": [
       "$$\\frac{\\theta_{s}}{d r K_{1}\\left(\\frac{R}{d}\\right)} \\left(2 d \\sin^{2}{\\left (\\phi \\right )} K_{1}\\left(\\frac{r}{d}\\right) - d K_{1}\\left(\\frac{r}{d}\\right) + r \\sin^{2}{\\left (\\phi \\right )} K_{0}\\left(\\frac{r}{d}\\right)\\right)$$"
      ],
      "text/plain": [
       "    ⎛       2           ⎛   r⎞            ⎛   r⎞        2           ⎛   r⎞⎞\n",
       "θ_s⋅⎜2⋅d⋅sin (φ)⋅besselk⎜1, ─⎟ - d⋅besselk⎜1, ─⎟ + r⋅sin (φ)⋅besselk⎜0, ─⎟⎟\n",
       "    ⎝                   ⎝   d⎠            ⎝   d⎠                    ⎝   d⎠⎠\n",
       "───────────────────────────────────────────────────────────────────────────\n",
       "                                        ⎛   R⎞                             \n",
       "                             d⋅r⋅besselk⎜1, ─⎟                             \n",
       "                                        ⎝   d⎠                             "
      ]
     },
     "execution_count": 20,
     "metadata": {},
     "output_type": "execute_result"
    }
   ],
   "source": [
    "simplify(dynx)"
   ]
  },
  {
   "cell_type": "code",
   "execution_count": 21,
   "metadata": {
    "collapsed": false
   },
   "outputs": [],
   "source": [
    "#dxny"
   ]
  },
  {
   "cell_type": "code",
   "execution_count": 22,
   "metadata": {
    "collapsed": false
   },
   "outputs": [
    {
     "data": {
      "image/png": "[encoded data removed]",
      "text/latex": [
       "$$- \\frac{\\theta_{s}}{d r K_{1}\\left(\\frac{R}{d}\\right)} \\left(2 d \\cos^{2}{\\left (\\phi \\right )} K_{1}\\left(\\frac{r}{d}\\right) - d K_{1}\\left(\\frac{r}{d}\\right) + r \\cos^{2}{\\left (\\phi \\right )} K_{0}\\left(\\frac{r}{d}\\right)\\right)$$"
      ],
      "text/plain": [
       "     ⎛       2           ⎛   r⎞            ⎛   r⎞        2           ⎛   r⎞⎞ \n",
       "-θ_s⋅⎜2⋅d⋅cos (φ)⋅besselk⎜1, ─⎟ - d⋅besselk⎜1, ─⎟ + r⋅cos (φ)⋅besselk⎜0, ─⎟⎟ \n",
       "     ⎝                   ⎝   d⎠            ⎝   d⎠                    ⎝   d⎠⎠ \n",
       "─────────────────────────────────────────────────────────────────────────────\n",
       "                                         ⎛   R⎞                              \n",
       "                              d⋅r⋅besselk⎜1, ─⎟                              \n",
       "                                         ⎝   d⎠                              "
      ]
     },
     "execution_count": 22,
     "metadata": {},
     "output_type": "execute_result"
    }
   ],
   "source": [
    "simplify(dxny)"
   ]
  },
  {
   "cell_type": "code",
   "execution_count": 23,
   "metadata": {
    "collapsed": false
   },
   "outputs": [],
   "source": [
    "#dyny"
   ]
  },
  {
   "cell_type": "code",
   "execution_count": 24,
   "metadata": {
    "collapsed": false
   },
   "outputs": [
    {
     "data": {
      "image/png": "[encoded data removed]",
      "text/latex": [
       "$$- \\frac{\\theta_{s} \\sin{\\left (2 \\phi \\right )}}{2 d r K_{1}\\left(\\frac{R}{d}\\right)} \\left(2 d K_{1}\\left(\\frac{r}{d}\\right) + r K_{0}\\left(\\frac{r}{d}\\right)\\right)$$"
      ],
      "text/plain": [
       "     ⎛           ⎛   r⎞            ⎛   r⎞⎞          \n",
       "-θ_s⋅⎜2⋅d⋅besselk⎜1, ─⎟ + r⋅besselk⎜0, ─⎟⎟⋅sin(2⋅φ) \n",
       "     ⎝           ⎝   d⎠            ⎝   d⎠⎠          \n",
       "────────────────────────────────────────────────────\n",
       "                             ⎛   R⎞                 \n",
       "                2⋅d⋅r⋅besselk⎜1, ─⎟                 \n",
       "                             ⎝   d⎠                 "
      ]
     },
     "execution_count": 24,
     "metadata": {},
     "output_type": "execute_result"
    }
   ],
   "source": [
    "simplify(dyny)"
   ]
  },
  {
   "cell_type": "code",
   "execution_count": 25,
   "metadata": {
    "collapsed": false
   },
   "outputs": [],
   "source": [
    "def f(r, phi, theta_s, R, d, dxnx, dynx, dxny, dyny):\n",
    "    return (d**2/2)*(dxnx**2 + dynx**2 + dxny**2 + dyny**2 + 2*dxnx*dyny - 2*dxny*dynx) + (nx(r, phi, theta_s, R, d)**2 + ny(r, phi, theta_s, R, d)**2)/2"
   ]
  },
  {
   "cell_type": "code",
   "execution_count": 26,
   "metadata": {
    "collapsed": false
   },
   "outputs": [
    {
     "data": {
      "image/png": "[encoded data removed]",
      "text/latex": [
       "$$\\frac{\\theta_{s}^{2} \\left(K^{2}_{0}\\left(\\frac{r}{d}\\right) + K^{2}_{1}\\left(\\frac{r}{d}\\right)\\right)}{2 K^{2}_{1}\\left(\\frac{R}{d}\\right)}$$"
      ],
      "text/plain": [
       "   2 ⎛       2⎛   r⎞          2⎛   r⎞⎞\n",
       "θ_s ⋅⎜besselk ⎜0, ─⎟ + besselk ⎜1, ─⎟⎟\n",
       "     ⎝        ⎝   d⎠           ⎝   d⎠⎠\n",
       "──────────────────────────────────────\n",
       "                    2⎛   R⎞           \n",
       "           2⋅besselk ⎜1, ─⎟           \n",
       "                     ⎝   d⎠           "
      ]
     },
     "execution_count": 26,
     "metadata": {},
     "output_type": "execute_result"
    }
   ],
   "source": [
    "simplify(f(r, phi, theta_s, R, d, dxnx, dynx, dxny, dyny))"
   ]
  },
  {
   "cell_type": "code",
   "execution_count": 27,
   "metadata": {
    "collapsed": true
   },
   "outputs": [],
   "source": [
    "def simple_f(r, theta_s, d, R):\n",
    "    return (theta_s**2*(k0(r/d)**2 + k1(r/d)**2))/(2*k1(R/d)**2)"
   ]
  },
  {
   "cell_type": "markdown",
   "metadata": {},
   "source": [
    "##Two Cylinders E-Field"
   ]
  },
  {
   "cell_type": "code",
   "execution_count": 28,
   "metadata": {
    "collapsed": false
   },
   "outputs": [],
   "source": [
    "nx_L = nx_cart(sqrt((x+a)**2 + y**2), x, y, theta_s, R_L, d)\n",
    "ny_L = ny_cart(sqrt((x+a)**2 + y**2), x+a, y, theta_s, R_L, d)\n",
    "nx_R = nx_cart(sqrt((x-a)**2 + y**2), x, y, theta_s, R_R, d)\n",
    "ny_R = ny_cart(sqrt((x-a)**2 + y**2), x-a, y, theta_s, R_R, d)"
   ]
  },
  {
   "cell_type": "code",
   "execution_count": 41,
   "metadata": {
    "collapsed": false
   },
   "outputs": [],
   "source": [
    "#nx_L, nx_R"
   ]
  },
  {
   "cell_type": "code",
   "execution_count": 42,
   "metadata": {
    "collapsed": false
   },
   "outputs": [],
   "source": [
    "#ny_L, ny_R"
   ]
  },
  {
   "cell_type": "code",
   "execution_count": 31,
   "metadata": {
    "collapsed": true
   },
   "outputs": [],
   "source": [
    "nx_tot = nx_L + nx_R\n",
    "ny_tot = ny_L + ny_R"
   ]
  },
  {
   "cell_type": "code",
   "execution_count": 32,
   "metadata": {
    "collapsed": false
   },
   "outputs": [],
   "source": [
    "#simplify(nx_tot), simplify(ny_tot)"
   ]
  },
  {
   "cell_type": "code",
   "execution_count": 33,
   "metadata": {
    "collapsed": true
   },
   "outputs": [],
   "source": [
    "dxnx_2cyl = nx_tot.diff(x)\n",
    "dynx_2cyl = nx_tot.diff(y)\n",
    "dxny_2cyl = ny_tot.diff(x)\n",
    "dyny_2cyl = ny_tot.diff(y)"
   ]
  },
  {
   "cell_type": "code",
   "execution_count": 34,
   "metadata": {
    "collapsed": false
   },
   "outputs": [],
   "source": [
    "def f_2(n1, n2, theta_s, a, R_L, R_R, d, dxnx, dynx, dxny, dyny):\n",
    "    return (d**2/2)*(dxnx**2 + dynx**2 + dxny**2 + dyny**2 + 2*dxnx*dyny - 2*dxny*dynx) + (1/2)*(n1**2 + n2**2) - (1/2)"
   ]
  },
  {
   "cell_type": "code",
   "execution_count": 35,
   "metadata": {
    "collapsed": false
   },
   "outputs": [],
   "source": [
    "f_2cyl = f_2(nx_tot, ny_tot, theta_s, a, R_L, R_R, d, dxnx_2cyl, dynx_2cyl, dxny_2cyl, dyny_2cyl)"
   ]
  },
  {
   "cell_type": "code",
   "execution_count": 43,
   "metadata": {
    "collapsed": false,
    "scrolled": false
   },
   "outputs": [],
   "source": [
    "#f_2cyl"
   ]
  },
  {
   "cell_type": "code",
   "execution_count": 37,
   "metadata": {
    "collapsed": true
   },
   "outputs": [],
   "source": [
    "a = 3\n",
    "d = 1\n",
    "R_L = 1\n",
    "R_R = 1\n",
    "theta_s = 0.2"
   ]
  },
  {
   "cell_type": "code",
   "execution_count": 38,
   "metadata": {
    "collapsed": true
   },
   "outputs": [],
   "source": [
    "xTEST = np.linspace(1,30,200)\n",
    "yTEST = np.linspace(1,30,200)\n",
    "xZEROS = np.zeros(200)\n",
    "yZEROS = np.zeros(200)"
   ]
  },
  {
   "cell_type": "code",
   "execution_count": 39,
   "metadata": {
    "collapsed": false
   },
   "outputs": [],
   "source": [
    "#if __name__ == '__main__':\n",
    "\n",
    "#    sym2sci = {'besselj':jv,'besselk':kv,'besseli':iv,'bessely':yv}\n",
    "\n",
    "#    y = besselj(v+1,x)/x+x*besselk(v,x)-x**2*bessely(2,x)\n",
    "#    yx = diff(y,x)\n",
    "#    f = lambdify((v,x),yx,sym2sci)\n",
    "#    xn = np.linspace(0.01,5,100)\n",
    "\n",
    "#    plt.plot(xn,f(1,xn),lw=2)\n",
    "\n",
    "#    plt.show()"
   ]
  },
  {
   "cell_type": "code",
   "execution_count": 44,
   "metadata": {
    "collapsed": true
   },
   "outputs": [],
   "source": [
    "if __name__ == '__main__':\n",
    "\n",
    "    sy2sc = {'besselj':jv,'besselk':kv,'besseli':iv,'bessely':yv}\n",
    "    \n",
    "    NX_L = -theta_s*y*besselk(1,sqrt((x+a)**2 + y**2)/d)/(sqrt((x+a)**2 + y**2)*besselk(1,R_L/d))\n",
    "    NX_R = -theta_s*y*besselk(1,sqrt((x-a)**2 + y**2)/d)/(sqrt((x-a)**2 + y**2)*besselk(1,R_R/d))\n",
    "    NX = NX_L + NX_R\n",
    "    \n",
    "    NY_L = theta_s*(x+a)*besselk(1,sqrt((x+a)**2 + y**2)/d)/(sqrt((x+a)**2 + y**2)*besselk(1,R_L/d))\n",
    "    NY_R = theta_s*(x-a)*besselk(1,sqrt((x-a)**2 + y**2)/d)/(sqrt((x-a)**2 + y**2)*besselk(1,R_R/d))\n",
    "    NY = NY_L + NY_R\n",
    "    \n",
    "    DXNX = NX.diff(x)\n",
    "    DYNX = NX.diff(y)\n",
    "    DXNY = NY.diff(x)\n",
    "    DYNY = NY.diff(y)\n",
    "    \n",
    "    FFF = (d**2/2)*(DXNX**2 + DYNX**2 + DXNY**2 + DYNY**2 + 2*DXNX*DYNY - 2*DXNY*DYNX) + (1/2)*(NX**2 + NY**2) - (1/2)\n",
    "    #fff = lambdify((d,a,R_L,R_R,x,y), FFF, sy2sc)"
   ]
  },
  {
   "cell_type": "code",
   "execution_count": 45,
   "metadata": {
    "collapsed": false,
    "scrolled": true
   },
   "outputs": [
    {
     "data": {
      "image/png": "[encoded data removed]",
      "text/latex": [
       "$$\\left(- \\frac{0.2 y \\left(- x + 3\\right) K_{1}\\left(\\sqrt{y^{2} + \\left(x - 3\\right)^{2}}\\right)}{\\left(y^{2} + \\left(x - 3\\right)^{2}\\right)^{\\frac{3}{2}} K_{1}\\left(1.0\\right)} + \\frac{0.2 y}{\\left(y^{2} + \\left(x - 3\\right)^{2}\\right) K_{1}\\left(1.0\\right)} \\left(x - 3\\right) \\left(\\frac{1}{2} K_{0}\\left(\\sqrt{y^{2} + \\left(x - 3\\right)^{2}}\\right) + \\frac{1}{2} K_{2}\\left(\\sqrt{y^{2} + \\left(x - 3\\right)^{2}}\\right)\\right) + \\frac{0.2 y}{\\left(y^{2} + \\left(x + 3\\right)^{2}\\right) K_{1}\\left(1.0\\right)} \\left(x + 3\\right) \\left(\\frac{1}{2} K_{0}\\left(\\sqrt{y^{2} + \\left(x + 3\\right)^{2}}\\right) + \\frac{1}{2} K_{2}\\left(\\sqrt{y^{2} + \\left(x + 3\\right)^{2}}\\right)\\right) + \\frac{0.2 y \\left(x + 3\\right) K_{1}\\left(\\sqrt{y^{2} + \\left(x + 3\\right)^{2}}\\right)}{\\left(y^{2} + \\left(x + 3\\right)^{2}\\right)^{\\frac{3}{2}} K_{1}\\left(1.0\\right)}\\right)^{2}$$"
      ],
      "text/plain": [
       "                                                                              \n",
       "⎛                                                                    ⎛       ⎛\n",
       "⎜                                                                    ⎜       ⎜\n",
       "⎜                           ⎛      _______________⎞                  ⎜besselk⎝\n",
       "⎜                           ⎜     ╱  2          2 ⎟    0.2⋅y⋅(x - 3)⋅⎜────────\n",
       "⎜  - -0.2⋅y⋅(-x + 3)⋅besselk⎝1, ╲╱  y  + (x - 3)  ⎠                  ⎝        \n",
       "⎜- ───────────────────────────────────────────────── + ───────────────────────\n",
       "⎜                         3/2                                                 \n",
       "⎜          ⎛ 2          2⎞                                                    \n",
       "⎝          ⎝y  + (x - 3) ⎠   ⋅besselk(1, 1.0)                                 \n",
       "\n",
       "                                                                              \n",
       "      _______________⎞          ⎛      _______________⎞⎞                 ⎛    \n",
       "     ╱  2          2 ⎟          ⎜     ╱  2          2 ⎟⎟                 ⎜    \n",
       "0, ╲╱  y  + (x - 3)  ⎠   besselk⎝2, ╲╱  y  + (x - 3)  ⎠⎟                 ⎜bess\n",
       "────────────────────── + ──────────────────────────────⎟   0.2⋅y⋅(x + 3)⋅⎜────\n",
       "      2                                2               ⎠                 ⎝    \n",
       "──────────────────────────────────────────────────────── + ───────────────────\n",
       " ⎛ 2          2⎞                                                              \n",
       " ⎝y  + (x - 3) ⎠⋅besselk(1, 1.0)                                              \n",
       "                                                                              \n",
       "\n",
       "                                                                              \n",
       "   ⎛      _______________⎞          ⎛      _______________⎞⎞                  \n",
       "   ⎜     ╱  2          2 ⎟          ⎜     ╱  2          2 ⎟⎟                  \n",
       "elk⎝0, ╲╱  y  + (x + 3)  ⎠   besselk⎝2, ╲╱  y  + (x + 3)  ⎠⎟                  \n",
       "────────────────────────── + ──────────────────────────────⎟                  \n",
       "          2                                2               ⎠   0.2⋅y⋅(x + 3)⋅b\n",
       "──────────────────────────────────────────────────────────── + ───────────────\n",
       "     ⎛ 2          2⎞                                                          \n",
       "     ⎝y  + (x + 3) ⎠⋅besselk(1, 1.0)                                ⎛ 2       \n",
       "                                                                    ⎝y  + (x +\n",
       "\n",
       "                              2\n",
       "                             ⎞ \n",
       "                             ⎟ \n",
       "      ⎛      _______________⎞⎟ \n",
       "      ⎜     ╱  2          2 ⎟⎟ \n",
       "esselk⎝1, ╲╱  y  + (x + 3)  ⎠⎟ \n",
       "─────────────────────────────⎟ \n",
       "     3/2                     ⎟ \n",
       "   2⎞                        ⎟ \n",
       " 3) ⎠   ⋅besselk(1, 1.0)     ⎠ "
      ]
     },
     "execution_count": 45,
     "metadata": {},
     "output_type": "execute_result"
    }
   ],
   "source": [
    "simplify(DXNX**2)"
   ]
  },
  {
   "cell_type": "code",
   "execution_count": null,
   "metadata": {
    "collapsed": false
   },
   "outputs": [],
   "source": [
    "nx_L_lam = lambdify([R_L,theta_s,d], nx_cart(sqrt(394), 10, 15, theta_s, R_L, d),'numpy')"
   ]
  },
  {
   "cell_type": "code",
   "execution_count": null,
   "metadata": {
    "collapsed": true
   },
   "outputs": [],
   "source": [
    "func = lambdify([a,d,R_L,R_R,theta_s], f_2(nx_tot, ny_tot, theta_s, a, R_L, R_R, d, dxnx_2cyl, dynx_2cyl, dxny_2cyl, dyny_2cyl), modules='numpy',dummify=False)"
   ]
  },
  {
   "cell_type": "code",
   "execution_count": null,
   "metadata": {
    "collapsed": true
   },
   "outputs": [],
   "source": [
    "plot(sqrt(xZEROS**2+yTEST**2),f_2(nx_tot, ny_tot, theta_s, d, dxnx_2cyl, dynx_2cyl, dxny_2cyl, dyny_2cyl))"
   ]
  },
  {
   "cell_type": "code",
   "execution_count": null,
   "metadata": {
    "collapsed": true
   },
   "outputs": [],
   "source": [
    "I, e = quad(simple_f, 1, 200, args=(0.2, 10, 1, 500))"
   ]
  },
  {
   "cell_type": "code",
   "execution_count": null,
   "metadata": {
    "collapsed": false
   },
   "outputs": [],
   "source": [
    "I"
   ]
  },
  {
   "cell_type": "code",
   "execution_count": null,
   "metadata": {
    "collapsed": false
   },
   "outputs": [],
   "source": [
    "plt.scatter(np.linspace(1,200,1000), simple_f(np.linspace(1,200,1000), np.pi/6, 9, 1, 3.9))\n",
    "plt.xlim(0,10), plt.ylim(0, 25.5);"
   ]
  },
  {
   "cell_type": "code",
   "execution_count": null,
   "metadata": {
    "collapsed": false
   },
   "outputs": [],
   "source": [
    "simple_f(1, np.pi/6, 9, 1, 3.9)"
   ]
  },
  {
   "cell_type": "code",
   "execution_count": null,
   "metadata": {
    "collapsed": true
   },
   "outputs": [],
   "source": []
  }
 ],
 "metadata": {
  "kernelspec": {
   "display_name": "Python 3",
   "language": "python",
   "name": "python3"
  },
  "language_info": {
   "codemirror_mode": {
    "name": "ipython",
    "version": 3
   },
   "file_extension": ".py",
   "mimetype": "text/x-python",
   "name": "python",
   "nbconvert_exporter": "python",
   "pygments_lexer": "ipython3",
   "version": "3.4.0"
  }
 },
 "nbformat": 4,
 "nbformat_minor": 0
}
