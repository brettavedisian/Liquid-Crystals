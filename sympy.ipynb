{
 "cells": [
  {
   "cell_type": "code",
   "execution_count": 1,
   "metadata": {
    "collapsed": false
   },
   "outputs": [],
   "source": [
    "%matplotlib notebook\n",
    "from sympy import *\n",
    "from sympy import besselk, besselj\n",
    "from sympy.utilities.lambdify import lambdify\n",
    "from sympy.utilities.autowrap import ufuncify\n",
    "from sympy.utilities.lambdify import implemented_function\n",
    "from sympy.physics.hydrogen import R_nl\n",
    "import numpy as np\n",
    "from scipy.special import kn, jv, kv, iv, yv\n",
    "from scipy.integrate import quad\n",
    "import matplotlib.pyplot as plt\n",
    "from scipy import misc\n",
    "init_printing(use_unicode=True)"
   ]
  },
  {
   "cell_type": "code",
   "execution_count": 2,
   "metadata": {
    "collapsed": false
   },
   "outputs": [],
   "source": [
    "x, y, r, R, E, K, phi, theta_s, a, R_L, R_R, d, p, v = symbols('x y r R E K phi theta_s a R_L R_R d p v')"
   ]
  },
  {
   "cell_type": "markdown",
   "metadata": {},
   "source": [
    "##Single Cylinder"
   ]
  },
  {
   "cell_type": "code",
   "execution_count": null,
   "metadata": {
    "collapsed": true
   },
   "outputs": [],
   "source": [
    "def Nx(x,y,theta_s):\n",
    "    return -2*y*tan(theta_s/2)/(x**2 + y**2 + tan(theta_s/2)**2)\n",
    "\n",
    "def Ny(x,y,theta_s):\n",
    "    return 2*x*tan(theta_s/2)/(x**2 + y**2 + tan(theta_s/2)**2)"
   ]
  },
  {
   "cell_type": "code",
   "execution_count": null,
   "metadata": {
    "collapsed": false
   },
   "outputs": [],
   "source": [
    "Nx(x,y,theta_s)"
   ]
  },
  {
   "cell_type": "code",
   "execution_count": null,
   "metadata": {
    "collapsed": false
   },
   "outputs": [],
   "source": [
    "Ny(x,y,theta_s)"
   ]
  },
  {
   "cell_type": "code",
   "execution_count": null,
   "metadata": {
    "collapsed": true
   },
   "outputs": [],
   "source": [
    "DXNX = Nx(x,y,theta_s).diff(x)\n",
    "DYNX = Nx(x,y,theta_s).diff(y)\n",
    "DXNY = Ny(x,y,theta_s).diff(x)\n",
    "DYNY = Ny(x,y,theta_s).diff(y)"
   ]
  },
  {
   "cell_type": "code",
   "execution_count": null,
   "metadata": {
    "collapsed": false
   },
   "outputs": [],
   "source": [
    "DXNX"
   ]
  },
  {
   "cell_type": "code",
   "execution_count": null,
   "metadata": {
    "collapsed": false
   },
   "outputs": [],
   "source": [
    "DYNX"
   ]
  },
  {
   "cell_type": "code",
   "execution_count": null,
   "metadata": {
    "collapsed": false
   },
   "outputs": [],
   "source": [
    "DXNY"
   ]
  },
  {
   "cell_type": "code",
   "execution_count": null,
   "metadata": {
    "collapsed": false
   },
   "outputs": [],
   "source": [
    "DYNY"
   ]
  },
  {
   "cell_type": "code",
   "execution_count": null,
   "metadata": {
    "collapsed": true
   },
   "outputs": [],
   "source": [
    "def single_f(x, y, theta_s, dxnx, dynx, dxny, dyny):\n",
    "    return (dxnx**2 + dynx**2 + dxny**2 + dyny**2 + 2*dxnx*dyny - 2*dxny*dynx)/2"
   ]
  },
  {
   "cell_type": "code",
   "execution_count": null,
   "metadata": {
    "collapsed": false
   },
   "outputs": [],
   "source": [
    "simplify(single_f(x, y, theta_s, DXNX, DYNX, DXNY, DYNY))"
   ]
  },
  {
   "cell_type": "markdown",
   "metadata": {},
   "source": [
    "##Single Cylinder E-Field"
   ]
  },
  {
   "cell_type": "code",
   "execution_count": null,
   "metadata": {
    "collapsed": false
   },
   "outputs": [],
   "source": [
    "def nx(r, phi, theta_s, R, d):\n",
    "    return (-theta_s*sin(phi)*besselk(1, r/d)/besselk(1, R/d))\n",
    "\n",
    "def ny(r, phi, theta_s, R, d):\n",
    "    return (theta_s*cos(phi)*besselk(1, r/d)/besselk(1, R/d))"
   ]
  },
  {
   "cell_type": "code",
   "execution_count": null,
   "metadata": {
    "collapsed": false
   },
   "outputs": [],
   "source": [
    "nx(r, phi, theta_s, R, d)"
   ]
  },
  {
   "cell_type": "code",
   "execution_count": null,
   "metadata": {
    "collapsed": false
   },
   "outputs": [],
   "source": [
    "ny(r, phi, theta_s, R, d)"
   ]
  },
  {
   "cell_type": "code",
   "execution_count": null,
   "metadata": {
    "collapsed": false
   },
   "outputs": [],
   "source": [
    "dxnx = cos(phi)*nx(r, phi, theta_s, R, d).diff(r) - (sin(phi)*nx(r, phi, theta_s, R, d).diff(phi))/r\n",
    "dynx = sin(phi)*nx(r, phi, theta_s, R, d).diff(r) + (cos(phi)*nx(r, phi, theta_s, R, d).diff(phi))/r\n",
    "dxny = cos(phi)*ny(r, phi, theta_s, R, d).diff(r) - (sin(phi)*ny(r, phi, theta_s, R, d).diff(phi))/r\n",
    "dyny = sin(phi)*ny(r, phi, theta_s, R, d).diff(r) + (cos(phi)*ny(r, phi, theta_s, R, d).diff(phi))/r"
   ]
  },
  {
   "cell_type": "code",
   "execution_count": null,
   "metadata": {
    "collapsed": false
   },
   "outputs": [],
   "source": [
    "#dxnx"
   ]
  },
  {
   "cell_type": "code",
   "execution_count": null,
   "metadata": {
    "collapsed": false
   },
   "outputs": [],
   "source": [
    "simplify(dxnx)"
   ]
  },
  {
   "cell_type": "code",
   "execution_count": null,
   "metadata": {
    "collapsed": false
   },
   "outputs": [],
   "source": [
    "#dynx"
   ]
  },
  {
   "cell_type": "code",
   "execution_count": null,
   "metadata": {
    "collapsed": false
   },
   "outputs": [],
   "source": [
    "simplify(dynx)"
   ]
  },
  {
   "cell_type": "code",
   "execution_count": null,
   "metadata": {
    "collapsed": false
   },
   "outputs": [],
   "source": [
    "#dxny"
   ]
  },
  {
   "cell_type": "code",
   "execution_count": null,
   "metadata": {
    "collapsed": false
   },
   "outputs": [],
   "source": [
    "simplify(dxny)"
   ]
  },
  {
   "cell_type": "code",
   "execution_count": null,
   "metadata": {
    "collapsed": false
   },
   "outputs": [],
   "source": [
    "#dyny"
   ]
  },
  {
   "cell_type": "code",
   "execution_count": null,
   "metadata": {
    "collapsed": false
   },
   "outputs": [],
   "source": [
    "simplify(dyny)"
   ]
  },
  {
   "cell_type": "code",
   "execution_count": null,
   "metadata": {
    "collapsed": false
   },
   "outputs": [],
   "source": [
    "def f(r, phi, theta_s, R, d, dxnx, dynx, dxny, dyny):\n",
    "    return (d**2/2)*(dxnx**2 + dynx**2 + dxny**2 + dyny**2 + 2*dxnx*dyny - 2*dxny*dynx) + (nx(r, phi, theta_s, R, d)**2 + ny(r, phi, theta_s, R, d)**2)/2"
   ]
  },
  {
   "cell_type": "code",
   "execution_count": null,
   "metadata": {
    "collapsed": false
   },
   "outputs": [],
   "source": [
    "simplify(f(r, phi, theta_s, R, d, dxnx, dynx, dxny, dyny))"
   ]
  },
  {
   "cell_type": "code",
   "execution_count": null,
   "metadata": {
    "collapsed": true
   },
   "outputs": [],
   "source": [
    "def simple_f(r, theta_s, d, R):\n",
    "    return (theta_s**2*(k0(r/d)**2 + k1(r/d)**2))/(2*k1(R/d)**2)"
   ]
  },
  {
   "cell_type": "markdown",
   "metadata": {},
   "source": [
    "##Two Cylinders E-Field"
   ]
  },
  {
   "cell_type": "code",
   "execution_count": 3,
   "metadata": {
    "collapsed": true
   },
   "outputs": [],
   "source": [
    "def nx_cart(r, x, y, theta_s, R, d):\n",
    "    return (-theta_s*y*besselk(1, r/d))/(r*besselk(1, R/d))\n",
    "\n",
    "def ny_cart(r, x, y, theta_s, R, d):\n",
    "    return (theta_s*x*besselk(1, r/d))/(r*besselk(1, R/d))"
   ]
  },
  {
   "cell_type": "code",
   "execution_count": null,
   "metadata": {
    "collapsed": true
   },
   "outputs": [],
   "source": [
    "a = 2.1*0.1\n",
    "d = 1\n",
    "R_L = 0.1\n",
    "R_R = 0.1\n",
    "theta_s = 0.2"
   ]
  },
  {
   "cell_type": "code",
   "execution_count": 9,
   "metadata": {
    "collapsed": false
   },
   "outputs": [],
   "source": [
    "nx_L = nx_cart(sqrt((x+a)**2 + y**2), x, y, theta_s, R_L, d)\n",
    "ny_L = ny_cart(sqrt((x+a)**2 + y**2), x+a, y, theta_s, R_L, d)\n",
    "nx_R = nx_cart(sqrt((x-a)**2 + y**2), x, y, theta_s, R_R, d)\n",
    "ny_R = ny_cart(sqrt((x-a)**2 + y**2), x-a, y, theta_s, R_R, d)"
   ]
  },
  {
   "cell_type": "code",
   "execution_count": 5,
   "metadata": {
    "collapsed": false
   },
   "outputs": [],
   "source": [
    "#nx_L, nx_R"
   ]
  },
  {
   "cell_type": "code",
   "execution_count": 6,
   "metadata": {
    "collapsed": false
   },
   "outputs": [],
   "source": [
    "#ny_L, ny_R"
   ]
  },
  {
   "cell_type": "code",
   "execution_count": 10,
   "metadata": {
    "collapsed": true
   },
   "outputs": [],
   "source": [
    "nx_tot = nx_L + nx_R\n",
    "ny_tot = ny_L + ny_R"
   ]
  },
  {
   "cell_type": "code",
   "execution_count": 17,
   "metadata": {
    "collapsed": false
   },
   "outputs": [
    {
     "data": {
      "image/png": "[encoded data removed]",
      "text/latex": [
       "$$\\frac{\\theta_{s} \\left(- a + x\\right) K_{1}\\left(\\frac{1}{d} \\sqrt{y^{2} + \\left(- a + x\\right)^{2}}\\right)}{\\sqrt{y^{2} + \\left(- a + x\\right)^{2}} K_{1}\\left(\\frac{R_{R}}{d}\\right)} + \\frac{\\theta_{s} \\left(a + x\\right) K_{1}\\left(\\frac{1}{d} \\sqrt{y^{2} + \\left(a + x\\right)^{2}}\\right)}{\\sqrt{y^{2} + \\left(a + x\\right)^{2}} K_{1}\\left(\\frac{R_{L}}{d}\\right)}$$"
      ],
      "text/plain": [
       "                    ⎛      ________________⎞                      ⎛      _____\n",
       "                    ⎜     ╱  2           2 ⎟                      ⎜     ╱  2  \n",
       "                    ⎜   ╲╱  y  + (-a + x)  ⎟                      ⎜   ╲╱  y  +\n",
       "θ_s⋅(-a + x)⋅besselk⎜1, ───────────────────⎟   θ_s⋅(a + x)⋅besselk⎜1, ────────\n",
       "                    ⎝            d         ⎠                      ⎝           \n",
       "──────────────────────────────────────────── + ───────────────────────────────\n",
       "       ________________                               _______________         \n",
       "      ╱  2           2         ⎛   R_R⎞              ╱  2          2         ⎛\n",
       "    ╲╱  y  + (-a + x)  ⋅besselk⎜1, ───⎟            ╲╱  y  + (a + x)  ⋅besselk⎜\n",
       "                               ⎝    d ⎠                                      ⎝\n",
       "\n",
       "__________⎞\n",
       "        2 ⎟\n",
       " (a + x)  ⎟\n",
       "──────────⎟\n",
       "d         ⎠\n",
       "───────────\n",
       "           \n",
       "   R_L⎞    \n",
       "1, ───⎟    \n",
       "    d ⎠    "
      ]
     },
     "execution_count": 17,
     "metadata": {},
     "output_type": "execute_result"
    }
   ],
   "source": [
    "ny_tot"
   ]
  },
  {
   "cell_type": "code",
   "execution_count": 12,
   "metadata": {
    "collapsed": true
   },
   "outputs": [],
   "source": [
    "# plotting.plot3d(((ny_tot)),(x,-5,5),(y,-5,5));"
   ]
  },
  {
   "cell_type": "code",
   "execution_count": 13,
   "metadata": {
    "collapsed": false
   },
   "outputs": [],
   "source": [
    "#simplify(nx_tot), simplify(ny_tot)"
   ]
  },
  {
   "cell_type": "code",
   "execution_count": 18,
   "metadata": {
    "collapsed": true
   },
   "outputs": [],
   "source": [
    "dxnx_2cyl = nx_tot.diff(x)\n",
    "dynx_2cyl = nx_tot.diff(y)\n",
    "dxny_2cyl = ny_tot.diff(x)\n",
    "dyny_2cyl = ny_tot.diff(y)"
   ]
  },
  {
   "cell_type": "code",
   "execution_count": 15,
   "metadata": {
    "collapsed": false
   },
   "outputs": [
    {
     "data": {
      "image/png": "[encoded data removed]",
      "text/latex": [
       "$$0$$"
      ],
      "text/plain": [
       "0"
      ]
     },
     "execution_count": 15,
     "metadata": {},
     "output_type": "execute_result"
    }
   ],
   "source": [
    "simplify((dxnx_2cyl + dyny_2cyl)**2)"
   ]
  },
  {
   "cell_type": "code",
   "execution_count": 19,
   "metadata": {
    "collapsed": false
   },
   "outputs": [
    {
     "data": {
      "image/png": "[encoded data removed]",
      "text/latex": [
       "$$\\frac{\\theta_{s}^{2}}{2 d^{2} K^{2}_{1}\\left(\\frac{R_{L}}{d}\\right) K^{2}_{1}\\left(\\frac{R_{R}}{d}\\right)} \\left(K_{0}\\left(\\frac{1}{d} \\sqrt{a^{2} - 2 a x + x^{2} + y^{2}}\\right) K_{1}\\left(\\frac{R_{L}}{d}\\right) + K_{0}\\left(\\frac{1}{d} \\sqrt{a^{2} + 2 a x + x^{2} + y^{2}}\\right) K_{1}\\left(\\frac{R_{R}}{d}\\right)\\right)^{2}$$"
      ],
      "text/plain": [
       "                                                                              \n",
       "     ⎛       ⎛      ______________________⎞                          ⎛      __\n",
       "     ⎜       ⎜     ╱  2            2    2 ⎟                          ⎜     ╱  \n",
       "   2 ⎜       ⎜   ╲╱  a  - 2⋅a⋅x + x  + y  ⎟        ⎛   R_L⎞          ⎜   ╲╱  a\n",
       "θ_s ⋅⎜besselk⎜0, ─────────────────────────⎟⋅besselk⎜1, ───⎟ + besselk⎜0, ─────\n",
       "     ⎝       ⎝               d            ⎠        ⎝    d ⎠          ⎝        \n",
       "──────────────────────────────────────────────────────────────────────────────\n",
       "                                           2        2⎛   R_L⎞        2⎛   R_R⎞\n",
       "                                        2⋅d ⋅besselk ⎜1, ───⎟⋅besselk ⎜1, ───⎟\n",
       "                                                     ⎝    d ⎠         ⎝    d ⎠\n",
       "\n",
       "                                      2\n",
       "____________________⎞                ⎞ \n",
       "2            2    2 ⎟                ⎟ \n",
       "  + 2⋅a⋅x + x  + y  ⎟        ⎛   R_R⎞⎟ \n",
       "────────────────────⎟⋅besselk⎜1, ───⎟⎟ \n",
       "       d            ⎠        ⎝    d ⎠⎠ \n",
       "───────────────────────────────────────\n",
       "                                       \n",
       "                                       \n",
       "                                       "
      ]
     },
     "execution_count": 19,
     "metadata": {},
     "output_type": "execute_result"
    }
   ],
   "source": [
    "simplify(((dxny_2cyl - dynx_2cyl)**2)/2)"
   ]
  },
  {
   "cell_type": "code",
   "execution_count": 20,
   "metadata": {
    "collapsed": false,
    "scrolled": true
   },
   "outputs": [
    {
     "data": {
      "image/png": "[encoded data removed]",
      "text/latex": [
       "$$\\frac{\\theta_{s}^{2}}{2 \\left(y^{2} + \\left(a - x\\right)^{2}\\right) \\left(y^{2} + \\left(a + x\\right)^{2}\\right) K^{2}_{1}\\left(\\frac{R_{L}}{d}\\right) K^{2}_{1}\\left(\\frac{R_{R}}{d}\\right)} \\left(y^{2} \\left(\\sqrt{y^{2} + \\left(a - x\\right)^{2}} K_{1}\\left(\\frac{R_{R}}{d}\\right) K_{1}\\left(\\frac{1}{d} \\sqrt{y^{2} + \\left(a + x\\right)^{2}}\\right) + \\sqrt{y^{2} + \\left(a + x\\right)^{2}} K_{1}\\left(\\frac{R_{L}}{d}\\right) K_{1}\\left(\\frac{1}{d} \\sqrt{y^{2} + \\left(a - x\\right)^{2}}\\right)\\right)^{2} + \\left(\\left(a - x\\right) \\sqrt{y^{2} + \\left(a + x\\right)^{2}} K_{1}\\left(\\frac{R_{L}}{d}\\right) K_{1}\\left(\\frac{1}{d} \\sqrt{y^{2} + \\left(a - x\\right)^{2}}\\right) - \\left(a + x\\right) \\sqrt{y^{2} + \\left(a - x\\right)^{2}} K_{1}\\left(\\frac{R_{R}}{d}\\right) K_{1}\\left(\\frac{1}{d} \\sqrt{y^{2} + \\left(a + x\\right)^{2}}\\right)\\right)^{2}\\right)$$"
      ],
      "text/plain": [
       "     ⎛                                                                        \n",
       "     ⎜   ⎛                                          ⎛      _______________⎞   \n",
       "     ⎜   ⎜   _______________                        ⎜     ╱  2          2 ⎟   \n",
       "   2 ⎜ 2 ⎜  ╱  2          2         ⎛   R_R⎞        ⎜   ╲╱  y  + (a + x)  ⎟   \n",
       "θ_s ⋅⎜y ⋅⎜╲╱  y  + (a - x)  ⋅besselk⎜1, ───⎟⋅besselk⎜1, ──────────────────⎟ + \n",
       "     ⎝   ⎝                          ⎝    d ⎠        ⎝           d         ⎠   \n",
       "──────────────────────────────────────────────────────────────────────────────\n",
       "                                                                              \n",
       "                                                                              \n",
       "                                                                              \n",
       "\n",
       "                                                                  2           \n",
       "                                          ⎛      _______________⎞⎞    ⎛       \n",
       "   _______________                        ⎜     ╱  2          2 ⎟⎟    ⎜       \n",
       "  ╱  2          2         ⎛   R_L⎞        ⎜   ╲╱  y  + (a - x)  ⎟⎟    ⎜       \n",
       "╲╱  y  + (a + x)  ⋅besselk⎜1, ───⎟⋅besselk⎜1, ──────────────────⎟⎟  + ⎜(a - x)\n",
       "                          ⎝    d ⎠        ⎝           d         ⎠⎠    ⎝       \n",
       "──────────────────────────────────────────────────────────────────────────────\n",
       "                                         ⎛ 2          2⎞ ⎛ 2          2⎞      \n",
       "                                       2⋅⎝y  + (a - x) ⎠⋅⎝y  + (a + x) ⎠⋅besse\n",
       "                                                                              \n",
       "\n",
       "                                                                              \n",
       "                                           ⎛      _______________⎞            \n",
       "    _______________                        ⎜     ╱  2          2 ⎟            \n",
       "   ╱  2          2         ⎛   R_L⎞        ⎜   ╲╱  y  + (a - x)  ⎟            \n",
       "⋅╲╱  y  + (a + x)  ⋅besselk⎜1, ───⎟⋅besselk⎜1, ──────────────────⎟ - (a + x)⋅╲\n",
       "                           ⎝    d ⎠        ⎝           d         ⎠            \n",
       "──────────────────────────────────────────────────────────────────────────────\n",
       "  2⎛   R_L⎞        2⎛   R_R⎞                                                  \n",
       "lk ⎜1, ───⎟⋅besselk ⎜1, ───⎟                                                  \n",
       "   ⎝    d ⎠         ⎝    d ⎠                                                  \n",
       "\n",
       "                                                                 2⎞\n",
       "                                         ⎛      _______________⎞⎞ ⎟\n",
       "  _______________                        ⎜     ╱  2          2 ⎟⎟ ⎟\n",
       " ╱  2          2         ⎛   R_R⎞        ⎜   ╲╱  y  + (a + x)  ⎟⎟ ⎟\n",
       "╱  y  + (a - x)  ⋅besselk⎜1, ───⎟⋅besselk⎜1, ──────────────────⎟⎟ ⎟\n",
       "                         ⎝    d ⎠        ⎝           d         ⎠⎠ ⎠\n",
       "───────────────────────────────────────────────────────────────────\n",
       "                                                                   \n",
       "                                                                   \n",
       "                                                                   "
      ]
     },
     "execution_count": 20,
     "metadata": {},
     "output_type": "execute_result"
    }
   ],
   "source": [
    "simplify((nx_tot**2 + ny_tot**2)/2)"
   ]
  },
  {
   "cell_type": "code",
   "execution_count": null,
   "metadata": {
    "collapsed": false
   },
   "outputs": [],
   "source": [
    "ef"
   ]
  },
  {
   "cell_type": "code",
   "execution_count": null,
   "metadata": {
    "collapsed": false
   },
   "outputs": [],
   "source": [
    "def f_2(n1, n2, theta_s, a, R_L, R_R, d, dxnx, dynx, dxny, dyny):\n",
    "    return (d**2/2)*(dxnx**2 + dynx**2 + dxny**2 + dyny**2 + 2*dxnx*dyny - 2*dxny*dynx) + (1/2)*(n1**2 + n2**2) - (1/2)"
   ]
  },
  {
   "cell_type": "code",
   "execution_count": null,
   "metadata": {
    "collapsed": false
   },
   "outputs": [],
   "source": [
    "f_2cyl = f_2(nx_tot, ny_tot, theta_s, a, R_L, R_R, d, dxnx_2cyl, dynx_2cyl, dxny_2cyl, dyny_2cyl)"
   ]
  },
  {
   "cell_type": "code",
   "execution_count": null,
   "metadata": {
    "collapsed": false
   },
   "outputs": [],
   "source": [
    "plotting.plot3d((ef), (x,-5,5), (y,-5,5));"
   ]
  },
  {
   "cell_type": "code",
   "execution_count": null,
   "metadata": {
    "collapsed": false
   },
   "outputs": [],
   "source": [
    "plotting.plot3d((ef), (x,0,0), (y,-5,5));"
   ]
  },
  {
   "cell_type": "code",
   "execution_count": null,
   "metadata": {
    "collapsed": true
   },
   "outputs": [],
   "source": [
    "xTEST = np.linspace(1,30,200)\n",
    "yTEST = np.linspace(1,30,200)\n",
    "xZEROS = np.zeros(200)\n",
    "yZEROS = np.zeros(200)"
   ]
  },
  {
   "cell_type": "code",
   "execution_count": null,
   "metadata": {
    "collapsed": false
   },
   "outputs": [],
   "source": [
    "#if __name__ == '__main__':\n",
    "\n",
    "#    sym2sci = {'besselj':jv,'besselk':kv,'besseli':iv,'bessely':yv}\n",
    "\n",
    "#    y = besselj(v+1,x)/x+x*besselk(v,x)-x**2*bessely(2,x)\n",
    "#    yx = diff(y,x)\n",
    "#    f = lambdify((v,x),yx,sym2sci)\n",
    "#    xn = np.linspace(0.01,5,100)\n",
    "\n",
    "#    plt.plot(xn,f(1,xn),lw=2)\n",
    "\n",
    "#    plt.show()"
   ]
  },
  {
   "cell_type": "code",
   "execution_count": null,
   "metadata": {
    "collapsed": false
   },
   "outputs": [],
   "source": [
    "if __name__ == '__main__':\n",
    "\n",
    "    sy2sc = {'besselj':jv,'besselk':kv,'besseli':iv,'bessely':yv}\n",
    "    \n",
    "    NX_L = -theta_s*y*besselk(1,sqrt((x+a)**2 + y**2)/d)/(sqrt((x+a)**2 + y**2)*besselk(1,R_L/d))\n",
    "    NX_R = -theta_s*y*besselk(1,sqrt((x-a)**2 + y**2)/d)/(sqrt((x-a)**2 + y**2)*besselk(1,R_R/d))\n",
    "    NX = NX_L + NX_R\n",
    "    \n",
    "    NY_L = theta_s*(x+a)*besselk(1,sqrt((x+a)**2 + y**2)/d)/(sqrt((x+a)**2 + y**2)*besselk(1,R_L/d))\n",
    "    NY_R = theta_s*(x-a)*besselk(1,sqrt((x-a)**2 + y**2)/d)/(sqrt((x-a)**2 + y**2)*besselk(1,R_R/d))\n",
    "    NY = NY_L + NY_R\n",
    "    \n",
    "    DXNX = NX.diff(x)\n",
    "    DYNX = NX.diff(y)\n",
    "    DXNY = NY.diff(x)\n",
    "    DYNY = NY.diff(y)\n",
    "    \n",
    "    FFF = (d**2/2)*(DXNX**2 + DYNX**2 + DXNY**2 + DYNY**2 + 2*DXNX*DYNY - 2*DXNY*DYNX) + (1/2)*(NX**2 + NY**2)\n",
    "    #fff = lambdify((d,a,R_L,R_R,x,y), FFF, sy2sc)"
   ]
  },
  {
   "cell_type": "code",
   "execution_count": null,
   "metadata": {
    "collapsed": false
   },
   "outputs": [],
   "source": [
    "lambdify((a, R_L, R_R, d, theta_s, x, y), NX(a, R_L, R_R, d, theta_s, x, y), sy2sc)"
   ]
  },
  {
   "cell_type": "code",
   "execution_count": null,
   "metadata": {
    "collapsed": false
   },
   "outputs": [],
   "source": [
    "nx_L_lam = lambdify([R_L,theta_s,d], nx_cart(sqrt(394), 10, 15, theta_s, R_L, d),'numpy')"
   ]
  },
  {
   "cell_type": "code",
   "execution_count": null,
   "metadata": {
    "collapsed": true
   },
   "outputs": [],
   "source": [
    "func = lambdify([a,d,R_L,R_R,theta_s], f_2(nx_tot, ny_tot, theta_s, a, R_L, R_R, d, dxnx_2cyl, dynx_2cyl, dxny_2cyl, dyny_2cyl), modules='numpy',dummify=False)"
   ]
  },
  {
   "cell_type": "code",
   "execution_count": null,
   "metadata": {
    "collapsed": true
   },
   "outputs": [],
   "source": [
    "plot(sqrt(xZEROS**2+yTEST**2),f_2(nx_tot, ny_tot, theta_s, d, dxnx_2cyl, dynx_2cyl, dxny_2cyl, dyny_2cyl))"
   ]
  },
  {
   "cell_type": "code",
   "execution_count": null,
   "metadata": {
    "collapsed": true
   },
   "outputs": [],
   "source": [
    "I, e = quad(simple_f, 1, 200, args=(0.2, 10, 1, 500))"
   ]
  },
  {
   "cell_type": "code",
   "execution_count": null,
   "metadata": {
    "collapsed": false
   },
   "outputs": [],
   "source": [
    "I"
   ]
  },
  {
   "cell_type": "code",
   "execution_count": null,
   "metadata": {
    "collapsed": false
   },
   "outputs": [],
   "source": [
    "plt.scatter(np.linspace(1,200,1000), simple_f(np.linspace(1,200,1000), np.pi/6, 9, 1, 3.9))\n",
    "plt.xlim(0,10), plt.ylim(0, 25.5);"
   ]
  },
  {
   "cell_type": "code",
   "execution_count": null,
   "metadata": {
    "collapsed": false
   },
   "outputs": [],
   "source": [
    "simple_f(1, np.pi/6, 9, 1, 3.9)"
   ]
  },
  {
   "cell_type": "code",
   "execution_count": null,
   "metadata": {
    "collapsed": true
   },
   "outputs": [],
   "source": []
  }
 ],
 "metadata": {
  "kernelspec": {
   "display_name": "Python 3",
   "language": "python",
   "name": "python3"
  },
  "language_info": {
   "codemirror_mode": {
    "name": "ipython",
    "version": 3
   },
   "file_extension": ".py",
   "mimetype": "text/x-python",
   "name": "python",
   "nbconvert_exporter": "python",
   "pygments_lexer": "ipython3",
   "version": "3.4.0"
  }
 },
 "nbformat": 4,
 "nbformat_minor": 0
}
