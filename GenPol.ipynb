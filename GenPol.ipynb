{
 "cells": [
  {
   "cell_type": "code",
   "execution_count": 1,
   "metadata": {
    "collapsed": true
   },
   "outputs": [],
   "source": [
    "%matplotlib inline\n",
    "from sympy import *\n",
    "from sympy.utilities.lambdify import implemented_function\n",
    "from sympy.abc import x, y, z\n",
    "import numpy as np\n",
    "import matplotlib.pyplot as plt\n",
    "init_printing(use_unicode=True)"
   ]
  },
  {
   "cell_type": "code",
   "execution_count": 2,
   "metadata": {
    "collapsed": false
   },
   "outputs": [],
   "source": [
    "r, u, v, c, r_c, u_c, v_c, E, p, r_p, u_p, v_p, e, a, b, q, b_0, b_1, b_2, b_3, q_0, q_1, q_2, q_3, q_4, q_5  = symbols('r u v c r_c u_c v_c E p r_p u_p v_p e a b q b_0 b_1 b_2 b_3 q_0 q_1 q_2 q_3 q_4 q_5')"
   ]
  },
  {
   "cell_type": "code",
   "execution_count": 3,
   "metadata": {
    "collapsed": true
   },
   "outputs": [],
   "source": [
    "gamma = symbols('gamma',positive=True)"
   ]
  },
  {
   "cell_type": "markdown",
   "metadata": {},
   "source": [
    "####$f_{2}(c,p) = \\dfrac{1}{2}r_{c}c^{2}+\\dfrac{1}{4}u_{c}c^{4}+\\dfrac{1}{6}v_{c}c^{6}+\\dfrac{1}{2}r_{p}p^{2}+\\dfrac{1}{4}u_{p}p^{4}+\\dfrac{1}{6}v_{p}p^{6}-\\gamma cp-ec^{2}p^{2}-Ep$"
   ]
  },
  {
   "cell_type": "code",
   "execution_count": 67,
   "metadata": {
    "collapsed": true
   },
   "outputs": [],
   "source": [
    "f2 = ((1/2)*r_c*c**2+(1/4)*u_c*c**4+(1/6)*v_c*c**6+(1/2)*r_p*p**2\n",
    "      +(1/4)*u_p*p**4+(1/6)*v_p*p**6-E*p-gamma*c*p-e*c**2*p**2)"
   ]
  },
  {
   "cell_type": "markdown",
   "metadata": {},
   "source": [
    "###Solve for $E(c,p)$\n",
    "\n",
    "###$\\dfrac{\\partial f_{2}(c,p)}{\\partial p} = 0 = $"
   ]
  },
  {
   "cell_type": "code",
   "execution_count": 6,
   "metadata": {
    "collapsed": false
   },
   "outputs": [
    {
     "data": {
      "image/png": "[encoded data removed]",
      "text/latex": [
       "$$- 2.0 c^{2} e p - c \\gamma + p^{5} v_{p} + p^{3} u_{p} + p r_{p}$$"
      ],
      "text/plain": [
       "             2              5        3            \n",
       "- -2.0⋅(-1)⋅c ⋅e⋅p - c⋅γ + p ⋅v_p + p ⋅u_p + p⋅r_p"
      ]
     },
     "execution_count": 6,
     "metadata": {},
     "output_type": "execute_result"
    }
   ],
   "source": [
    "E_c = solve(f2.diff(p),E)[0]\n",
    "E_c"
   ]
  },
  {
   "cell_type": "markdown",
   "metadata": {},
   "source": [
    "###Solve for $p_{min}(c)$\n",
    "\n",
    "###$\\dfrac{\\partial f_{2}(c,p)}{\\partial c} = 0 = $"
   ]
  },
  {
   "cell_type": "code",
   "execution_count": 78,
   "metadata": {
    "collapsed": false
   },
   "outputs": [
    {
     "data": {
      "image/png": "[encoded data removed]",
      "text/latex": [
       "$$\\left [ \\frac{1}{c e} \\left(- 0.25 \\gamma + 0.25 \\sqrt{8.0 c^{6} e v_{c} + 8.0 c^{4} e u_{c} + 8.0 c^{2} e r_{c} + \\gamma^{2}}\\right), \\quad - \\frac{1}{c e} \\left(0.25 \\gamma + 0.25 \\sqrt{8.0 c^{6} e v_{c} + 8.0 c^{4} e u_{c} + 8.0 c^{2} e r_{c} + \\gamma^{2}}\\right)\\right ]$$"
      ],
      "text/plain": [
       "⎡     ⎛        _________________________________________________⎞        ⎛    \n",
       "⎢     ⎜       ╱      6              4              2          2 ⎟        ⎜    \n",
       "⎢0.25⋅⎝-γ + ╲╱  8.0⋅c ⋅e⋅v_c + 8.0⋅c ⋅e⋅u_c + 8.0⋅c ⋅e⋅r_c + γ  ⎠  -0.25⋅⎝γ + \n",
       "⎢────────────────────────────────────────────────────────────────, ───────────\n",
       "⎣                              c⋅e                                            \n",
       "\n",
       "   _________________________________________________⎞ ⎤\n",
       "  ╱      6              4              2          2 ⎟ ⎥\n",
       "╲╱  8.0⋅c ⋅e⋅v_c + 8.0⋅c ⋅e⋅u_c + 8.0⋅c ⋅e⋅r_c + γ  ⎠ ⎥\n",
       "──────────────────────────────────────────────────────⎥\n",
       "                    c⋅e                               ⎦"
      ]
     },
     "execution_count": 78,
     "metadata": {},
     "output_type": "execute_result"
    }
   ],
   "source": [
    "solve(f2.diff(c),p)"
   ]
  },
  {
   "cell_type": "code",
   "execution_count": 79,
   "metadata": {
    "collapsed": false
   },
   "outputs": [
    {
     "data": {
      "image/png": "[encoded data removed]",
      "text/latex": [
       "$$\\frac{1}{4 c e} \\left(- \\gamma + \\sqrt{8 c^{6} e v_{c} + 8 c^{4} e u_{c} + 8 c^{2} e r_{c} + \\gamma^{2}}\\right)$$"
      ],
      "text/plain": [
       "        ___________________________________________\n",
       "       ╱    6            4            2          2 \n",
       "-γ + ╲╱  8⋅c ⋅e⋅v_c + 8⋅c ⋅e⋅u_c + 8⋅c ⋅e⋅r_c + γ  \n",
       "───────────────────────────────────────────────────\n",
       "                       4⋅c⋅e                       "
      ]
     },
     "execution_count": 79,
     "metadata": {},
     "output_type": "execute_result"
    }
   ],
   "source": [
    "p_min = nsimplify(solve(f2.diff(c),p)[0])\n",
    "p_min"
   ]
  },
  {
   "cell_type": "markdown",
   "metadata": {},
   "source": [
    "###Plug $p_{min}(c)$ into $E(p,c)$:"
   ]
  },
  {
   "cell_type": "code",
   "execution_count": 8,
   "metadata": {
    "collapsed": false
   },
   "outputs": [
    {
     "data": {
      "image/png": "[encoded data removed]",
      "text/latex": [
       "$$- c \\gamma - \\frac{c}{2} \\left(- \\gamma + \\sqrt{8 c^{6} e v_{c} + 8 c^{4} e u_{c} + 8 c^{2} e r_{c} + \\gamma^{2}}\\right) + \\frac{r_{p}}{4 c e} \\left(- \\gamma + \\sqrt{8 c^{6} e v_{c} + 8 c^{4} e u_{c} + 8 c^{2} e r_{c} + \\gamma^{2}}\\right) + \\frac{u_{p}}{64 c^{3} e^{3}} \\left(- \\gamma + \\sqrt{8 c^{6} e v_{c} + 8 c^{4} e u_{c} + 8 c^{2} e r_{c} + \\gamma^{2}}\\right)^{3} + \\frac{v_{p}}{1024 c^{5} e^{5}} \\left(- \\gamma + \\sqrt{8 c^{6} e v_{c} + 8 c^{4} e u_{c} + 8 c^{2} e r_{c} + \\gamma^{2}}\\right)^{5}$$"
      ],
      "text/plain": [
       "                                                                              \n",
       "         ⎛        ___________________________________________⎞       ⎛        \n",
       "         ⎜       ╱    6            4            2          2 ⎟       ⎜       ╱\n",
       "       c⋅⎝-γ + ╲╱  8⋅c ⋅e⋅v_c + 8⋅c ⋅e⋅u_c + 8⋅c ⋅e⋅r_c + γ  ⎠   r_p⋅⎝-γ + ╲╱ \n",
       "-c⋅γ - ─────────────────────────────────────────────────────── + ─────────────\n",
       "                                  2                                           \n",
       "                                                                              \n",
       "\n",
       "                                                                              \n",
       "___________________________________________⎞       ⎛        __________________\n",
       "    6            4            2          2 ⎟       ⎜       ╱    6            4\n",
       " 8⋅c ⋅e⋅v_c + 8⋅c ⋅e⋅u_c + 8⋅c ⋅e⋅r_c + γ  ⎠   u_p⋅⎝-γ + ╲╱  8⋅c ⋅e⋅v_c + 8⋅c \n",
       "──────────────────────────────────────────── + ───────────────────────────────\n",
       "             4⋅c⋅e                                                          3 \n",
       "                                                                        64⋅c ⋅\n",
       "\n",
       "                          3                                                   \n",
       "_________________________⎞        ⎛        ___________________________________\n",
       "            2          2 ⎟        ⎜       ╱    6            4            2    \n",
       "⋅e⋅u_c + 8⋅c ⋅e⋅r_c + γ  ⎠    v_p⋅⎝-γ + ╲╱  8⋅c ⋅e⋅v_c + 8⋅c ⋅e⋅u_c + 8⋅c ⋅e⋅r\n",
       "─────────────────────────── + ────────────────────────────────────────────────\n",
       " 3                                                          5  5              \n",
       "e                                                     1024⋅c ⋅e               \n",
       "\n",
       "         5\n",
       "________⎞ \n",
       "      2 ⎟ \n",
       "_c + γ  ⎠ \n",
       "──────────\n",
       "          \n",
       "          "
      ]
     },
     "execution_count": 8,
     "metadata": {},
     "output_type": "execute_result"
    }
   ],
   "source": [
    "E_c = nsimplify(E_c.subs(p,p_min))\n",
    "E_c"
   ]
  },
  {
   "cell_type": "markdown",
   "metadata": {},
   "source": [
    "###Series expand $E(p_{min}(c),c)$ in powers of $c$ to order 7:"
   ]
  },
  {
   "cell_type": "code",
   "execution_count": 9,
   "metadata": {
    "collapsed": false
   },
   "outputs": [
    {
     "data": {
      "image/png": "[encoded data removed]",
      "text/latex": [
       "$$c \\left(- \\gamma + \\frac{r_{c} r_{p}}{\\gamma}\\right) + c^{3} \\left(- \\frac{2 e}{\\gamma} r_{c} - \\frac{2 e}{\\gamma^{3}} r_{c}^{2} r_{p} + \\frac{r_{p} u_{c}}{\\gamma} + \\frac{r_{c}^{3} u_{p}}{\\gamma^{3}}\\right) + c^{5} \\left(\\frac{4 e^{2}}{\\gamma^{3}} r_{c}^{2} + \\frac{8 r_{p}}{\\gamma^{5}} e^{2} r_{c}^{3} - \\frac{2 e}{\\gamma} u_{c} - \\frac{4 e}{\\gamma^{3}} r_{c} r_{p} u_{c} - \\frac{6 e}{\\gamma^{5}} r_{c}^{4} u_{p} + \\frac{r_{p} v_{c}}{\\gamma} + \\frac{3 u_{c}}{\\gamma^{3}} r_{c}^{2} u_{p} + \\frac{r_{c}^{5} v_{p}}{\\gamma^{5}}\\right) + \\mathcal{O}\\left(c^{7}\\right)$$"
      ],
      "text/plain": [
       "                      ⎛                   2                    3    ⎞      ⎛  \n",
       "  ⎛     r_c⋅r_p⎞    3 ⎜  2⋅e⋅r_c   2⋅e⋅r_c ⋅r_p   r_p⋅u_c   r_c ⋅u_p⎟    5 ⎜4⋅\n",
       "c⋅⎜-γ + ───────⎟ + c ⋅⎜- ─────── - ──────────── + ─────── + ────────⎟ + c ⋅⎜──\n",
       "  ⎝        γ   ⎠      ⎜     γ            3           γ          3   ⎟      ⎜  \n",
       "                      ⎝                 γ                      γ    ⎠      ⎝  \n",
       "\n",
       " 2    2      2    3                                          4                \n",
       "e ⋅r_c    8⋅e ⋅r_c ⋅r_p   2⋅e⋅u_c   4⋅e⋅r_c⋅r_p⋅u_c   6⋅e⋅r_c ⋅u_p   r_p⋅v_c  \n",
       "─────── + ───────────── - ─────── - ─────────────── - ──────────── + ─────── +\n",
       "   3             5           γ              3               5           γ     \n",
       "  γ             γ                          γ               γ                  \n",
       "\n",
       "      2              5    ⎞        \n",
       " 3⋅r_c ⋅u_c⋅u_p   r_c ⋅v_p⎟    ⎛ 7⎞\n",
       " ────────────── + ────────⎟ + O⎝c ⎠\n",
       "        3             5   ⎟        \n",
       "       γ             γ    ⎠        "
      ]
     },
     "execution_count": 9,
     "metadata": {},
     "output_type": "execute_result"
    }
   ],
   "source": [
    "series(E_c,c,n=7)"
   ]
  },
  {
   "cell_type": "code",
   "execution_count": 81,
   "metadata": {
    "collapsed": true
   },
   "outputs": [],
   "source": [
    "Etrun = a*c+b*c**3+q*c**5"
   ]
  },
  {
   "cell_type": "code",
   "execution_count": 82,
   "metadata": {
    "collapsed": false
   },
   "outputs": [
    {
     "data": {
      "image/png": "[encoded data removed]",
      "text/latex": [
       "$$\\left [ - \\frac{\\sqrt{10}}{10} \\sqrt{- \\frac{3 b}{q} - \\frac{1}{q} \\sqrt{- 20 a q + 9 b^{2}}}, \\quad \\frac{\\sqrt{10}}{10} \\sqrt{- \\frac{3 b}{q} - \\frac{1}{q} \\sqrt{- 20 a q + 9 b^{2}}}, \\quad - \\frac{\\sqrt{10}}{10} \\sqrt{- \\frac{3 b}{q} + \\frac{1}{q} \\sqrt{- 20 a q + 9 b^{2}}}, \\quad \\frac{\\sqrt{10}}{10} \\sqrt{- \\frac{3 b}{q} + \\frac{1}{q} \\sqrt{- 20 a q + 9 b^{2}}}\\right ]$$"
      ],
      "text/plain": [
       "⎡              _____________________________                __________________\n",
       "⎢             ╱            ________________                ╱            ______\n",
       "⎢            ╱            ╱              2                ╱            ╱      \n",
       "⎢   ____    ╱     3⋅b   ╲╱  -20⋅a⋅q + 9⋅b        ____    ╱     3⋅b   ╲╱  -20⋅a\n",
       "⎢-╲╱ 10 ⋅  ╱    - ─── - ───────────────────    ╲╱ 10 ⋅  ╱    - ─── - ─────────\n",
       "⎢        ╲╱        q             q                    ╲╱        q             \n",
       "⎢────────────────────────────────────────────, ───────────────────────────────\n",
       "⎣                     10                                           10         \n",
       "\n",
       "___________                _____________________________                ______\n",
       "__________                ╱            ________________                ╱      \n",
       "        2                ╱            ╱              2                ╱       \n",
       "⋅q + 9⋅b        ____    ╱     3⋅b   ╲╱  -20⋅a⋅q + 9⋅b        ____    ╱     3⋅b\n",
       "──────────   -╲╱ 10 ⋅  ╱    - ─── + ───────────────────    ╲╱ 10 ⋅  ╱    - ───\n",
       "q                    ╲╱        q             q                    ╲╱        q \n",
       "───────────, ────────────────────────────────────────────, ───────────────────\n",
       "                                  10                                          \n",
       "\n",
       "_______________________⎤\n",
       "      ________________ ⎥\n",
       "     ╱              2  ⎥\n",
       "   ╲╱  -20⋅a⋅q + 9⋅b   ⎥\n",
       " + ─────────────────── ⎥\n",
       "            q          ⎥\n",
       "───────────────────────⎥\n",
       " 10                    ⎦"
      ]
     },
     "execution_count": 82,
     "metadata": {},
     "output_type": "execute_result"
    }
   ],
   "source": [
    "solve(Etrun.diff(c),c)"
   ]
  },
  {
   "cell_type": "code",
   "execution_count": 11,
   "metadata": {
    "collapsed": false
   },
   "outputs": [],
   "source": [
    "c_L = solve(Etrun.diff(c),c)[1]\n",
    "c_U = solve(Etrun.diff(c),c)[3]"
   ]
  },
  {
   "cell_type": "code",
   "execution_count": 12,
   "metadata": {
    "collapsed": false
   },
   "outputs": [],
   "source": [
    "E_L = simplify(Etrun.subs(c,c_L))\n",
    "E_U = simplify(Etrun.subs(c,c_U))"
   ]
  },
  {
   "cell_type": "code",
   "execution_count": 13,
   "metadata": {
    "collapsed": false
   },
   "outputs": [
    {
     "data": {
      "image/png": "[encoded data removed]",
      "text/latex": [
       "$$\\left ( \\frac{\\sqrt{10}}{250 q} \\sqrt{\\frac{1}{q} \\left(- 3 b - \\sqrt{- 20 a q + 9 b^{2}}\\right)} \\left(20 a q - 3 b^{2} - b \\sqrt{- 20 a q + 9 b^{2}}\\right), \\quad \\frac{\\sqrt{10}}{250 q} \\sqrt{\\frac{1}{q} \\left(- 3 b + \\sqrt{- 20 a q + 9 b^{2}}\\right)} \\left(20 a q - 3 b^{2} + b \\sqrt{- 20 a q + 9 b^{2}}\\right)\\right )$$"
      ],
      "text/plain": [
       "⎛             ____________________________                                    \n",
       "⎜            ╱           ________________                                     \n",
       "⎜           ╱           ╱              2   ⎛                     _____________\n",
       "⎜  ____    ╱   -3⋅b - ╲╱  -20⋅a⋅q + 9⋅b    ⎜            2       ╱             \n",
       "⎜╲╱ 10 ⋅  ╱    ────────────────────────── ⋅⎝20⋅a⋅q - 3⋅b  - b⋅╲╱  -20⋅a⋅q + 9⋅\n",
       "⎜       ╲╱                 q                                                  \n",
       "⎜─────────────────────────────────────────────────────────────────────────────\n",
       "⎝                                      250⋅q                                  \n",
       "\n",
       "                   ____________________________                               \n",
       "                  ╱           ________________                                \n",
       "___⎞             ╱           ╱              2   ⎛                     ________\n",
       " 2 ⎟    ____    ╱   -3⋅b + ╲╱  -20⋅a⋅q + 9⋅b    ⎜            2       ╱        \n",
       "b  ⎠  ╲╱ 10 ⋅  ╱    ────────────────────────── ⋅⎝20⋅a⋅q - 3⋅b  + b⋅╲╱  -20⋅a⋅q\n",
       "             ╲╱                 q                                             \n",
       "────, ────────────────────────────────────────────────────────────────────────\n",
       "                                            250⋅q                             \n",
       "\n",
       "         ⎞\n",
       "         ⎟\n",
       "________⎞⎟\n",
       "      2 ⎟⎟\n",
       " + 9⋅b  ⎠⎟\n",
       "         ⎟\n",
       "─────────⎟\n",
       "         ⎠"
      ]
     },
     "execution_count": 13,
     "metadata": {},
     "output_type": "execute_result"
    }
   ],
   "source": [
    "E_L,E_U"
   ]
  },
  {
   "cell_type": "code",
   "execution_count": 65,
   "metadata": {
    "collapsed": true
   },
   "outputs": [],
   "source": [
    "rc = (gamma**2+gamma*a)/r_p\n",
    "\n",
    "B = (r_p*u_c*gamma**2+r_c**3*u_p-2*e*r_c*gamma**2-2*e*r_c**2*r_p)/gamma**3\n",
    "\n",
    "Q = (4*e**2*r_c**2*gamma**2+8*r_p*e**2*r_c**3-2*e*u_c*gamma**4\n",
    "     -4*e*r_c*r_p*u_c*gamma**2-6*e*r_c**4*u_p+r_p*v_c*gamma**4\n",
    "     +3*u_c*r_c**2*u_p*gamma**2+r_c**5*v_p)/gamma**5"
   ]
  },
  {
   "cell_type": "code",
   "execution_count": 60,
   "metadata": {
    "collapsed": false
   },
   "outputs": [
    {
     "data": {
      "image/png": "[encoded data removed]",
      "text/latex": [
       "$$\\frac{a^{3} u_{p}}{r_{p}^{3}} + a^{2} \\left(- \\frac{2 e}{\\gamma r_{p}} + \\frac{3 u_{p}}{r_{p}^{3}} \\gamma\\right) + a \\left(- \\frac{6 e}{r_{p}} + \\frac{3 u_{p}}{r_{p}^{3}} \\gamma^{2}\\right) - \\frac{4 e}{r_{p}} \\gamma + \\frac{\\gamma^{3} u_{p}}{r_{p}^{3}} + \\frac{r_{p} u_{c}}{\\gamma}$$"
      ],
      "text/plain": [
       " 3                                  ⎛           2    ⎞            3           \n",
       "a ⋅u_p    2 ⎛   2⋅e    3⋅γ⋅u_p⎞     ⎜  6⋅e   3⋅γ ⋅u_p⎟   4⋅e⋅γ   γ ⋅u_p   r_p⋅\n",
       "────── + a ⋅⎜- ───── + ───────⎟ + a⋅⎜- ─── + ────────⎟ - ───── + ────── + ────\n",
       "    3       ⎜  γ⋅r_p        3 ⎟     ⎜  r_p        3  ⎟    r_p        3       γ\n",
       " r_p        ⎝            r_p  ⎠     ⎝          r_p   ⎠            r_p         \n",
       "\n",
       "   \n",
       "u_c\n",
       "───\n",
       "   \n",
       "   "
      ]
     },
     "execution_count": 60,
     "metadata": {},
     "output_type": "execute_result"
    }
   ],
   "source": [
    "collect(expand(B.subs(r_c,rc)),a)"
   ]
  },
  {
   "cell_type": "code",
   "execution_count": 63,
   "metadata": {
    "collapsed": true
   },
   "outputs": [
    {
     "data": {
      "image/png": "[encoded data removed]",
      "text/latex": [
       "$$\\frac{r_{p} u_{c}}{\\gamma}$$"
      ],
      "text/plain": [
       "r_p⋅u_c\n",
       "───────\n",
       "   γ   "
      ]
     },
     "execution_count": 63,
     "metadata": {},
     "output_type": "execute_result"
    }
   ],
   "source": [
    "collect(expand(B.subs([(r_c,rc),(v_p,0),(u_p,0),(e,0)])),a)"
   ]
  },
  {
   "cell_type": "code",
   "execution_count": 64,
   "metadata": {
    "collapsed": true
   },
   "outputs": [
    {
     "data": {
      "image/png": "[encoded data removed]",
      "text/latex": [
       "$$\\frac{r_{p} v_{c}}{\\gamma}$$"
      ],
      "text/plain": [
       "r_p⋅v_c\n",
       "───────\n",
       "   γ   "
      ]
     },
     "execution_count": 64,
     "metadata": {},
     "output_type": "execute_result"
    }
   ],
   "source": [
    "collect(expand(Q.subs([(r_c,rc),(v_p,0),(u_p,0),(e,0)])),a)"
   ]
  },
  {
   "cell_type": "code",
   "execution_count": 61,
   "metadata": {
    "collapsed": false
   },
   "outputs": [
    {
     "data": {
      "image/png": "[encoded data removed]",
      "text/latex": [
       "$$\\frac{a^{5} v_{p}}{r_{p}^{5}} + a^{4} \\left(- \\frac{6 e u_{p}}{\\gamma r_{p}^{4}} + \\frac{5 v_{p}}{r_{p}^{5}} \\gamma\\right) + a^{3} \\left(\\frac{8 e^{2}}{\\gamma^{2} r_{p}^{2}} - \\frac{24 e}{r_{p}^{4}} u_{p} + \\frac{10 v_{p}}{r_{p}^{5}} \\gamma^{2}\\right) + a^{2} \\left(\\frac{28 e^{2}}{\\gamma r_{p}^{2}} - \\frac{36 e}{r_{p}^{4}} \\gamma u_{p} + \\frac{10 v_{p}}{r_{p}^{5}} \\gamma^{3} + \\frac{3 u_{c} u_{p}}{\\gamma r_{p}^{2}}\\right) + a \\left(\\frac{32 e^{2}}{r_{p}^{2}} - \\frac{24 e}{r_{p}^{4}} \\gamma^{2} u_{p} - \\frac{4 e}{\\gamma^{2}} u_{c} + \\frac{5 v_{p}}{r_{p}^{5}} \\gamma^{4} + \\frac{6 u_{c}}{r_{p}^{2}} u_{p}\\right) + \\frac{12 \\gamma}{r_{p}^{2}} e^{2} - \\frac{6 e}{r_{p}^{4}} \\gamma^{3} u_{p} - \\frac{6 e}{\\gamma} u_{c} + \\frac{\\gamma^{5} v_{p}}{r_{p}^{5}} + \\frac{3 u_{c}}{r_{p}^{2}} \\gamma u_{p} + \\frac{r_{p} v_{c}}{\\gamma}$$"
      ],
      "text/plain": [
       " 5                                     ⎛     2                   2    ⎞      ⎛\n",
       "a ⋅v_p    4 ⎛  6⋅e⋅u_p   5⋅γ⋅v_p⎞    3 ⎜  8⋅e     24⋅e⋅u_p   10⋅γ ⋅v_p⎟    2 ⎜\n",
       "────── + a ⋅⎜- ─────── + ───────⎟ + a ⋅⎜─────── - ──────── + ─────────⎟ + a ⋅⎜\n",
       "    5       ⎜        4        5 ⎟      ⎜ 2    2        4           5  ⎟      ⎜\n",
       " r_p        ⎝   γ⋅r_p      r_p  ⎠      ⎝γ ⋅r_p      r_p         r_p   ⎠      ⎝\n",
       "\n",
       "    2                     3                ⎞     ⎛    2         2             \n",
       "28⋅e     36⋅e⋅γ⋅u_p   10⋅γ ⋅v_p   3⋅u_c⋅u_p⎟     ⎜32⋅e    24⋅e⋅γ ⋅u_p   4⋅e⋅u_\n",
       "────── - ────────── + ───────── + ─────────⎟ + a⋅⎜───── - ─────────── - ──────\n",
       "     2         4            5            2 ⎟     ⎜    2          4          2 \n",
       "γ⋅r_p       r_p          r_p        γ⋅r_p  ⎠     ⎝ r_p        r_p          γ  \n",
       "\n",
       "       4                ⎞       2          3                  5               \n",
       "c   5⋅γ ⋅v_p   6⋅u_c⋅u_p⎟   12⋅e ⋅γ   6⋅e⋅γ ⋅u_p   6⋅e⋅u_c   γ ⋅v_p   3⋅γ⋅u_c⋅\n",
       "─ + ──────── + ─────────⎟ + ─────── - ────────── - ─────── + ────── + ────────\n",
       "         5           2  ⎟        2          4         γ          5           2\n",
       "      r_p         r_p   ⎠     r_p        r_p                  r_p         r_p \n",
       "\n",
       "             \n",
       "u_p   r_p⋅v_c\n",
       "─── + ───────\n",
       "         γ   \n",
       "             "
      ]
     },
     "execution_count": 61,
     "metadata": {},
     "output_type": "execute_result"
    }
   ],
   "source": [
    "collect(expand(Q.subs(r_c,rc)),a)"
   ]
  },
  {
   "cell_type": "code",
   "execution_count": 83,
   "metadata": {
    "collapsed": true
   },
   "outputs": [],
   "source": [
    "b0 = (gamma**6*u_p-4*e*gamma**4*r_p**2+u_c*gamma**2*r_p**4)/(gamma*r_p)**3\n",
    "\n",
    "b1 = (3*u_p*gamma**5-6*e*gamma**3*r_p**2)/(gamma*r_p)**3\n",
    "\n",
    "b2 = (3*u_p*gamma**4-2*e*gamma**2*r_p**2)/(gamma*r_p)**3\n",
    "\n",
    "b3 = u_p/r_p**3\n",
    "\n",
    "q0 = (v_p*gamma**10-6*e*u_p*gamma**8*r_p+3*gamma**6*r_p**3*(4*e**2+u_c*u_p)-6*e*u_c*r_p**5*gamma**4+v_c*r_p**6*gamma**4)/(gamma*r_p)**5\n",
    "\n",
    "q1 = (5*v_p*gamma**9-24*e*u_p*gamma**7*r_p+2*gamma**5*r_p**3*(16*e**2+3*u_c*u_p)-4*e*u_c*r_p**5*gamma**3)/(gamma*r_p)**5\n",
    "\n",
    "q2 = (10*v_p*gamma**8-36*e*u_p*gamma**6*r_p+gamma**4*r_p**3*(28*e**2+3*u_c*u_p))/(gamma*r_p)**5\n",
    "\n",
    "q3 = (10*v_p*gamma**7-24*e*u_p*gamma**5*r_p+8*e**2*gamma**3*r_p**3)/(gamma*r_p)**5\n",
    "\n",
    "q4 = (5*v_p*gamma**6-6*e*u_p*gamma**4*r_p)/(gamma*r_p)**5\n",
    "\n",
    "q5 = v_p/r_p**5"
   ]
  },
  {
   "cell_type": "code",
   "execution_count": 84,
   "metadata": {
    "collapsed": true
   },
   "outputs": [],
   "source": [
    "#Ted's Q coeff's\n",
    "q0_ted = -q0\n",
    "\n",
    "q1_ted = -q1\n",
    "\n",
    "q2_ted = -q2\n",
    "\n",
    "q3_ted = -q3\n",
    "\n",
    "q4_ted = -q4\n",
    "\n",
    "q5_ted = -q5"
   ]
  },
  {
   "cell_type": "code",
   "execution_count": 85,
   "metadata": {
    "collapsed": false
   },
   "outputs": [
    {
     "data": {
      "image/png": "[encoded data removed]",
      "text/latex": [
       "$$\\left ( \\frac{1}{\\gamma r_{p}^{5}} \\left(6 e \\gamma^{4} r_{p} u_{p} + 6 e r_{p}^{5} u_{c} - \\gamma^{6} v_{p} - 3 \\gamma^{2} r_{p}^{3} \\left(4 e^{2} + u_{c} u_{p}\\right) - r_{p}^{6} v_{c}\\right), \\quad \\frac{1}{\\gamma r_{p}^{5}} \\left(- 6 e \\gamma^{4} r_{p} u_{p} - 6 e r_{p}^{5} u_{c} + \\gamma^{6} v_{p} + 3 \\gamma^{2} r_{p}^{3} \\left(4 e^{2} + u_{c} u_{p}\\right) + r_{p}^{6} v_{c}\\right)\\right )$$"
      ],
      "text/plain": [
       "⎛     4                  5        6          2    3 ⎛   2          ⎞      6   \n",
       "⎜6⋅e⋅γ ⋅r_p⋅u_p + 6⋅e⋅r_p ⋅u_c - γ ⋅v_p - 3⋅γ ⋅r_p ⋅⎝4⋅e  + u_c⋅u_p⎠ - r_p ⋅v_\n",
       "⎜─────────────────────────────────────────────────────────────────────────────\n",
       "⎜                                         5                                   \n",
       "⎝                                    γ⋅r_p                                    \n",
       "\n",
       "          4                  5        6          2    3 ⎛   2          ⎞      \n",
       "c  - 6⋅e⋅γ ⋅r_p⋅u_p - 6⋅e⋅r_p ⋅u_c + γ ⋅v_p + 3⋅γ ⋅r_p ⋅⎝4⋅e  + u_c⋅u_p⎠ + r_p\n",
       "─, ───────────────────────────────────────────────────────────────────────────\n",
       "                                             5                                \n",
       "                                        γ⋅r_p                                 \n",
       "\n",
       "6    ⎞\n",
       " ⋅v_c⎟\n",
       "─────⎟\n",
       "     ⎟\n",
       "     ⎠"
      ]
     },
     "execution_count": 85,
     "metadata": {},
     "output_type": "execute_result"
    }
   ],
   "source": [
    "simplify(q0_ted),simplify(q0)"
   ]
  },
  {
   "cell_type": "code",
   "execution_count": 86,
   "metadata": {
    "collapsed": false
   },
   "outputs": [],
   "source": [
    "uc = solve(b0-b_0,u_c)[0]\n",
    "up = solve(b3-b_3,u_p)[0]\n",
    "vc = solve(q0-q_0,v_c)[0]\n",
    "vp = solve(q5-q_5,v_p)[0]\n",
    "# vc = solve(q0_ted-q_0,v_c)[0]\n",
    "# vp = solve(q5_ted-q_5,v_p)[0]"
   ]
  },
  {
   "cell_type": "code",
   "execution_count": 87,
   "metadata": {
    "collapsed": false
   },
   "outputs": [],
   "source": [
    "vc = vc.subs(v_p,vp)"
   ]
  },
  {
   "cell_type": "code",
   "execution_count": 88,
   "metadata": {
    "collapsed": false
   },
   "outputs": [
    {
     "data": {
      "image/png": "[encoded data removed]",
      "text/latex": [
       "$$\\frac{1}{r_{p}^{6}} \\left(6 e \\gamma^{4} r_{p} u_{p} - \\gamma^{6} q_{5} r_{p}^{5} - 3 \\gamma^{2} r_{p}^{3} \\left(4 e^{2} + u_{c} u_{p}\\right) + r_{p}^{5} \\left(6 e u_{c} + \\gamma q_{0}\\right)\\right)$$"
      ],
      "text/plain": [
       "     4            6       5      2    3 ⎛   2          ⎞      5               \n",
       "6⋅e⋅γ ⋅r_p⋅u_p - γ ⋅q₅⋅r_p  - 3⋅γ ⋅r_p ⋅⎝4⋅e  + u_c⋅u_p⎠ + r_p ⋅(6⋅e⋅u_c + γ⋅q\n",
       "──────────────────────────────────────────────────────────────────────────────\n",
       "                                         6                                    \n",
       "                                      r_p                                     \n",
       "\n",
       "  \n",
       "₀)\n",
       "──\n",
       "  \n",
       "  "
      ]
     },
     "execution_count": 88,
     "metadata": {},
     "output_type": "execute_result"
    }
   ],
   "source": [
    "vc"
   ]
  },
  {
   "cell_type": "markdown",
   "metadata": {},
   "source": [
    "###$b_1$"
   ]
  },
  {
   "cell_type": "code",
   "execution_count": 89,
   "metadata": {
    "collapsed": false
   },
   "outputs": [],
   "source": [
    "b1 = simplify(b1.subs(u_p,up))"
   ]
  },
  {
   "cell_type": "code",
   "execution_count": 90,
   "metadata": {
    "collapsed": false
   },
   "outputs": [
    {
     "data": {
      "image/png": "[encoded data removed]",
      "text/latex": [
       "$$3 b_{3} \\gamma^{2} - \\frac{6 e}{r_{p}}$$"
      ],
      "text/plain": [
       "      2   6⋅e\n",
       "3⋅b₃⋅γ  - ───\n",
       "          r_p"
      ]
     },
     "execution_count": 90,
     "metadata": {},
     "output_type": "execute_result"
    }
   ],
   "source": [
    "b1"
   ]
  },
  {
   "cell_type": "markdown",
   "metadata": {},
   "source": [
    "###$b_2$"
   ]
  },
  {
   "cell_type": "code",
   "execution_count": 91,
   "metadata": {
    "collapsed": false
   },
   "outputs": [],
   "source": [
    "b2 = simplify(b2.subs(u_p,up))"
   ]
  },
  {
   "cell_type": "code",
   "execution_count": 92,
   "metadata": {
    "collapsed": false
   },
   "outputs": [
    {
     "data": {
      "image/png": "[encoded data removed]",
      "text/latex": [
       "$$3 b_{3} \\gamma - \\frac{2 e}{\\gamma r_{p}}$$"
      ],
      "text/plain": [
       "          2⋅e \n",
       "3⋅b₃⋅γ - ─────\n",
       "         γ⋅r_p"
      ]
     },
     "execution_count": 92,
     "metadata": {},
     "output_type": "execute_result"
    }
   ],
   "source": [
    "b2"
   ]
  },
  {
   "cell_type": "markdown",
   "metadata": {},
   "source": [
    "###$B(a)$ i.t.o. $b_3$"
   ]
  },
  {
   "cell_type": "code",
   "execution_count": 93,
   "metadata": {
    "collapsed": false,
    "scrolled": true
   },
   "outputs": [],
   "source": [
    "B_a = b_0+b1*a+b2*a**2+b_3*a**3"
   ]
  },
  {
   "cell_type": "code",
   "execution_count": 94,
   "metadata": {
    "collapsed": false
   },
   "outputs": [
    {
     "data": {
      "image/png": "[encoded data removed]",
      "text/latex": [
       "$$a^{3} b_{3} + a^{2} \\left(3 b_{3} \\gamma - \\frac{2 e}{\\gamma r_{p}}\\right) + a \\left(3 b_{3} \\gamma^{2} - \\frac{6 e}{r_{p}}\\right) + b_{0}$$"
      ],
      "text/plain": [
       " 3       2 ⎛          2⋅e ⎞     ⎛      2   6⋅e⎞     \n",
       "a ⋅b₃ + a ⋅⎜3⋅b₃⋅γ - ─────⎟ + a⋅⎜3⋅b₃⋅γ  - ───⎟ + b₀\n",
       "           ⎝         γ⋅r_p⎠     ⎝          r_p⎠     "
      ]
     },
     "execution_count": 94,
     "metadata": {},
     "output_type": "execute_result"
    }
   ],
   "source": [
    "B_a"
   ]
  },
  {
   "cell_type": "code",
   "execution_count": 95,
   "metadata": {
    "collapsed": true
   },
   "outputs": [],
   "source": [
    "def B_a(a,gamma,e,r_p,b_0,b_3):\n",
    "    return a**3*b_3+a**2*(3*b_3*gamma-2*e/(gamma*r_p))+a*(3*b_3*gamma**2-6*e/r_p)+b_0"
   ]
  },
  {
   "cell_type": "code",
   "execution_count": 96,
   "metadata": {
    "collapsed": false
   },
   "outputs": [
    {
     "data": {
      "image/png": "[encoded data removed]",
      "text/latex": [
       "$$a^{3} b_{3} + a^{2} \\left(3 b_{3} \\gamma - \\frac{2 e}{\\gamma r_{p}}\\right) + a \\left(3 b_{3} \\gamma^{2} - \\frac{6 e}{r_{p}}\\right) + b_{0}$$"
      ],
      "text/plain": [
       " 3       2 ⎛          2⋅e ⎞     ⎛      2   6⋅e⎞     \n",
       "a ⋅b₃ + a ⋅⎜3⋅b₃⋅γ - ─────⎟ + a⋅⎜3⋅b₃⋅γ  - ───⎟ + b₀\n",
       "           ⎝         γ⋅r_p⎠     ⎝          r_p⎠     "
      ]
     },
     "execution_count": 96,
     "metadata": {},
     "output_type": "execute_result"
    }
   ],
   "source": [
    "B_a(a,gamma,e,r_p,b_0,b_3)"
   ]
  },
  {
   "cell_type": "code",
   "execution_count": 97,
   "metadata": {
    "collapsed": true
   },
   "outputs": [],
   "source": [
    "replacements = [(v_p,vp),(u_p,up),(u_c,uc)]"
   ]
  },
  {
   "cell_type": "markdown",
   "metadata": {},
   "source": [
    "###$q_1$"
   ]
  },
  {
   "cell_type": "code",
   "execution_count": 98,
   "metadata": {
    "collapsed": false
   },
   "outputs": [],
   "source": [
    "q1 = simplify(q1.subs(replacements))\n",
    "q1_ted = simplify(q1_ted.subs(replacements))"
   ]
  },
  {
   "cell_type": "code",
   "execution_count": 99,
   "metadata": {
    "collapsed": false
   },
   "outputs": [
    {
     "data": {
      "image/png": "[encoded data removed]",
      "text/latex": [
       "$$\\left ( 6 b_{0} b_{3} \\gamma - \\frac{4 b_{0} e}{\\gamma r_{p}} - \\frac{6 b_{3}}{r_{p}^{3}} \\gamma^{4} u_{p} + \\frac{16 e^{2}}{r_{p}^{2}} + \\frac{4 e}{r_{p}^{4}} \\gamma^{2} u_{p} + 5 \\gamma^{4} q_{5}, \\quad - 6 b_{0} b_{3} \\gamma + \\frac{4 b_{0} e}{\\gamma r_{p}} + \\frac{6 b_{3}}{r_{p}^{3}} \\gamma^{4} u_{p} - \\frac{16 e^{2}}{r_{p}^{2}} - \\frac{4 e}{r_{p}^{4}} \\gamma^{2} u_{p} - 5 \\gamma^{4} q_{5}\\right )$$"
      ],
      "text/plain": [
       "⎛                           4           2        2                            \n",
       "⎜            4⋅b₀⋅e   6⋅b₃⋅γ ⋅u_p   16⋅e    4⋅e⋅γ ⋅u_p      4                 \n",
       "⎜6⋅b₀⋅b₃⋅γ - ────── - ─────────── + ───── + ────────── + 5⋅γ ⋅q₅, -6⋅b₀⋅b₃⋅γ +\n",
       "⎜            γ⋅r_p           3          2         4                           \n",
       "⎝                         r_p        r_p       r_p                            \n",
       "\n",
       "                4           2        2              ⎞\n",
       " 4⋅b₀⋅e   6⋅b₃⋅γ ⋅u_p   16⋅e    4⋅e⋅γ ⋅u_p      4   ⎟\n",
       " ────── + ─────────── - ───── - ────────── - 5⋅γ ⋅q₅⎟\n",
       " γ⋅r_p           3          2         4             ⎟\n",
       "              r_p        r_p       r_p              ⎠"
      ]
     },
     "execution_count": 99,
     "metadata": {},
     "output_type": "execute_result"
    }
   ],
   "source": [
    "q1,q1_ted"
   ]
  },
  {
   "cell_type": "markdown",
   "metadata": {},
   "source": [
    "###$q_2$"
   ]
  },
  {
   "cell_type": "code",
   "execution_count": 100,
   "metadata": {
    "collapsed": false
   },
   "outputs": [],
   "source": [
    "q2 = simplify(q2.subs(replacements))\n",
    "q2_ted = simplify(q2_ted.subs(replacements))"
   ]
  },
  {
   "cell_type": "code",
   "execution_count": 101,
   "metadata": {
    "collapsed": false
   },
   "outputs": [
    {
     "data": {
      "image/png": "[encoded data removed]",
      "text/latex": [
       "$$\\left ( 3 b_{0} b_{3} - \\frac{24 b_{3}}{r_{p}} e \\gamma - \\frac{3 b_{3}}{r_{p}^{3}} \\gamma^{3} u_{p} + \\frac{28 e^{2}}{\\gamma r_{p}^{2}} + 10 \\gamma^{3} q_{5}, \\quad - 3 b_{0} b_{3} + \\frac{24 b_{3}}{r_{p}} e \\gamma + \\frac{3 b_{3}}{r_{p}^{3}} \\gamma^{3} u_{p} - \\frac{28 e^{2}}{\\gamma r_{p}^{2}} - 10 \\gamma^{3} q_{5}\\right )$$"
      ],
      "text/plain": [
       "⎛                            3           2                                    \n",
       "⎜          24⋅b₃⋅e⋅γ   3⋅b₃⋅γ ⋅u_p   28⋅e         3                24⋅b₃⋅e⋅γ  \n",
       "⎜3⋅b₀⋅b₃ - ───────── - ─────────── + ────── + 10⋅γ ⋅q₅, -3⋅b₀⋅b₃ + ───────── +\n",
       "⎜             r_p             3           2                           r_p     \n",
       "⎝                          r_p       γ⋅r_p                                    \n",
       "\n",
       "       3           2            ⎞\n",
       " 3⋅b₃⋅γ ⋅u_p   28⋅e         3   ⎟\n",
       " ─────────── - ────── - 10⋅γ ⋅q₅⎟\n",
       "        3           2           ⎟\n",
       "     r_p       γ⋅r_p            ⎠"
      ]
     },
     "execution_count": 101,
     "metadata": {},
     "output_type": "execute_result"
    }
   ],
   "source": [
    "q2,q2_ted"
   ]
  },
  {
   "cell_type": "markdown",
   "metadata": {},
   "source": [
    "###$q_3$"
   ]
  },
  {
   "cell_type": "code",
   "execution_count": 102,
   "metadata": {
    "collapsed": false
   },
   "outputs": [],
   "source": [
    "q3 = simplify(q3.subs(replacements))\n",
    "q3_ted = simplify(q3_ted.subs(replacements))"
   ]
  },
  {
   "cell_type": "code",
   "execution_count": 103,
   "metadata": {
    "collapsed": false
   },
   "outputs": [
    {
     "data": {
      "image/png": "[encoded data removed]",
      "text/latex": [
       "$$\\left ( - \\frac{24 b_{3}}{r_{p}} e + \\frac{8 e^{2}}{\\gamma^{2} r_{p}^{2}} + 10 \\gamma^{2} q_{5}, \\quad \\frac{24 b_{3}}{r_{p}} e - \\frac{8 e^{2}}{\\gamma^{2} r_{p}^{2}} - 10 \\gamma^{2} q_{5}\\right )$$"
      ],
      "text/plain": [
       "⎛                 2                             2            ⎞\n",
       "⎜  24⋅b₃⋅e     8⋅e         2     24⋅b₃⋅e     8⋅e         2   ⎟\n",
       "⎜- ─────── + ─────── + 10⋅γ ⋅q₅, ─────── - ─────── - 10⋅γ ⋅q₅⎟\n",
       "⎜    r_p      2    2               r_p      2    2           ⎟\n",
       "⎝            γ ⋅r_p                        γ ⋅r_p            ⎠"
      ]
     },
     "execution_count": 103,
     "metadata": {},
     "output_type": "execute_result"
    }
   ],
   "source": [
    "q3,q3_ted"
   ]
  },
  {
   "cell_type": "markdown",
   "metadata": {},
   "source": [
    "###$q_4$"
   ]
  },
  {
   "cell_type": "code",
   "execution_count": 104,
   "metadata": {
    "collapsed": false
   },
   "outputs": [],
   "source": [
    "q4 = simplify(q4.subs(replacements))\n",
    "q4_ted = simplify(q4_ted.subs(replacements))"
   ]
  },
  {
   "cell_type": "code",
   "execution_count": 105,
   "metadata": {
    "collapsed": false
   },
   "outputs": [
    {
     "data": {
      "image/png": "[encoded data removed]",
      "text/latex": [
       "$$\\left ( - \\frac{6 b_{3} e}{\\gamma r_{p}} + 5 \\gamma q_{5}, \\quad \\frac{6 b_{3} e}{\\gamma r_{p}} - 5 \\gamma q_{5}\\right )$$"
      ],
      "text/plain": [
       "⎛  6⋅b₃⋅e           6⋅b₃⋅e         ⎞\n",
       "⎜- ────── + 5⋅γ⋅q₅, ────── - 5⋅γ⋅q₅⎟\n",
       "⎝  γ⋅r_p            γ⋅r_p          ⎠"
      ]
     },
     "execution_count": 105,
     "metadata": {},
     "output_type": "execute_result"
    }
   ],
   "source": [
    "q4,q4_ted"
   ]
  },
  {
   "cell_type": "markdown",
   "metadata": {},
   "source": [
    "###$Q(a)$ i.t.o. $b_0$, $b_3$, $q_5$"
   ]
  },
  {
   "cell_type": "code",
   "execution_count": 106,
   "metadata": {
    "collapsed": false
   },
   "outputs": [],
   "source": [
    "Q_a = q_0+q1*a+q2*a**2+q3*a**3+q4*a**4+q_5*a**5\n",
    "Q_a_ted = q_0+q1_ted*a+q2_ted*a**2+q3_ted*a**3+q4_ted*a**4+q_5*a**5"
   ]
  },
  {
   "cell_type": "code",
   "execution_count": 109,
   "metadata": {
    "collapsed": true
   },
   "outputs": [],
   "source": [
    "def Q_a(a,gamma,q_5,b_3,e,r_p,b_0,u_p,q_0):\n",
    "    return (a**5*q_5+a**4*(-6*b_3*e/(gamma*r_p)+5*gamma*q_5)\n",
    "            +a**3*(-24*b_3*e/r_p+8*e**2/(gamma*r_p)**2+10*gamma**2*q_5)\n",
    "            +a**2*(3*b_0*b_3-24*b_3*e*gamma/r_p-3*b_3*gamma**3*u_p/r_p**3+28*e**2/(gamma*r_p**2)+10*gamma**3*q_5)\n",
    "            +a*(6*b_0*b_3*gamma-4*b_0*e/(gamma*r_p)-6*b_3*gamma**4*u_p/r_p**3+16*e**2/r_p**2+4*e*gamma**2*u_p/r_p**4+5*gamma**4*q_5)\n",
    "            +q_0)\n",
    "\n",
    "def Q_a_ted(a,gamma,q_5,b_3,e,r_p,b_0,u_p,q_0):\n",
    "    return (a**5*q_5+a**4*(6*b_3*e/(gamma*r_p)+5*gamma*q_5)\n",
    "            +a**3*(24*b_3*e/r_p-8*e**2/(gamma*r_p)**2+10*gamma**2*q_5)\n",
    "            +a**2*(-3*b_0*b_3+24*b_3*e*gamma/r_p+3*b_3*gamma**3*u_p/r_p**3-28*e**2/(gamma*r_p**2)+10*gamma**3*q_5)\n",
    "            +a*(-6*b_0*b_3*gamma+4*b_0*e/(gamma*r_p)+6*b_3*gamma**4*u_p/r_p**3-16*e**2/r_p**2-4*e*gamma**2*u_p/r_p**4+5*gamma**4*q_5)\n",
    "            +q_0)"
   ]
  },
  {
   "cell_type": "code",
   "execution_count": 110,
   "metadata": {
    "collapsed": false
   },
   "outputs": [
    {
     "data": {
      "image/png": "[encoded data removed]",
      "text/latex": [
       "$$a^{5} q_{5} + a^{4} \\left(- \\frac{6 b_{3} e}{\\gamma r_{p}} + 5 \\gamma q_{5}\\right) + a^{3} \\left(- \\frac{24 b_{3}}{r_{p}} e + \\frac{8 e^{2}}{\\gamma^{2} r_{p}^{2}} + 10 \\gamma^{2} q_{5}\\right) + a^{2} \\left(3 b_{0} b_{3} - \\frac{24 b_{3}}{r_{p}} e \\gamma - \\frac{3 b_{3}}{r_{p}^{3}} \\gamma^{3} u_{p} + \\frac{28 e^{2}}{\\gamma r_{p}^{2}} + 10 \\gamma^{3} q_{5}\\right) + a \\left(6 b_{0} b_{3} \\gamma - \\frac{4 b_{0} e}{\\gamma r_{p}} - \\frac{6 b_{3}}{r_{p}^{3}} \\gamma^{4} u_{p} + \\frac{16 e^{2}}{r_{p}^{2}} + \\frac{4 e}{r_{p}^{4}} \\gamma^{2} u_{p} + 5 \\gamma^{4} q_{5}\\right) + q_{0}$$"
      ],
      "text/plain": [
       "                                    ⎛                 2            ⎞      ⎛   \n",
       " 5       4 ⎛  6⋅b₃⋅e         ⎞    3 ⎜  24⋅b₃⋅e     8⋅e         2   ⎟    2 ⎜   \n",
       "a ⋅q₅ + a ⋅⎜- ────── + 5⋅γ⋅q₅⎟ + a ⋅⎜- ─────── + ─────── + 10⋅γ ⋅q₅⎟ + a ⋅⎜3⋅b\n",
       "           ⎝  γ⋅r_p          ⎠      ⎜    r_p      2    2           ⎟      ⎜   \n",
       "                                    ⎝            γ ⋅r_p            ⎠      ⎝   \n",
       "\n",
       "                         3           2            ⎞     ⎛                     \n",
       "       24⋅b₃⋅e⋅γ   3⋅b₃⋅γ ⋅u_p   28⋅e         3   ⎟     ⎜            4⋅b₀⋅e   \n",
       "₀⋅b₃ - ───────── - ─────────── + ────── + 10⋅γ ⋅q₅⎟ + a⋅⎜6⋅b₀⋅b₃⋅γ - ────── - \n",
       "          r_p             3           2           ⎟     ⎜            γ⋅r_p    \n",
       "                       r_p       γ⋅r_p            ⎠     ⎝                     \n",
       "\n",
       "      4           2        2              ⎞     \n",
       "6⋅b₃⋅γ ⋅u_p   16⋅e    4⋅e⋅γ ⋅u_p      4   ⎟     \n",
       "─────────── + ───── + ────────── + 5⋅γ ⋅q₅⎟ + q₀\n",
       "       3          2         4             ⎟     \n",
       "    r_p        r_p       r_p              ⎠     "
      ]
     },
     "execution_count": 110,
     "metadata": {},
     "output_type": "execute_result"
    }
   ],
   "source": [
    "Q_a(a,gamma,q_5,b_3,e,r_p,b_0,u_p,q_0)"
   ]
  },
  {
   "cell_type": "code",
   "execution_count": 111,
   "metadata": {
    "collapsed": false
   },
   "outputs": [
    {
     "data": {
      "image/png": "[encoded data removed]",
      "text/latex": [
       "$$a^{5} q_{5} + a^{4} \\left(\\frac{6 b_{3} e}{\\gamma r_{p}} + 5 \\gamma q_{5}\\right) + a^{3} \\left(\\frac{24 b_{3}}{r_{p}} e - \\frac{8 e^{2}}{\\gamma^{2} r_{p}^{2}} + 10 \\gamma^{2} q_{5}\\right) + a^{2} \\left(- 3 b_{0} b_{3} + \\frac{24 b_{3}}{r_{p}} e \\gamma + \\frac{3 b_{3}}{r_{p}^{3}} \\gamma^{3} u_{p} - \\frac{28 e^{2}}{\\gamma r_{p}^{2}} + 10 \\gamma^{3} q_{5}\\right) + a \\left(- 6 b_{0} b_{3} \\gamma + \\frac{4 b_{0} e}{\\gamma r_{p}} + \\frac{6 b_{3}}{r_{p}^{3}} \\gamma^{4} u_{p} - \\frac{16 e^{2}}{r_{p}^{2}} - \\frac{4 e}{r_{p}^{4}} \\gamma^{2} u_{p} + 5 \\gamma^{4} q_{5}\\right) + q_{0}$$"
      ],
      "text/plain": [
       "                                  ⎛               2            ⎞      ⎛       \n",
       " 5       4 ⎛6⋅b₃⋅e         ⎞    3 ⎜24⋅b₃⋅e     8⋅e         2   ⎟    2 ⎜       \n",
       "a ⋅q₅ + a ⋅⎜────── + 5⋅γ⋅q₅⎟ + a ⋅⎜─────── - ─────── + 10⋅γ ⋅q₅⎟ + a ⋅⎜-3⋅b₀⋅b\n",
       "           ⎝γ⋅r_p          ⎠      ⎜  r_p      2    2           ⎟      ⎜       \n",
       "                                  ⎝          γ ⋅r_p            ⎠      ⎝       \n",
       "\n",
       "                      3           2            ⎞     ⎛                        \n",
       "    24⋅b₃⋅e⋅γ   3⋅b₃⋅γ ⋅u_p   28⋅e         3   ⎟     ⎜             4⋅b₀⋅e   6⋅\n",
       "₃ + ───────── + ─────────── - ────── + 10⋅γ ⋅q₅⎟ + a⋅⎜-6⋅b₀⋅b₃⋅γ + ────── + ──\n",
       "       r_p             3           2           ⎟     ⎜             γ⋅r_p      \n",
       "                    r_p       γ⋅r_p            ⎠     ⎝                        \n",
       "\n",
       "    4           2        2              ⎞     \n",
       "b₃⋅γ ⋅u_p   16⋅e    4⋅e⋅γ ⋅u_p      4   ⎟     \n",
       "───────── - ───── - ────────── + 5⋅γ ⋅q₅⎟ + q₀\n",
       "     3          2         4             ⎟     \n",
       "  r_p        r_p       r_p              ⎠     "
      ]
     },
     "execution_count": 111,
     "metadata": {},
     "output_type": "execute_result"
    }
   ],
   "source": [
    "Q_a_ted(a,gamma,q_5,b_3,e,r_p,b_0,u_p,q_0)"
   ]
  },
  {
   "cell_type": "code",
   "execution_count": 112,
   "metadata": {
    "collapsed": false
   },
   "outputs": [
    {
     "data": {
      "image/png": "[encoded data removed]",
      "text/latex": [
       "$$- \\frac{20 a}{9} \\left(a^{5} q_{5} + a^{4} \\left(- \\frac{6 b_{3} e}{\\gamma r_{p}} + 5 \\gamma q_{5}\\right) + a^{3} \\left(- \\frac{24 b_{3}}{r_{p}} e + \\frac{8 e^{2}}{\\gamma^{2} r_{p}^{2}} + 10 \\gamma^{2} q_{5}\\right) + a^{2} \\left(3 b_{0} b_{3} - \\frac{24 b_{3}}{r_{p}} e \\gamma - \\frac{3 b_{3}}{r_{p}^{3}} \\gamma^{3} u_{p} + \\frac{28 e^{2}}{\\gamma r_{p}^{2}} + 10 \\gamma^{3} q_{5}\\right) + a \\left(6 b_{0} b_{3} \\gamma - \\frac{4 b_{0} e}{\\gamma r_{p}} - \\frac{6 b_{3}}{r_{p}^{3}} \\gamma^{4} u_{p} + \\frac{16 e^{2}}{r_{p}^{2}} + \\frac{4 e}{r_{p}^{4}} \\gamma^{2} u_{p} + 5 \\gamma^{4} q_{5}\\right) + q_{0}\\right) + \\left(a^{3} b_{3} + a^{2} \\left(3 b_{3} \\gamma - \\frac{2 e}{\\gamma r_{p}}\\right) + a \\left(3 b_{3} \\gamma^{2} - \\frac{6 e}{r_{p}}\\right) + b_{0}\\right)^{2}$$"
      ],
      "text/plain": [
       "       ⎛                                    ⎛                 2            ⎞  \n",
       "       ⎜ 5       4 ⎛  6⋅b₃⋅e         ⎞    3 ⎜  24⋅b₃⋅e     8⋅e         2   ⎟  \n",
       "  20⋅a⋅⎜a ⋅q₅ + a ⋅⎜- ────── + 5⋅γ⋅q₅⎟ + a ⋅⎜- ─────── + ─────── + 10⋅γ ⋅q₅⎟ +\n",
       "       ⎜           ⎝  γ⋅r_p          ⎠      ⎜    r_p      2    2           ⎟  \n",
       "       ⎝                                    ⎝            γ ⋅r_p            ⎠  \n",
       "- ────────────────────────────────────────────────────────────────────────────\n",
       "                                                                              \n",
       "\n",
       "    ⎛                            3           2            ⎞     ⎛             \n",
       "  2 ⎜          24⋅b₃⋅e⋅γ   3⋅b₃⋅γ ⋅u_p   28⋅e         3   ⎟     ⎜            4\n",
       " a ⋅⎜3⋅b₀⋅b₃ - ───────── - ─────────── + ────── + 10⋅γ ⋅q₅⎟ + a⋅⎜6⋅b₀⋅b₃⋅γ - ─\n",
       "    ⎜             r_p             3           2           ⎟     ⎜            γ\n",
       "    ⎝                          r_p       γ⋅r_p            ⎠     ⎝             \n",
       "──────────────────────────────────────────────────────────────────────────────\n",
       "                             9                                                \n",
       "\n",
       "              4           2        2              ⎞     ⎞                     \n",
       "⋅b₀⋅e   6⋅b₃⋅γ ⋅u_p   16⋅e    4⋅e⋅γ ⋅u_p      4   ⎟     ⎟                     \n",
       "───── - ─────────── + ───── + ────────── + 5⋅γ ⋅q₅⎟ + q₀⎟                     \n",
       "⋅r_p           3          2         4             ⎟     ⎟                     \n",
       "            r_p        r_p       r_p              ⎠     ⎠   ⎛ 3       2 ⎛     \n",
       "───────────────────────────────────────────────────────── + ⎜a ⋅b₃ + a ⋅⎜3⋅b₃⋅\n",
       "                                                            ⎝           ⎝     \n",
       "\n",
       "                                     \n",
       "                                     \n",
       "                                     \n",
       "                                    2\n",
       "     2⋅e ⎞     ⎛      2   6⋅e⎞     ⎞ \n",
       "γ - ─────⎟ + a⋅⎜3⋅b₃⋅γ  - ───⎟ + b₀⎟ \n",
       "    γ⋅r_p⎠     ⎝          r_p⎠     ⎠ "
      ]
     },
     "execution_count": 112,
     "metadata": {},
     "output_type": "execute_result"
    }
   ],
   "source": [
    "B_a(a,gamma,e,r_p,b_0,b_3)**2-(20*a*Q_a(a,gamma,q_5,b_3,e,r_p,b_0,u_p,q_0)/9)"
   ]
  },
  {
   "cell_type": "code",
   "execution_count": 113,
   "metadata": {
    "collapsed": false
   },
   "outputs": [
    {
     "data": {
      "image/png": "[encoded data removed]",
      "text/latex": [
       "$$- \\frac{20 a}{9} \\left(a^{5} q_{5} + a^{4} \\left(\\frac{6 b_{3} e}{\\gamma r_{p}} + 5 \\gamma q_{5}\\right) + a^{3} \\left(\\frac{24 b_{3}}{r_{p}} e - \\frac{8 e^{2}}{\\gamma^{2} r_{p}^{2}} + 10 \\gamma^{2} q_{5}\\right) + a^{2} \\left(- 3 b_{0} b_{3} + \\frac{24 b_{3}}{r_{p}} e \\gamma + \\frac{3 b_{3}}{r_{p}^{3}} \\gamma^{3} u_{p} - \\frac{28 e^{2}}{\\gamma r_{p}^{2}} + 10 \\gamma^{3} q_{5}\\right) + a \\left(- 6 b_{0} b_{3} \\gamma + \\frac{4 b_{0} e}{\\gamma r_{p}} + \\frac{6 b_{3}}{r_{p}^{3}} \\gamma^{4} u_{p} - \\frac{16 e^{2}}{r_{p}^{2}} - \\frac{4 e}{r_{p}^{4}} \\gamma^{2} u_{p} + 5 \\gamma^{4} q_{5}\\right) + q_{0}\\right) + \\left(a^{3} b_{3} + a^{2} \\left(3 b_{3} \\gamma - \\frac{2 e}{\\gamma r_{p}}\\right) + a \\left(3 b_{3} \\gamma^{2} - \\frac{6 e}{r_{p}}\\right) + b_{0}\\right)^{2}$$"
      ],
      "text/plain": [
       "       ⎛                                  ⎛               2            ⎞      \n",
       "       ⎜ 5       4 ⎛6⋅b₃⋅e         ⎞    3 ⎜24⋅b₃⋅e     8⋅e         2   ⎟    2 \n",
       "  20⋅a⋅⎜a ⋅q₅ + a ⋅⎜────── + 5⋅γ⋅q₅⎟ + a ⋅⎜─────── - ─────── + 10⋅γ ⋅q₅⎟ + a ⋅\n",
       "       ⎜           ⎝γ⋅r_p          ⎠      ⎜  r_p      2    2           ⎟      \n",
       "       ⎝                                  ⎝          γ ⋅r_p            ⎠      \n",
       "- ────────────────────────────────────────────────────────────────────────────\n",
       "                                                                              \n",
       "\n",
       "⎛                             3           2            ⎞     ⎛                \n",
       "⎜           24⋅b₃⋅e⋅γ   3⋅b₃⋅γ ⋅u_p   28⋅e         3   ⎟     ⎜             4⋅b\n",
       "⎜-3⋅b₀⋅b₃ + ───────── + ─────────── - ────── + 10⋅γ ⋅q₅⎟ + a⋅⎜-6⋅b₀⋅b₃⋅γ + ───\n",
       "⎜              r_p             3           2           ⎟     ⎜             γ⋅r\n",
       "⎝                           r_p       γ⋅r_p            ⎠     ⎝                \n",
       "──────────────────────────────────────────────────────────────────────────────\n",
       "                            9                                                 \n",
       "\n",
       "            4           2        2              ⎞     ⎞                       \n",
       "₀⋅e   6⋅b₃⋅γ ⋅u_p   16⋅e    4⋅e⋅γ ⋅u_p      4   ⎟     ⎟                       \n",
       "─── + ─────────── - ───── - ────────── + 5⋅γ ⋅q₅⎟ + q₀⎟                       \n",
       "_p           3          2         4             ⎟     ⎟                       \n",
       "          r_p        r_p       r_p              ⎠     ⎠   ⎛ 3       2 ⎛       \n",
       "─────────────────────────────────────────────────────── + ⎜a ⋅b₃ + a ⋅⎜3⋅b₃⋅γ \n",
       "                                                          ⎝           ⎝       \n",
       "\n",
       "                                   \n",
       "                                   \n",
       "                                   \n",
       "                                  2\n",
       "   2⋅e ⎞     ⎛      2   6⋅e⎞     ⎞ \n",
       "- ─────⎟ + a⋅⎜3⋅b₃⋅γ  - ───⎟ + b₀⎟ \n",
       "  γ⋅r_p⎠     ⎝          r_p⎠     ⎠ "
      ]
     },
     "execution_count": 113,
     "metadata": {},
     "output_type": "execute_result"
    }
   ],
   "source": [
    "B_a(a,gamma,e,r_p,b_0,b_3)**2-(20*a*Q_a_ted(a,gamma,q_5,b_3,e,r_p,b_0,u_p,q_0)/9)"
   ]
  },
  {
   "cell_type": "code",
   "execution_count": 116,
   "metadata": {
    "collapsed": false
   },
   "outputs": [
    {
     "data": {
      "image/png": "[encoded data removed]",
      "text/latex": [
       "$$a^{6} \\left(b_{3}^{2} - \\frac{20 q_{5}}{9}\\right) + a^{5} \\left(6 b_{3}^{2} \\gamma + \\frac{28 b_{3} e}{3 \\gamma r_{p}} - \\frac{100 q_{5}}{9} \\gamma\\right) + a^{4} \\left(15 b_{3}^{2} \\gamma^{2} + \\frac{88 b_{3} e}{3 r_{p}} - \\frac{124 e^{2}}{9 \\gamma^{2} r_{p}^{2}} - \\frac{200 q_{5}}{9} \\gamma^{2}\\right) + a^{3} \\left(- \\frac{14 b_{0}}{3} b_{3} + 18 b_{3}^{2} \\gamma^{3} + \\frac{16 b_{3} e \\gamma}{3 r_{p}} + \\frac{20 b_{3} \\gamma^{3} u_{p}}{3 r_{p}^{3}} - \\frac{344 e^{2}}{9 \\gamma r_{p}^{2}} - \\frac{200 q_{5}}{9} \\gamma^{3}\\right) + a^{2} \\left(- \\frac{22 b_{0}}{3} b_{3} \\gamma + \\frac{44 b_{0} e}{9 \\gamma r_{p}} + 9 b_{3}^{2} \\gamma^{4} - \\frac{36 b_{3}}{r_{p}} e \\gamma^{2} + \\frac{40 b_{3} \\gamma^{4} u_{p}}{3 r_{p}^{3}} + \\frac{4 e^{2}}{9 r_{p}^{2}} - \\frac{80 e \\gamma^{2} u_{p}}{9 r_{p}^{4}} - \\frac{100 q_{5}}{9} \\gamma^{4}\\right) + a \\left(6 b_{0} b_{3} \\gamma^{2} - \\frac{12 b_{0}}{r_{p}} e - \\frac{20 q_{0}}{9}\\right) + b_{0}^{2}$$"
      ],
      "text/plain": [
       "                                                          ⎛                   \n",
       " 6 ⎛  2   20⋅q₅⎞    5 ⎛    2     28⋅b₃⋅e   100⋅γ⋅q₅⎞    4 ⎜     2  2   88⋅b₃⋅e\n",
       "a ⋅⎜b₃  - ─────⎟ + a ⋅⎜6⋅b₃ ⋅γ + ─────── - ────────⎟ + a ⋅⎜15⋅b₃ ⋅γ  + ───────\n",
       "   ⎝        9  ⎠      ⎝          3⋅γ⋅r_p      9    ⎠      ⎜             3⋅r_p \n",
       "                                                          ⎝                   \n",
       "\n",
       "          2         2   ⎞      ⎛                                            3 \n",
       "     124⋅e     200⋅γ ⋅q₅⎟    3 ⎜  14⋅b₀⋅b₃        2  3   16⋅b₃⋅e⋅γ   20⋅b₃⋅γ ⋅\n",
       " - ───────── - ─────────⎟ + a ⋅⎜- ──────── + 18⋅b₃ ⋅γ  + ───────── + ─────────\n",
       "      2    2       9    ⎟      ⎜     3                     3⋅r_p             3\n",
       "   9⋅γ ⋅r_p             ⎠      ⎝                                        3⋅r_p \n",
       "\n",
       "            2         3   ⎞      ⎛                                            \n",
       "u_p    344⋅e     200⋅γ ⋅q₅⎟    2 ⎜  22⋅b₀⋅b₃⋅γ   44⋅b₀⋅e       2  4   36⋅b₃⋅e⋅\n",
       "─── - ──────── - ─────────⎟ + a ⋅⎜- ────────── + ─────── + 9⋅b₃ ⋅γ  - ────────\n",
       "             2       9    ⎟      ⎜      3        9⋅γ⋅r_p                 r_p  \n",
       "      9⋅γ⋅r_p             ⎠      ⎝                                            \n",
       "\n",
       " 2          4           2          2            4   ⎞                         \n",
       "γ    40⋅b₃⋅γ ⋅u_p    4⋅e     80⋅e⋅γ ⋅u_p   100⋅γ ⋅q₅⎟     ⎛         2   12⋅b₀⋅\n",
       "── + ──────────── + ────── - ─────────── - ─────────⎟ + a⋅⎜6⋅b₀⋅b₃⋅γ  - ──────\n",
       "             3           2           4         9    ⎟     ⎝               r_p \n",
       "        3⋅r_p       9⋅r_p       9⋅r_p               ⎠                         \n",
       "\n",
       "                \n",
       "e   20⋅q₀⎞     2\n",
       "─ - ─────⎟ + b₀ \n",
       "      9  ⎠      \n",
       "                "
      ]
     },
     "execution_count": 116,
     "metadata": {},
     "output_type": "execute_result"
    }
   ],
   "source": [
    "series(B_a(a,gamma,e,r_p,b_0,b_3)**2-(20*a*Q_a(a,gamma,q_5,b_3,e,r_p,b_0,u_p,q_0)/9),a,n=7)"
   ]
  },
  {
   "cell_type": "code",
   "execution_count": 115,
   "metadata": {
    "collapsed": false
   },
   "outputs": [
    {
     "data": {
      "image/png": "[encoded data removed]",
      "text/latex": [
       "$$a^{6} \\left(b_{3}^{2} - \\frac{20 q_{5}}{9}\\right) + a^{5} \\left(6 b_{3}^{2} \\gamma - \\frac{52 b_{3} e}{3 \\gamma r_{p}} - \\frac{100 q_{5}}{9} \\gamma\\right) + a^{4} \\left(15 b_{3}^{2} \\gamma^{2} - \\frac{232 b_{3} e}{3 r_{p}} + \\frac{196 e^{2}}{9 \\gamma^{2} r_{p}^{2}} - \\frac{200 q_{5}}{9} \\gamma^{2}\\right) + a^{3} \\left(\\frac{26 b_{0}}{3} b_{3} + 18 b_{3}^{2} \\gamma^{3} - \\frac{304 b_{3} e \\gamma}{3 r_{p}} - \\frac{20 b_{3} \\gamma^{3} u_{p}}{3 r_{p}^{3}} + \\frac{776 e^{2}}{9 \\gamma r_{p}^{2}} - \\frac{200 q_{5}}{9} \\gamma^{3}\\right) + a^{2} \\left(\\frac{58 b_{0}}{3} b_{3} \\gamma - \\frac{116 b_{0} e}{9 \\gamma r_{p}} + 9 b_{3}^{2} \\gamma^{4} - \\frac{36 b_{3}}{r_{p}} e \\gamma^{2} - \\frac{40 b_{3} \\gamma^{4} u_{p}}{3 r_{p}^{3}} + \\frac{644 e^{2}}{9 r_{p}^{2}} + \\frac{80 e \\gamma^{2} u_{p}}{9 r_{p}^{4}} - \\frac{100 q_{5}}{9} \\gamma^{4}\\right) + a \\left(6 b_{0} b_{3} \\gamma^{2} - \\frac{12 b_{0}}{r_{p}} e - \\frac{20 q_{0}}{9}\\right) + b_{0}^{2}$$"
      ],
      "text/plain": [
       "                                                          ⎛                   \n",
       " 6 ⎛  2   20⋅q₅⎞    5 ⎛    2     52⋅b₃⋅e   100⋅γ⋅q₅⎞    4 ⎜     2  2   232⋅b₃⋅\n",
       "a ⋅⎜b₃  - ─────⎟ + a ⋅⎜6⋅b₃ ⋅γ - ─────── - ────────⎟ + a ⋅⎜15⋅b₃ ⋅γ  - ───────\n",
       "   ⎝        9  ⎠      ⎝          3⋅γ⋅r_p      9    ⎠      ⎜             3⋅r_p \n",
       "                                                          ⎝                   \n",
       "\n",
       "           2         2   ⎞      ⎛                                           3 \n",
       "e     196⋅e     200⋅γ ⋅q₅⎟    3 ⎜26⋅b₀⋅b₃        2  3   304⋅b₃⋅e⋅γ   20⋅b₃⋅γ ⋅\n",
       "─ + ───────── - ─────────⎟ + a ⋅⎜──────── + 18⋅b₃ ⋅γ  - ────────── - ─────────\n",
       "       2    2       9    ⎟      ⎜   3                     3⋅r_p              3\n",
       "    9⋅γ ⋅r_p             ⎠      ⎝                                       3⋅r_p \n",
       "\n",
       "            2         3   ⎞      ⎛                                            \n",
       "u_p    776⋅e     200⋅γ ⋅q₅⎟    2 ⎜58⋅b₀⋅b₃⋅γ   116⋅b₀⋅e       2  4   36⋅b₃⋅e⋅γ\n",
       "─── + ──────── - ─────────⎟ + a ⋅⎜────────── - ──────── + 9⋅b₃ ⋅γ  - ─────────\n",
       "             2       9    ⎟      ⎜    3        9⋅γ⋅r_p                  r_p   \n",
       "      9⋅γ⋅r_p             ⎠      ⎝                                            \n",
       "\n",
       "2          4            2         2            4   ⎞                          \n",
       "    40⋅b₃⋅γ ⋅u_p   644⋅e    80⋅e⋅γ ⋅u_p   100⋅γ ⋅q₅⎟     ⎛         2   12⋅b₀⋅e\n",
       "─ - ──────────── + ────── + ─────────── - ─────────⎟ + a⋅⎜6⋅b₀⋅b₃⋅γ  - ───────\n",
       "            3           2           4         9    ⎟     ⎝               r_p  \n",
       "       3⋅r_p       9⋅r_p       9⋅r_p               ⎠                          \n",
       "\n",
       "               \n",
       "   20⋅q₀⎞     2\n",
       " - ─────⎟ + b₀ \n",
       "     9  ⎠      \n",
       "               "
      ]
     },
     "execution_count": 115,
     "metadata": {},
     "output_type": "execute_result"
    }
   ],
   "source": [
    "series(B_a(a,gamma,e,r_p,b_0,b_3)**2-(20*a*Q_a_ted(a,gamma,q_5,b_3,e,r_p,b_0,u_p,q_0)/9),a,n=7)"
   ]
  },
  {
   "cell_type": "code",
   "execution_count": 117,
   "metadata": {
    "collapsed": true
   },
   "outputs": [],
   "source": [
    "def R(a, gamma, e, r_p, b_0, b_3, q_0, q_5, u_p):\n",
    "    return (a**6*(b_3**2-20*q_5/9)+a**5*(6*b_3**2*gamma-28*b_3*e/(3*gamma*r_p)-100*q_5*gamma/9)\n",
    "           +a**4*(15*(b_3*gamma)**2-88*b_3*e/(3*r_p)+(124/9)*(e/(gamma*r_p))**2-200*q_5*gamma**2/9)\n",
    "           +a**3*(-14*b_0*b_3/3+18*b_3**2*gamma**3+16*b_3*e*gamma/(3*r_p)+(20*b_3*u_p/3)*(gamma/r_p)**3+(344/(9*gamma))*(e/r_p)**2-200*q_5*gamma**3/9)\n",
    "           +a**2*(-22*b_0*b_3*gamma/3+44*b_0*e/(9*gamma*r_p)+9*b_3**2*gamma**4-36*b_3*e*gamma**2/r_p+40*b_3*gamma**4*u_p/(3*r_p**3)+(4/9)*(e/r_p)**2-80*e*gamma**2*u_p/(9*r_p**4)-100*q_5*gamma**4/9)\n",
    "           +a*(6*b_0*b_3*gamma**2-12*b_0*e/r_p-20*q_0/9) + b_0**2)\n",
    "\n",
    "def R_ted(a, gamma, e, r_p, b_0, b_3, q_0, q_5, u_p):\n",
    "    return (a**6*(b_3**2-20*q_5/9)+a**5*(6*b_3**2*gamma-52*b_3*e/(3*gamma*r_p)-100*q_5*gamma/9)\n",
    "           +a**4*(15*(b_3*gamma)**2-232*b_3*e/(3*r_p)+(196/9)*(e/(gamma*r_p))**2-200*q_5*gamma**2/9)\n",
    "           +a**3*(26*b_0*b_3/3+18*b_3**2*gamma**3-304*b_3*e*gamma/(3*r_p)-(20*b_3*u_p/3)*(gamma/r_p)**3+(776/(9*gamma))*(e/r_p)**2-200*q_5*gamma**3/9)\n",
    "           +a**2*(58*b_0*b_3*gamma/3-116*b_0*e/(9*gamma*r_p)+9*b_3**2*gamma**4-36*b_3*e*gamma**2/r_p-40*b_3*gamma**4*u_p/(3*r_p**3)+(644/9)*(e/r_p)**2+80*e*gamma**2*u_p/(9*r_p**4)-100*q_5*gamma**4/9)\n",
    "           +a*(6*b_0*b_3*gamma**2-12*b_0*e/r_p-20*q_0/9) + b_0**2)"
   ]
  },
  {
   "cell_type": "code",
   "execution_count": 118,
   "metadata": {
    "collapsed": false
   },
   "outputs": [
    {
     "data": {
      "image/png": "[encoded data removed]",
      "text/latex": [
       "$$\\left ( a^{6} \\left(b_{3}^{2} - \\frac{20 q_{5}}{9}\\right) + a^{5} \\left(6 b_{3}^{2} \\gamma - \\frac{28 b_{3} e}{3 \\gamma r_{p}} - \\frac{100 q_{5}}{9} \\gamma\\right) + a^{4} \\left(15 b_{3}^{2} \\gamma^{2} - \\frac{88 b_{3} e}{3 r_{p}} + \\frac{13.7777777777778 e^{2}}{\\gamma^{2} r_{p}^{2}} - \\frac{200 q_{5}}{9} \\gamma^{2}\\right) + a^{3} \\left(- \\frac{14 b_{0}}{3} b_{3} + 18 b_{3}^{2} \\gamma^{3} + \\frac{16 b_{3} e \\gamma}{3 r_{p}} + \\frac{20 b_{3} \\gamma^{3} u_{p}}{3 r_{p}^{3}} + \\frac{344 e^{2}}{9 \\gamma r_{p}^{2}} - \\frac{200 q_{5}}{9} \\gamma^{3}\\right) + a^{2} \\left(- \\frac{22 b_{0}}{3} b_{3} \\gamma + \\frac{44 b_{0} e}{9 \\gamma r_{p}} + 9 b_{3}^{2} \\gamma^{4} - \\frac{36 b_{3}}{r_{p}} e \\gamma^{2} + \\frac{40 b_{3} \\gamma^{4} u_{p}}{3 r_{p}^{3}} + \\frac{0.444444444444444 e^{2}}{r_{p}^{2}} - \\frac{80 e \\gamma^{2} u_{p}}{9 r_{p}^{4}} - \\frac{100 q_{5}}{9} \\gamma^{4}\\right) + a \\left(6 b_{0} b_{3} \\gamma^{2} - \\frac{12 b_{0}}{r_{p}} e - \\frac{20 q_{0}}{9}\\right) + b_{0}^{2}, \\quad a^{6} \\left(b_{3}^{2} - \\frac{20 q_{5}}{9}\\right) + a^{5} \\left(6 b_{3}^{2} \\gamma - \\frac{52 b_{3} e}{3 \\gamma r_{p}} - \\frac{100 q_{5}}{9} \\gamma\\right) + a^{4} \\left(15 b_{3}^{2} \\gamma^{2} - \\frac{232 b_{3} e}{3 r_{p}} + \\frac{21.7777777777778 e^{2}}{\\gamma^{2} r_{p}^{2}} - \\frac{200 q_{5}}{9} \\gamma^{2}\\right) + a^{3} \\left(\\frac{26 b_{0}}{3} b_{3} + 18 b_{3}^{2} \\gamma^{3} - \\frac{304 b_{3} e \\gamma}{3 r_{p}} - \\frac{20 b_{3} \\gamma^{3} u_{p}}{3 r_{p}^{3}} + \\frac{776 e^{2}}{9 \\gamma r_{p}^{2}} - \\frac{200 q_{5}}{9} \\gamma^{3}\\right) + a^{2} \\left(\\frac{58 b_{0}}{3} b_{3} \\gamma - \\frac{116 b_{0} e}{9 \\gamma r_{p}} + 9 b_{3}^{2} \\gamma^{4} - \\frac{36 b_{3}}{r_{p}} e \\gamma^{2} - \\frac{40 b_{3} \\gamma^{4} u_{p}}{3 r_{p}^{3}} + \\frac{71.5555555555556 e^{2}}{r_{p}^{2}} + \\frac{80 e \\gamma^{2} u_{p}}{9 r_{p}^{4}} - \\frac{100 q_{5}}{9} \\gamma^{4}\\right) + a \\left(6 b_{0} b_{3} \\gamma^{2} - \\frac{12 b_{0}}{r_{p}} e - \\frac{20 q_{0}}{9}\\right) + b_{0}^{2}\\right )$$"
      ],
      "text/plain": [
       "⎛                                                          ⎛                  \n",
       "⎜ 6 ⎛  2   20⋅q₅⎞    5 ⎛    2     28⋅b₃⋅e   100⋅γ⋅q₅⎞    4 ⎜     2  2   88⋅b₃⋅\n",
       "⎜a ⋅⎜b₃  - ─────⎟ + a ⋅⎜6⋅b₃ ⋅γ - ─────── - ────────⎟ + a ⋅⎜15⋅b₃ ⋅γ  - ──────\n",
       "⎜   ⎝        9  ⎠      ⎝          3⋅γ⋅r_p      9    ⎠      ⎜             3⋅r_p\n",
       "⎝                                                          ⎝                  \n",
       "\n",
       "                      2        2   ⎞      ⎛                                   \n",
       "e   13.7777777777778⋅e    200⋅γ ⋅q₅⎟    3 ⎜  14⋅b₀⋅b₃        2  3   16⋅b₃⋅e⋅γ \n",
       "─ + ─────────────────── - ─────────⎟ + a ⋅⎜- ──────── + 18⋅b₃ ⋅γ  + ───────── \n",
       "           2    2             9    ⎟      ⎜     3                     3⋅r_p   \n",
       "          γ ⋅r_p                   ⎠      ⎝                                   \n",
       "\n",
       "         3             2         3   ⎞      ⎛                                 \n",
       "  20⋅b₃⋅γ ⋅u_p    344⋅e     200⋅γ ⋅q₅⎟    2 ⎜  22⋅b₀⋅b₃⋅γ   44⋅b₀⋅e       2  4\n",
       "+ ──────────── + ──────── - ─────────⎟ + a ⋅⎜- ────────── + ─────── + 9⋅b₃ ⋅γ \n",
       "          3             2       9    ⎟      ⎜      3        9⋅γ⋅r_p           \n",
       "     3⋅r_p       9⋅γ⋅r_p             ⎠      ⎝                                 \n",
       "\n",
       "            2          4                          2         2            4   ⎞\n",
       "   36⋅b₃⋅e⋅γ    40⋅b₃⋅γ ⋅u_p   0.444444444444444⋅e    80⋅e⋅γ ⋅u_p   100⋅γ ⋅q₅⎟\n",
       " - ────────── + ──────────── + ──────────────────── - ─────────── - ─────────⎟\n",
       "      r_p               3                 2                   4         9    ⎟\n",
       "                   3⋅r_p               r_p               9⋅r_p               ⎠\n",
       "\n",
       "                                                                              \n",
       "     ⎛         2   12⋅b₀⋅e   20⋅q₀⎞     2   6 ⎛  2   20⋅q₅⎞    5 ⎛    2     52\n",
       " + a⋅⎜6⋅b₀⋅b₃⋅γ  - ─────── - ─────⎟ + b₀ , a ⋅⎜b₃  - ─────⎟ + a ⋅⎜6⋅b₃ ⋅γ - ──\n",
       "     ⎝               r_p       9  ⎠           ⎝        9  ⎠      ⎝          3⋅\n",
       "                                                                              \n",
       "\n",
       "                       ⎛                                         2        2   \n",
       "⋅b₃⋅e   100⋅γ⋅q₅⎞    4 ⎜     2  2   232⋅b₃⋅e   21.7777777777778⋅e    200⋅γ ⋅q₅\n",
       "───── - ────────⎟ + a ⋅⎜15⋅b₃ ⋅γ  - ──────── + ─────────────────── - ─────────\n",
       "γ⋅r_p      9    ⎠      ⎜             3⋅r_p            2    2             9    \n",
       "                       ⎝                             γ ⋅r_p                   \n",
       "\n",
       "⎞      ⎛                                           3             2         3  \n",
       "⎟    3 ⎜26⋅b₀⋅b₃        2  3   304⋅b₃⋅e⋅γ   20⋅b₃⋅γ ⋅u_p    776⋅e     200⋅γ ⋅q\n",
       "⎟ + a ⋅⎜──────── + 18⋅b₃ ⋅γ  - ────────── - ──────────── + ──────── - ────────\n",
       "⎟      ⎜   3                     3⋅r_p              3             2       9   \n",
       "⎠      ⎝                                       3⋅r_p       9⋅γ⋅r_p            \n",
       "\n",
       " ⎞      ⎛                                            2          4             \n",
       "₅⎟    2 ⎜58⋅b₀⋅b₃⋅γ   116⋅b₀⋅e       2  4   36⋅b₃⋅e⋅γ    40⋅b₃⋅γ ⋅u_p   71.555\n",
       "─⎟ + a ⋅⎜────────── - ──────── + 9⋅b₃ ⋅γ  - ────────── - ──────────── + ──────\n",
       " ⎟      ⎜    3        9⋅γ⋅r_p                  r_p               3            \n",
       " ⎠      ⎝                                                   3⋅r_p             \n",
       "\n",
       "            2         2            4   ⎞                                      \n",
       "5555555556⋅e    80⋅e⋅γ ⋅u_p   100⋅γ ⋅q₅⎟     ⎛         2   12⋅b₀⋅e   20⋅q₀⎞   \n",
       "───────────── + ─────────── - ─────────⎟ + a⋅⎜6⋅b₀⋅b₃⋅γ  - ─────── - ─────⎟ + \n",
       "     2                  4         9    ⎟     ⎝               r_p       9  ⎠   \n",
       "  r_p              9⋅r_p               ⎠                                      \n",
       "\n",
       "   ⎞\n",
       "  2⎟\n",
       "b₀ ⎟\n",
       "   ⎟\n",
       "   ⎠"
      ]
     },
     "execution_count": 118,
     "metadata": {},
     "output_type": "execute_result"
    }
   ],
   "source": [
    "R(a, gamma, e, r_p, b_0, b_3, q_0, q_5, u_p),R_ted(a, gamma, e, r_p, b_0, b_3, q_0, q_5, u_p)"
   ]
  },
  {
   "cell_type": "code",
   "execution_count": 121,
   "metadata": {
    "collapsed": false
   },
   "outputs": [
    {
     "data": {
      "image/png": "[encoded data removed]",
      "text/plain": [
       "<matplotlib.figure.Figure at 0x7f74b6af4160>"
      ]
     },
     "metadata": {},
     "output_type": "display_data"
    }
   ],
   "source": [
    "b_0=1\n",
    "b_3=0.3\n",
    "q_0=1\n",
    "q_5=1\n",
    "e=-0.3\n",
    "gamma=-0.3\n",
    "r_p=1\n",
    "u_p=0.3\n",
    "u_c=-0.41\n",
    "v_c=0.97\n",
    "v_p=-1\n",
    "a=np.linspace(-5,5,301)\n",
    "\n",
    "plt.figure(figsize=(11,8))\n",
    "plt.gca().spines['left'].set_position('zero')\n",
    "plt.gca().spines['bottom'].set_position('zero')\n",
    "plt.gca().spines['right'].set_color('none')\n",
    "plt.gca().spines['top'].set_color('none')\n",
    "plt.gca().xaxis.set_ticks_position('bottom')\n",
    "plt.gca().yaxis.set_ticks_position('left')\n",
    "plt.plot(a,B_a(a,gamma,e,r_p,b_0,b_3),label='B(a)',color='b')\n",
    "plt.plot(a,Q_a_ted(a,gamma,q_5,b_3,e,r_p,b_0,u_p,q_0),label='Q(a)',color='r')\n",
    "plt.plot(a,R_ted(a, gamma, e, r_p, b_0, b_3, q_0, q_5, u_p),label='R(a)',color='g')\n",
    "plt.xlim(-0.5,2.5),plt.ylim(-5,5)\n",
    "plt.title('Ted\\'s results',fontsize=18)\n",
    "plt.xlabel('a',fontsize=14)\n",
    "plt.legend(loc='upper right',fontsize=16);"
   ]
  },
  {
   "cell_type": "code",
   "execution_count": 124,
   "metadata": {
    "collapsed": false
   },
   "outputs": [
    {
     "data": {
      "image/png": "[encoded data removed]",
      "text/plain": [
       "<matplotlib.figure.Figure at 0x7f74b74459e8>"
      ]
     },
     "metadata": {},
     "output_type": "display_data"
    }
   ],
   "source": [
    "plt.figure(figsize=(11,8))\n",
    "plt.gca().spines['left'].set_position('zero')\n",
    "plt.gca().spines['bottom'].set_position('zero')\n",
    "plt.gca().spines['right'].set_color('none')\n",
    "plt.gca().spines['top'].set_color('none')\n",
    "plt.gca().xaxis.set_ticks_position('bottom')\n",
    "plt.gca().yaxis.set_ticks_position('left')\n",
    "plt.plot(a,B_a(a,gamma,e,r_p,b_0,b_3),label='B(a)',color='b')\n",
    "plt.plot(a,Q_a(a,gamma,q_5,b_3,e,r_p,b_0,u_p,q_0),label='Q(a)',color='r')\n",
    "plt.plot(a,R(a, gamma, e, r_p, b_0, b_3, q_0, q_5, u_p),label='R(a)',color='g')\n",
    "plt.xlim(-0.5,2.5),plt.ylim(-5,5)\n",
    "plt.title('My results',fontsize=18)\n",
    "plt.xlabel('a',fontsize=14)\n",
    "plt.legend(loc='upper right',fontsize=16);"
   ]
  },
  {
   "cell_type": "code",
   "execution_count": null,
   "metadata": {
    "collapsed": false
   },
   "outputs": [],
   "source": [
    "Etrun(c,a,B(r_p,u_p,rc(gamma,r_p,a),u_c,gamma,e),Q(r_p,u_p,v_p,rc(gamma,r_p,a),u_c,v_c,gamma,e))"
   ]
  }
 ],
 "metadata": {
  "kernelspec": {
   "display_name": "Python 3",
   "language": "python",
   "name": "python3"
  },
  "language_info": {
   "codemirror_mode": {
    "name": "ipython",
    "version": 3
   },
   "file_extension": ".py",
   "mimetype": "text/x-python",
   "name": "python",
   "nbconvert_exporter": "python",
   "pygments_lexer": "ipython3",
   "version": "3.4.0"
  }
 },
 "nbformat": 4,
 "nbformat_minor": 0
}
