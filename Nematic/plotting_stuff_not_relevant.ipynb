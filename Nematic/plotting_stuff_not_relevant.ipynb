{
 "cells": [
  {
   "cell_type": "code",
   "execution_count": null,
   "metadata": {
    "collapsed": true
   },
   "outputs": [],
   "source": [
    "xx,yy,ff = [],[],[]\n",
    "np.array(xx)\n",
    "np.array(yy)\n",
    "np.array(ff)\n",
    "\n",
    "for x in np.linspace(-6,6,100):\n",
    "    for y in np.linspace(-6,6,100):\n",
    "        r = np.sqrt(x**2+y**2)\n",
    "        #print(x,y,r)\n",
    "        if (r >= 1) and (r < 10):\n",
    "            xx.append(x)\n",
    "            yy.append(y)\n",
    "            ff.append(f1(x,y))\n",
    "        elif r <= 1:   # if inside inner boundary, set to V_inner\n",
    "            xx.append(x)\n",
    "            yy.append(y)\n",
    "            ff.append(np.NAN)\n",
    "            #print('out')\n",
    "        elif r >= 10: # if outside outer boundary, set to V_outer\n",
    "            xx.append(x)\n",
    "            yy.append(y)\n",
    "            ff.append(0)\n",
    "            #print('out')\n",
    "#         else:\n",
    "#             print('in',u(x,y))\n",
    "print(len(xx),len(yy),len(ff))"
   ]
  },
  {
   "cell_type": "code",
   "execution_count": null,
   "metadata": {
    "collapsed": true
   },
   "outputs": [],
   "source": [
    "fig = plt.figure(figsize=(10,10))\n",
    "ax = fig.gca(projection='3d')\n",
    "surf = ax.plot_trisurf(xx, yy, ff, cmap=cm.jet, shade=False,vmin=0,vmax=np.round(max(ff),2),linewidth=0,antialiased=False)\n",
    "# ax.view_init(90,90)\n",
    "# surf.set_edgecolor('k')\n",
    "ax.set_aspect('equal')\n",
    "plt.colorbar(surf);"
   ]
  }
 ],
 "metadata": {
  "kernelspec": {
   "display_name": "Python 3",
   "language": "python",
   "name": "python3"
  },
  "language_info": {
   "codemirror_mode": {
    "name": "ipython",
    "version": 3
   },
   "file_extension": ".py",
   "mimetype": "text/x-python",
   "name": "python",
   "nbconvert_exporter": "python",
   "pygments_lexer": "ipython3",
   "version": "3.4.0"
  }
 },
 "nbformat": 4,
 "nbformat_minor": 0
}
