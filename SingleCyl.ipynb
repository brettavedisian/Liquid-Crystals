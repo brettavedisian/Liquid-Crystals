{
 "cells": [
  {
   "cell_type": "code",
   "execution_count": 1,
   "metadata": {
    "collapsed": true
   },
   "outputs": [],
   "source": [
    "%matplotlib inline\n",
    "from dolfin import *\n",
    "from mshr import *\n",
    "import numpy as np\n",
    "from matplotlib import cm\n",
    "import matplotlib.pyplot as plt\n",
    "import matplotlib.tri as tri\n",
    "from mpl_toolkits.mplot3d import Axes3D\n",
    "import logging\n",
    "logging.getLogger(\"FFC\").setLevel(logging.WARNING)\n",
    "\n",
    "set_log_active(False)\n",
    "dolfin.parameters.reorder_dofs_serial = False"
   ]
  },
  {
   "cell_type": "code",
   "execution_count": 2,
   "metadata": {
    "collapsed": true
   },
   "outputs": [],
   "source": [
    "def mesh2triang(mesh):\n",
    "    xy = mesh.coordinates()\n",
    "    return tri.Triangulation(xy[:, 0], xy[:, 1], mesh.cells())\n",
    "\n",
    "def mplot_cellfunction(cellfn):\n",
    "    C = cellfn.array()\n",
    "    tri = mesh2triang(cellfn.mesh())\n",
    "    return plt.tripcolor(tri, facecolors=C)\n",
    "\n",
    "def mplot_function(f):\n",
    "    mesh = f.function_space().mesh()\n",
    "    if (mesh.geometry().dim() != 2):\n",
    "        raise AttributeError('Mesh must be 2D')\n",
    "    # DG0 cellwise function\n",
    "    if f.vector().size() == mesh.num_cells():\n",
    "        C = f.vector().array()\n",
    "        return plt.tripcolor(mesh2triang(mesh), C)\n",
    "    # Scalar function, interpolated to vertices\n",
    "    elif f.value_rank() == 0:\n",
    "        C = f.compute_vertex_values(mesh)\n",
    "        return plt.tripcolor(mesh2triang(mesh), C, shading='gouraud')\n",
    "    # Vector function, interpolated to vertices\n",
    "    elif f.value_rank() == 1:\n",
    "        w0 = f.compute_vertex_values(mesh)\n",
    "        if (len(w0) != 2*mesh.num_vertices()):\n",
    "            raise AttributeError('Vector field must be 2D')\n",
    "        X = mesh.coordinates()[:, 0]\n",
    "        Y = mesh.coordinates()[:, 1]\n",
    "        U = w0[:mesh.num_vertices()]\n",
    "        V = w0[mesh.num_vertices():]\n",
    "        return plt.quiver(X,Y,U,V)\n",
    "\n",
    "# Plot a generic dolfin object (if supported)\n",
    "def plot(obj):\n",
    "    plt.gca().set_aspect('equal')\n",
    "    if isinstance(obj, Function):\n",
    "        return mplot_function(obj)\n",
    "    elif isinstance(obj, CellFunctionSizet):\n",
    "        return mplot_cellfunction(obj)\n",
    "    elif isinstance(obj, CellFunctionDouble):\n",
    "        return mplot_cellfunction(obj)\n",
    "    elif isinstance(obj, CellFunctionInt):\n",
    "        return mplot_cellfunction(obj)\n",
    "    elif isinstance(obj, Mesh):\n",
    "        if (obj.geometry().dim() != 2):\n",
    "            raise AttributeError('Mesh must be 2D')\n",
    "        return plt.triplot(mesh2triang(obj), color='#808080')\n",
    "\n",
    "    raise AttributeError('Failed to plot %s'%type(obj))\n",
    "# end of commands for plotting"
   ]
  },
  {
   "cell_type": "code",
   "execution_count": 3,
   "metadata": {
    "collapsed": true
   },
   "outputs": [],
   "source": [
    "s = 2\n",
    "thetaS = 0.2\n",
    "#THIS SECTION IS FOR MAKING THE MESH\n",
    "\n",
    "r1 = 1 #radius of cylinder\n",
    "r2 = 10 #radius of bounding circle \n",
    "nr = 20 #number of radial divisions\n",
    "nt = 50 #number of theta divisions \n",
    "mesh = RectangleMesh(Point(r1, 0), Point(r2, 1), nr, nt, \"crossed\")\n",
    "\n",
    "x = mesh.coordinates()[:,0]\n",
    "y = mesh.coordinates()[:,1]\n",
    "\n",
    "def denser(x,y):\n",
    "\treturn [r1 + (r2-r1)*((x-r1)/(r2-r1))**s, y]\n",
    "\n",
    "x_bar, y_bar = denser(x, y)\n",
    "xy_bar_coor = np.array([x_bar,y_bar]).transpose()\n",
    "mesh.coordinates()[:] = xy_bar_coor\n",
    "\n",
    "def cylinder(r, s, Theta):\n",
    "\treturn [r*np.cos(Theta*s), r*np.sin(Theta*s)]\n",
    "\n",
    "x_hat, y_hat = cylinder(x_bar, y_bar,2*np.pi)\n",
    "xy_hat_coor = np.array([x_hat,y_hat]).transpose()\n",
    "mesh.coordinates()[:] = xy_hat_coor"
   ]
  },
  {
   "cell_type": "code",
   "execution_count": 4,
   "metadata": {
    "collapsed": true
   },
   "outputs": [],
   "source": [
    "#THIS SECTION IS FOR MARKING BOUNDARIES OF THE MESH\n",
    "class outer_boundary(SubDomain):\n",
    "\tdef inside(self, x, on_boundary):\n",
    "\t\ttol = 1E-1\n",
    "\t\tr = sqrt(x[0]*x[0] + x[1]*x[1])\n",
    "\t\treturn on_boundary and abs(r - r2) < tol\n",
    "\n",
    "class inner_boundary(SubDomain):\n",
    "\tdef inside(self, x, on_boundary):\n",
    "\t\ttol = 1E-1\n",
    "\t\tr = sqrt(x[0]*x[0] + x[1]*x[1])\n",
    "\t\treturn on_boundary and abs(r - r1) < tol\n",
    "\n",
    "class half_circleX(SubDomain):\n",
    "\tdef inside(self, x, on_boundary):\n",
    "\t\ttol = 1E-1\n",
    "\t\treturn on_boundary and abs(x[1]) < tol\n",
    "\n",
    "class half_circleY(SubDomain):\n",
    "\tdef inside(self, x, on_boundary):\n",
    "\t\ttol = 1E-1\n",
    "\t\treturn on_boundary and abs(x[0]) < tol\n",
    "\n",
    "outerradius = outer_boundary()\n",
    "innerradius = inner_boundary()\n",
    "half_circleX = half_circleX()\n",
    "half_circleY = half_circleY()\n",
    "\n",
    "boundaries = FacetFunction(\"size_t\", mesh)\n",
    "\n",
    "boundaries.set_all(0)\n",
    "innerradius.mark(boundaries,1)\n",
    "outerradius.mark(boundaries,2)\n",
    "half_circleX.mark(boundaries,3)\n",
    "half_circleY.mark(boundaries,4)"
   ]
  },
  {
   "cell_type": "code",
   "execution_count": 5,
   "metadata": {
    "collapsed": true
   },
   "outputs": [],
   "source": [
    "#This section defines the finite element basis functions\n",
    "V = FunctionSpace(mesh,'Lagrange',1)\n",
    "nx = TrialFunction(V)\n",
    "ny = TrialFunction(V)\n",
    "v1 = TestFunction(V)\n",
    "v2 = TestFunction(V)"
   ]
  },
  {
   "cell_type": "code",
   "execution_count": 6,
   "metadata": {
    "collapsed": true
   },
   "outputs": [],
   "source": [
    "#Boundary Conditions\n",
    "gx = Expression('-x[1]*sin(ThetaInner)/sqrt(x[0]*x[0] + x[1]*x[1])',ThetaInner = thetaS) \n",
    "gy = Expression('x[0]*sin(ThetaInner)/sqrt(x[0]*x[0] + x[1]*x[1])',ThetaInner = thetaS)\n",
    "\n",
    "#For nx\n",
    "bcs1 = [DirichletBC(V, 0, boundaries, 2),\n",
    "\t   DirichletBC(V, gx, boundaries, 1),\n",
    "\t   DirichletBC(V, 0, boundaries, 3)]\n",
    "#for ny\n",
    "bcs2 = [DirichletBC(V, 0, boundaries, 2),\n",
    "\t\tDirichletBC(V, gy, boundaries, 1),\n",
    "\t\tDirichletBC(V, 0, boundaries, 4)]"
   ]
  },
  {
   "cell_type": "code",
   "execution_count": 7,
   "metadata": {
    "collapsed": false
   },
   "outputs": [],
   "source": [
    "#Solving the problem\n",
    "f = Constant(0.0)\n",
    "\n",
    "a1 = inner(nabla_grad(nx), nabla_grad(v1))*dx\n",
    "a2 = inner(nabla_grad(ny), nabla_grad(v2))*dx\n",
    "L1 = f*v1*dx\n",
    "L2 = f*v2*dx\n",
    "nx = Function(V)\n",
    "ny = Function(V)\n",
    "solve(a1 == L1, nx, bcs1)\n",
    "solve(a2 == L2, ny, bcs2)\n",
    "\n",
    "V_d = VectorFunctionSpace(mesh,'Lagrange',1)\n",
    "w1 = TrialFunction(V_d)\n",
    "w2 = TrialFunction(V_d)\n",
    "q1 = TestFunction(V_d)\n",
    "q2 = TestFunction(V_d)\n",
    "\n",
    "a3 = inner(w1,q1)*dx\n",
    "a4 = inner(w2,q2)*dx\n",
    "L3 = inner(grad(nx),q1)*dx\n",
    "L4 = inner(grad(ny),q2)*dx\n",
    "grad_nx = Function(V_d)\n",
    "grad_ny = Function(V_d)\n",
    "solve(a3 == L3, grad_nx)\n",
    "solve(a4 == L4, grad_ny)\n",
    "\n",
    "dxnx, dynx = grad_nx.split(deepcopy=True)\n",
    "dxny, dyny = grad_ny.split(deepcopy=True)"
   ]
  },
  {
   "cell_type": "code",
   "execution_count": 9,
   "metadata": {
    "collapsed": false,
    "scrolled": true
   },
   "outputs": [
    {
     "name": "stdout",
     "output_type": "stream",
     "text": [
      "Splay Energy 0.000166\n",
      "Twist Energy 0.000166\n",
      "Total Energy 0.005376\n"
     ]
    }
   ],
   "source": [
    "#Finding the energies\n",
    "class int_radius(SubDomain):\n",
    "\tdef inside(self, x, on_boundary):\n",
    "\t\ttol = 1E-4\n",
    "\t\tr = sqrt(x[0]*x[0] + x[1]*x[1])\n",
    "\t\treturn ((r - r1)> tol)\n",
    "\n",
    "int_radius = int_radius()\n",
    "cell_markers = CellFunction(\"uint\", mesh)\n",
    "cell_markers.set_all(0)\n",
    "int_radius.mark(cell_markers,5)\n",
    "\n",
    "dx1 = Measure(\"dx\", domain=mesh, subdomain_data=cell_markers)\n",
    "\n",
    "splay = pow(dxnx+dyny,2)\n",
    "twist = pow(dxny-dynx,2)\n",
    "\n",
    "Esplay = assemble(splay*dx1(5))\n",
    "Etwist = assemble(twist*dx1(5))\n",
    "\n",
    "fel = splay+twist\n",
    "F1 = project(fel,V)\n",
    "\n",
    "Etot = Esplay+Etwist\n",
    "\n",
    "print(\"Splay Energy %f\" % Esplay)\n",
    "print(\"Twist Energy %f\" % Esplay)\n",
    "print(\"Total Energy %f\" % Etot)"
   ]
  },
  {
   "cell_type": "code",
   "execution_count": 10,
   "metadata": {
    "collapsed": false,
    "scrolled": false
   },
   "outputs": [
    {
     "data": {
      "image/png": "[encoded data removed]",
      "text/plain": [
       "<matplotlib.figure.Figure at 0x7ff3c968c150>"
      ]
     },
     "metadata": {},
     "output_type": "display_data"
    }
   ],
   "source": [
    "plt.figure(figsize=(10,10))\n",
    "plot(F1)\n",
    "plt.colorbar(shrink=0.8);"
   ]
  },
  {
   "cell_type": "code",
   "execution_count": null,
   "metadata": {
    "collapsed": true
   },
   "outputs": [],
   "source": []
  }
 ],
 "metadata": {
  "kernelspec": {
   "display_name": "Python 2",
   "language": "python",
   "name": "python2"
  },
  "language_info": {
   "codemirror_mode": {
    "name": "ipython",
    "version": 2
   },
   "file_extension": ".py",
   "mimetype": "text/x-python",
   "name": "python",
   "nbconvert_exporter": "python",
   "pygments_lexer": "ipython2",
   "version": "2.7.6"
  }
 },
 "nbformat": 4,
 "nbformat_minor": 0
}
