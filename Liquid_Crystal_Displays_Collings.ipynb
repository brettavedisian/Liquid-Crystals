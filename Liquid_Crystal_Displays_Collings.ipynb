{
 "cells": [
  {
   "cell_type": "markdown",
   "metadata": {
    "collapsed": true
   },
   "source": [
    "###A. Polarization of the liquid crystal\n",
    "\n",
    "If the electric field $\\mathbf{E}$ is applied at some angle with respect to the director $\\hat{n}$, there will be a component of the electric field $\\mathbf{E}_\\parallel$ parallel to $\\hat{n}$ and a component $\\mathbf{E}_\\perp$ perpendicular to $\\hat{n}$. Show that the polarization $\\mathbf{P} = \\epsilon_0 ( \\chi_\\parallel \\mathbf{E}_\\parallel + \\chi_\\perp \\mathbf{E}_\\perp)$ induced in the liquid crystal material can be written as \n",
    "\n",
    "\\begin{equation}\n",
    "\\mathbf{P} = \\epsilon_0[\\chi_\\perp\\mathbf{E} + \\chi_a ( \\hat{n} \\cdot \\mathbf{E})\\hat{n}].\n",
    "\\end{equation}\n",
    "\n",
    "To start, we have\n",
    "\n",
    "$$\\mathbf{P} = \\epsilon_0 ( \\chi_\\parallel \\mathbf{E}_\\parallel + \\chi_\\perp \\mathbf{E}_\\perp).$$\n",
    "\n",
    "Since $\\chi_a = \\chi_\\parallel - \\chi_\\perp$, we get $$\\chi_\\parallel = \\chi_a + \\chi_\\perp.$$\n",
    "\n",
    "Now $\\mathbf{P} = \\epsilon_0 ( \\chi_\\parallel \\mathbf{E}_\\parallel + \\chi_\\perp \\mathbf{E}_\\perp)$ becomes\n",
    "\n",
    "$$\\mathbf{P} = \\epsilon_0 ( (\\chi_a + \\chi_\\perp) \\mathbf{E}_\\parallel + \\chi_\\perp \\mathbf{E}_\\perp).$$\n",
    "\n",
    "Distributing and since $\\mathbf{E} = \\mathbf{E}_\\parallel + \\mathbf{E}_\\perp$, we get \n",
    "\n",
    "$$\\mathbf{P} = \\epsilon_0 ( \\chi_a \\mathbf{E}_\\parallel + \\chi_\\perp \\mathbf{E}).$$\n",
    "\n",
    "By dot product rules, $$\\mathbf{E}_\\parallel = \\hat{n} \\cdot \\mathbf{E}.$$\n",
    "\n",
    "Now we come to the final equation $$\\mathbf{P} = \\epsilon_0[\\chi_\\perp\\mathbf{E} + \\chi_a ( \\hat{n} \\cdot \\mathbf{E})\\hat{n}]. \\: (1)$$"
   ]
  },
  {
   "cell_type": "markdown",
   "metadata": {},
   "source": [
    "###B. Electric potential energy of liquid crystals\n",
    "\n",
    "Use the expression in Eq. (1) to find the potential energy per unit volume of the system. This can be done by calculating the work done by the electric field in turning the director from perpendicular to the field (taking that the orientation to be $\\theta = 0$) to some angle $\\theta$. This is the integral with respect to $\\theta$ of the torque per unit volume, $\\mathbf{P} \\times \\mathbf{E}$. The electric potential energy density $U_e$, taken to be zero at $\\theta = 0$, will then be the negative of the work done by the field. Show that \n",
    "$$U_e = -\\frac{1}{2} \\epsilon_0 \\chi_a E^2 \\sin^2\\theta. \\: (2)$$\n",
    "\n",
    "To start\n",
    "\n",
    "$$\\mathbf{P} \\times \\mathbf{E} = \\epsilon_0[\\chi_\\perp\\mathbf{E} + \\chi_a ( \\hat{n} \\cdot \\mathbf{E})\\hat{n}] \\times \\mathbf{E}.$$\n",
    "\n",
    "Some definitions:\n",
    "\n",
    "$$ \\hat{n} \\cdot \\mathbf{E} = \\lVert\\hat{n}\\rVert \\lVert\\mathbf{E}\\rVert \\cos\\theta = E\\cos\\theta$$\n",
    "\n",
    "$$ \\hat{n} \\times \\mathbf{E} = \\lVert\\hat{n}\\rVert \\lVert\\mathbf{E}\\rVert \\sin\\theta = E\\sin\\theta$$\n",
    "\n",
    "since $\\lVert\\hat{n}\\rVert = 1.$\n",
    "\n",
    "$$ \\mathbf{E}\\times\\mathbf{E} = 0 $$\n",
    "\n",
    "With these defined above, $\\mathbf{P} \\times \\mathbf{E}$ becomes\n",
    "\n",
    "$$\\mathbf{P} \\times \\mathbf{E} = \\epsilon_0\\chi_aE^2\\cos\\theta\\sin\\theta $$\n",
    "\n",
    "The integral looks like this:\n",
    "\n",
    "$$ U_e = \\int_0^\\theta \\epsilon_0\\chi_aE^2\\cos\\theta\\sin\\theta d\\theta$$\n",
    "\n",
    "With a $u$ sub of $\\sin$ and knowing the antiderivative of $\\sin$ is $-\\cos$, we get:\n",
    "\n",
    "$$U_e = -\\frac{1}{2} \\epsilon_0 \\chi_a E^2 \\sin^2\\theta.$$"
   ]
  },
  {
   "cell_type": "markdown",
   "metadata": {},
   "source": [
    "###C. Distortion energy produced by surfaces\n",
    "\n",
    "The effect of the surfaces is to make the $x$ and $y$ components of the director, i.e. $n_x$ and $n_y$, vary as functions of $y$. In other words, $\\frac{dn_x}{dy}$ and $\\frac{dn_y}{dy}$ become nonzero; there is no variation of $\\hat{n}$ in the $x$ direction. These derivatives are measures of the amount of distortion introduced by applying an electric field to a liquid crystal that has the directions of its molecules anchored at the surfaces. If the distortion is not too large, the in analogy with a simple harmonic oscillator, the energy density increases with the square of the distortion, and we can write the energy density due to distortion as $$U_d = \\frac{1}{2}k\\left(\\frac{dn_x}{dy}\\right)^2 + \\frac{1}{2}k\\left(\\frac{dn_y}{dy}\\right)^2. \\: (3)$$\n",
    "\n",
    "Since the two terms represent different types of distortion, there is no reason to expect that the coefficient $k$ is the same for both. Nevertheless, the simplifying assumption is that they are the same is a fairly good approximation in many cases.\n",
    "\n",
    "Use the fact that $\\hat{n}$ is a unit vector to show that the total energy density is, $U_d+U_e$, can be expressed as \n",
    "\n",
    "$$U = \\frac{1}{2}k\\left(\\frac{d\\theta}{dy}\\right)^2 - \\frac{1}{2}\\epsilon_0\\chi_aE^2\\sin^2\\theta. \\: (4)$$\n",
    "\n",
    "To start\n",
    "\n",
    "$$ U = \\frac{1}{2}k\\left(\\frac{dn_x}{dy}\\right)^2 + \\frac{1}{2}k\\left(\\frac{dn_y}{dy}\\right)^2 - \\frac{1}{2}\\epsilon_0\\chi_aE^2\\sin^2\\theta$$\n",
    "\n",
    "The components, $n_x$ and $n_y$, are\n",
    "\n",
    "$$n_x = \\cos\\theta$$ and $$n_y = \\sin\\theta$$ since $\\lVert\\hat{n}\\rVert = 1$.\n",
    "\n",
    "Then the derivatives of $\\theta$ with respect to $y$ are\n",
    "$$\\frac{dn_x}{dy} = -\\sin\\theta\\frac{d\\theta}{dy}$$ and $$\\frac{dn_y}{dy} = \\cos\\theta\\frac{d\\theta}{dy}.$$ \n",
    "\n",
    "Squaring and adding both of them yields the familiar trig identity\n",
    "\n",
    "$$\\left(-\\sin\\theta\\frac{d\\theta}{dy}\\right)^2 + \\left(\\cos\\theta\\frac{d\\theta}{dy}\\right)^2 = \\left(\\frac{d\\theta}{dy}\\right)^2(\\sin^2\\theta + \\cos^2\\theta) = \\left(\\frac{d\\theta}{dy}\\right)^2.$$\n",
    "\n",
    "Now\n",
    "\n",
    "$$ U = \\frac{1}{2}k\\left(\\frac{d\\theta}{dy}\\right)^2 - \\frac{1}{2}\\epsilon_0\\chi_aE^2\\sin^2\\theta.$$"
   ]
  },
  {
   "cell_type": "markdown",
   "metadata": {},
   "source": [
    "###D. Distribution of the director\n",
    "\n",
    "(a). Solving the extrema of director involves using calculus of variations and the Euler-Lagrange equation. The function $\\theta(y)$ minimizes the total energy.\n",
    "\n",
    "We must minimize $U$\n",
    "\n",
    "$$ U = \\frac{1}{2}k\\left(\\frac{d\\theta}{dy}\\right)^2 - \\frac{1}{2}\\epsilon_0\\chi_aE^2\\sin^2\\theta.$$\n",
    "\n",
    "The E-L equation is, for this problem, defined as \n",
    "\n",
    "$$\\frac{\\partial U}{\\partial \\theta} - \\frac{d}{dy}\\frac{\\partial U}{\\partial \\left(\\dfrac{d\\theta}{dy}\\right)} = 0 $$\n",
    "\n",
    "The first part is\n",
    "\n",
    "$$\\frac{\\partial U}{\\partial \\theta} = -\\epsilon_0\\chi_aE^2\\sin^2\\theta$$\n",
    "\n",
    "The second is\n",
    "\n",
    "$$\\frac{d}{dy}\\frac{\\partial U}{\\partial \\left(\\dfrac{d\\theta}{dy}\\right)} = \\frac{d}{dy}(k\\left(\\dfrac{d\\theta}{dy}\\right)) = k\\left(\\dfrac{d^2\\theta}{dy^2}\\right)$$\n",
    "\n",
    "Putting the parts together\n",
    "\n",
    "$$-\\epsilon_0\\chi_aE^2\\sin\\theta\\cos\\theta - k\\left(\\dfrac{d^2\\theta}{dy^2}\\right) = 0$$\n",
    "\n",
    "Which can be written as $$k\\left(\\dfrac{d^2\\theta}{dy^2}\\right)+\\epsilon_0\\chi_aE^2\\sin\\theta\\cos\\theta=0$$\n",
    "\n",
    "Since $\\xi^2 = \\frac{k}{\\epsilon_0\\chi_aE^2}$, we can divide by the denominator and change the $y$ variable to $y/d$ to get $$\\xi_d\\left(\\dfrac{d^2\\theta}{dy^2}\\right)+\\sin\\theta\\cos\\theta=0. \\: (5)$$"
   ]
  },
  {
   "cell_type": "markdown",
   "metadata": {},
   "source": [
    "HUNTER"
   ]
  }
 ],
 "metadata": {
  "kernelspec": {
   "display_name": "Python 3",
   "language": "python",
   "name": "python3"
  },
  "language_info": {
   "codemirror_mode": {
    "name": "ipython",
    "version": 3
   },
   "file_extension": ".py",
   "mimetype": "text/x-python",
   "name": "python",
   "nbconvert_exporter": "python",
   "pygments_lexer": "ipython3",
   "version": "3.4.0"
  }
 },
 "nbformat": 4,
 "nbformat_minor": 0
}
